{
 "cells": [
  {
   "cell_type": "markdown",
   "metadata": {},
   "source": [
    "All Models -> LR, SVM, KNN, DT, Stacking, Bagging "
   ]
  },
  {
   "cell_type": "code",
   "execution_count": 1,
   "metadata": {},
   "outputs": [],
   "source": [
    "import pandas as pd\n",
    "import numpy as np\n",
    "import matplotlib.pyplot as plt\n",
    "import seaborn as sns\n",
    "from pandas_profiling import ProfileReport\n",
    "from statsmodels.stats.outliers_influence import variance_inflation_factor\n",
    "from sklearn.preprocessing import StandardScaler\n",
    "from sklearn.model_selection import train_test_split\n",
    "from sklearn.metrics import accuracy_score, confusion_matrix, roc_curve, roc_auc_score\n",
    "import pickle"
   ]
  },
  {
   "cell_type": "code",
   "execution_count": 21,
   "metadata": {},
   "outputs": [],
   "source": [
    "import os\n",
    "rd_path = '\\datasets\\Dataset_Healthy_Older_People'\n",
    "op_filepath = '\\datasets\\Dataset_Healthy_Older_People\\composite_dataset.csv'\n",
    "#Time : Time in seconds starting from 0 rounded to the closest 0.025s\n",
    "#FrontalAxis : Acceleration reading in G for frontal axis\n",
    "#VerticalAxis : Acceleration reading in G for vertical axis\n",
    "#LateralAxis : Acceleration reading in G for lateral axis\n",
    "#ReadingSensorAntennaID : RSAID\n",
    "#RSSI : Received signal strength indicator (RSSI) \n",
    "#Phase\n",
    "#Frequency\n",
    "#Gender : Male -0, Female -1, Other - 2 # Newly addded \n",
    "#Activity : Label of activity, 1: sit on bed, 2: sit on chair, 3: lying, 4: ambulating\n",
    "\n",
    "def generateComposite(rd_path,op_filepath):\n",
    "    try:\n",
    "        \n",
    "        cols_lst = ['Time','FrontalAxis','VerticalAxis','LateralAxis',\n",
    "                                         'RSAID','RSSI','Phase','Frequency','Gender','Activity']\n",
    "        compo_df = pd.DataFrame(columns=cols_lst)\n",
    "        f_path = os.path.abspath(os.getcwd() + rd_path)\n",
    "        op_filepath = os.path.abspath(os.getcwd() + op_filepath)\n",
    "        # print(f_path)\n",
    "        # print(op_filepath)\n",
    "        if(os.path.exists(f_path)):\n",
    "            for e in os.listdir(f_path):\n",
    "                subdict = os.path.abspath(f_path +'\\\\'+ e)\n",
    "                if(os.path.isdir(subdict)):\n",
    "                     for file in os.listdir(subdict):\n",
    "                        #print(file)\n",
    "                        df = pd.DataFrame()\n",
    "                        if('README' in file):\n",
    "                            continue\n",
    "                            \n",
    "                        if file[-1] is not None:\n",
    "                            if file[-1] == \"M\": \n",
    "                                gender = 0\n",
    "                            elif file[-1] == \"F\":\n",
    "                                gender = 1\n",
    "                            else:\n",
    "                                gender = 2\n",
    "                        else:\n",
    "                            gender = None\n",
    "                            \n",
    "                        df = pd.read_csv(subdict + '\\\\'+ file,header=None)\n",
    "                        df_len = len(df.columns)\n",
    "                        df[df_len] = df[df_len - 1] \n",
    "                        df[df_len -1 ] = gender\n",
    "                        df.columns = cols_lst \n",
    "                        #print(df.head(2))\n",
    "                        compo_df = pd.concat([compo_df,df],ignore_index =True)\n",
    "                \n",
    "\n",
    "\n",
    "        #print(compo_df)\n",
    "        if os.path.exists(op_filepath):\n",
    "            os.remove(op_filepath)\n",
    "            \n",
    "        compo_df.to_csv(op_filepath)\n",
    "        return compo_df,op_filepath\n",
    "    except Exception as e:\n",
    "        print(e)\n",
    "    \n",
    "data,csv_file = generateComposite(rd_path,op_filepath)"
   ]
  },
  {
   "cell_type": "code",
   "execution_count": 22,
   "metadata": {},
   "outputs": [
    {
     "data": {
      "text/html": [
       "<div>\n",
       "<style scoped>\n",
       "    .dataframe tbody tr th:only-of-type {\n",
       "        vertical-align: middle;\n",
       "    }\n",
       "\n",
       "    .dataframe tbody tr th {\n",
       "        vertical-align: top;\n",
       "    }\n",
       "\n",
       "    .dataframe thead th {\n",
       "        text-align: right;\n",
       "    }\n",
       "</style>\n",
       "<table border=\"1\" class=\"dataframe\">\n",
       "  <thead>\n",
       "    <tr style=\"text-align: right;\">\n",
       "      <th></th>\n",
       "      <th>Time</th>\n",
       "      <th>FrontalAxis</th>\n",
       "      <th>VerticalAxis</th>\n",
       "      <th>LateralAxis</th>\n",
       "      <th>RSAID</th>\n",
       "      <th>RSSI</th>\n",
       "      <th>Phase</th>\n",
       "      <th>Frequency</th>\n",
       "      <th>Gender</th>\n",
       "      <th>Activity</th>\n",
       "    </tr>\n",
       "  </thead>\n",
       "  <tbody>\n",
       "    <tr>\n",
       "      <th>0</th>\n",
       "      <td>0.00</td>\n",
       "      <td>0.27203</td>\n",
       "      <td>1.00820</td>\n",
       "      <td>-0.082102</td>\n",
       "      <td>1</td>\n",
       "      <td>-63.5</td>\n",
       "      <td>2.4252</td>\n",
       "      <td>924.25</td>\n",
       "      <td>0</td>\n",
       "      <td>1</td>\n",
       "    </tr>\n",
       "    <tr>\n",
       "      <th>1</th>\n",
       "      <td>0.50</td>\n",
       "      <td>0.27203</td>\n",
       "      <td>1.00820</td>\n",
       "      <td>-0.082102</td>\n",
       "      <td>1</td>\n",
       "      <td>-63.0</td>\n",
       "      <td>4.7369</td>\n",
       "      <td>921.75</td>\n",
       "      <td>0</td>\n",
       "      <td>1</td>\n",
       "    </tr>\n",
       "    <tr>\n",
       "      <th>2</th>\n",
       "      <td>1.50</td>\n",
       "      <td>0.44791</td>\n",
       "      <td>0.91636</td>\n",
       "      <td>-0.013684</td>\n",
       "      <td>1</td>\n",
       "      <td>-63.5</td>\n",
       "      <td>3.0311</td>\n",
       "      <td>923.75</td>\n",
       "      <td>0</td>\n",
       "      <td>1</td>\n",
       "    </tr>\n",
       "    <tr>\n",
       "      <th>3</th>\n",
       "      <td>1.75</td>\n",
       "      <td>0.44791</td>\n",
       "      <td>0.91636</td>\n",
       "      <td>-0.013684</td>\n",
       "      <td>1</td>\n",
       "      <td>-63.0</td>\n",
       "      <td>2.0371</td>\n",
       "      <td>921.25</td>\n",
       "      <td>0</td>\n",
       "      <td>1</td>\n",
       "    </tr>\n",
       "    <tr>\n",
       "      <th>4</th>\n",
       "      <td>2.50</td>\n",
       "      <td>0.34238</td>\n",
       "      <td>0.96229</td>\n",
       "      <td>-0.059296</td>\n",
       "      <td>1</td>\n",
       "      <td>-63.5</td>\n",
       "      <td>5.8920</td>\n",
       "      <td>920.25</td>\n",
       "      <td>0</td>\n",
       "      <td>1</td>\n",
       "    </tr>\n",
       "  </tbody>\n",
       "</table>\n",
       "</div>"
      ],
      "text/plain": [
       "   Time  FrontalAxis  VerticalAxis  LateralAxis RSAID  RSSI   Phase  \\\n",
       "0  0.00      0.27203       1.00820    -0.082102     1 -63.5  2.4252   \n",
       "1  0.50      0.27203       1.00820    -0.082102     1 -63.0  4.7369   \n",
       "2  1.50      0.44791       0.91636    -0.013684     1 -63.5  3.0311   \n",
       "3  1.75      0.44791       0.91636    -0.013684     1 -63.0  2.0371   \n",
       "4  2.50      0.34238       0.96229    -0.059296     1 -63.5  5.8920   \n",
       "\n",
       "   Frequency Gender Activity  \n",
       "0     924.25      0        1  \n",
       "1     921.75      0        1  \n",
       "2     923.75      0        1  \n",
       "3     921.25      0        1  \n",
       "4     920.25      0        1  "
      ]
     },
     "execution_count": 22,
     "metadata": {},
     "output_type": "execute_result"
    }
   ],
   "source": [
    "data.head()"
   ]
  },
  {
   "cell_type": "code",
   "execution_count": 77,
   "metadata": {},
   "outputs": [
    {
     "data": {
      "application/vnd.jupyter.widget-view+json": {
       "model_id": "e025f96c71e74ee98b1468b0ed38eeb6",
       "version_major": 2,
       "version_minor": 0
      },
      "text/plain": [
       "HBox(children=(HTML(value='Summarize dataset'), FloatProgress(value=0.0, max=23.0), HTML(value='')))"
      ]
     },
     "metadata": {},
     "output_type": "display_data"
    },
    {
     "name": "stdout",
     "output_type": "stream",
     "text": [
      "\n"
     ]
    },
    {
     "data": {
      "application/vnd.jupyter.widget-view+json": {
       "model_id": "1ec2890897994513b4f0fa39affbecb5",
       "version_major": 2,
       "version_minor": 0
      },
      "text/plain": [
       "HBox(children=(HTML(value='Generate report structure'), FloatProgress(value=0.0, max=1.0), HTML(value='')))"
      ]
     },
     "metadata": {},
     "output_type": "display_data"
    },
    {
     "name": "stdout",
     "output_type": "stream",
     "text": [
      "\n"
     ]
    },
    {
     "data": {
      "application/vnd.jupyter.widget-view+json": {
       "model_id": "",
       "version_major": 2,
       "version_minor": 0
      },
      "text/plain": [
       "HBox(children=(HTML(value='Render widgets'), FloatProgress(value=0.0, max=1.0), HTML(value='')))"
      ]
     },
     "metadata": {},
     "output_type": "display_data"
    },
    {
     "data": {
      "application/vnd.jupyter.widget-view+json": {
       "model_id": "837b5f145ac542acbf37960c7fb66d86",
       "version_major": 2,
       "version_minor": 0
      },
      "text/plain": [
       "VBox(children=(Tab(children=(Tab(children=(GridBox(children=(VBox(children=(GridspecLayout(children=(HTML(valu…"
      ]
     },
     "metadata": {},
     "output_type": "display_data"
    }
   ],
   "source": [
    "pf = ProfileReport(df)\n",
    "pf.to_widgets()"
   ]
  },
  {
   "cell_type": "code",
   "execution_count": 78,
   "metadata": {},
   "outputs": [
    {
     "data": {
      "application/vnd.jupyter.widget-view+json": {
       "model_id": "369c8097877445d7b945ad9912575fb0",
       "version_major": 2,
       "version_minor": 0
      },
      "text/plain": [
       "HBox(children=(HTML(value='Render HTML'), FloatProgress(value=0.0, max=1.0), HTML(value='')))"
      ]
     },
     "metadata": {},
     "output_type": "display_data"
    },
    {
     "name": "stdout",
     "output_type": "stream",
     "text": [
      "\n"
     ]
    },
    {
     "data": {
      "application/vnd.jupyter.widget-view+json": {
       "model_id": "9aea0175b64247cba2fa658ef9d813d8",
       "version_major": 2,
       "version_minor": 0
      },
      "text/plain": [
       "HBox(children=(HTML(value='Export report to file'), FloatProgress(value=0.0, max=1.0), HTML(value='')))"
      ]
     },
     "metadata": {},
     "output_type": "display_data"
    },
    {
     "name": "stdout",
     "output_type": "stream",
     "text": [
      "\n"
     ]
    }
   ],
   "source": [
    "pf.to_file('HealthyOlderPeople_report.html')"
   ]
  },
  {
   "cell_type": "code",
   "execution_count": null,
   "metadata": {},
   "outputs": [],
   "source": [
    "# data set is imbalance bcoz 60% up data belongs to single class i.e. 3 \n",
    "# no missing data\n",
    "# vertical axis accelaration highly correlated to frontal axis accelaration\n",
    "# phase and frequency has very low correlation with label column Activity (will exclude from feature list and compare accuracy )\n",
    "# Time has lot of zero values in some features (may be due to data capturing device error)\n",
    "# RSAID slightly correlated with RSSI ignoring for now"
   ]
  },
  {
   "cell_type": "code",
   "execution_count": 23,
   "metadata": {},
   "outputs": [
    {
     "data": {
      "text/plain": [
       "Index(['Time', 'FrontalAxis', 'VerticalAxis', 'LateralAxis', 'RSAID', 'RSSI',\n",
       "       'Phase', 'Frequency', 'Gender', 'Activity'],\n",
       "      dtype='object')"
      ]
     },
     "execution_count": 23,
     "metadata": {},
     "output_type": "execute_result"
    }
   ],
   "source": [
    "data.columns"
   ]
  },
  {
   "cell_type": "code",
   "execution_count": 24,
   "metadata": {},
   "outputs": [
    {
     "data": {
      "text/plain": [
       "Time            float64\n",
       "FrontalAxis     float64\n",
       "VerticalAxis    float64\n",
       "LateralAxis     float64\n",
       "RSAID            object\n",
       "RSSI            float64\n",
       "Phase           float64\n",
       "Frequency       float64\n",
       "Gender           object\n",
       "Activity         object\n",
       "dtype: object"
      ]
     },
     "execution_count": 24,
     "metadata": {},
     "output_type": "execute_result"
    }
   ],
   "source": [
    "data.dtypes"
   ]
  },
  {
   "cell_type": "code",
   "execution_count": 25,
   "metadata": {},
   "outputs": [
    {
     "data": {
      "text/plain": [
       "Time            float64\n",
       "FrontalAxis     float64\n",
       "VerticalAxis    float64\n",
       "LateralAxis     float64\n",
       "RSAID             int32\n",
       "RSSI            float64\n",
       "Phase           float64\n",
       "Frequency       float64\n",
       "Gender            int32\n",
       "Activity          int32\n",
       "dtype: object"
      ]
     },
     "execution_count": 25,
     "metadata": {},
     "output_type": "execute_result"
    }
   ],
   "source": [
    "# changing data type of RSAID, Gender and Activity \n",
    "data.RSAID = data.RSAID.astype('int')\n",
    "data.Gender = data.Gender.astype('int')\n",
    "data.Activity = data.Activity.astype('int')\n",
    "data.dtypes"
   ]
  },
  {
   "cell_type": "code",
   "execution_count": 26,
   "metadata": {},
   "outputs": [
    {
     "data": {
      "text/plain": [
       "1176"
      ]
     },
     "execution_count": 26,
     "metadata": {},
     "output_type": "execute_result"
    }
   ],
   "source": [
    "data.FrontalAxis [data.FrontalAxis < 0].count()"
   ]
  },
  {
   "cell_type": "code",
   "execution_count": 27,
   "metadata": {},
   "outputs": [
    {
     "data": {
      "text/plain": [
       "1176"
      ]
     },
     "execution_count": 27,
     "metadata": {},
     "output_type": "execute_result"
    }
   ],
   "source": [
    "data.VerticalAxis [data.FrontalAxis < 0].count()\n",
    "#FrontalAxis and VerticalAxis has negative values might be w.r.t direction \n",
    "# so to remove multicollinearity not merging them into single magnitute like sq. root(x2+y2) "
   ]
  },
  {
   "cell_type": "code",
   "execution_count": 28,
   "metadata": {},
   "outputs": [
    {
     "name": "stdout",
     "output_type": "stream",
     "text": [
      " Time zero count - 87\n",
      " FrontalAxis zero count - 0\n",
      " VerticalAxis zero count - 0\n",
      " LateralAxis zero count - 0\n",
      " RSAID zero count - 0\n",
      " RSSI zero count - 0\n",
      " Phase zero count - 1\n",
      " Frequency zero count - 0\n",
      " Gender zero count - 31300\n",
      " Activity zero count - 0\n"
     ]
    }
   ],
   "source": [
    "for cols in data.columns:\n",
    "    print(' {} zero count - {}'.format(cols,data[cols][data[cols] == 0].count()))"
   ]
  },
  {
   "cell_type": "code",
   "execution_count": 29,
   "metadata": {},
   "outputs": [
    {
     "data": {
      "text/plain": [
       "0"
      ]
     },
     "execution_count": 29,
     "metadata": {},
     "output_type": "execute_result"
    }
   ],
   "source": [
    "# replacing zeors of Time with avg value\n",
    "data['Time'] = data['Time'].replace(0, data.Time.mean())\n",
    "data['Time'][data['Time'] == 0].count()"
   ]
  },
  {
   "cell_type": "code",
   "execution_count": 30,
   "metadata": {},
   "outputs": [
    {
     "data": {
      "text/plain": [
       "<AxesSubplot:>"
      ]
     },
     "execution_count": 30,
     "metadata": {},
     "output_type": "execute_result"
    },
    {
     "data": {
      "image/png": "[encoded data removed]",
      "text/plain": [
       "<Figure size 1440x1440 with 1 Axes>"
      ]
     },
     "metadata": {
      "needs_background": "light"
     },
     "output_type": "display_data"
    }
   ],
   "source": [
    "fig, ax = plt.subplots(figsize = (20,20))\n",
    "sns.boxplot(data = data , ax =ax)\n",
    "# Time has many outlier it is right skewed "
   ]
  },
  {
   "cell_type": "code",
   "execution_count": 31,
   "metadata": {},
   "outputs": [],
   "source": [
    "y = data['Activity']\n",
    "x = data.drop(columns=['Activity'])\n",
    "# will again try by removing ['Phase', 'Frequency']\n",
    "#x = data.drop(columns=['Activity','Phase', 'Frequency']) "
   ]
  },
  {
   "cell_type": "code",
   "execution_count": 32,
   "metadata": {},
   "outputs": [],
   "source": [
    "scalar = StandardScaler()\n",
    "x_scaled = scalar.fit_transform(x)"
   ]
  },
  {
   "cell_type": "code",
   "execution_count": 33,
   "metadata": {},
   "outputs": [
    {
     "data": {
      "application/vnd.jupyter.widget-view+json": {
       "model_id": "6529c697783d4c6d9180d401ce5ee871",
       "version_major": 2,
       "version_minor": 0
      },
      "text/plain": [
       "HBox(children=(HTML(value='Summarize dataset'), FloatProgress(value=0.0, max=22.0), HTML(value='')))"
      ]
     },
     "metadata": {},
     "output_type": "display_data"
    },
    {
     "name": "stdout",
     "output_type": "stream",
     "text": [
      "\n"
     ]
    },
    {
     "data": {
      "application/vnd.jupyter.widget-view+json": {
       "model_id": "2cbf56d27b0043ebb6b7bc7018c24b3a",
       "version_major": 2,
       "version_minor": 0
      },
      "text/plain": [
       "HBox(children=(HTML(value='Generate report structure'), FloatProgress(value=0.0, max=1.0), HTML(value='')))"
      ]
     },
     "metadata": {},
     "output_type": "display_data"
    },
    {
     "name": "stdout",
     "output_type": "stream",
     "text": [
      "\n"
     ]
    },
    {
     "data": {
      "application/vnd.jupyter.widget-view+json": {
       "model_id": "",
       "version_major": 2,
       "version_minor": 0
      },
      "text/plain": [
       "HBox(children=(HTML(value='Render widgets'), FloatProgress(value=0.0, max=1.0), HTML(value='')))"
      ]
     },
     "metadata": {},
     "output_type": "display_data"
    },
    {
     "data": {
      "application/vnd.jupyter.widget-view+json": {
       "model_id": "6fc101fa784841f79f05851d4fba3fcd",
       "version_major": 2,
       "version_minor": 0
      },
      "text/plain": [
       "VBox(children=(Tab(children=(Tab(children=(GridBox(children=(VBox(children=(GridspecLayout(children=(HTML(valu…"
      ]
     },
     "metadata": {},
     "output_type": "display_data"
    }
   ],
   "source": [
    "pfnew = ProfileReport(pd.DataFrame(x_scaled))\n",
    "pfnew.to_widgets()"
   ]
  },
  {
   "cell_type": "code",
   "execution_count": 35,
   "metadata": {},
   "outputs": [
    {
     "data": {
      "text/html": [
       "<div>\n",
       "<style scoped>\n",
       "    .dataframe tbody tr th:only-of-type {\n",
       "        vertical-align: middle;\n",
       "    }\n",
       "\n",
       "    .dataframe tbody tr th {\n",
       "        vertical-align: top;\n",
       "    }\n",
       "\n",
       "    .dataframe thead th {\n",
       "        text-align: right;\n",
       "    }\n",
       "</style>\n",
       "<table border=\"1\" class=\"dataframe\">\n",
       "  <thead>\n",
       "    <tr style=\"text-align: right;\">\n",
       "      <th></th>\n",
       "      <th>vif</th>\n",
       "      <th>feature</th>\n",
       "    </tr>\n",
       "  </thead>\n",
       "  <tbody>\n",
       "    <tr>\n",
       "      <th>0</th>\n",
       "      <td>1.238518</td>\n",
       "      <td>Time</td>\n",
       "    </tr>\n",
       "    <tr>\n",
       "      <th>1</th>\n",
       "      <td>4.418484</td>\n",
       "      <td>FrontalAxis</td>\n",
       "    </tr>\n",
       "    <tr>\n",
       "      <th>2</th>\n",
       "      <td>4.169607</td>\n",
       "      <td>VerticalAxis</td>\n",
       "    </tr>\n",
       "    <tr>\n",
       "      <th>3</th>\n",
       "      <td>2.414793</td>\n",
       "      <td>LateralAxis</td>\n",
       "    </tr>\n",
       "    <tr>\n",
       "      <th>4</th>\n",
       "      <td>1.166242</td>\n",
       "      <td>RSAID</td>\n",
       "    </tr>\n",
       "    <tr>\n",
       "      <th>5</th>\n",
       "      <td>1.115588</td>\n",
       "      <td>RSSI</td>\n",
       "    </tr>\n",
       "    <tr>\n",
       "      <th>6</th>\n",
       "      <td>1.008793</td>\n",
       "      <td>Phase</td>\n",
       "    </tr>\n",
       "    <tr>\n",
       "      <th>7</th>\n",
       "      <td>1.048439</td>\n",
       "      <td>Frequency</td>\n",
       "    </tr>\n",
       "    <tr>\n",
       "      <th>8</th>\n",
       "      <td>1.265441</td>\n",
       "      <td>Gender</td>\n",
       "    </tr>\n",
       "  </tbody>\n",
       "</table>\n",
       "</div>"
      ],
      "text/plain": [
       "        vif       feature\n",
       "0  1.238518          Time\n",
       "1  4.418484   FrontalAxis\n",
       "2  4.169607  VerticalAxis\n",
       "3  2.414793   LateralAxis\n",
       "4  1.166242         RSAID\n",
       "5  1.115588          RSSI\n",
       "6  1.008793         Phase\n",
       "7  1.048439     Frequency\n",
       "8  1.265441        Gender"
      ]
     },
     "execution_count": 35,
     "metadata": {},
     "output_type": "execute_result"
    }
   ],
   "source": [
    "# To remove multicollinearity using Variance Inflation Factor VIF\n",
    "\n",
    "vif_df = pd.DataFrame()\n",
    "vif_df['vif'] = [variance_inflation_factor(x_scaled,i) for i in range(x_scaled.shape[1])]\n",
    "vif_df['feature'] = x.columns\n",
    "vif_df\n",
    "\n",
    "# VIF value for any feature column not more than 10 so seems no issue "
   ]
  },
  {
   "cell_type": "code",
   "execution_count": 36,
   "metadata": {},
   "outputs": [],
   "source": [
    "x_train,x_test,y_train,y_test = train_test_split(x_scaled,y,test_size=0.25,random_state=40) # Randomly splitting data in train and test data with 25%,75% ratio"
   ]
  },
  {
   "cell_type": "code",
   "execution_count": 37,
   "metadata": {},
   "outputs": [],
   "source": [
    "# For Logistic Regression\n",
    "from sklearn.linear_model import Ridge, Lasso, RidgeCV, LassoCV, ElasticNet,ElasticNetCV,LogisticRegression"
   ]
  },
  {
   "cell_type": "code",
   "execution_count": 147,
   "metadata": {},
   "outputs": [],
   "source": [
    "logr = LogisticRegression(random_state=20,multi_class='ovr',verbose=1) # using ovr as it is a multiclass problem\n",
    "\n",
    "# GridSearchCV gave best params -> {'C': 0.5, 'penalty': 'none', 'solver': 'newton-cg'}\n",
    "best_logr = LogisticRegression(C=0.5,penalty='none',solver='newton-cg',random_state=20,multi_class='ovr',verbose=1) # after hyper parameter tunning "
   ]
  },
  {
   "cell_type": "code",
   "execution_count": 112,
   "metadata": {},
   "outputs": [
    {
     "data": {
      "text/plain": [
       "array([[ 0.03635153, -1.32477734,  1.58219543, ...,  1.19483579,\n",
       "        -0.25045568,  0.84507712],\n",
       "       [ 0.06829869,  0.96467046, -0.28119021, ..., -0.56321815,\n",
       "        -0.54823744,  0.84507712],\n",
       "       [-0.13741461,  0.47206361, -1.18552277, ...,  0.90243016,\n",
       "         1.53623491, -1.18332396],\n",
       "       ...,\n",
       "       [-1.08988313, -0.74516717, -0.25379415, ...,  0.88625414,\n",
       "        -0.54823744,  0.84507712],\n",
       "       [-0.68964969,  0.21122668,  1.06157479, ..., -1.28794055,\n",
       "        -1.14380097, -1.18332396],\n",
       "       [-0.98689045, -0.94801837,  1.50003111, ...,  1.35018058,\n",
       "         0.04732609, -1.18332396]])"
      ]
     },
     "execution_count": 112,
     "metadata": {},
     "output_type": "execute_result"
    }
   ],
   "source": [
    "x_train"
   ]
  },
  {
   "cell_type": "code",
   "execution_count": 113,
   "metadata": {},
   "outputs": [
    {
     "data": {
      "text/plain": [
       "40365    1\n",
       "36352    3\n",
       "2521     3\n",
       "60763    1\n",
       "24061    3\n",
       "        ..\n",
       "11532    1\n",
       "54578    3\n",
       "56760    3\n",
       "30727    2\n",
       "11590    1\n",
       "Name: Activity, Length: 56346, dtype: int32"
      ]
     },
     "execution_count": 113,
     "metadata": {},
     "output_type": "execute_result"
    }
   ],
   "source": [
    "y_train"
   ]
  },
  {
   "cell_type": "code",
   "execution_count": 148,
   "metadata": {},
   "outputs": [
    {
     "name": "stderr",
     "output_type": "stream",
     "text": [
      "[Parallel(n_jobs=1)]: Using backend SequentialBackend with 1 concurrent workers.\n",
      "[Parallel(n_jobs=1)]: Done   4 out of   4 | elapsed:    0.1s finished\n"
     ]
    },
    {
     "data": {
      "text/plain": [
       "LogisticRegression(multi_class='ovr', random_state=20, verbose=1)"
      ]
     },
     "execution_count": 148,
     "metadata": {},
     "output_type": "execute_result"
    }
   ],
   "source": [
    "logr.fit(x_train,y_train)"
   ]
  },
  {
   "cell_type": "code",
   "execution_count": 149,
   "metadata": {},
   "outputs": [
    {
     "name": "stderr",
     "output_type": "stream",
     "text": [
      "D:\\Anaconda3\\lib\\site-packages\\sklearn\\linear_model\\_logistic.py:1320: UserWarning: Setting penalty='none' will ignore the C and l1_ratio parameters\n",
      "  warnings.warn(\n",
      "[Parallel(n_jobs=1)]: Using backend SequentialBackend with 1 concurrent workers.\n",
      "[Parallel(n_jobs=1)]: Done   4 out of   4 | elapsed:    0.5s finished\n"
     ]
    },
    {
     "data": {
      "text/plain": [
       "LogisticRegression(C=0.5, multi_class='ovr', penalty='none', random_state=20,\n",
       "                   solver='newton-cg', verbose=1)"
      ]
     },
     "execution_count": 149,
     "metadata": {},
     "output_type": "execute_result"
    }
   ],
   "source": [
    "best_logr.fit(x_train,y_train)"
   ]
  },
  {
   "cell_type": "code",
   "execution_count": 151,
   "metadata": {},
   "outputs": [
    {
     "data": {
      "text/plain": [
       "array([3, 3, 3, ..., 1, 1, 1])"
      ]
     },
     "execution_count": 151,
     "metadata": {},
     "output_type": "execute_result"
    }
   ],
   "source": [
    "y_pred = logr.predict(x_test)\n",
    "y_pred"
   ]
  },
  {
   "cell_type": "code",
   "execution_count": 152,
   "metadata": {},
   "outputs": [
    {
     "data": {
      "text/plain": [
       "array([[4.93263697e-03, 3.05753991e-02, 9.64085318e-01, 4.06646383e-04],\n",
       "       [5.31440742e-03, 9.18461211e-04, 9.93761556e-01, 5.57560026e-06],\n",
       "       [1.14609362e-03, 5.20872326e-03, 9.93469026e-01, 1.76157231e-04],\n",
       "       ...,\n",
       "       [6.48162996e-01, 1.03230519e-03, 5.66360557e-04, 3.50238338e-01],\n",
       "       [7.10903342e-01, 2.87575014e-01, 7.33168795e-06, 1.51431177e-03],\n",
       "       [5.68445441e-01, 3.36812493e-01, 9.37693843e-07, 9.47411282e-02]])"
      ]
     },
     "execution_count": 152,
     "metadata": {},
     "output_type": "execute_result"
    }
   ],
   "source": [
    "y_prob_pred = logr.predict_proba(x_test)\n",
    "y_prob_pred"
   ]
  },
  {
   "cell_type": "code",
   "execution_count": 159,
   "metadata": {},
   "outputs": [],
   "source": [
    "yb_pred = best_logr.predict(x_test)\n",
    "yb_prob_pred = best_logr.predict_proba(x_test)"
   ]
  },
  {
   "cell_type": "code",
   "execution_count": 126,
   "metadata": {},
   "outputs": [
    {
     "name": "stdout",
     "output_type": "stream",
     "text": [
      "Actual ->  3\n",
      "Predicted ->  [3]\n"
     ]
    }
   ],
   "source": [
    "print('Actual -> ',y_test.iloc[213])\n",
    "print('Predicted -> ',logr.predict([x_test[213]]))"
   ]
  },
  {
   "cell_type": "code",
   "execution_count": 118,
   "metadata": {},
   "outputs": [
    {
     "data": {
      "text/plain": [
       "array([[ 3943,    94,    99,     1],\n",
       "       [  856,   365,     0,     6],\n",
       "       [    2,     3, 12827,     0],\n",
       "       [  348,    31,     2,   205]], dtype=int64)"
      ]
     },
     "execution_count": 118,
     "metadata": {},
     "output_type": "execute_result"
    }
   ],
   "source": [
    "matrix = confusion_matrix(y_test,y_pred)\n",
    "matrix"
   ]
  },
  {
   "cell_type": "code",
   "execution_count": 155,
   "metadata": {},
   "outputs": [
    {
     "data": {
      "text/plain": [
       "array([[ 3945,    96,    95,     1],\n",
       "       [  855,   366,     0,     6],\n",
       "       [    2,     3, 12827,     0],\n",
       "       [  346,    31,     2,   207]], dtype=int64)"
      ]
     },
     "execution_count": 155,
     "metadata": {},
     "output_type": "execute_result"
    }
   ],
   "source": [
    "confusion_matrix(y_test,yb_pred)"
   ]
  },
  {
   "cell_type": "code",
   "execution_count": 119,
   "metadata": {},
   "outputs": [
    {
     "name": "stdout",
     "output_type": "stream",
     "text": [
      "              precision    recall  f1-score   support\n",
      "\n",
      "           1      0.766     0.953     0.849      4137\n",
      "           2      0.740     0.297     0.424      1227\n",
      "           3      0.992     1.000     0.996     12832\n",
      "           4      0.967     0.350     0.514       586\n",
      "\n",
      "    accuracy                          0.923     18782\n",
      "   macro avg      0.866     0.650     0.696     18782\n",
      "weighted avg      0.925     0.923     0.911     18782\n",
      "\n"
     ]
    }
   ],
   "source": [
    "from sklearn import metrics\n",
    "# Classification accuracy is a metric that summarizes the performance of a classification model \n",
    "# as the number of correct predictions divided by the total number of predictions.\n",
    "# this is not correct metrics for imbalnced data set\n",
    "# here in our case we have imbalanced data set\n",
    "# so will consider other factors (like precision, recall) based on confusion matrix   \n",
    "print(metrics.classification_report(y_test,y_pred,digits=3))\n"
   ]
  },
  {
   "cell_type": "code",
   "execution_count": 156,
   "metadata": {},
   "outputs": [
    {
     "name": "stdout",
     "output_type": "stream",
     "text": [
      "              precision    recall  f1-score   support\n",
      "\n",
      "           1      0.766     0.954     0.850      4137\n",
      "           2      0.738     0.298     0.425      1227\n",
      "           3      0.992     1.000     0.996     12832\n",
      "           4      0.967     0.353     0.517       586\n",
      "\n",
      "    accuracy                          0.923     18782\n",
      "   macro avg      0.866     0.651     0.697     18782\n",
      "weighted avg      0.925     0.923     0.912     18782\n",
      "\n"
     ]
    }
   ],
   "source": [
    "print(metrics.classification_report(y_test,yb_pred,digits=3))\n",
    "#slight increase in recall and f1-score"
   ]
  },
  {
   "cell_type": "code",
   "execution_count": null,
   "metadata": {},
   "outputs": [],
   "source": [
    "#Precision => TP/(TP+FP)\n",
    "#Recall => TP/(TP+FN)\n",
    "\n",
    "# Here false positive and false positive both matters so will use F beta\n",
    "# F beta = ((1+beta^2)*(Precision*Recall))/(beta^2*Precision+Recall)\n",
    "# if both FP and FN have equal impact will keep beta = 1\n",
    "# if FN have high impact will increase beta = 2\n",
    "# if FP have high impact will reduce beta = 0.5\n",
    "\n",
    "#i.e\n",
    "#F0.5-Measure (beta=0.5): More weight on precision, less weight on recall.\n",
    "#It has the effect of raising the importance of precision and lowering the importance of recall\n",
    "\n",
    "#F1-Measure (beta=1.0): Balance the weight on precision and recall.\n",
    "\n",
    "#F2-Measure (beta=2.0): Less weight on precision, more weight on recall\n",
    "#It has the effect of lowering the importance of precision and increase the importance of recall."
   ]
  },
  {
   "cell_type": "code",
   "execution_count": 134,
   "metadata": {},
   "outputs": [
    {
     "name": "stdout",
     "output_type": "stream",
     "text": [
      "0.6958308917782587\n",
      "0.9232243637525289\n",
      "0.911208802105794\n",
      "[0.84923541 0.4244186  0.99588509 0.51378446]\n"
     ]
    }
   ],
   "source": [
    "# in lets give equal importance to both precision and recall hence lets keep beta =1\n",
    "from sklearn.metrics import fbeta_score\n",
    "print(fbeta_score(y_test, y_pred, average='macro', beta=1.0))\n",
    "print(fbeta_score(y_test, y_pred, average='micro', beta=1.0))\n",
    "print(fbeta_score(y_test, y_pred, average='weighted', beta=1.0))\n",
    "print(fbeta_score(y_test, y_pred, average=None, beta=1.0))"
   ]
  },
  {
   "cell_type": "code",
   "execution_count": 157,
   "metadata": {},
   "outputs": [
    {
     "name": "stdout",
     "output_type": "stream",
     "text": [
      "0.697034456513509\n",
      "0.9234905760834842\n",
      "0.9115729864420307\n",
      "[0.84975767 0.42484039 0.99603976 0.5175    ]\n"
     ]
    }
   ],
   "source": [
    "print(fbeta_score(y_test, yb_pred, average='macro', beta=1.0))\n",
    "print(fbeta_score(y_test, yb_pred, average='micro', beta=1.0))\n",
    "print(fbeta_score(y_test, yb_pred, average='weighted', beta=1.0))\n",
    "print(fbeta_score(y_test, yb_pred, average=None, beta=1.0)) \n",
    "# not much difference "
   ]
  },
  {
   "cell_type": "code",
   "execution_count": 128,
   "metadata": {},
   "outputs": [
    {
     "data": {
      "text/plain": [
       "0.957599941432368"
      ]
     },
     "execution_count": 128,
     "metadata": {},
     "output_type": "execute_result"
    }
   ],
   "source": [
    "auc = roc_auc_score(y_test,y_prob_pred,multi_class='ovr')\n",
    "auc #predict_proba for multiclass label"
   ]
  },
  {
   "cell_type": "code",
   "execution_count": 160,
   "metadata": {},
   "outputs": [
    {
     "data": {
      "text/plain": [
       "0.9576163763086679"
      ]
     },
     "execution_count": 160,
     "metadata": {},
     "output_type": "execute_result"
    }
   ],
   "source": [
    "auc_b = roc_auc_score(y_test,yb_prob_pred,multi_class='ovr')\n",
    "auc_b #predict_proba for multiclass label"
   ]
  },
  {
   "cell_type": "code",
   "execution_count": 142,
   "metadata": {},
   "outputs": [],
   "source": [
    "# Using Grid search cv to find best params of LogisticRegression \n",
    "from sklearn.model_selection import GridSearchCV\n",
    "lr_params = {\n",
    "    'penalty' : ['l1', 'l2', 'elasticnet', 'none'],\n",
    "    'solver' : ['newton-cg', 'lbfgs', 'liblinear', 'sag', 'saga'],\n",
    "    'C' : [0.5,1.0,1.5], # to control regularization small value means strong regularization\n",
    "    # other params mostly depends on solver and penalty combo so not adding them for now   \n",
    "}\n",
    "\n",
    "grid_lr = GridSearchCV(logr,param_grid=lr_params,verbose=3)"
   ]
  },
  {
   "cell_type": "code",
   "execution_count": 143,
   "metadata": {},
   "outputs": [
    {
     "name": "stdout",
     "output_type": "stream",
     "text": [
      "Fitting 5 folds for each of 60 candidates, totalling 300 fits\n",
      "[CV] C=0.5, penalty=l1, solver=newton-cg .............................\n",
      "[CV] ... C=0.5, penalty=l1, solver=newton-cg, score=nan, total=   0.0s\n",
      "[CV] C=0.5, penalty=l1, solver=newton-cg .............................\n",
      "[CV] ... C=0.5, penalty=l1, solver=newton-cg, score=nan, total=   0.0s\n",
      "[CV] C=0.5, penalty=l1, solver=newton-cg .............................\n",
      "[CV] ... C=0.5, penalty=l1, solver=newton-cg, score=nan, total=   0.0s\n",
      "[CV] C=0.5, penalty=l1, solver=newton-cg .............................\n",
      "[CV] ... C=0.5, penalty=l1, solver=newton-cg, score=nan, total=   0.0s\n",
      "[CV] C=0.5, penalty=l1, solver=newton-cg .............................\n",
      "[CV] ... C=0.5, penalty=l1, solver=newton-cg, score=nan, total=   0.0s\n",
      "[CV] C=0.5, penalty=l1, solver=lbfgs .................................\n",
      "[CV] ....... C=0.5, penalty=l1, solver=lbfgs, score=nan, total=   0.0s\n",
      "[CV] C=0.5, penalty=l1, solver=lbfgs .................................\n",
      "[CV] ....... C=0.5, penalty=l1, solver=lbfgs, score=nan, total=   0.0s\n",
      "[CV] C=0.5, penalty=l1, solver=lbfgs .................................\n",
      "[CV] ....... C=0.5, penalty=l1, solver=lbfgs, score=nan, total=   0.0s\n",
      "[CV] C=0.5, penalty=l1, solver=lbfgs .................................\n",
      "[CV] ....... C=0.5, penalty=l1, solver=lbfgs, score=nan, total=   0.0s\n",
      "[CV] C=0.5, penalty=l1, solver=lbfgs .................................\n",
      "[CV] ....... C=0.5, penalty=l1, solver=lbfgs, score=nan, total=   0.0s\n",
      "[CV] C=0.5, penalty=l1, solver=liblinear .............................\n",
      "[LibLinear]"
     ]
    },
    {
     "name": "stderr",
     "output_type": "stream",
     "text": [
      "[Parallel(n_jobs=1)]: Using backend SequentialBackend with 1 concurrent workers.\n",
      "D:\\Anaconda3\\lib\\site-packages\\sklearn\\model_selection\\_validation.py:548: FitFailedWarning: Estimator fit failed. The score on this train-test partition for these parameters will be set to nan. Details: \n",
      "Traceback (most recent call last):\n",
      "  File \"D:\\Anaconda3\\lib\\site-packages\\sklearn\\model_selection\\_validation.py\", line 531, in _fit_and_score\n",
      "    estimator.fit(X_train, y_train, **fit_params)\n",
      "  File \"D:\\Anaconda3\\lib\\site-packages\\sklearn\\linear_model\\_logistic.py\", line 1304, in fit\n",
      "    solver = _check_solver(self.solver, self.penalty, self.dual)\n",
      "  File \"D:\\Anaconda3\\lib\\site-packages\\sklearn\\linear_model\\_logistic.py\", line 442, in _check_solver\n",
      "    raise ValueError(\"Solver %s supports only 'l2' or 'none' penalties, \"\n",
      "ValueError: Solver newton-cg supports only 'l2' or 'none' penalties, got l1 penalty.\n",
      "\n",
      "  warnings.warn(\"Estimator fit failed. The score on this train-test\"\n",
      "[Parallel(n_jobs=1)]: Done   1 out of   1 | elapsed:    0.0s remaining:    0.0s\n",
      "[Parallel(n_jobs=1)]: Done   2 out of   2 | elapsed:    0.0s remaining:    0.0s\n",
      "D:\\Anaconda3\\lib\\site-packages\\sklearn\\model_selection\\_validation.py:548: FitFailedWarning: Estimator fit failed. The score on this train-test partition for these parameters will be set to nan. Details: \n",
      "Traceback (most recent call last):\n",
      "  File \"D:\\Anaconda3\\lib\\site-packages\\sklearn\\model_selection\\_validation.py\", line 531, in _fit_and_score\n",
      "    estimator.fit(X_train, y_train, **fit_params)\n",
      "  File \"D:\\Anaconda3\\lib\\site-packages\\sklearn\\linear_model\\_logistic.py\", line 1304, in fit\n",
      "    solver = _check_solver(self.solver, self.penalty, self.dual)\n",
      "  File \"D:\\Anaconda3\\lib\\site-packages\\sklearn\\linear_model\\_logistic.py\", line 442, in _check_solver\n",
      "    raise ValueError(\"Solver %s supports only 'l2' or 'none' penalties, \"\n",
      "ValueError: Solver lbfgs supports only 'l2' or 'none' penalties, got l1 penalty.\n",
      "\n",
      "  warnings.warn(\"Estimator fit failed. The score on this train-test\"\n"
     ]
    },
    {
     "name": "stdout",
     "output_type": "stream",
     "text": [
      "[CV] . C=0.5, penalty=l1, solver=liblinear, score=0.924, total=   0.8s\n",
      "[CV] C=0.5, penalty=l1, solver=liblinear .............................\n",
      "[LibLinear][CV] . C=0.5, penalty=l1, solver=liblinear, score=0.924, total=   0.8s\n",
      "[CV] C=0.5, penalty=l1, solver=liblinear .............................\n",
      "[LibLinear][CV] . C=0.5, penalty=l1, solver=liblinear, score=0.925, total=   0.8s\n",
      "[CV] C=0.5, penalty=l1, solver=liblinear .............................\n",
      "[LibLinear][CV] . C=0.5, penalty=l1, solver=liblinear, score=0.921, total=   0.8s\n",
      "[CV] C=0.5, penalty=l1, solver=liblinear .............................\n",
      "[LibLinear][CV] . C=0.5, penalty=l1, solver=liblinear, score=0.924, total=   0.8s\n",
      "[CV] C=0.5, penalty=l1, solver=sag ...................................\n",
      "[CV] ......... C=0.5, penalty=l1, solver=sag, score=nan, total=   0.0s\n",
      "[CV] C=0.5, penalty=l1, solver=sag ...................................\n",
      "[CV] ......... C=0.5, penalty=l1, solver=sag, score=nan, total=   0.0s\n",
      "[CV] C=0.5, penalty=l1, solver=sag ...................................\n",
      "[CV] ......... C=0.5, penalty=l1, solver=sag, score=nan, total=   0.0s\n",
      "[CV] C=0.5, penalty=l1, solver=sag ...................................\n",
      "[CV] ......... C=0.5, penalty=l1, solver=sag, score=nan, total=   0.0s\n",
      "[CV] C=0.5, penalty=l1, solver=sag ...................................\n",
      "[CV] ......... C=0.5, penalty=l1, solver=sag, score=nan, total=   0.0s\n",
      "[CV] C=0.5, penalty=l1, solver=saga ..................................\n",
      "convergence after 14 epochs took 1 seconds"
     ]
    },
    {
     "name": "stderr",
     "output_type": "stream",
     "text": [
      "D:\\Anaconda3\\lib\\site-packages\\sklearn\\model_selection\\_validation.py:548: FitFailedWarning: Estimator fit failed. The score on this train-test partition for these parameters will be set to nan. Details: \n",
      "Traceback (most recent call last):\n",
      "  File \"D:\\Anaconda3\\lib\\site-packages\\sklearn\\model_selection\\_validation.py\", line 531, in _fit_and_score\n",
      "    estimator.fit(X_train, y_train, **fit_params)\n",
      "  File \"D:\\Anaconda3\\lib\\site-packages\\sklearn\\linear_model\\_logistic.py\", line 1304, in fit\n",
      "    solver = _check_solver(self.solver, self.penalty, self.dual)\n",
      "  File \"D:\\Anaconda3\\lib\\site-packages\\sklearn\\linear_model\\_logistic.py\", line 442, in _check_solver\n",
      "    raise ValueError(\"Solver %s supports only 'l2' or 'none' penalties, \"\n",
      "ValueError: Solver sag supports only 'l2' or 'none' penalties, got l1 penalty.\n",
      "\n",
      "  warnings.warn(\"Estimator fit failed. The score on this train-test\"\n",
      "[Parallel(n_jobs=1)]: Using backend SequentialBackend with 1 concurrent workers.\n"
     ]
    },
    {
     "name": "stdout",
     "output_type": "stream",
     "text": [
      "\n",
      "convergence after 14 epochs took 0 seconds\n",
      "convergence after 16 epochs took 0 seconds\n",
      "convergence after 13 epochs took 0 seconds\n",
      "[CV] ...... C=0.5, penalty=l1, solver=saga, score=0.924, total=   0.5s\n",
      "[CV] C=0.5, penalty=l1, solver=saga ..................................\n"
     ]
    },
    {
     "name": "stderr",
     "output_type": "stream",
     "text": [
      "[Parallel(n_jobs=1)]: Done   4 out of   4 | elapsed:    0.4s finished\n",
      "[Parallel(n_jobs=1)]: Using backend SequentialBackend with 1 concurrent workers.\n"
     ]
    },
    {
     "name": "stdout",
     "output_type": "stream",
     "text": [
      "convergence after 14 epochs took 0 seconds\n",
      "convergence after 14 epochs took 0 seconds\n",
      "convergence after 19 epochs took 0 seconds\n",
      "convergence after 14 epochs took 1 seconds\n",
      "[CV] ...... C=0.5, penalty=l1, solver=saga, score=0.924, total=   0.6s\n",
      "[CV] C=0.5, penalty=l1, solver=saga ..................................\n"
     ]
    },
    {
     "name": "stderr",
     "output_type": "stream",
     "text": [
      "[Parallel(n_jobs=1)]: Done   4 out of   4 | elapsed:    0.5s finished\n",
      "[Parallel(n_jobs=1)]: Using backend SequentialBackend with 1 concurrent workers.\n"
     ]
    },
    {
     "name": "stdout",
     "output_type": "stream",
     "text": [
      "convergence after 14 epochs took 0 seconds\n",
      "convergence after 14 epochs took 0 seconds\n",
      "convergence after 15 epochs took 0 seconds\n",
      "convergence after 14 epochs took 0 seconds\n",
      "[CV] ...... C=0.5, penalty=l1, solver=saga, score=0.925, total=   0.5s\n",
      "[CV] C=0.5, penalty=l1, solver=saga ..................................\n"
     ]
    },
    {
     "name": "stderr",
     "output_type": "stream",
     "text": [
      "[Parallel(n_jobs=1)]: Done   4 out of   4 | elapsed:    0.4s finished\n",
      "[Parallel(n_jobs=1)]: Using backend SequentialBackend with 1 concurrent workers.\n"
     ]
    },
    {
     "name": "stdout",
     "output_type": "stream",
     "text": [
      "convergence after 13 epochs took 0 seconds\n",
      "convergence after 13 epochs took 0 seconds\n",
      "convergence after 15 epochs took 0 seconds\n",
      "convergence after 14 epochs took 1 seconds\n",
      "[CV] ...... C=0.5, penalty=l1, solver=saga, score=0.921, total=   0.5s\n",
      "[CV] C=0.5, penalty=l1, solver=saga ..................................\n"
     ]
    },
    {
     "name": "stderr",
     "output_type": "stream",
     "text": [
      "[Parallel(n_jobs=1)]: Done   4 out of   4 | elapsed:    0.4s finished\n",
      "[Parallel(n_jobs=1)]: Using backend SequentialBackend with 1 concurrent workers.\n"
     ]
    },
    {
     "name": "stdout",
     "output_type": "stream",
     "text": [
      "convergence after 13 epochs took 0 seconds\n",
      "convergence after 13 epochs took 0 seconds\n",
      "convergence after 20 epochs took 0 seconds\n",
      "convergence after 15 epochs took 0 seconds\n",
      "[CV] ...... C=0.5, penalty=l1, solver=saga, score=0.924, total=   0.5s\n",
      "[CV] C=0.5, penalty=l2, solver=newton-cg .............................\n"
     ]
    },
    {
     "name": "stderr",
     "output_type": "stream",
     "text": [
      "[Parallel(n_jobs=1)]: Done   4 out of   4 | elapsed:    0.4s finished\n",
      "[Parallel(n_jobs=1)]: Using backend SequentialBackend with 1 concurrent workers.\n",
      "[Parallel(n_jobs=1)]: Done   4 out of   4 | elapsed:    0.4s finished\n",
      "[Parallel(n_jobs=1)]: Using backend SequentialBackend with 1 concurrent workers.\n"
     ]
    },
    {
     "name": "stdout",
     "output_type": "stream",
     "text": [
      "[CV] . C=0.5, penalty=l2, solver=newton-cg, score=0.924, total=   0.5s\n",
      "[CV] C=0.5, penalty=l2, solver=newton-cg .............................\n"
     ]
    },
    {
     "name": "stderr",
     "output_type": "stream",
     "text": [
      "[Parallel(n_jobs=1)]: Done   4 out of   4 | elapsed:    0.4s finished\n",
      "[Parallel(n_jobs=1)]: Using backend SequentialBackend with 1 concurrent workers.\n"
     ]
    },
    {
     "name": "stdout",
     "output_type": "stream",
     "text": [
      "[CV] . C=0.5, penalty=l2, solver=newton-cg, score=0.924, total=   0.5s\n",
      "[CV] C=0.5, penalty=l2, solver=newton-cg .............................\n"
     ]
    },
    {
     "name": "stderr",
     "output_type": "stream",
     "text": [
      "[Parallel(n_jobs=1)]: Done   4 out of   4 | elapsed:    0.4s finished\n",
      "[Parallel(n_jobs=1)]: Using backend SequentialBackend with 1 concurrent workers.\n"
     ]
    },
    {
     "name": "stdout",
     "output_type": "stream",
     "text": [
      "[CV] . C=0.5, penalty=l2, solver=newton-cg, score=0.924, total=   0.5s\n",
      "[CV] C=0.5, penalty=l2, solver=newton-cg .............................\n"
     ]
    },
    {
     "name": "stderr",
     "output_type": "stream",
     "text": [
      "[Parallel(n_jobs=1)]: Done   4 out of   4 | elapsed:    0.4s finished\n",
      "[Parallel(n_jobs=1)]: Using backend SequentialBackend with 1 concurrent workers.\n"
     ]
    },
    {
     "name": "stdout",
     "output_type": "stream",
     "text": [
      "[CV] . C=0.5, penalty=l2, solver=newton-cg, score=0.921, total=   0.5s\n",
      "[CV] C=0.5, penalty=l2, solver=newton-cg .............................\n"
     ]
    },
    {
     "name": "stderr",
     "output_type": "stream",
     "text": [
      "[Parallel(n_jobs=1)]: Done   4 out of   4 | elapsed:    0.4s finished\n",
      "[Parallel(n_jobs=1)]: Using backend SequentialBackend with 1 concurrent workers.\n"
     ]
    },
    {
     "name": "stdout",
     "output_type": "stream",
     "text": [
      "[CV] . C=0.5, penalty=l2, solver=newton-cg, score=0.923, total=   0.5s\n",
      "[CV] C=0.5, penalty=l2, solver=lbfgs .................................\n"
     ]
    },
    {
     "name": "stderr",
     "output_type": "stream",
     "text": [
      "[Parallel(n_jobs=1)]: Done   4 out of   4 | elapsed:    0.1s finished\n",
      "[Parallel(n_jobs=1)]: Using backend SequentialBackend with 1 concurrent workers.\n"
     ]
    },
    {
     "name": "stdout",
     "output_type": "stream",
     "text": [
      "[CV] ..... C=0.5, penalty=l2, solver=lbfgs, score=0.924, total=   0.2s\n",
      "[CV] C=0.5, penalty=l2, solver=lbfgs .................................\n"
     ]
    },
    {
     "name": "stderr",
     "output_type": "stream",
     "text": [
      "[Parallel(n_jobs=1)]: Done   4 out of   4 | elapsed:    0.2s finished\n",
      "[Parallel(n_jobs=1)]: Using backend SequentialBackend with 1 concurrent workers.\n",
      "[Parallel(n_jobs=1)]: Done   4 out of   4 | elapsed:    0.1s finished\n"
     ]
    },
    {
     "name": "stdout",
     "output_type": "stream",
     "text": [
      "[CV] ..... C=0.5, penalty=l2, solver=lbfgs, score=0.924, total=   0.3s\n",
      "[CV] C=0.5, penalty=l2, solver=lbfgs .................................\n"
     ]
    },
    {
     "name": "stderr",
     "output_type": "stream",
     "text": [
      "[Parallel(n_jobs=1)]: Using backend SequentialBackend with 1 concurrent workers.\n",
      "[Parallel(n_jobs=1)]: Done   4 out of   4 | elapsed:    0.1s finished\n"
     ]
    },
    {
     "name": "stdout",
     "output_type": "stream",
     "text": [
      "[CV] ..... C=0.5, penalty=l2, solver=lbfgs, score=0.924, total=   0.2s\n",
      "[CV] C=0.5, penalty=l2, solver=lbfgs .................................\n"
     ]
    },
    {
     "name": "stderr",
     "output_type": "stream",
     "text": [
      "[Parallel(n_jobs=1)]: Using backend SequentialBackend with 1 concurrent workers.\n"
     ]
    },
    {
     "name": "stdout",
     "output_type": "stream",
     "text": [
      "[CV] ..... C=0.5, penalty=l2, solver=lbfgs, score=0.921, total=   0.2s\n",
      "[CV] C=0.5, penalty=l2, solver=lbfgs .................................\n"
     ]
    },
    {
     "name": "stderr",
     "output_type": "stream",
     "text": [
      "[Parallel(n_jobs=1)]: Done   4 out of   4 | elapsed:    0.1s finished\n"
     ]
    },
    {
     "name": "stdout",
     "output_type": "stream",
     "text": [
      "[CV] ..... C=0.5, penalty=l2, solver=lbfgs, score=0.923, total=   0.2s\n",
      "[CV] C=0.5, penalty=l2, solver=liblinear .............................\n",
      "[LibLinear][CV] . C=0.5, penalty=l2, solver=liblinear, score=0.924, total=   0.4s\n",
      "[CV] C=0.5, penalty=l2, solver=liblinear .............................\n",
      "[LibLinear][CV] . C=0.5, penalty=l2, solver=liblinear, score=0.923, total=   0.4s\n",
      "[CV] C=0.5, penalty=l2, solver=liblinear .............................\n",
      "[LibLinear][CV] . C=0.5, penalty=l2, solver=liblinear, score=0.925, total=   0.4s\n",
      "[CV] C=0.5, penalty=l2, solver=liblinear .............................\n",
      "[LibLinear][CV] . C=0.5, penalty=l2, solver=liblinear, score=0.921, total=   0.4s\n",
      "[CV] C=0.5, penalty=l2, solver=liblinear .............................\n",
      "[LibLinear][CV] . C=0.5, penalty=l2, solver=liblinear, score=0.923, total=   0.3s\n",
      "[CV] C=0.5, penalty=l2, solver=sag ...................................\n"
     ]
    },
    {
     "name": "stderr",
     "output_type": "stream",
     "text": [
      "[Parallel(n_jobs=1)]: Using backend SequentialBackend with 1 concurrent workers.\n"
     ]
    },
    {
     "name": "stdout",
     "output_type": "stream",
     "text": [
      "convergence after 24 epochs took 0 seconds\n",
      "convergence after 20 epochs took 0 seconds\n",
      "convergence after 19 epochs took 0 seconds\n",
      "convergence after 20 epochs took 0 seconds\n",
      "[CV] ....... C=0.5, penalty=l2, solver=sag, score=0.924, total=   0.7s\n",
      "[CV] C=0.5, penalty=l2, solver=sag ...................................\n"
     ]
    },
    {
     "name": "stderr",
     "output_type": "stream",
     "text": [
      "[Parallel(n_jobs=1)]: Done   4 out of   4 | elapsed:    0.5s finished\n",
      "[Parallel(n_jobs=1)]: Using backend SequentialBackend with 1 concurrent workers.\n"
     ]
    },
    {
     "name": "stdout",
     "output_type": "stream",
     "text": [
      "convergence after 23 epochs took 0 seconds\n",
      "convergence after 19 epochs took 1 seconds\n",
      "convergence after 18 epochs took 0 seconds\n",
      "convergence after 22 epochs took 0 seconds\n",
      "[CV] ....... C=0.5, penalty=l2, solver=sag, score=0.924, total=   0.6s\n",
      "[CV] C=0.5, penalty=l2, solver=sag ...................................\n"
     ]
    },
    {
     "name": "stderr",
     "output_type": "stream",
     "text": [
      "[Parallel(n_jobs=1)]: Done   4 out of   4 | elapsed:    0.5s finished\n",
      "[Parallel(n_jobs=1)]: Using backend SequentialBackend with 1 concurrent workers.\n"
     ]
    },
    {
     "name": "stdout",
     "output_type": "stream",
     "text": [
      "convergence after 23 epochs took 0 seconds\n",
      "convergence after 21 epochs took 0 seconds\n",
      "convergence after 17 epochs took 0 seconds\n",
      "convergence after 23 epochs took 1 seconds\n",
      "[CV] ....... C=0.5, penalty=l2, solver=sag, score=0.924, total=   0.6s\n",
      "[CV] C=0.5, penalty=l2, solver=sag ...................................\n"
     ]
    },
    {
     "name": "stderr",
     "output_type": "stream",
     "text": [
      "[Parallel(n_jobs=1)]: Done   4 out of   4 | elapsed:    0.5s finished\n",
      "[Parallel(n_jobs=1)]: Using backend SequentialBackend with 1 concurrent workers.\n"
     ]
    },
    {
     "name": "stdout",
     "output_type": "stream",
     "text": [
      "convergence after 20 epochs took 0 seconds\n",
      "convergence after 20 epochs took 0 seconds\n",
      "convergence after 17 epochs took 0 seconds\n",
      "convergence after 22 epochs took 0 seconds\n",
      "[CV] ....... C=0.5, penalty=l2, solver=sag, score=0.921, total=   0.7s\n",
      "[CV] C=0.5, penalty=l2, solver=sag ...................................\n"
     ]
    },
    {
     "name": "stderr",
     "output_type": "stream",
     "text": [
      "[Parallel(n_jobs=1)]: Done   4 out of   4 | elapsed:    0.6s finished\n",
      "[Parallel(n_jobs=1)]: Using backend SequentialBackend with 1 concurrent workers.\n"
     ]
    },
    {
     "name": "stdout",
     "output_type": "stream",
     "text": [
      "convergence after 23 epochs took 0 seconds\n",
      "convergence after 21 epochs took 1 seconds\n",
      "convergence after 17 epochs took 0 seconds\n",
      "convergence after 21 epochs took 0 seconds\n",
      "[CV] ....... C=0.5, penalty=l2, solver=sag, score=0.923, total=   0.6s\n",
      "[CV] C=0.5, penalty=l2, solver=saga ..................................\n"
     ]
    },
    {
     "name": "stderr",
     "output_type": "stream",
     "text": [
      "[Parallel(n_jobs=1)]: Done   4 out of   4 | elapsed:    0.5s finished\n",
      "[Parallel(n_jobs=1)]: Using backend SequentialBackend with 1 concurrent workers.\n"
     ]
    },
    {
     "name": "stdout",
     "output_type": "stream",
     "text": [
      "convergence after 13 epochs took 0 seconds\n",
      "convergence after 13 epochs took 0 seconds\n",
      "convergence after 15 epochs took 0 seconds\n",
      "convergence after 13 epochs took 0 seconds\n",
      "[CV] ...... C=0.5, penalty=l2, solver=saga, score=0.924, total=   0.4s\n",
      "[CV] C=0.5, penalty=l2, solver=saga ..................................\n"
     ]
    },
    {
     "name": "stderr",
     "output_type": "stream",
     "text": [
      "[Parallel(n_jobs=1)]: Done   4 out of   4 | elapsed:    0.3s finished\n",
      "[Parallel(n_jobs=1)]: Using backend SequentialBackend with 1 concurrent workers.\n"
     ]
    },
    {
     "name": "stdout",
     "output_type": "stream",
     "text": [
      "convergence after 13 epochs took 0 seconds\n",
      "convergence after 14 epochs took 0 seconds\n",
      "convergence after 15 epochs took 1 seconds\n",
      "convergence after 14 epochs took 0 seconds\n",
      "[CV] ...... C=0.5, penalty=l2, solver=saga, score=0.924, total=   0.5s\n",
      "[CV] C=0.5, penalty=l2, solver=saga ..................................\n"
     ]
    },
    {
     "name": "stderr",
     "output_type": "stream",
     "text": [
      "[Parallel(n_jobs=1)]: Done   4 out of   4 | elapsed:    0.4s finished\n",
      "[Parallel(n_jobs=1)]: Using backend SequentialBackend with 1 concurrent workers.\n"
     ]
    },
    {
     "name": "stdout",
     "output_type": "stream",
     "text": [
      "convergence after 14 epochs took 0 seconds\n",
      "convergence after 14 epochs took 0 seconds\n",
      "convergence after 15 epochs took 0 seconds\n",
      "convergence after 14 epochs took 0 seconds\n",
      "[CV] ...... C=0.5, penalty=l2, solver=saga, score=0.924, total=   0.5s\n",
      "[CV] C=0.5, penalty=l2, solver=saga ..................................\n",
      "convergence after 13 epochs took 0 seconds\n"
     ]
    },
    {
     "name": "stderr",
     "output_type": "stream",
     "text": [
      "[Parallel(n_jobs=1)]: Done   4 out of   4 | elapsed:    0.4s finished\n",
      "[Parallel(n_jobs=1)]: Using backend SequentialBackend with 1 concurrent workers.\n"
     ]
    },
    {
     "name": "stdout",
     "output_type": "stream",
     "text": [
      "convergence after 13 epochs took 0 seconds\n",
      "convergence after 15 epochs took 1 seconds\n",
      "convergence after 14 epochs took 0 seconds\n",
      "[CV] ...... C=0.5, penalty=l2, solver=saga, score=0.921, total=   0.4s\n",
      "[CV] C=0.5, penalty=l2, solver=saga ..................................\n",
      "convergence after 13 epochs took 0 seconds\n"
     ]
    },
    {
     "name": "stderr",
     "output_type": "stream",
     "text": [
      "[Parallel(n_jobs=1)]: Done   4 out of   4 | elapsed:    0.3s finished\n",
      "[Parallel(n_jobs=1)]: Using backend SequentialBackend with 1 concurrent workers.\n"
     ]
    },
    {
     "name": "stdout",
     "output_type": "stream",
     "text": [
      "convergence after 13 epochs took 0 seconds\n",
      "convergence after 15 epochs took 0 seconds\n",
      "convergence after 14 epochs took 0 seconds\n"
     ]
    },
    {
     "name": "stderr",
     "output_type": "stream",
     "text": [
      "[Parallel(n_jobs=1)]: Done   4 out of   4 | elapsed:    0.3s finished\n",
      "D:\\Anaconda3\\lib\\site-packages\\sklearn\\model_selection\\_validation.py:548: FitFailedWarning: Estimator fit failed. The score on this train-test partition for these parameters will be set to nan. Details: \n",
      "Traceback (most recent call last):\n",
      "  File \"D:\\Anaconda3\\lib\\site-packages\\sklearn\\model_selection\\_validation.py\", line 531, in _fit_and_score\n",
      "    estimator.fit(X_train, y_train, **fit_params)\n",
      "  File \"D:\\Anaconda3\\lib\\site-packages\\sklearn\\linear_model\\_logistic.py\", line 1304, in fit\n",
      "    solver = _check_solver(self.solver, self.penalty, self.dual)\n",
      "  File \"D:\\Anaconda3\\lib\\site-packages\\sklearn\\linear_model\\_logistic.py\", line 442, in _check_solver\n",
      "    raise ValueError(\"Solver %s supports only 'l2' or 'none' penalties, \"\n",
      "ValueError: Solver newton-cg supports only 'l2' or 'none' penalties, got elasticnet penalty.\n",
      "\n",
      "  warnings.warn(\"Estimator fit failed. The score on this train-test\"\n",
      "D:\\Anaconda3\\lib\\site-packages\\sklearn\\model_selection\\_validation.py:548: FitFailedWarning: Estimator fit failed. The score on this train-test partition for these parameters will be set to nan. Details: \n",
      "Traceback (most recent call last):\n",
      "  File \"D:\\Anaconda3\\lib\\site-packages\\sklearn\\model_selection\\_validation.py\", line 531, in _fit_and_score\n",
      "    estimator.fit(X_train, y_train, **fit_params)\n",
      "  File \"D:\\Anaconda3\\lib\\site-packages\\sklearn\\linear_model\\_logistic.py\", line 1304, in fit\n",
      "    solver = _check_solver(self.solver, self.penalty, self.dual)\n",
      "  File \"D:\\Anaconda3\\lib\\site-packages\\sklearn\\linear_model\\_logistic.py\", line 442, in _check_solver\n",
      "    raise ValueError(\"Solver %s supports only 'l2' or 'none' penalties, \"\n",
      "ValueError: Solver lbfgs supports only 'l2' or 'none' penalties, got elasticnet penalty.\n",
      "\n",
      "  warnings.warn(\"Estimator fit failed. The score on this train-test\"\n",
      "D:\\Anaconda3\\lib\\site-packages\\sklearn\\model_selection\\_validation.py:548: FitFailedWarning: Estimator fit failed. The score on this train-test partition for these parameters will be set to nan. Details: \n",
      "Traceback (most recent call last):\n",
      "  File \"D:\\Anaconda3\\lib\\site-packages\\sklearn\\model_selection\\_validation.py\", line 531, in _fit_and_score\n",
      "    estimator.fit(X_train, y_train, **fit_params)\n",
      "  File \"D:\\Anaconda3\\lib\\site-packages\\sklearn\\linear_model\\_logistic.py\", line 1304, in fit\n",
      "    solver = _check_solver(self.solver, self.penalty, self.dual)\n",
      "  File \"D:\\Anaconda3\\lib\\site-packages\\sklearn\\linear_model\\_logistic.py\", line 449, in _check_solver\n",
      "    raise ValueError(\"Only 'saga' solver supports elasticnet penalty,\"\n",
      "ValueError: Only 'saga' solver supports elasticnet penalty, got solver=liblinear.\n",
      "\n",
      "  warnings.warn(\"Estimator fit failed. The score on this train-test\"\n",
      "D:\\Anaconda3\\lib\\site-packages\\sklearn\\model_selection\\_validation.py:548: FitFailedWarning: Estimator fit failed. The score on this train-test partition for these parameters will be set to nan. Details: \n",
      "Traceback (most recent call last):\n",
      "  File \"D:\\Anaconda3\\lib\\site-packages\\sklearn\\model_selection\\_validation.py\", line 531, in _fit_and_score\n",
      "    estimator.fit(X_train, y_train, **fit_params)\n",
      "  File \"D:\\Anaconda3\\lib\\site-packages\\sklearn\\linear_model\\_logistic.py\", line 1304, in fit\n",
      "    solver = _check_solver(self.solver, self.penalty, self.dual)\n",
      "  File \"D:\\Anaconda3\\lib\\site-packages\\sklearn\\linear_model\\_logistic.py\", line 442, in _check_solver\n",
      "    raise ValueError(\"Solver %s supports only 'l2' or 'none' penalties, \"\n",
      "ValueError: Solver sag supports only 'l2' or 'none' penalties, got elasticnet penalty.\n",
      "\n",
      "  warnings.warn(\"Estimator fit failed. The score on this train-test\"\n",
      "D:\\Anaconda3\\lib\\site-packages\\sklearn\\model_selection\\_validation.py:548: FitFailedWarning: Estimator fit failed. The score on this train-test partition for these parameters will be set to nan. Details: \n",
      "Traceback (most recent call last):\n",
      "  File \"D:\\Anaconda3\\lib\\site-packages\\sklearn\\model_selection\\_validation.py\", line 531, in _fit_and_score\n",
      "    estimator.fit(X_train, y_train, **fit_params)\n",
      "  File \"D:\\Anaconda3\\lib\\site-packages\\sklearn\\linear_model\\_logistic.py\", line 1312, in fit\n",
      "    raise ValueError(\"l1_ratio must be between 0 and 1;\"\n",
      "ValueError: l1_ratio must be between 0 and 1; got (l1_ratio=None)\n",
      "\n",
      "  warnings.warn(\"Estimator fit failed. The score on this train-test\"\n",
      "D:\\Anaconda3\\lib\\site-packages\\sklearn\\linear_model\\_logistic.py:1320: UserWarning: Setting penalty='none' will ignore the C and l1_ratio parameters\n",
      "  warnings.warn(\n",
      "[Parallel(n_jobs=1)]: Using backend SequentialBackend with 1 concurrent workers.\n"
     ]
    },
    {
     "name": "stdout",
     "output_type": "stream",
     "text": [
      "[CV] ...... C=0.5, penalty=l2, solver=saga, score=0.923, total=   0.5s\n",
      "[CV] C=0.5, penalty=elasticnet, solver=newton-cg .....................\n",
      "[CV]  C=0.5, penalty=elasticnet, solver=newton-cg, score=nan, total=   0.0s\n",
      "[CV] C=0.5, penalty=elasticnet, solver=newton-cg .....................\n",
      "[CV]  C=0.5, penalty=elasticnet, solver=newton-cg, score=nan, total=   0.0s\n",
      "[CV] C=0.5, penalty=elasticnet, solver=newton-cg .....................\n",
      "[CV]  C=0.5, penalty=elasticnet, solver=newton-cg, score=nan, total=   0.0s\n",
      "[CV] C=0.5, penalty=elasticnet, solver=newton-cg .....................\n",
      "[CV]  C=0.5, penalty=elasticnet, solver=newton-cg, score=nan, total=   0.0s\n",
      "[CV] C=0.5, penalty=elasticnet, solver=newton-cg .....................\n",
      "[CV]  C=0.5, penalty=elasticnet, solver=newton-cg, score=nan, total=   0.0s\n",
      "[CV] C=0.5, penalty=elasticnet, solver=lbfgs .........................\n",
      "[CV]  C=0.5, penalty=elasticnet, solver=lbfgs, score=nan, total=   0.0s\n",
      "[CV] C=0.5, penalty=elasticnet, solver=lbfgs .........................\n",
      "[CV]  C=0.5, penalty=elasticnet, solver=lbfgs, score=nan, total=   0.0s\n",
      "[CV] C=0.5, penalty=elasticnet, solver=lbfgs .........................\n",
      "[CV]  C=0.5, penalty=elasticnet, solver=lbfgs, score=nan, total=   0.0s\n",
      "[CV] C=0.5, penalty=elasticnet, solver=lbfgs .........................\n",
      "[CV]  C=0.5, penalty=elasticnet, solver=lbfgs, score=nan, total=   0.0s\n",
      "[CV] C=0.5, penalty=elasticnet, solver=lbfgs .........................\n",
      "[CV]  C=0.5, penalty=elasticnet, solver=lbfgs, score=nan, total=   0.0s\n",
      "[CV] C=0.5, penalty=elasticnet, solver=liblinear .....................\n",
      "[CV]  C=0.5, penalty=elasticnet, solver=liblinear, score=nan, total=   0.0s\n",
      "[CV] C=0.5, penalty=elasticnet, solver=liblinear .....................\n",
      "[CV]  C=0.5, penalty=elasticnet, solver=liblinear, score=nan, total=   0.0s\n",
      "[CV] C=0.5, penalty=elasticnet, solver=liblinear .....................\n",
      "[CV]  C=0.5, penalty=elasticnet, solver=liblinear, score=nan, total=   0.0s\n",
      "[CV] C=0.5, penalty=elasticnet, solver=liblinear .....................\n",
      "[CV]  C=0.5, penalty=elasticnet, solver=liblinear, score=nan, total=   0.0s\n",
      "[CV] C=0.5, penalty=elasticnet, solver=liblinear .....................\n",
      "[CV]  C=0.5, penalty=elasticnet, solver=liblinear, score=nan, total=   0.0s\n",
      "[CV] C=0.5, penalty=elasticnet, solver=sag ...........................\n",
      "[CV] . C=0.5, penalty=elasticnet, solver=sag, score=nan, total=   0.0s\n",
      "[CV] C=0.5, penalty=elasticnet, solver=sag ...........................\n",
      "[CV] . C=0.5, penalty=elasticnet, solver=sag, score=nan, total=   0.0s\n",
      "[CV] C=0.5, penalty=elasticnet, solver=sag ...........................\n",
      "[CV] . C=0.5, penalty=elasticnet, solver=sag, score=nan, total=   0.0s\n",
      "[CV] C=0.5, penalty=elasticnet, solver=sag ...........................\n",
      "[CV] . C=0.5, penalty=elasticnet, solver=sag, score=nan, total=   0.0s\n",
      "[CV] C=0.5, penalty=elasticnet, solver=sag ...........................\n",
      "[CV] . C=0.5, penalty=elasticnet, solver=sag, score=nan, total=   0.0s\n",
      "[CV] C=0.5, penalty=elasticnet, solver=saga ..........................\n",
      "[CV]  C=0.5, penalty=elasticnet, solver=saga, score=nan, total=   0.0s\n",
      "[CV] C=0.5, penalty=elasticnet, solver=saga ..........................\n",
      "[CV]  C=0.5, penalty=elasticnet, solver=saga, score=nan, total=   0.0s\n",
      "[CV] C=0.5, penalty=elasticnet, solver=saga ..........................\n",
      "[CV]  C=0.5, penalty=elasticnet, solver=saga, score=nan, total=   0.0s\n",
      "[CV] C=0.5, penalty=elasticnet, solver=saga ..........................\n",
      "[CV]  C=0.5, penalty=elasticnet, solver=saga, score=nan, total=   0.0s\n",
      "[CV] C=0.5, penalty=elasticnet, solver=saga ..........................\n",
      "[CV]  C=0.5, penalty=elasticnet, solver=saga, score=nan, total=   0.0s\n",
      "[CV] C=0.5, penalty=none, solver=newton-cg ...........................\n"
     ]
    },
    {
     "name": "stderr",
     "output_type": "stream",
     "text": [
      "[Parallel(n_jobs=1)]: Done   4 out of   4 | elapsed:    0.4s finished\n",
      "D:\\Anaconda3\\lib\\site-packages\\sklearn\\linear_model\\_logistic.py:1320: UserWarning: Setting penalty='none' will ignore the C and l1_ratio parameters\n",
      "  warnings.warn(\n",
      "[Parallel(n_jobs=1)]: Using backend SequentialBackend with 1 concurrent workers.\n"
     ]
    },
    {
     "name": "stdout",
     "output_type": "stream",
     "text": [
      "[CV]  C=0.5, penalty=none, solver=newton-cg, score=0.924, total=   0.5s\n",
      "[CV] C=0.5, penalty=none, solver=newton-cg ...........................\n"
     ]
    },
    {
     "name": "stderr",
     "output_type": "stream",
     "text": [
      "[Parallel(n_jobs=1)]: Done   4 out of   4 | elapsed:    0.4s finished\n",
      "D:\\Anaconda3\\lib\\site-packages\\sklearn\\linear_model\\_logistic.py:1320: UserWarning: Setting penalty='none' will ignore the C and l1_ratio parameters\n",
      "  warnings.warn(\n",
      "[Parallel(n_jobs=1)]: Using backend SequentialBackend with 1 concurrent workers.\n"
     ]
    },
    {
     "name": "stdout",
     "output_type": "stream",
     "text": [
      "[CV]  C=0.5, penalty=none, solver=newton-cg, score=0.924, total=   0.6s\n",
      "[CV] C=0.5, penalty=none, solver=newton-cg ...........................\n"
     ]
    },
    {
     "name": "stderr",
     "output_type": "stream",
     "text": [
      "[Parallel(n_jobs=1)]: Done   4 out of   4 | elapsed:    0.4s finished\n",
      "D:\\Anaconda3\\lib\\site-packages\\sklearn\\linear_model\\_logistic.py:1320: UserWarning: Setting penalty='none' will ignore the C and l1_ratio parameters\n",
      "  warnings.warn(\n",
      "[Parallel(n_jobs=1)]: Using backend SequentialBackend with 1 concurrent workers.\n"
     ]
    },
    {
     "name": "stdout",
     "output_type": "stream",
     "text": [
      "[CV]  C=0.5, penalty=none, solver=newton-cg, score=0.925, total=   0.5s\n",
      "[CV] C=0.5, penalty=none, solver=newton-cg ...........................\n"
     ]
    },
    {
     "name": "stderr",
     "output_type": "stream",
     "text": [
      "[Parallel(n_jobs=1)]: Done   4 out of   4 | elapsed:    0.4s finished\n",
      "D:\\Anaconda3\\lib\\site-packages\\sklearn\\linear_model\\_logistic.py:1320: UserWarning: Setting penalty='none' will ignore the C and l1_ratio parameters\n",
      "  warnings.warn(\n",
      "[Parallel(n_jobs=1)]: Using backend SequentialBackend with 1 concurrent workers.\n"
     ]
    },
    {
     "name": "stdout",
     "output_type": "stream",
     "text": [
      "[CV]  C=0.5, penalty=none, solver=newton-cg, score=0.921, total=   0.6s\n",
      "[CV] C=0.5, penalty=none, solver=newton-cg ...........................\n"
     ]
    },
    {
     "name": "stderr",
     "output_type": "stream",
     "text": [
      "[Parallel(n_jobs=1)]: Done   4 out of   4 | elapsed:    0.4s finished\n",
      "D:\\Anaconda3\\lib\\site-packages\\sklearn\\linear_model\\_logistic.py:1320: UserWarning: Setting penalty='none' will ignore the C and l1_ratio parameters\n",
      "  warnings.warn(\n",
      "[Parallel(n_jobs=1)]: Using backend SequentialBackend with 1 concurrent workers.\n",
      "[Parallel(n_jobs=1)]: Done   4 out of   4 | elapsed:    0.1s finished\n"
     ]
    },
    {
     "name": "stdout",
     "output_type": "stream",
     "text": [
      "[CV]  C=0.5, penalty=none, solver=newton-cg, score=0.924, total=   0.5s\n",
      "[CV] C=0.5, penalty=none, solver=lbfgs ...............................\n"
     ]
    },
    {
     "name": "stderr",
     "output_type": "stream",
     "text": [
      "D:\\Anaconda3\\lib\\site-packages\\sklearn\\linear_model\\_logistic.py:1320: UserWarning: Setting penalty='none' will ignore the C and l1_ratio parameters\n",
      "  warnings.warn(\n",
      "[Parallel(n_jobs=1)]: Using backend SequentialBackend with 1 concurrent workers.\n",
      "[Parallel(n_jobs=1)]: Done   4 out of   4 | elapsed:    0.1s finished\n"
     ]
    },
    {
     "name": "stdout",
     "output_type": "stream",
     "text": [
      "[CV] ... C=0.5, penalty=none, solver=lbfgs, score=0.924, total=   0.2s\n",
      "[CV] C=0.5, penalty=none, solver=lbfgs ...............................\n"
     ]
    },
    {
     "name": "stderr",
     "output_type": "stream",
     "text": [
      "D:\\Anaconda3\\lib\\site-packages\\sklearn\\linear_model\\_logistic.py:1320: UserWarning: Setting penalty='none' will ignore the C and l1_ratio parameters\n",
      "  warnings.warn(\n",
      "[Parallel(n_jobs=1)]: Using backend SequentialBackend with 1 concurrent workers.\n"
     ]
    },
    {
     "name": "stdout",
     "output_type": "stream",
     "text": [
      "[CV] ... C=0.5, penalty=none, solver=lbfgs, score=0.924, total=   0.2s\n",
      "[CV] C=0.5, penalty=none, solver=lbfgs ...............................\n"
     ]
    },
    {
     "name": "stderr",
     "output_type": "stream",
     "text": [
      "[Parallel(n_jobs=1)]: Done   4 out of   4 | elapsed:    0.1s finished\n",
      "D:\\Anaconda3\\lib\\site-packages\\sklearn\\linear_model\\_logistic.py:1320: UserWarning: Setting penalty='none' will ignore the C and l1_ratio parameters\n",
      "  warnings.warn(\n",
      "[Parallel(n_jobs=1)]: Using backend SequentialBackend with 1 concurrent workers.\n"
     ]
    },
    {
     "name": "stdout",
     "output_type": "stream",
     "text": [
      "[CV] ... C=0.5, penalty=none, solver=lbfgs, score=0.925, total=   0.2s\n",
      "[CV] C=0.5, penalty=none, solver=lbfgs ...............................\n"
     ]
    },
    {
     "name": "stderr",
     "output_type": "stream",
     "text": [
      "[Parallel(n_jobs=1)]: Done   4 out of   4 | elapsed:    0.1s finished\n",
      "D:\\Anaconda3\\lib\\site-packages\\sklearn\\linear_model\\_logistic.py:1320: UserWarning: Setting penalty='none' will ignore the C and l1_ratio parameters\n",
      "  warnings.warn(\n",
      "[Parallel(n_jobs=1)]: Using backend SequentialBackend with 1 concurrent workers.\n"
     ]
    },
    {
     "name": "stdout",
     "output_type": "stream",
     "text": [
      "[CV] ... C=0.5, penalty=none, solver=lbfgs, score=0.921, total=   0.2s\n",
      "[CV] C=0.5, penalty=none, solver=lbfgs ...............................\n"
     ]
    },
    {
     "name": "stderr",
     "output_type": "stream",
     "text": [
      "[Parallel(n_jobs=1)]: Done   4 out of   4 | elapsed:    0.1s finished\n",
      "D:\\Anaconda3\\lib\\site-packages\\sklearn\\model_selection\\_validation.py:548: FitFailedWarning: Estimator fit failed. The score on this train-test partition for these parameters will be set to nan. Details: \n",
      "Traceback (most recent call last):\n",
      "  File \"D:\\Anaconda3\\lib\\site-packages\\sklearn\\model_selection\\_validation.py\", line 531, in _fit_and_score\n",
      "    estimator.fit(X_train, y_train, **fit_params)\n",
      "  File \"D:\\Anaconda3\\lib\\site-packages\\sklearn\\linear_model\\_logistic.py\", line 1304, in fit\n",
      "    solver = _check_solver(self.solver, self.penalty, self.dual)\n",
      "  File \"D:\\Anaconda3\\lib\\site-packages\\sklearn\\linear_model\\_logistic.py\", line 453, in _check_solver\n",
      "    raise ValueError(\n",
      "ValueError: penalty='none' is not supported for the liblinear solver\n",
      "\n",
      "  warnings.warn(\"Estimator fit failed. The score on this train-test\"\n",
      "D:\\Anaconda3\\lib\\site-packages\\sklearn\\linear_model\\_logistic.py:1320: UserWarning: Setting penalty='none' will ignore the C and l1_ratio parameters\n",
      "  warnings.warn(\n",
      "[Parallel(n_jobs=1)]: Using backend SequentialBackend with 1 concurrent workers.\n"
     ]
    },
    {
     "name": "stdout",
     "output_type": "stream",
     "text": [
      "[CV] ... C=0.5, penalty=none, solver=lbfgs, score=0.924, total=   0.2s\n",
      "[CV] C=0.5, penalty=none, solver=liblinear ...........................\n",
      "[CV] . C=0.5, penalty=none, solver=liblinear, score=nan, total=   0.0s\n",
      "[CV] C=0.5, penalty=none, solver=liblinear ...........................\n",
      "[CV] . C=0.5, penalty=none, solver=liblinear, score=nan, total=   0.0s\n",
      "[CV] C=0.5, penalty=none, solver=liblinear ...........................\n",
      "[CV] . C=0.5, penalty=none, solver=liblinear, score=nan, total=   0.0s\n",
      "[CV] C=0.5, penalty=none, solver=liblinear ...........................\n",
      "[CV] . C=0.5, penalty=none, solver=liblinear, score=nan, total=   0.0s\n",
      "[CV] C=0.5, penalty=none, solver=liblinear ...........................\n",
      "[CV] . C=0.5, penalty=none, solver=liblinear, score=nan, total=   0.0s\n",
      "[CV] C=0.5, penalty=none, solver=sag .................................\n",
      "convergence after 25 epochs took 0 seconds\n",
      "convergence after 21 epochs took 0 seconds\n",
      "convergence after 19 epochs took 0 seconds\n",
      "convergence after 24 epochs took 1 seconds\n",
      "[CV] ..... C=0.5, penalty=none, solver=sag, score=0.924, total=   0.6s\n",
      "[CV] C=0.5, penalty=none, solver=sag .................................\n"
     ]
    },
    {
     "name": "stderr",
     "output_type": "stream",
     "text": [
      "[Parallel(n_jobs=1)]: Done   4 out of   4 | elapsed:    0.5s finished\n",
      "D:\\Anaconda3\\lib\\site-packages\\sklearn\\linear_model\\_logistic.py:1320: UserWarning: Setting penalty='none' will ignore the C and l1_ratio parameters\n",
      "  warnings.warn(\n",
      "[Parallel(n_jobs=1)]: Using backend SequentialBackend with 1 concurrent workers.\n"
     ]
    },
    {
     "name": "stdout",
     "output_type": "stream",
     "text": [
      "convergence after 25 epochs took 0 seconds\n",
      "convergence after 20 epochs took 0 seconds\n",
      "convergence after 20 epochs took 0 seconds\n",
      "convergence after 24 epochs took 0 seconds\n",
      "[CV] ..... C=0.5, penalty=none, solver=sag, score=0.924, total=   0.6s\n",
      "[CV] C=0.5, penalty=none, solver=sag .................................\n"
     ]
    },
    {
     "name": "stderr",
     "output_type": "stream",
     "text": [
      "[Parallel(n_jobs=1)]: Done   4 out of   4 | elapsed:    0.5s finished\n",
      "D:\\Anaconda3\\lib\\site-packages\\sklearn\\linear_model\\_logistic.py:1320: UserWarning: Setting penalty='none' will ignore the C and l1_ratio parameters\n",
      "  warnings.warn(\n",
      "[Parallel(n_jobs=1)]: Using backend SequentialBackend with 1 concurrent workers.\n"
     ]
    },
    {
     "name": "stdout",
     "output_type": "stream",
     "text": [
      "convergence after 25 epochs took 0 seconds\n",
      "convergence after 21 epochs took 1 seconds\n",
      "convergence after 20 epochs took 0 seconds\n",
      "convergence after 26 epochs took 0 seconds\n",
      "[CV] ..... C=0.5, penalty=none, solver=sag, score=0.925, total=   0.7s\n",
      "[CV] C=0.5, penalty=none, solver=sag .................................\n"
     ]
    },
    {
     "name": "stderr",
     "output_type": "stream",
     "text": [
      "[Parallel(n_jobs=1)]: Done   4 out of   4 | elapsed:    0.6s finished\n",
      "D:\\Anaconda3\\lib\\site-packages\\sklearn\\linear_model\\_logistic.py:1320: UserWarning: Setting penalty='none' will ignore the C and l1_ratio parameters\n",
      "  warnings.warn(\n",
      "[Parallel(n_jobs=1)]: Using backend SequentialBackend with 1 concurrent workers.\n"
     ]
    },
    {
     "name": "stdout",
     "output_type": "stream",
     "text": [
      "convergence after 23 epochs took 0 seconds\n",
      "convergence after 23 epochs took 0 seconds\n",
      "convergence after 19 epochs took 0 seconds\n",
      "convergence after 24 epochs took 0 seconds\n",
      "[CV] ..... C=0.5, penalty=none, solver=sag, score=0.921, total=   0.6s\n",
      "[CV] C=0.5, penalty=none, solver=sag .................................\n"
     ]
    },
    {
     "name": "stderr",
     "output_type": "stream",
     "text": [
      "[Parallel(n_jobs=1)]: Done   4 out of   4 | elapsed:    0.5s finished\n",
      "D:\\Anaconda3\\lib\\site-packages\\sklearn\\linear_model\\_logistic.py:1320: UserWarning: Setting penalty='none' will ignore the C and l1_ratio parameters\n",
      "  warnings.warn(\n",
      "[Parallel(n_jobs=1)]: Using backend SequentialBackend with 1 concurrent workers.\n"
     ]
    },
    {
     "name": "stdout",
     "output_type": "stream",
     "text": [
      "convergence after 26 epochs took 1 seconds\n",
      "convergence after 21 epochs took 0 seconds\n",
      "convergence after 20 epochs took 0 seconds\n",
      "convergence after 23 epochs took 0 seconds\n",
      "[CV] ..... C=0.5, penalty=none, solver=sag, score=0.924, total=   0.6s\n",
      "[CV] C=0.5, penalty=none, solver=saga ................................\n"
     ]
    },
    {
     "name": "stderr",
     "output_type": "stream",
     "text": [
      "[Parallel(n_jobs=1)]: Done   4 out of   4 | elapsed:    0.5s finished\n",
      "D:\\Anaconda3\\lib\\site-packages\\sklearn\\linear_model\\_logistic.py:1320: UserWarning: Setting penalty='none' will ignore the C and l1_ratio parameters\n",
      "  warnings.warn(\n",
      "[Parallel(n_jobs=1)]: Using backend SequentialBackend with 1 concurrent workers.\n"
     ]
    },
    {
     "name": "stdout",
     "output_type": "stream",
     "text": [
      "convergence after 14 epochs took 0 seconds\n",
      "convergence after 14 epochs took 0 seconds\n",
      "convergence after 18 epochs took 0 seconds\n",
      "convergence after 13 epochs took 1 seconds\n",
      "[CV] .... C=0.5, penalty=none, solver=saga, score=0.924, total=   0.5s\n",
      "[CV] C=0.5, penalty=none, solver=saga ................................\n"
     ]
    },
    {
     "name": "stderr",
     "output_type": "stream",
     "text": [
      "[Parallel(n_jobs=1)]: Done   4 out of   4 | elapsed:    0.4s finished\n",
      "D:\\Anaconda3\\lib\\site-packages\\sklearn\\linear_model\\_logistic.py:1320: UserWarning: Setting penalty='none' will ignore the C and l1_ratio parameters\n",
      "  warnings.warn(\n",
      "[Parallel(n_jobs=1)]: Using backend SequentialBackend with 1 concurrent workers.\n"
     ]
    },
    {
     "name": "stdout",
     "output_type": "stream",
     "text": [
      "convergence after 13 epochs took 0 seconds\n",
      "convergence after 14 epochs took 0 seconds\n",
      "convergence after 14 epochs took 0 seconds\n",
      "convergence after 14 epochs took 0 seconds\n",
      "[CV] .... C=0.5, penalty=none, solver=saga, score=0.924, total=   0.5s\n",
      "[CV] C=0.5, penalty=none, solver=saga ................................\n"
     ]
    },
    {
     "name": "stderr",
     "output_type": "stream",
     "text": [
      "[Parallel(n_jobs=1)]: Done   4 out of   4 | elapsed:    0.3s finished\n",
      "D:\\Anaconda3\\lib\\site-packages\\sklearn\\linear_model\\_logistic.py:1320: UserWarning: Setting penalty='none' will ignore the C and l1_ratio parameters\n",
      "  warnings.warn(\n",
      "[Parallel(n_jobs=1)]: Using backend SequentialBackend with 1 concurrent workers.\n"
     ]
    },
    {
     "name": "stdout",
     "output_type": "stream",
     "text": [
      "convergence after 14 epochs took 0 seconds\n",
      "convergence after 14 epochs took 0 seconds\n",
      "convergence after 17 epochs took 0 seconds\n",
      "convergence after 15 epochs took 1 seconds\n",
      "[CV] .... C=0.5, penalty=none, solver=saga, score=0.925, total=   0.5s\n",
      "[CV] C=0.5, penalty=none, solver=saga ................................\n"
     ]
    },
    {
     "name": "stderr",
     "output_type": "stream",
     "text": [
      "[Parallel(n_jobs=1)]: Done   4 out of   4 | elapsed:    0.4s finished\n",
      "D:\\Anaconda3\\lib\\site-packages\\sklearn\\linear_model\\_logistic.py:1320: UserWarning: Setting penalty='none' will ignore the C and l1_ratio parameters\n",
      "  warnings.warn(\n",
      "[Parallel(n_jobs=1)]: Using backend SequentialBackend with 1 concurrent workers.\n"
     ]
    },
    {
     "name": "stdout",
     "output_type": "stream",
     "text": [
      "convergence after 13 epochs took 0 seconds\n",
      "convergence after 13 epochs took 0 seconds\n",
      "convergence after 22 epochs took 0 seconds\n",
      "convergence after 14 epochs took 0 seconds\n",
      "[CV] .... C=0.5, penalty=none, solver=saga, score=0.921, total=   0.5s\n",
      "[CV] C=0.5, penalty=none, solver=saga ................................\n"
     ]
    },
    {
     "name": "stderr",
     "output_type": "stream",
     "text": [
      "[Parallel(n_jobs=1)]: Done   4 out of   4 | elapsed:    0.4s finished\n",
      "D:\\Anaconda3\\lib\\site-packages\\sklearn\\linear_model\\_logistic.py:1320: UserWarning: Setting penalty='none' will ignore the C and l1_ratio parameters\n",
      "  warnings.warn(\n",
      "[Parallel(n_jobs=1)]: Using backend SequentialBackend with 1 concurrent workers.\n"
     ]
    },
    {
     "name": "stdout",
     "output_type": "stream",
     "text": [
      "convergence after 13 epochs took 0 seconds\n",
      "convergence after 13 epochs took 0 seconds\n",
      "convergence after 26 epochs took 0 seconds\n",
      "convergence after 15 epochs took 1 seconds\n",
      "[CV] .... C=0.5, penalty=none, solver=saga, score=0.924, total=   0.5s\n",
      "[CV] C=1.0, penalty=l1, solver=newton-cg .............................\n",
      "[CV] ... C=1.0, penalty=l1, solver=newton-cg, score=nan, total=   0.0s\n",
      "[CV] C=1.0, penalty=l1, solver=newton-cg .............................\n",
      "[CV] ... C=1.0, penalty=l1, solver=newton-cg, score=nan, total=   0.0s\n",
      "[CV] C=1.0, penalty=l1, solver=newton-cg .............................\n",
      "[CV] ... C=1.0, penalty=l1, solver=newton-cg, score=nan, total=   0.0s\n",
      "[CV] C=1.0, penalty=l1, solver=newton-cg .............................\n",
      "[CV] ... C=1.0, penalty=l1, solver=newton-cg, score=nan, total=   0.0s\n",
      "[CV] C=1.0, penalty=l1, solver=newton-cg .............................\n",
      "[CV] ... C=1.0, penalty=l1, solver=newton-cg, score=nan, total=   0.0s\n",
      "[CV] C=1.0, penalty=l1, solver=lbfgs .................................\n",
      "[CV] ....... C=1.0, penalty=l1, solver=lbfgs, score=nan, total=   0.0s\n",
      "[CV] C=1.0, penalty=l1, solver=lbfgs .................................\n",
      "[CV] ....... C=1.0, penalty=l1, solver=lbfgs, score=nan, total=   0.0s\n",
      "[CV] C=1.0, penalty=l1, solver=lbfgs .................................\n",
      "[CV] ....... C=1.0, penalty=l1, solver=lbfgs, score=nan, total=   0.0s\n",
      "[CV] C=1.0, penalty=l1, solver=lbfgs .................................\n",
      "[CV] ....... C=1.0, penalty=l1, solver=lbfgs, score=nan, total=   0.0s\n",
      "[CV] C=1.0, penalty=l1, solver=lbfgs .................................\n",
      "[CV] ....... C=1.0, penalty=l1, solver=lbfgs, score=nan, total=   0.0s\n",
      "[CV] C=1.0, penalty=l1, solver=liblinear .............................\n",
      "[LibLinear]"
     ]
    },
    {
     "name": "stderr",
     "output_type": "stream",
     "text": [
      "[Parallel(n_jobs=1)]: Done   4 out of   4 | elapsed:    0.4s finished\n",
      "D:\\Anaconda3\\lib\\site-packages\\sklearn\\model_selection\\_validation.py:548: FitFailedWarning: Estimator fit failed. The score on this train-test partition for these parameters will be set to nan. Details: \n",
      "Traceback (most recent call last):\n",
      "  File \"D:\\Anaconda3\\lib\\site-packages\\sklearn\\model_selection\\_validation.py\", line 531, in _fit_and_score\n",
      "    estimator.fit(X_train, y_train, **fit_params)\n",
      "  File \"D:\\Anaconda3\\lib\\site-packages\\sklearn\\linear_model\\_logistic.py\", line 1304, in fit\n",
      "    solver = _check_solver(self.solver, self.penalty, self.dual)\n",
      "  File \"D:\\Anaconda3\\lib\\site-packages\\sklearn\\linear_model\\_logistic.py\", line 442, in _check_solver\n",
      "    raise ValueError(\"Solver %s supports only 'l2' or 'none' penalties, \"\n",
      "ValueError: Solver newton-cg supports only 'l2' or 'none' penalties, got l1 penalty.\n",
      "\n",
      "  warnings.warn(\"Estimator fit failed. The score on this train-test\"\n",
      "D:\\Anaconda3\\lib\\site-packages\\sklearn\\model_selection\\_validation.py:548: FitFailedWarning: Estimator fit failed. The score on this train-test partition for these parameters will be set to nan. Details: \n",
      "Traceback (most recent call last):\n",
      "  File \"D:\\Anaconda3\\lib\\site-packages\\sklearn\\model_selection\\_validation.py\", line 531, in _fit_and_score\n",
      "    estimator.fit(X_train, y_train, **fit_params)\n",
      "  File \"D:\\Anaconda3\\lib\\site-packages\\sklearn\\linear_model\\_logistic.py\", line 1304, in fit\n",
      "    solver = _check_solver(self.solver, self.penalty, self.dual)\n",
      "  File \"D:\\Anaconda3\\lib\\site-packages\\sklearn\\linear_model\\_logistic.py\", line 442, in _check_solver\n",
      "    raise ValueError(\"Solver %s supports only 'l2' or 'none' penalties, \"\n",
      "ValueError: Solver lbfgs supports only 'l2' or 'none' penalties, got l1 penalty.\n",
      "\n",
      "  warnings.warn(\"Estimator fit failed. The score on this train-test\"\n"
     ]
    },
    {
     "name": "stdout",
     "output_type": "stream",
     "text": [
      "[CV] . C=1.0, penalty=l1, solver=liblinear, score=0.924, total=   0.8s\n",
      "[CV] C=1.0, penalty=l1, solver=liblinear .............................\n",
      "[LibLinear][CV] . C=1.0, penalty=l1, solver=liblinear, score=0.924, total=   0.8s\n",
      "[CV] C=1.0, penalty=l1, solver=liblinear .............................\n",
      "[LibLinear][CV] . C=1.0, penalty=l1, solver=liblinear, score=0.925, total=   0.8s\n",
      "[CV] C=1.0, penalty=l1, solver=liblinear .............................\n",
      "[LibLinear][CV] . C=1.0, penalty=l1, solver=liblinear, score=0.921, total=   0.8s\n",
      "[CV] C=1.0, penalty=l1, solver=liblinear .............................\n",
      "[LibLinear][CV] . C=1.0, penalty=l1, solver=liblinear, score=0.924, total=   0.8s\n",
      "[CV] C=1.0, penalty=l1, solver=sag ...................................\n",
      "[CV] ......... C=1.0, penalty=l1, solver=sag, score=nan, total=   0.0s\n",
      "[CV] C=1.0, penalty=l1, solver=sag ...................................\n",
      "[CV] ......... C=1.0, penalty=l1, solver=sag, score=nan, total=   0.0s\n",
      "[CV] C=1.0, penalty=l1, solver=sag ...................................\n",
      "[CV] ......... C=1.0, penalty=l1, solver=sag, score=nan, total=   0.0s\n",
      "[CV] C=1.0, penalty=l1, solver=sag ...................................\n",
      "[CV] ......... C=1.0, penalty=l1, solver=sag, score=nan, total=   0.0s\n",
      "[CV] C=1.0, penalty=l1, solver=sag ...................................\n",
      "[CV] ......... C=1.0, penalty=l1, solver=sag, score=nan, total=   0.0s\n",
      "[CV] C=1.0, penalty=l1, solver=saga ..................................\n",
      "convergence after 14 epochs took 0 seconds\n"
     ]
    },
    {
     "name": "stderr",
     "output_type": "stream",
     "text": [
      "D:\\Anaconda3\\lib\\site-packages\\sklearn\\model_selection\\_validation.py:548: FitFailedWarning: Estimator fit failed. The score on this train-test partition for these parameters will be set to nan. Details: \n",
      "Traceback (most recent call last):\n",
      "  File \"D:\\Anaconda3\\lib\\site-packages\\sklearn\\model_selection\\_validation.py\", line 531, in _fit_and_score\n",
      "    estimator.fit(X_train, y_train, **fit_params)\n",
      "  File \"D:\\Anaconda3\\lib\\site-packages\\sklearn\\linear_model\\_logistic.py\", line 1304, in fit\n",
      "    solver = _check_solver(self.solver, self.penalty, self.dual)\n",
      "  File \"D:\\Anaconda3\\lib\\site-packages\\sklearn\\linear_model\\_logistic.py\", line 442, in _check_solver\n",
      "    raise ValueError(\"Solver %s supports only 'l2' or 'none' penalties, \"\n",
      "ValueError: Solver sag supports only 'l2' or 'none' penalties, got l1 penalty.\n",
      "\n",
      "  warnings.warn(\"Estimator fit failed. The score on this train-test\"\n",
      "[Parallel(n_jobs=1)]: Using backend SequentialBackend with 1 concurrent workers.\n"
     ]
    },
    {
     "name": "stdout",
     "output_type": "stream",
     "text": [
      "convergence after 14 epochs took 0 seconds\n",
      "convergence after 11 epochs took 0 seconds\n",
      "convergence after 13 epochs took 0 seconds\n"
     ]
    },
    {
     "name": "stderr",
     "output_type": "stream",
     "text": [
      "[Parallel(n_jobs=1)]: Done   4 out of   4 | elapsed:    0.4s finished\n",
      "[Parallel(n_jobs=1)]: Using backend SequentialBackend with 1 concurrent workers.\n"
     ]
    },
    {
     "name": "stdout",
     "output_type": "stream",
     "text": [
      "[CV] ...... C=1.0, penalty=l1, solver=saga, score=0.924, total=   0.5s\n",
      "[CV] C=1.0, penalty=l1, solver=saga ..................................\n",
      "convergence after 13 epochs took 0 seconds\n",
      "convergence after 14 epochs took 0 seconds\n",
      "convergence after 18 epochs took 0 seconds\n",
      "convergence after 14 epochs took 1 seconds\n",
      "[CV] ...... C=1.0, penalty=l1, solver=saga, score=0.924, total=   0.6s\n",
      "[CV] C=1.0, penalty=l1, solver=saga ..................................\n",
      "convergence after 14 epochs took 0 seconds\n"
     ]
    },
    {
     "name": "stderr",
     "output_type": "stream",
     "text": [
      "[Parallel(n_jobs=1)]: Done   4 out of   4 | elapsed:    0.5s finished\n",
      "[Parallel(n_jobs=1)]: Using backend SequentialBackend with 1 concurrent workers.\n"
     ]
    },
    {
     "name": "stdout",
     "output_type": "stream",
     "text": [
      "convergence after 14 epochs took 0 seconds\n",
      "convergence after 11 epochs took 0 seconds\n",
      "convergence after 15 epochs took 0 seconds\n"
     ]
    },
    {
     "name": "stderr",
     "output_type": "stream",
     "text": [
      "[Parallel(n_jobs=1)]: Done   4 out of   4 | elapsed:    0.4s finished\n",
      "[Parallel(n_jobs=1)]: Using backend SequentialBackend with 1 concurrent workers.\n"
     ]
    },
    {
     "name": "stdout",
     "output_type": "stream",
     "text": [
      "[CV] ...... C=1.0, penalty=l1, solver=saga, score=0.925, total=   0.5s\n",
      "[CV] C=1.0, penalty=l1, solver=saga ..................................\n",
      "convergence after 13 epochs took 0 seconds\n",
      "convergence after 13 epochs took 0 seconds\n",
      "convergence after 19 epochs took 1 seconds\n",
      "convergence after 14 epochs took 0 seconds\n",
      "[CV] ...... C=1.0, penalty=l1, solver=saga, score=0.921, total=   0.5s\n",
      "[CV] C=1.0, penalty=l1, solver=saga ..................................\n",
      "convergence after 13 epochs took 0 seconds\n"
     ]
    },
    {
     "name": "stderr",
     "output_type": "stream",
     "text": [
      "[Parallel(n_jobs=1)]: Done   4 out of   4 | elapsed:    0.4s finished\n",
      "[Parallel(n_jobs=1)]: Using backend SequentialBackend with 1 concurrent workers.\n"
     ]
    },
    {
     "name": "stdout",
     "output_type": "stream",
     "text": [
      "convergence after 13 epochs took 0 seconds\n",
      "convergence after 23 epochs took 0 seconds\n",
      "convergence after 15 epochs took 0 seconds\n",
      "[CV] ...... C=1.0, penalty=l1, solver=saga, score=0.924, total=   0.6s\n",
      "[CV] C=1.0, penalty=l2, solver=newton-cg .............................\n"
     ]
    },
    {
     "name": "stderr",
     "output_type": "stream",
     "text": [
      "[Parallel(n_jobs=1)]: Done   4 out of   4 | elapsed:    0.5s finished\n",
      "[Parallel(n_jobs=1)]: Using backend SequentialBackend with 1 concurrent workers.\n",
      "[Parallel(n_jobs=1)]: Done   4 out of   4 | elapsed:    0.4s finished\n",
      "[Parallel(n_jobs=1)]: Using backend SequentialBackend with 1 concurrent workers.\n"
     ]
    },
    {
     "name": "stdout",
     "output_type": "stream",
     "text": [
      "[CV] . C=1.0, penalty=l2, solver=newton-cg, score=0.924, total=   0.5s\n",
      "[CV] C=1.0, penalty=l2, solver=newton-cg .............................\n"
     ]
    },
    {
     "name": "stderr",
     "output_type": "stream",
     "text": [
      "[Parallel(n_jobs=1)]: Done   4 out of   4 | elapsed:    0.4s finished\n",
      "[Parallel(n_jobs=1)]: Using backend SequentialBackend with 1 concurrent workers.\n"
     ]
    },
    {
     "name": "stdout",
     "output_type": "stream",
     "text": [
      "[CV] . C=1.0, penalty=l2, solver=newton-cg, score=0.924, total=   0.5s\n",
      "[CV] C=1.0, penalty=l2, solver=newton-cg .............................\n"
     ]
    },
    {
     "name": "stderr",
     "output_type": "stream",
     "text": [
      "[Parallel(n_jobs=1)]: Done   4 out of   4 | elapsed:    0.4s finished\n",
      "[Parallel(n_jobs=1)]: Using backend SequentialBackend with 1 concurrent workers.\n"
     ]
    },
    {
     "name": "stdout",
     "output_type": "stream",
     "text": [
      "[CV] . C=1.0, penalty=l2, solver=newton-cg, score=0.925, total=   0.5s\n",
      "[CV] C=1.0, penalty=l2, solver=newton-cg .............................\n"
     ]
    },
    {
     "name": "stderr",
     "output_type": "stream",
     "text": [
      "[Parallel(n_jobs=1)]: Done   4 out of   4 | elapsed:    0.4s finished\n",
      "[Parallel(n_jobs=1)]: Using backend SequentialBackend with 1 concurrent workers.\n"
     ]
    },
    {
     "name": "stdout",
     "output_type": "stream",
     "text": [
      "[CV] . C=1.0, penalty=l2, solver=newton-cg, score=0.921, total=   0.5s\n",
      "[CV] C=1.0, penalty=l2, solver=newton-cg .............................\n"
     ]
    },
    {
     "name": "stderr",
     "output_type": "stream",
     "text": [
      "[Parallel(n_jobs=1)]: Done   4 out of   4 | elapsed:    0.4s finished\n",
      "[Parallel(n_jobs=1)]: Using backend SequentialBackend with 1 concurrent workers.\n",
      "[Parallel(n_jobs=1)]: Done   4 out of   4 | elapsed:    0.1s finished\n"
     ]
    },
    {
     "name": "stdout",
     "output_type": "stream",
     "text": [
      "[CV] . C=1.0, penalty=l2, solver=newton-cg, score=0.923, total=   0.5s\n",
      "[CV] C=1.0, penalty=l2, solver=lbfgs .................................\n"
     ]
    },
    {
     "name": "stderr",
     "output_type": "stream",
     "text": [
      "[Parallel(n_jobs=1)]: Using backend SequentialBackend with 1 concurrent workers.\n"
     ]
    },
    {
     "name": "stdout",
     "output_type": "stream",
     "text": [
      "[CV] ..... C=1.0, penalty=l2, solver=lbfgs, score=0.924, total=   0.2s\n",
      "[CV] C=1.0, penalty=l2, solver=lbfgs .................................\n"
     ]
    },
    {
     "name": "stderr",
     "output_type": "stream",
     "text": [
      "[Parallel(n_jobs=1)]: Done   4 out of   4 | elapsed:    0.1s finished\n",
      "[Parallel(n_jobs=1)]: Using backend SequentialBackend with 1 concurrent workers.\n",
      "[Parallel(n_jobs=1)]: Done   4 out of   4 | elapsed:    0.1s finished\n"
     ]
    },
    {
     "name": "stdout",
     "output_type": "stream",
     "text": [
      "[CV] ..... C=1.0, penalty=l2, solver=lbfgs, score=0.924, total=   0.2s\n",
      "[CV] C=1.0, penalty=l2, solver=lbfgs .................................\n"
     ]
    },
    {
     "name": "stderr",
     "output_type": "stream",
     "text": [
      "[Parallel(n_jobs=1)]: Using backend SequentialBackend with 1 concurrent workers.\n",
      "[Parallel(n_jobs=1)]: Done   4 out of   4 | elapsed:    0.1s finished\n"
     ]
    },
    {
     "name": "stdout",
     "output_type": "stream",
     "text": [
      "[CV] ..... C=1.0, penalty=l2, solver=lbfgs, score=0.925, total=   0.2s\n",
      "[CV] C=1.0, penalty=l2, solver=lbfgs .................................\n"
     ]
    },
    {
     "name": "stderr",
     "output_type": "stream",
     "text": [
      "[Parallel(n_jobs=1)]: Using backend SequentialBackend with 1 concurrent workers.\n"
     ]
    },
    {
     "name": "stdout",
     "output_type": "stream",
     "text": [
      "[CV] ..... C=1.0, penalty=l2, solver=lbfgs, score=0.921, total=   0.2s\n",
      "[CV] C=1.0, penalty=l2, solver=lbfgs .................................\n"
     ]
    },
    {
     "name": "stderr",
     "output_type": "stream",
     "text": [
      "[Parallel(n_jobs=1)]: Done   4 out of   4 | elapsed:    0.1s finished\n"
     ]
    },
    {
     "name": "stdout",
     "output_type": "stream",
     "text": [
      "[CV] ..... C=1.0, penalty=l2, solver=lbfgs, score=0.923, total=   0.2s\n",
      "[CV] C=1.0, penalty=l2, solver=liblinear .............................\n",
      "[LibLinear][CV] . C=1.0, penalty=l2, solver=liblinear, score=0.924, total=   0.3s\n",
      "[CV] C=1.0, penalty=l2, solver=liblinear .............................\n",
      "[LibLinear][CV] . C=1.0, penalty=l2, solver=liblinear, score=0.924, total=   0.3s\n",
      "[CV] C=1.0, penalty=l2, solver=liblinear .............................\n",
      "[LibLinear][CV] . C=1.0, penalty=l2, solver=liblinear, score=0.925, total=   0.3s\n",
      "[CV] C=1.0, penalty=l2, solver=liblinear .............................\n",
      "[LibLinear][CV] . C=1.0, penalty=l2, solver=liblinear, score=0.921, total=   0.3s\n",
      "[CV] C=1.0, penalty=l2, solver=liblinear .............................\n",
      "[LibLinear][CV] . C=1.0, penalty=l2, solver=liblinear, score=0.923, total=   0.3s\n",
      "[CV] C=1.0, penalty=l2, solver=sag ...................................\n",
      "convergence after 24 epochs took 0 seconds"
     ]
    },
    {
     "name": "stderr",
     "output_type": "stream",
     "text": [
      "[Parallel(n_jobs=1)]: Using backend SequentialBackend with 1 concurrent workers.\n"
     ]
    },
    {
     "name": "stdout",
     "output_type": "stream",
     "text": [
      "\n",
      "convergence after 21 epochs took 1 seconds\n",
      "convergence after 21 epochs took 0 seconds\n",
      "convergence after 21 epochs took 0 seconds\n",
      "[CV] ....... C=1.0, penalty=l2, solver=sag, score=0.924, total=   0.6s\n",
      "[CV] C=1.0, penalty=l2, solver=sag ...................................\n"
     ]
    },
    {
     "name": "stderr",
     "output_type": "stream",
     "text": [
      "[Parallel(n_jobs=1)]: Done   4 out of   4 | elapsed:    0.5s finished\n",
      "[Parallel(n_jobs=1)]: Using backend SequentialBackend with 1 concurrent workers.\n"
     ]
    },
    {
     "name": "stdout",
     "output_type": "stream",
     "text": [
      "convergence after 23 epochs took 0 seconds\n",
      "convergence after 20 epochs took 0 seconds\n",
      "convergence after 19 epochs took 0 seconds\n",
      "convergence after 23 epochs took 1 seconds\n",
      "[CV] ....... C=1.0, penalty=l2, solver=sag, score=0.924, total=   0.7s\n",
      "[CV] C=1.0, penalty=l2, solver=sag ...................................\n"
     ]
    },
    {
     "name": "stderr",
     "output_type": "stream",
     "text": [
      "[Parallel(n_jobs=1)]: Done   4 out of   4 | elapsed:    0.6s finished\n",
      "[Parallel(n_jobs=1)]: Using backend SequentialBackend with 1 concurrent workers.\n"
     ]
    },
    {
     "name": "stdout",
     "output_type": "stream",
     "text": [
      "convergence after 24 epochs took 0 seconds\n",
      "convergence after 21 epochs took 0 seconds\n",
      "convergence after 19 epochs took 0 seconds\n",
      "convergence after 24 epochs took 0 seconds\n",
      "[CV] ....... C=1.0, penalty=l2, solver=sag, score=0.925, total=   0.7s"
     ]
    },
    {
     "name": "stderr",
     "output_type": "stream",
     "text": [
      "[Parallel(n_jobs=1)]: Done   4 out of   4 | elapsed:    0.6s finished\n",
      "[Parallel(n_jobs=1)]: Using backend SequentialBackend with 1 concurrent workers.\n"
     ]
    },
    {
     "name": "stdout",
     "output_type": "stream",
     "text": [
      "\n",
      "[CV] C=1.0, penalty=l2, solver=sag ...................................\n",
      "convergence after 22 epochs took 1 seconds\n",
      "convergence after 20 epochs took 0 seconds\n",
      "convergence after 19 epochs took 0 seconds\n",
      "convergence after 23 epochs took 0 seconds\n",
      "[CV] ....... C=1.0, penalty=l2, solver=sag, score=0.921, total=   0.6s\n",
      "[CV] C=1.0, penalty=l2, solver=sag ...................................\n"
     ]
    },
    {
     "name": "stderr",
     "output_type": "stream",
     "text": [
      "[Parallel(n_jobs=1)]: Done   4 out of   4 | elapsed:    0.5s finished\n",
      "[Parallel(n_jobs=1)]: Using backend SequentialBackend with 1 concurrent workers.\n"
     ]
    },
    {
     "name": "stdout",
     "output_type": "stream",
     "text": [
      "convergence after 26 epochs took 0 seconds\n",
      "convergence after 21 epochs took 0 seconds\n",
      "convergence after 18 epochs took 0 seconds\n",
      "convergence after 22 epochs took 1 seconds\n",
      "[CV] ....... C=1.0, penalty=l2, solver=sag, score=0.923, total=   0.6s\n",
      "[CV] C=1.0, penalty=l2, solver=saga ..................................\n"
     ]
    },
    {
     "name": "stderr",
     "output_type": "stream",
     "text": [
      "[Parallel(n_jobs=1)]: Done   4 out of   4 | elapsed:    0.5s finished\n",
      "[Parallel(n_jobs=1)]: Using backend SequentialBackend with 1 concurrent workers.\n"
     ]
    },
    {
     "name": "stdout",
     "output_type": "stream",
     "text": [
      "convergence after 14 epochs took 0 seconds\n",
      "convergence after 14 epochs took 0 seconds\n",
      "convergence after 17 epochs took 0 seconds\n",
      "convergence after 13 epochs took 0 seconds\n",
      "[CV] ...... C=1.0, penalty=l2, solver=saga, score=0.924, total=   0.6s\n",
      "[CV] C=1.0, penalty=l2, solver=saga ..................................\n"
     ]
    },
    {
     "name": "stderr",
     "output_type": "stream",
     "text": [
      "[Parallel(n_jobs=1)]: Done   4 out of   4 | elapsed:    0.5s finished\n",
      "[Parallel(n_jobs=1)]: Using backend SequentialBackend with 1 concurrent workers.\n"
     ]
    },
    {
     "name": "stdout",
     "output_type": "stream",
     "text": [
      "convergence after 13 epochs took 0 seconds\n",
      "convergence after 14 epochs took 0 seconds\n",
      "convergence after 17 epochs took 1 seconds\n",
      "convergence after 14 epochs took 0 seconds\n",
      "[CV] ...... C=1.0, penalty=l2, solver=saga, score=0.924, total=   0.6s\n",
      "[CV] C=1.0, penalty=l2, solver=saga ..................................\n"
     ]
    },
    {
     "name": "stderr",
     "output_type": "stream",
     "text": [
      "[Parallel(n_jobs=1)]: Done   4 out of   4 | elapsed:    0.5s finished\n",
      "[Parallel(n_jobs=1)]: Using backend SequentialBackend with 1 concurrent workers.\n"
     ]
    },
    {
     "name": "stdout",
     "output_type": "stream",
     "text": [
      "convergence after 14 epochs took 0 seconds\n",
      "convergence after 14 epochs took 0 seconds\n",
      "convergence after 16 epochs took 0 seconds\n",
      "convergence after 15 epochs took 0 seconds\n",
      "[CV] ...... C=1.0, penalty=l2, solver=saga, score=0.925, total=   0.5s\n",
      "[CV] C=1.0, penalty=l2, solver=saga ..................................\n"
     ]
    },
    {
     "name": "stderr",
     "output_type": "stream",
     "text": [
      "[Parallel(n_jobs=1)]: Done   4 out of   4 | elapsed:    0.4s finished\n",
      "[Parallel(n_jobs=1)]: Using backend SequentialBackend with 1 concurrent workers.\n"
     ]
    },
    {
     "name": "stdout",
     "output_type": "stream",
     "text": [
      "convergence after 13 epochs took 0 seconds\n",
      "convergence after 13 epochs took 0 seconds\n",
      "convergence after 16 epochs took 1 seconds\n",
      "convergence after 14 epochs took 0 seconds\n",
      "[CV] ...... C=1.0, penalty=l2, solver=saga, score=0.921, total=   0.5s\n",
      "[CV] C=1.0, penalty=l2, solver=saga ..................................\n"
     ]
    },
    {
     "name": "stderr",
     "output_type": "stream",
     "text": [
      "[Parallel(n_jobs=1)]: Done   4 out of   4 | elapsed:    0.4s finished\n",
      "[Parallel(n_jobs=1)]: Using backend SequentialBackend with 1 concurrent workers.\n"
     ]
    },
    {
     "name": "stdout",
     "output_type": "stream",
     "text": [
      "convergence after 13 epochs took 0 seconds\n",
      "convergence after 13 epochs took 0 seconds\n",
      "convergence after 16 epochs took 0 seconds\n",
      "convergence after 15 epochs took 0 seconds\n",
      "[CV] ...... C=1.0, penalty=l2, solver=saga, score=0.923, total=   0.5s\n",
      "[CV] C=1.0, penalty=elasticnet, solver=newton-cg .....................\n",
      "[CV]  C=1.0, penalty=elasticnet, solver=newton-cg, score=nan, total=   0.0s\n",
      "[CV] C=1.0, penalty=elasticnet, solver=newton-cg .....................\n",
      "[CV]  C=1.0, penalty=elasticnet, solver=newton-cg, score=nan, total=   0.0s\n",
      "[CV] C=1.0, penalty=elasticnet, solver=newton-cg .....................\n",
      "[CV]  C=1.0, penalty=elasticnet, solver=newton-cg, score=nan, total=   0.0s\n",
      "[CV] C=1.0, penalty=elasticnet, solver=newton-cg .....................\n",
      "[CV]  C=1.0, penalty=elasticnet, solver=newton-cg, score=nan, total=   0.0s\n",
      "[CV] C=1.0, penalty=elasticnet, solver=newton-cg .....................\n",
      "[CV]  C=1.0, penalty=elasticnet, solver=newton-cg, score=nan, total=   0.0s\n",
      "[CV] C=1.0, penalty=elasticnet, solver=lbfgs .........................\n",
      "[CV]  C=1.0, penalty=elasticnet, solver=lbfgs, score=nan, total=   0.0s\n",
      "[CV] C=1.0, penalty=elasticnet, solver=lbfgs .........................\n",
      "[CV]  C=1.0, penalty=elasticnet, solver=lbfgs, score=nan, total=   0.0s\n",
      "[CV] C=1.0, penalty=elasticnet, solver=lbfgs .........................\n",
      "[CV]  C=1.0, penalty=elasticnet, solver=lbfgs, score=nan, total=   0.0s\n",
      "[CV] C=1.0, penalty=elasticnet, solver=lbfgs .........................\n",
      "[CV]  C=1.0, penalty=elasticnet, solver=lbfgs, score=nan, total=   0.0s\n",
      "[CV] C=1.0, penalty=elasticnet, solver=lbfgs .........................\n",
      "[CV]  C=1.0, penalty=elasticnet, solver=lbfgs, score=nan, total=   0.0s\n",
      "[CV] C=1.0, penalty=elasticnet, solver=liblinear .....................\n",
      "[CV]  C=1.0, penalty=elasticnet, solver=liblinear, score=nan, total=   0.0s\n",
      "[CV] C=1.0, penalty=elasticnet, solver=liblinear .....................\n",
      "[CV]  C=1.0, penalty=elasticnet, solver=liblinear, score=nan, total=   0.0s\n",
      "[CV] C=1.0, penalty=elasticnet, solver=liblinear .....................\n",
      "[CV]  C=1.0, penalty=elasticnet, solver=liblinear, score=nan, total=   0.0s\n",
      "[CV] C=1.0, penalty=elasticnet, solver=liblinear .....................\n",
      "[CV]  C=1.0, penalty=elasticnet, solver=liblinear, score=nan, total=   0.0s\n",
      "[CV] C=1.0, penalty=elasticnet, solver=liblinear .....................\n",
      "[CV]  C=1.0, penalty=elasticnet, solver=liblinear, score=nan, total=   0.0s\n",
      "[CV] C=1.0, penalty=elasticnet, solver=sag ...........................\n",
      "[CV] . C=1.0, penalty=elasticnet, solver=sag, score=nan, total=   0.0s\n",
      "[CV] C=1.0, penalty=elasticnet, solver=sag ...........................\n",
      "[CV] . C=1.0, penalty=elasticnet, solver=sag, score=nan, total=   0.0s\n",
      "[CV] C=1.0, penalty=elasticnet, solver=sag ...........................\n",
      "[CV] . C=1.0, penalty=elasticnet, solver=sag, score=nan, total=   0.0s\n",
      "[CV] C=1.0, penalty=elasticnet, solver=sag ...........................\n",
      "[CV] . C=1.0, penalty=elasticnet, solver=sag, score=nan, total=   0.0s\n",
      "[CV] C=1.0, penalty=elasticnet, solver=sag ...........................\n",
      "[CV] . C=1.0, penalty=elasticnet, solver=sag, score=nan, total=   0.0s\n",
      "[CV] C=1.0, penalty=elasticnet, solver=saga ..........................\n"
     ]
    },
    {
     "name": "stderr",
     "output_type": "stream",
     "text": [
      "[Parallel(n_jobs=1)]: Done   4 out of   4 | elapsed:    0.4s finished\n",
      "D:\\Anaconda3\\lib\\site-packages\\sklearn\\model_selection\\_validation.py:548: FitFailedWarning: Estimator fit failed. The score on this train-test partition for these parameters will be set to nan. Details: \n",
      "Traceback (most recent call last):\n",
      "  File \"D:\\Anaconda3\\lib\\site-packages\\sklearn\\model_selection\\_validation.py\", line 531, in _fit_and_score\n",
      "    estimator.fit(X_train, y_train, **fit_params)\n",
      "  File \"D:\\Anaconda3\\lib\\site-packages\\sklearn\\linear_model\\_logistic.py\", line 1304, in fit\n",
      "    solver = _check_solver(self.solver, self.penalty, self.dual)\n",
      "  File \"D:\\Anaconda3\\lib\\site-packages\\sklearn\\linear_model\\_logistic.py\", line 442, in _check_solver\n",
      "    raise ValueError(\"Solver %s supports only 'l2' or 'none' penalties, \"\n",
      "ValueError: Solver newton-cg supports only 'l2' or 'none' penalties, got elasticnet penalty.\n",
      "\n",
      "  warnings.warn(\"Estimator fit failed. The score on this train-test\"\n",
      "D:\\Anaconda3\\lib\\site-packages\\sklearn\\model_selection\\_validation.py:548: FitFailedWarning: Estimator fit failed. The score on this train-test partition for these parameters will be set to nan. Details: \n",
      "Traceback (most recent call last):\n",
      "  File \"D:\\Anaconda3\\lib\\site-packages\\sklearn\\model_selection\\_validation.py\", line 531, in _fit_and_score\n",
      "    estimator.fit(X_train, y_train, **fit_params)\n",
      "  File \"D:\\Anaconda3\\lib\\site-packages\\sklearn\\linear_model\\_logistic.py\", line 1304, in fit\n",
      "    solver = _check_solver(self.solver, self.penalty, self.dual)\n",
      "  File \"D:\\Anaconda3\\lib\\site-packages\\sklearn\\linear_model\\_logistic.py\", line 442, in _check_solver\n",
      "    raise ValueError(\"Solver %s supports only 'l2' or 'none' penalties, \"\n",
      "ValueError: Solver lbfgs supports only 'l2' or 'none' penalties, got elasticnet penalty.\n",
      "\n",
      "  warnings.warn(\"Estimator fit failed. The score on this train-test\"\n",
      "D:\\Anaconda3\\lib\\site-packages\\sklearn\\model_selection\\_validation.py:548: FitFailedWarning: Estimator fit failed. The score on this train-test partition for these parameters will be set to nan. Details: \n",
      "Traceback (most recent call last):\n",
      "  File \"D:\\Anaconda3\\lib\\site-packages\\sklearn\\model_selection\\_validation.py\", line 531, in _fit_and_score\n",
      "    estimator.fit(X_train, y_train, **fit_params)\n",
      "  File \"D:\\Anaconda3\\lib\\site-packages\\sklearn\\linear_model\\_logistic.py\", line 1304, in fit\n",
      "    solver = _check_solver(self.solver, self.penalty, self.dual)\n",
      "  File \"D:\\Anaconda3\\lib\\site-packages\\sklearn\\linear_model\\_logistic.py\", line 449, in _check_solver\n",
      "    raise ValueError(\"Only 'saga' solver supports elasticnet penalty,\"\n",
      "ValueError: Only 'saga' solver supports elasticnet penalty, got solver=liblinear.\n",
      "\n",
      "  warnings.warn(\"Estimator fit failed. The score on this train-test\"\n",
      "D:\\Anaconda3\\lib\\site-packages\\sklearn\\model_selection\\_validation.py:548: FitFailedWarning: Estimator fit failed. The score on this train-test partition for these parameters will be set to nan. Details: \n",
      "Traceback (most recent call last):\n",
      "  File \"D:\\Anaconda3\\lib\\site-packages\\sklearn\\model_selection\\_validation.py\", line 531, in _fit_and_score\n",
      "    estimator.fit(X_train, y_train, **fit_params)\n",
      "  File \"D:\\Anaconda3\\lib\\site-packages\\sklearn\\linear_model\\_logistic.py\", line 1304, in fit\n",
      "    solver = _check_solver(self.solver, self.penalty, self.dual)\n",
      "  File \"D:\\Anaconda3\\lib\\site-packages\\sklearn\\linear_model\\_logistic.py\", line 442, in _check_solver\n",
      "    raise ValueError(\"Solver %s supports only 'l2' or 'none' penalties, \"\n",
      "ValueError: Solver sag supports only 'l2' or 'none' penalties, got elasticnet penalty.\n",
      "\n",
      "  warnings.warn(\"Estimator fit failed. The score on this train-test\"\n",
      "D:\\Anaconda3\\lib\\site-packages\\sklearn\\model_selection\\_validation.py:548: FitFailedWarning: Estimator fit failed. The score on this train-test partition for these parameters will be set to nan. Details: \n",
      "Traceback (most recent call last):\n",
      "  File \"D:\\Anaconda3\\lib\\site-packages\\sklearn\\model_selection\\_validation.py\", line 531, in _fit_and_score\n",
      "    estimator.fit(X_train, y_train, **fit_params)\n",
      "  File \"D:\\Anaconda3\\lib\\site-packages\\sklearn\\linear_model\\_logistic.py\", line 1312, in fit\n",
      "    raise ValueError(\"l1_ratio must be between 0 and 1;\"\n",
      "ValueError: l1_ratio must be between 0 and 1; got (l1_ratio=None)\n",
      "\n",
      "  warnings.warn(\"Estimator fit failed. The score on this train-test\"\n",
      "[Parallel(n_jobs=1)]: Using backend SequentialBackend with 1 concurrent workers.\n"
     ]
    },
    {
     "name": "stdout",
     "output_type": "stream",
     "text": [
      "[CV]  C=1.0, penalty=elasticnet, solver=saga, score=nan, total=   0.0s\n",
      "[CV] C=1.0, penalty=elasticnet, solver=saga ..........................\n",
      "[CV]  C=1.0, penalty=elasticnet, solver=saga, score=nan, total=   0.0s\n",
      "[CV] C=1.0, penalty=elasticnet, solver=saga ..........................\n",
      "[CV]  C=1.0, penalty=elasticnet, solver=saga, score=nan, total=   0.0s\n",
      "[CV] C=1.0, penalty=elasticnet, solver=saga ..........................\n",
      "[CV]  C=1.0, penalty=elasticnet, solver=saga, score=nan, total=   0.0s\n",
      "[CV] C=1.0, penalty=elasticnet, solver=saga ..........................\n",
      "[CV]  C=1.0, penalty=elasticnet, solver=saga, score=nan, total=   0.0s\n",
      "[CV] C=1.0, penalty=none, solver=newton-cg ...........................\n"
     ]
    },
    {
     "name": "stderr",
     "output_type": "stream",
     "text": [
      "[Parallel(n_jobs=1)]: Done   4 out of   4 | elapsed:    0.5s finished\n",
      "[Parallel(n_jobs=1)]: Using backend SequentialBackend with 1 concurrent workers.\n"
     ]
    },
    {
     "name": "stdout",
     "output_type": "stream",
     "text": [
      "[CV]  C=1.0, penalty=none, solver=newton-cg, score=0.924, total=   0.6s\n",
      "[CV] C=1.0, penalty=none, solver=newton-cg ...........................\n"
     ]
    },
    {
     "name": "stderr",
     "output_type": "stream",
     "text": [
      "[Parallel(n_jobs=1)]: Done   4 out of   4 | elapsed:    0.5s finished\n",
      "[Parallel(n_jobs=1)]: Using backend SequentialBackend with 1 concurrent workers.\n"
     ]
    },
    {
     "name": "stdout",
     "output_type": "stream",
     "text": [
      "[CV]  C=1.0, penalty=none, solver=newton-cg, score=0.924, total=   0.6s\n",
      "[CV] C=1.0, penalty=none, solver=newton-cg ...........................\n"
     ]
    },
    {
     "name": "stderr",
     "output_type": "stream",
     "text": [
      "[Parallel(n_jobs=1)]: Done   4 out of   4 | elapsed:    0.4s finished\n",
      "[Parallel(n_jobs=1)]: Using backend SequentialBackend with 1 concurrent workers.\n"
     ]
    },
    {
     "name": "stdout",
     "output_type": "stream",
     "text": [
      "[CV]  C=1.0, penalty=none, solver=newton-cg, score=0.925, total=   0.5s\n",
      "[CV] C=1.0, penalty=none, solver=newton-cg ...........................\n"
     ]
    },
    {
     "name": "stderr",
     "output_type": "stream",
     "text": [
      "[Parallel(n_jobs=1)]: Done   4 out of   4 | elapsed:    0.5s finished\n",
      "[Parallel(n_jobs=1)]: Using backend SequentialBackend with 1 concurrent workers.\n"
     ]
    },
    {
     "name": "stdout",
     "output_type": "stream",
     "text": [
      "[CV]  C=1.0, penalty=none, solver=newton-cg, score=0.921, total=   0.6s\n",
      "[CV] C=1.0, penalty=none, solver=newton-cg ...........................\n"
     ]
    },
    {
     "name": "stderr",
     "output_type": "stream",
     "text": [
      "[Parallel(n_jobs=1)]: Done   4 out of   4 | elapsed:    0.4s finished\n",
      "[Parallel(n_jobs=1)]: Using backend SequentialBackend with 1 concurrent workers.\n"
     ]
    },
    {
     "name": "stdout",
     "output_type": "stream",
     "text": [
      "[CV]  C=1.0, penalty=none, solver=newton-cg, score=0.924, total=   0.5s\n",
      "[CV] C=1.0, penalty=none, solver=lbfgs ...............................\n"
     ]
    },
    {
     "name": "stderr",
     "output_type": "stream",
     "text": [
      "[Parallel(n_jobs=1)]: Done   4 out of   4 | elapsed:    0.1s finished\n",
      "[Parallel(n_jobs=1)]: Using backend SequentialBackend with 1 concurrent workers.\n"
     ]
    },
    {
     "name": "stdout",
     "output_type": "stream",
     "text": [
      "[CV] ... C=1.0, penalty=none, solver=lbfgs, score=0.924, total=   0.2s\n",
      "[CV] C=1.0, penalty=none, solver=lbfgs ...............................\n"
     ]
    },
    {
     "name": "stderr",
     "output_type": "stream",
     "text": [
      "[Parallel(n_jobs=1)]: Done   4 out of   4 | elapsed:    0.1s finished\n",
      "[Parallel(n_jobs=1)]: Using backend SequentialBackend with 1 concurrent workers.\n",
      "[Parallel(n_jobs=1)]: Done   4 out of   4 | elapsed:    0.1s finished\n"
     ]
    },
    {
     "name": "stdout",
     "output_type": "stream",
     "text": [
      "[CV] ... C=1.0, penalty=none, solver=lbfgs, score=0.924, total=   0.2s\n",
      "[CV] C=1.0, penalty=none, solver=lbfgs ...............................\n"
     ]
    },
    {
     "name": "stderr",
     "output_type": "stream",
     "text": [
      "[Parallel(n_jobs=1)]: Using backend SequentialBackend with 1 concurrent workers.\n"
     ]
    },
    {
     "name": "stdout",
     "output_type": "stream",
     "text": [
      "[CV] ... C=1.0, penalty=none, solver=lbfgs, score=0.925, total=   0.2s\n",
      "[CV] C=1.0, penalty=none, solver=lbfgs ...............................\n"
     ]
    },
    {
     "name": "stderr",
     "output_type": "stream",
     "text": [
      "[Parallel(n_jobs=1)]: Done   4 out of   4 | elapsed:    0.1s finished\n",
      "[Parallel(n_jobs=1)]: Using backend SequentialBackend with 1 concurrent workers.\n"
     ]
    },
    {
     "name": "stdout",
     "output_type": "stream",
     "text": [
      "[CV] ... C=1.0, penalty=none, solver=lbfgs, score=0.921, total=   0.2s\n",
      "[CV] C=1.0, penalty=none, solver=lbfgs ...............................\n"
     ]
    },
    {
     "name": "stderr",
     "output_type": "stream",
     "text": [
      "[Parallel(n_jobs=1)]: Done   4 out of   4 | elapsed:    0.1s finished\n",
      "D:\\Anaconda3\\lib\\site-packages\\sklearn\\model_selection\\_validation.py:548: FitFailedWarning: Estimator fit failed. The score on this train-test partition for these parameters will be set to nan. Details: \n",
      "Traceback (most recent call last):\n",
      "  File \"D:\\Anaconda3\\lib\\site-packages\\sklearn\\model_selection\\_validation.py\", line 531, in _fit_and_score\n",
      "    estimator.fit(X_train, y_train, **fit_params)\n",
      "  File \"D:\\Anaconda3\\lib\\site-packages\\sklearn\\linear_model\\_logistic.py\", line 1304, in fit\n",
      "    solver = _check_solver(self.solver, self.penalty, self.dual)\n",
      "  File \"D:\\Anaconda3\\lib\\site-packages\\sklearn\\linear_model\\_logistic.py\", line 453, in _check_solver\n",
      "    raise ValueError(\n",
      "ValueError: penalty='none' is not supported for the liblinear solver\n",
      "\n",
      "  warnings.warn(\"Estimator fit failed. The score on this train-test\"\n",
      "[Parallel(n_jobs=1)]: Using backend SequentialBackend with 1 concurrent workers.\n"
     ]
    },
    {
     "name": "stdout",
     "output_type": "stream",
     "text": [
      "[CV] ... C=1.0, penalty=none, solver=lbfgs, score=0.924, total=   0.2s\n",
      "[CV] C=1.0, penalty=none, solver=liblinear ...........................\n",
      "[CV] . C=1.0, penalty=none, solver=liblinear, score=nan, total=   0.0s\n",
      "[CV] C=1.0, penalty=none, solver=liblinear ...........................\n",
      "[CV] . C=1.0, penalty=none, solver=liblinear, score=nan, total=   0.0s\n",
      "[CV] C=1.0, penalty=none, solver=liblinear ...........................\n",
      "[CV] . C=1.0, penalty=none, solver=liblinear, score=nan, total=   0.0s\n",
      "[CV] C=1.0, penalty=none, solver=liblinear ...........................\n",
      "[CV] . C=1.0, penalty=none, solver=liblinear, score=nan, total=   0.0s\n",
      "[CV] C=1.0, penalty=none, solver=liblinear ...........................\n",
      "[CV] . C=1.0, penalty=none, solver=liblinear, score=nan, total=   0.0s\n",
      "[CV] C=1.0, penalty=none, solver=sag .................................\n",
      "convergence after 25 epochs took 0 seconds\n",
      "convergence after 21 epochs took 1 seconds\n",
      "convergence after 19 epochs took 0 seconds\n",
      "convergence after 24 epochs took 0 seconds\n"
     ]
    },
    {
     "name": "stderr",
     "output_type": "stream",
     "text": [
      "[Parallel(n_jobs=1)]: Done   4 out of   4 | elapsed:    0.6s finished\n",
      "[Parallel(n_jobs=1)]: Using backend SequentialBackend with 1 concurrent workers.\n"
     ]
    },
    {
     "name": "stdout",
     "output_type": "stream",
     "text": [
      "[CV] ..... C=1.0, penalty=none, solver=sag, score=0.924, total=   0.7s\n",
      "[CV] C=1.0, penalty=none, solver=sag .................................\n",
      "convergence after 25 epochs took 0 seconds\n",
      "convergence after 20 epochs took 0 seconds\n",
      "convergence after 20 epochs took 0 seconds\n",
      "convergence after 24 epochs took 1 seconds\n",
      "[CV] ..... C=1.0, penalty=none, solver=sag, score=0.924, total=   0.7s\n",
      "[CV] C=1.0, penalty=none, solver=sag .................................\n"
     ]
    },
    {
     "name": "stderr",
     "output_type": "stream",
     "text": [
      "[Parallel(n_jobs=1)]: Done   4 out of   4 | elapsed:    0.6s finished\n",
      "[Parallel(n_jobs=1)]: Using backend SequentialBackend with 1 concurrent workers.\n"
     ]
    },
    {
     "name": "stdout",
     "output_type": "stream",
     "text": [
      "convergence after 25 epochs took 0 seconds\n",
      "convergence after 21 epochs took 0 seconds\n",
      "convergence after 20 epochs took 0 seconds\n",
      "convergence after 26 epochs took 0 seconds\n",
      "[CV] ..... C=1.0, penalty=none, solver=sag, score=0.925, total=   0.7s\n",
      "[CV] C=1.0, penalty=none, solver=sag .................................\n"
     ]
    },
    {
     "name": "stderr",
     "output_type": "stream",
     "text": [
      "[Parallel(n_jobs=1)]: Done   4 out of   4 | elapsed:    0.6s finished\n",
      "[Parallel(n_jobs=1)]: Using backend SequentialBackend with 1 concurrent workers.\n"
     ]
    },
    {
     "name": "stdout",
     "output_type": "stream",
     "text": [
      "convergence after 23 epochs took 0 seconds\n",
      "convergence after 23 epochs took 1 seconds\n",
      "convergence after 19 epochs took 0 seconds\n",
      "convergence after 24 epochs took 0 seconds\n",
      "[CV] ..... C=1.0, penalty=none, solver=sag, score=0.921, total=   0.7s\n",
      "[CV] C=1.0, penalty=none, solver=sag .................................\n"
     ]
    },
    {
     "name": "stderr",
     "output_type": "stream",
     "text": [
      "[Parallel(n_jobs=1)]: Done   4 out of   4 | elapsed:    0.5s finished\n",
      "[Parallel(n_jobs=1)]: Using backend SequentialBackend with 1 concurrent workers.\n"
     ]
    },
    {
     "name": "stdout",
     "output_type": "stream",
     "text": [
      "convergence after 26 epochs took 0 seconds\n",
      "convergence after 21 epochs took 0 seconds\n",
      "convergence after 20 epochs took 0 seconds\n",
      "convergence after 23 epochs took 1 seconds\n",
      "[CV] ..... C=1.0, penalty=none, solver=sag, score=0.924, total=   0.7s\n",
      "[CV] C=1.0, penalty=none, solver=saga ................................\n"
     ]
    },
    {
     "name": "stderr",
     "output_type": "stream",
     "text": [
      "[Parallel(n_jobs=1)]: Done   4 out of   4 | elapsed:    0.6s finished\n",
      "[Parallel(n_jobs=1)]: Using backend SequentialBackend with 1 concurrent workers.\n"
     ]
    },
    {
     "name": "stdout",
     "output_type": "stream",
     "text": [
      "convergence after 14 epochs took 0 seconds\n",
      "convergence after 14 epochs took 0 seconds\n",
      "convergence after 18 epochs took 0 seconds\n",
      "convergence after 13 epochs took 0 seconds\n",
      "[CV] .... C=1.0, penalty=none, solver=saga, score=0.924, total=   0.5s\n",
      "[CV] C=1.0, penalty=none, solver=saga ................................\n"
     ]
    },
    {
     "name": "stderr",
     "output_type": "stream",
     "text": [
      "[Parallel(n_jobs=1)]: Done   4 out of   4 | elapsed:    0.4s finished\n",
      "[Parallel(n_jobs=1)]: Using backend SequentialBackend with 1 concurrent workers.\n"
     ]
    },
    {
     "name": "stdout",
     "output_type": "stream",
     "text": [
      "convergence after 13 epochs took 0 seconds\n",
      "convergence after 14 epochs took 0 seconds\n",
      "convergence after 14 epochs took 0 seconds\n",
      "convergence after 14 epochs took 1 seconds\n",
      "[CV] .... C=1.0, penalty=none, solver=saga, score=0.924, total=   0.5s\n",
      "[CV] C=1.0, penalty=none, solver=saga ................................\n"
     ]
    },
    {
     "name": "stderr",
     "output_type": "stream",
     "text": [
      "[Parallel(n_jobs=1)]: Done   4 out of   4 | elapsed:    0.4s finished\n",
      "[Parallel(n_jobs=1)]: Using backend SequentialBackend with 1 concurrent workers.\n"
     ]
    },
    {
     "name": "stdout",
     "output_type": "stream",
     "text": [
      "convergence after 14 epochs took 0 seconds\n",
      "convergence after 14 epochs took 0 seconds\n",
      "convergence after 17 epochs took 0 seconds\n",
      "convergence after 15 epochs took 0 seconds\n",
      "[CV] .... C=1.0, penalty=none, solver=saga, score=0.925, total=   0.5s\n",
      "[CV] C=1.0, penalty=none, solver=saga ................................\n"
     ]
    },
    {
     "name": "stderr",
     "output_type": "stream",
     "text": [
      "[Parallel(n_jobs=1)]: Done   4 out of   4 | elapsed:    0.4s finished\n",
      "[Parallel(n_jobs=1)]: Using backend SequentialBackend with 1 concurrent workers.\n"
     ]
    },
    {
     "name": "stdout",
     "output_type": "stream",
     "text": [
      "convergence after 13 epochs took 0 seconds\n",
      "convergence after 13 epochs took 0 seconds\n",
      "convergence after 22 epochs took 1 seconds\n",
      "convergence after 14 epochs took 0 seconds\n",
      "[CV] .... C=1.0, penalty=none, solver=saga, score=0.921, total=   0.5s\n",
      "[CV] C=1.0, penalty=none, solver=saga ................................\n"
     ]
    },
    {
     "name": "stderr",
     "output_type": "stream",
     "text": [
      "[Parallel(n_jobs=1)]: Done   4 out of   4 | elapsed:    0.4s finished\n",
      "[Parallel(n_jobs=1)]: Using backend SequentialBackend with 1 concurrent workers.\n"
     ]
    },
    {
     "name": "stdout",
     "output_type": "stream",
     "text": [
      "convergence after 13 epochs took 0 seconds\n",
      "convergence after 13 epochs took 0 seconds\n",
      "convergence after 26 epochs took 0 seconds\n",
      "convergence after 15 epochs took 0 seconds\n",
      "[CV] .... C=1.0, penalty=none, solver=saga, score=0.924, total=   0.7s\n",
      "[CV] C=1.5, penalty=l1, solver=newton-cg .............................\n",
      "[CV] ... C=1.5, penalty=l1, solver=newton-cg, score=nan, total=   0.0s\n",
      "[CV] C=1.5, penalty=l1, solver=newton-cg .............................\n",
      "[CV] ... C=1.5, penalty=l1, solver=newton-cg, score=nan, total=   0.0s\n",
      "[CV] C=1.5, penalty=l1, solver=newton-cg .............................\n",
      "[CV] ... C=1.5, penalty=l1, solver=newton-cg, score=nan, total=   0.0s\n",
      "[CV] C=1.5, penalty=l1, solver=newton-cg .............................\n",
      "[CV] ... C=1.5, penalty=l1, solver=newton-cg, score=nan, total=   0.0s\n",
      "[CV] C=1.5, penalty=l1, solver=newton-cg .............................\n",
      "[CV] ... C=1.5, penalty=l1, solver=newton-cg, score=nan, total=   0.0s\n",
      "[CV] C=1.5, penalty=l1, solver=lbfgs .................................\n",
      "[CV] ....... C=1.5, penalty=l1, solver=lbfgs, score=nan, total=   0.0s\n",
      "[CV] C=1.5, penalty=l1, solver=lbfgs .................................\n",
      "[CV] ....... C=1.5, penalty=l1, solver=lbfgs, score=nan, total=   0.0s\n",
      "[CV] C=1.5, penalty=l1, solver=lbfgs .................................\n",
      "[CV] ....... C=1.5, penalty=l1, solver=lbfgs, score=nan, total=   0.0s\n",
      "[CV] C=1.5, penalty=l1, solver=lbfgs .................................\n",
      "[CV] ....... C=1.5, penalty=l1, solver=lbfgs, score=nan, total=   0.0s\n",
      "[CV] C=1.5, penalty=l1, solver=lbfgs .................................\n",
      "[CV] ....... C=1.5, penalty=l1, solver=lbfgs, score=nan, total=   0.0s\n",
      "[CV] C=1.5, penalty=l1, solver=liblinear .............................\n",
      "[LibLinear]"
     ]
    },
    {
     "name": "stderr",
     "output_type": "stream",
     "text": [
      "[Parallel(n_jobs=1)]: Done   4 out of   4 | elapsed:    0.5s finished\n",
      "D:\\Anaconda3\\lib\\site-packages\\sklearn\\model_selection\\_validation.py:548: FitFailedWarning: Estimator fit failed. The score on this train-test partition for these parameters will be set to nan. Details: \n",
      "Traceback (most recent call last):\n",
      "  File \"D:\\Anaconda3\\lib\\site-packages\\sklearn\\model_selection\\_validation.py\", line 531, in _fit_and_score\n",
      "    estimator.fit(X_train, y_train, **fit_params)\n",
      "  File \"D:\\Anaconda3\\lib\\site-packages\\sklearn\\linear_model\\_logistic.py\", line 1304, in fit\n",
      "    solver = _check_solver(self.solver, self.penalty, self.dual)\n",
      "  File \"D:\\Anaconda3\\lib\\site-packages\\sklearn\\linear_model\\_logistic.py\", line 442, in _check_solver\n",
      "    raise ValueError(\"Solver %s supports only 'l2' or 'none' penalties, \"\n",
      "ValueError: Solver newton-cg supports only 'l2' or 'none' penalties, got l1 penalty.\n",
      "\n",
      "  warnings.warn(\"Estimator fit failed. The score on this train-test\"\n",
      "D:\\Anaconda3\\lib\\site-packages\\sklearn\\model_selection\\_validation.py:548: FitFailedWarning: Estimator fit failed. The score on this train-test partition for these parameters will be set to nan. Details: \n",
      "Traceback (most recent call last):\n",
      "  File \"D:\\Anaconda3\\lib\\site-packages\\sklearn\\model_selection\\_validation.py\", line 531, in _fit_and_score\n",
      "    estimator.fit(X_train, y_train, **fit_params)\n",
      "  File \"D:\\Anaconda3\\lib\\site-packages\\sklearn\\linear_model\\_logistic.py\", line 1304, in fit\n",
      "    solver = _check_solver(self.solver, self.penalty, self.dual)\n",
      "  File \"D:\\Anaconda3\\lib\\site-packages\\sklearn\\linear_model\\_logistic.py\", line 442, in _check_solver\n",
      "    raise ValueError(\"Solver %s supports only 'l2' or 'none' penalties, \"\n",
      "ValueError: Solver lbfgs supports only 'l2' or 'none' penalties, got l1 penalty.\n",
      "\n",
      "  warnings.warn(\"Estimator fit failed. The score on this train-test\"\n"
     ]
    },
    {
     "name": "stdout",
     "output_type": "stream",
     "text": [
      "[CV] . C=1.5, penalty=l1, solver=liblinear, score=0.924, total=   0.9s\n",
      "[CV] C=1.5, penalty=l1, solver=liblinear .............................\n",
      "[LibLinear][CV] . C=1.5, penalty=l1, solver=liblinear, score=0.924, total=   0.8s\n",
      "[CV] C=1.5, penalty=l1, solver=liblinear .............................\n",
      "[LibLinear][CV] . C=1.5, penalty=l1, solver=liblinear, score=0.925, total=   0.8s\n",
      "[CV] C=1.5, penalty=l1, solver=liblinear .............................\n",
      "[LibLinear][CV] . C=1.5, penalty=l1, solver=liblinear, score=0.921, total=   0.8s\n",
      "[CV] C=1.5, penalty=l1, solver=liblinear .............................\n",
      "[LibLinear][CV] . C=1.5, penalty=l1, solver=liblinear, score=0.924, total=   0.8s\n",
      "[CV] C=1.5, penalty=l1, solver=sag ...................................\n",
      "[CV] ......... C=1.5, penalty=l1, solver=sag, score=nan, total=   0.0s\n",
      "[CV] C=1.5, penalty=l1, solver=sag ...................................\n",
      "[CV] ......... C=1.5, penalty=l1, solver=sag, score=nan, total=   0.0s\n",
      "[CV] C=1.5, penalty=l1, solver=sag ...................................\n",
      "[CV] ......... C=1.5, penalty=l1, solver=sag, score=nan, total=   0.0s\n",
      "[CV] C=1.5, penalty=l1, solver=sag ...................................\n",
      "[CV] ......... C=1.5, penalty=l1, solver=sag, score=nan, total=   0.0s\n",
      "[CV] C=1.5, penalty=l1, solver=sag ...................................\n",
      "[CV] ......... C=1.5, penalty=l1, solver=sag, score=nan, total=   0.0s\n",
      "[CV] C=1.5, penalty=l1, solver=saga ..................................\n",
      "convergence after 14 epochs took 1 seconds\n"
     ]
    },
    {
     "name": "stderr",
     "output_type": "stream",
     "text": [
      "D:\\Anaconda3\\lib\\site-packages\\sklearn\\model_selection\\_validation.py:548: FitFailedWarning: Estimator fit failed. The score on this train-test partition for these parameters will be set to nan. Details: \n",
      "Traceback (most recent call last):\n",
      "  File \"D:\\Anaconda3\\lib\\site-packages\\sklearn\\model_selection\\_validation.py\", line 531, in _fit_and_score\n",
      "    estimator.fit(X_train, y_train, **fit_params)\n",
      "  File \"D:\\Anaconda3\\lib\\site-packages\\sklearn\\linear_model\\_logistic.py\", line 1304, in fit\n",
      "    solver = _check_solver(self.solver, self.penalty, self.dual)\n",
      "  File \"D:\\Anaconda3\\lib\\site-packages\\sklearn\\linear_model\\_logistic.py\", line 442, in _check_solver\n",
      "    raise ValueError(\"Solver %s supports only 'l2' or 'none' penalties, \"\n",
      "ValueError: Solver sag supports only 'l2' or 'none' penalties, got l1 penalty.\n",
      "\n",
      "  warnings.warn(\"Estimator fit failed. The score on this train-test\"\n",
      "[Parallel(n_jobs=1)]: Using backend SequentialBackend with 1 concurrent workers.\n"
     ]
    },
    {
     "name": "stdout",
     "output_type": "stream",
     "text": [
      "convergence after 14 epochs took 0 seconds\n",
      "convergence after 12 epochs took 0 seconds\n",
      "convergence after 13 epochs took 0 seconds\n"
     ]
    },
    {
     "name": "stderr",
     "output_type": "stream",
     "text": [
      "[Parallel(n_jobs=1)]: Done   4 out of   4 | elapsed:    0.4s finished\n",
      "[Parallel(n_jobs=1)]: Using backend SequentialBackend with 1 concurrent workers.\n"
     ]
    },
    {
     "name": "stdout",
     "output_type": "stream",
     "text": [
      "[CV] ...... C=1.5, penalty=l1, solver=saga, score=0.924, total=   0.5s\n",
      "[CV] C=1.5, penalty=l1, solver=saga ..................................\n",
      "convergence after 13 epochs took 0 seconds\n",
      "convergence after 14 epochs took 0 seconds\n",
      "convergence after 17 epochs took 0 seconds\n",
      "convergence after 14 epochs took 0 seconds\n",
      "[CV] ...... C=1.5, penalty=l1, solver=saga, score=0.924, total=   0.5s\n",
      "[CV] C=1.5, penalty=l1, solver=saga ..................................\n",
      "convergence after 14 epochs took 1 seconds\n"
     ]
    },
    {
     "name": "stderr",
     "output_type": "stream",
     "text": [
      "[Parallel(n_jobs=1)]: Done   4 out of   4 | elapsed:    0.4s finished\n",
      "[Parallel(n_jobs=1)]: Using backend SequentialBackend with 1 concurrent workers.\n"
     ]
    },
    {
     "name": "stdout",
     "output_type": "stream",
     "text": [
      "convergence after 14 epochs took 0 seconds\n",
      "convergence after 13 epochs took 0 seconds\n",
      "convergence after 15 epochs took 0 seconds\n",
      "[CV] ...... C=1.5, penalty=l1, solver=saga, score=0.925, total=   0.5s\n",
      "[CV] C=1.5, penalty=l1, solver=saga ..................................\n",
      "convergence after 13 epochs took 0 seconds\n"
     ]
    },
    {
     "name": "stderr",
     "output_type": "stream",
     "text": [
      "[Parallel(n_jobs=1)]: Done   4 out of   4 | elapsed:    0.4s finished\n",
      "[Parallel(n_jobs=1)]: Using backend SequentialBackend with 1 concurrent workers.\n"
     ]
    },
    {
     "name": "stdout",
     "output_type": "stream",
     "text": [
      "convergence after 13 epochs took 0 seconds\n",
      "convergence after 20 epochs took 0 seconds\n",
      "convergence after 14 epochs took 1 seconds\n",
      "[CV] ...... C=1.5, penalty=l1, solver=saga, score=0.921, total=   0.6s\n",
      "[CV] C=1.5, penalty=l1, solver=saga ..................................\n",
      "convergence after 13 epochs took 0 seconds\n"
     ]
    },
    {
     "name": "stderr",
     "output_type": "stream",
     "text": [
      "[Parallel(n_jobs=1)]: Done   4 out of   4 | elapsed:    0.5s finished\n",
      "[Parallel(n_jobs=1)]: Using backend SequentialBackend with 1 concurrent workers.\n"
     ]
    },
    {
     "name": "stdout",
     "output_type": "stream",
     "text": [
      "convergence after 13 epochs took 0 seconds\n",
      "convergence after 24 epochs took 0 seconds\n",
      "convergence after 15 epochs took 0 seconds\n",
      "[CV] ...... C=1.5, penalty=l1, solver=saga, score=0.924, total=   0.7s\n",
      "[CV] C=1.5, penalty=l2, solver=newton-cg .............................\n"
     ]
    },
    {
     "name": "stderr",
     "output_type": "stream",
     "text": [
      "[Parallel(n_jobs=1)]: Done   4 out of   4 | elapsed:    0.6s finished\n",
      "[Parallel(n_jobs=1)]: Using backend SequentialBackend with 1 concurrent workers.\n",
      "[Parallel(n_jobs=1)]: Done   4 out of   4 | elapsed:    0.4s finished\n",
      "[Parallel(n_jobs=1)]: Using backend SequentialBackend with 1 concurrent workers.\n"
     ]
    },
    {
     "name": "stdout",
     "output_type": "stream",
     "text": [
      "[CV] . C=1.5, penalty=l2, solver=newton-cg, score=0.924, total=   0.5s\n",
      "[CV] C=1.5, penalty=l2, solver=newton-cg .............................\n"
     ]
    },
    {
     "name": "stderr",
     "output_type": "stream",
     "text": [
      "[Parallel(n_jobs=1)]: Done   4 out of   4 | elapsed:    0.3s finished\n",
      "[Parallel(n_jobs=1)]: Using backend SequentialBackend with 1 concurrent workers.\n"
     ]
    },
    {
     "name": "stdout",
     "output_type": "stream",
     "text": [
      "[CV] . C=1.5, penalty=l2, solver=newton-cg, score=0.924, total=   0.5s\n",
      "[CV] C=1.5, penalty=l2, solver=newton-cg .............................\n"
     ]
    },
    {
     "name": "stderr",
     "output_type": "stream",
     "text": [
      "[Parallel(n_jobs=1)]: Done   4 out of   4 | elapsed:    0.4s finished\n",
      "[Parallel(n_jobs=1)]: Using backend SequentialBackend with 1 concurrent workers.\n"
     ]
    },
    {
     "name": "stdout",
     "output_type": "stream",
     "text": [
      "[CV] . C=1.5, penalty=l2, solver=newton-cg, score=0.925, total=   0.5s\n",
      "[CV] C=1.5, penalty=l2, solver=newton-cg .............................\n"
     ]
    },
    {
     "name": "stderr",
     "output_type": "stream",
     "text": [
      "[Parallel(n_jobs=1)]: Done   4 out of   4 | elapsed:    0.4s finished\n",
      "[Parallel(n_jobs=1)]: Using backend SequentialBackend with 1 concurrent workers.\n"
     ]
    },
    {
     "name": "stdout",
     "output_type": "stream",
     "text": [
      "[CV] . C=1.5, penalty=l2, solver=newton-cg, score=0.921, total=   0.5s\n",
      "[CV] C=1.5, penalty=l2, solver=newton-cg .............................\n"
     ]
    },
    {
     "name": "stderr",
     "output_type": "stream",
     "text": [
      "[Parallel(n_jobs=1)]: Done   4 out of   4 | elapsed:    0.4s finished\n",
      "[Parallel(n_jobs=1)]: Using backend SequentialBackend with 1 concurrent workers.\n",
      "[Parallel(n_jobs=1)]: Done   4 out of   4 | elapsed:    0.1s finished\n"
     ]
    },
    {
     "name": "stdout",
     "output_type": "stream",
     "text": [
      "[CV] . C=1.5, penalty=l2, solver=newton-cg, score=0.923, total=   0.5s\n",
      "[CV] C=1.5, penalty=l2, solver=lbfgs .................................\n"
     ]
    },
    {
     "name": "stderr",
     "output_type": "stream",
     "text": [
      "[Parallel(n_jobs=1)]: Using backend SequentialBackend with 1 concurrent workers.\n",
      "[Parallel(n_jobs=1)]: Done   4 out of   4 | elapsed:    0.1s finished\n"
     ]
    },
    {
     "name": "stdout",
     "output_type": "stream",
     "text": [
      "[CV] ..... C=1.5, penalty=l2, solver=lbfgs, score=0.924, total=   0.2s\n",
      "[CV] C=1.5, penalty=l2, solver=lbfgs .................................\n"
     ]
    },
    {
     "name": "stderr",
     "output_type": "stream",
     "text": [
      "[Parallel(n_jobs=1)]: Using backend SequentialBackend with 1 concurrent workers.\n"
     ]
    },
    {
     "name": "stdout",
     "output_type": "stream",
     "text": [
      "[CV] ..... C=1.5, penalty=l2, solver=lbfgs, score=0.924, total=   0.2s\n",
      "[CV] C=1.5, penalty=l2, solver=lbfgs .................................\n"
     ]
    },
    {
     "name": "stderr",
     "output_type": "stream",
     "text": [
      "[Parallel(n_jobs=1)]: Done   4 out of   4 | elapsed:    0.1s finished\n",
      "[Parallel(n_jobs=1)]: Using backend SequentialBackend with 1 concurrent workers.\n",
      "[Parallel(n_jobs=1)]: Done   4 out of   4 | elapsed:    0.1s finished\n"
     ]
    },
    {
     "name": "stdout",
     "output_type": "stream",
     "text": [
      "[CV] ..... C=1.5, penalty=l2, solver=lbfgs, score=0.925, total=   0.2s\n",
      "[CV] C=1.5, penalty=l2, solver=lbfgs .................................\n"
     ]
    },
    {
     "name": "stderr",
     "output_type": "stream",
     "text": [
      "[Parallel(n_jobs=1)]: Using backend SequentialBackend with 1 concurrent workers.\n"
     ]
    },
    {
     "name": "stdout",
     "output_type": "stream",
     "text": [
      "[CV] ..... C=1.5, penalty=l2, solver=lbfgs, score=0.921, total=   0.2s\n",
      "[CV] C=1.5, penalty=l2, solver=lbfgs .................................\n"
     ]
    },
    {
     "name": "stderr",
     "output_type": "stream",
     "text": [
      "[Parallel(n_jobs=1)]: Done   4 out of   4 | elapsed:    0.1s finished\n"
     ]
    },
    {
     "name": "stdout",
     "output_type": "stream",
     "text": [
      "[CV] ..... C=1.5, penalty=l2, solver=lbfgs, score=0.923, total=   0.2s\n",
      "[CV] C=1.5, penalty=l2, solver=liblinear .............................\n",
      "[LibLinear][CV] . C=1.5, penalty=l2, solver=liblinear, score=0.924, total=   0.4s\n",
      "[CV] C=1.5, penalty=l2, solver=liblinear .............................\n",
      "[LibLinear][CV] . C=1.5, penalty=l2, solver=liblinear, score=0.924, total=   0.4s\n",
      "[CV] C=1.5, penalty=l2, solver=liblinear .............................\n",
      "[LibLinear][CV] . C=1.5, penalty=l2, solver=liblinear, score=0.925, total=   0.3s\n",
      "[CV] C=1.5, penalty=l2, solver=liblinear .............................\n",
      "[LibLinear][CV] . C=1.5, penalty=l2, solver=liblinear, score=0.921, total=   0.3s\n",
      "[CV] C=1.5, penalty=l2, solver=liblinear .............................\n",
      "[LibLinear][CV] . C=1.5, penalty=l2, solver=liblinear, score=0.923, total=   0.3s\n",
      "[CV] C=1.5, penalty=l2, solver=sag ...................................\n",
      "convergence after 24 epochs took 0 seconds\n"
     ]
    },
    {
     "name": "stderr",
     "output_type": "stream",
     "text": [
      "[Parallel(n_jobs=1)]: Using backend SequentialBackend with 1 concurrent workers.\n"
     ]
    },
    {
     "name": "stdout",
     "output_type": "stream",
     "text": [
      "convergence after 21 epochs took 0 seconds\n",
      "convergence after 21 epochs took 0 seconds\n",
      "convergence after 21 epochs took 0 seconds\n",
      "[CV] ....... C=1.5, penalty=l2, solver=sag, score=0.924, total=   0.6s\n",
      "[CV] C=1.5, penalty=l2, solver=sag ...................................\n",
      "convergence after 23 epochs took 0 seconds"
     ]
    },
    {
     "name": "stderr",
     "output_type": "stream",
     "text": [
      "[Parallel(n_jobs=1)]: Done   4 out of   4 | elapsed:    0.5s finished\n",
      "[Parallel(n_jobs=1)]: Using backend SequentialBackend with 1 concurrent workers.\n"
     ]
    },
    {
     "name": "stdout",
     "output_type": "stream",
     "text": [
      "\n",
      "convergence after 20 epochs took 0 seconds\n",
      "convergence after 19 epochs took 1 seconds\n",
      "convergence after 23 epochs took 0 seconds\n",
      "[CV] ....... C=1.5, penalty=l2, solver=sag, score=0.924, total=   0.6s\n",
      "[CV] C=1.5, penalty=l2, solver=sag ...................................\n"
     ]
    },
    {
     "name": "stderr",
     "output_type": "stream",
     "text": [
      "[Parallel(n_jobs=1)]: Done   4 out of   4 | elapsed:    0.5s finished\n",
      "[Parallel(n_jobs=1)]: Using backend SequentialBackend with 1 concurrent workers.\n"
     ]
    },
    {
     "name": "stdout",
     "output_type": "stream",
     "text": [
      "convergence after 25 epochs took 0 seconds\n",
      "convergence after 21 epochs took 0 seconds\n",
      "convergence after 18 epochs took 0 seconds\n",
      "convergence after 24 epochs took 0 seconds\n",
      "[CV] ....... C=1.5, penalty=l2, solver=sag, score=0.925, total=   0.6s\n",
      "[CV] C=1.5, penalty=l2, solver=sag ...................................\n"
     ]
    },
    {
     "name": "stderr",
     "output_type": "stream",
     "text": [
      "[Parallel(n_jobs=1)]: Done   4 out of   4 | elapsed:    0.5s finished\n",
      "[Parallel(n_jobs=1)]: Using backend SequentialBackend with 1 concurrent workers.\n"
     ]
    },
    {
     "name": "stdout",
     "output_type": "stream",
     "text": [
      "convergence after 22 epochs took 1 seconds\n",
      "convergence after 21 epochs took 0 seconds\n",
      "convergence after 19 epochs took 0 seconds\n",
      "convergence after 23 epochs took 0 seconds\n",
      "[CV] ....... C=1.5, penalty=l2, solver=sag, score=0.921, total=   0.6s\n",
      "[CV] C=1.5, penalty=l2, solver=sag ...................................\n"
     ]
    },
    {
     "name": "stderr",
     "output_type": "stream",
     "text": [
      "[Parallel(n_jobs=1)]: Done   4 out of   4 | elapsed:    0.5s finished\n",
      "[Parallel(n_jobs=1)]: Using backend SequentialBackend with 1 concurrent workers.\n"
     ]
    },
    {
     "name": "stdout",
     "output_type": "stream",
     "text": [
      "convergence after 26 epochs took 0 seconds\n",
      "convergence after 21 epochs took 0 seconds\n",
      "convergence after 19 epochs took 0 seconds\n",
      "convergence after 22 epochs took 1 seconds\n",
      "[CV] ....... C=1.5, penalty=l2, solver=sag, score=0.923, total=   0.6s\n",
      "[CV] C=1.5, penalty=l2, solver=saga ..................................\n"
     ]
    },
    {
     "name": "stderr",
     "output_type": "stream",
     "text": [
      "[Parallel(n_jobs=1)]: Done   4 out of   4 | elapsed:    0.5s finished\n",
      "[Parallel(n_jobs=1)]: Using backend SequentialBackend with 1 concurrent workers.\n"
     ]
    },
    {
     "name": "stdout",
     "output_type": "stream",
     "text": [
      "convergence after 14 epochs took 0 seconds\n",
      "convergence after 14 epochs took 0 seconds\n",
      "convergence after 17 epochs took 0 seconds\n",
      "convergence after 13 epochs took 0 seconds\n",
      "[CV] ...... C=1.5, penalty=l2, solver=saga, score=0.924, total=   0.5s\n",
      "[CV] C=1.5, penalty=l2, solver=saga ..................................\n"
     ]
    },
    {
     "name": "stderr",
     "output_type": "stream",
     "text": [
      "[Parallel(n_jobs=1)]: Done   4 out of   4 | elapsed:    0.4s finished\n",
      "[Parallel(n_jobs=1)]: Using backend SequentialBackend with 1 concurrent workers.\n"
     ]
    },
    {
     "name": "stdout",
     "output_type": "stream",
     "text": [
      "convergence after 13 epochs took 0 seconds\n",
      "convergence after 14 epochs took 0 seconds\n",
      "convergence after 19 epochs took 0 seconds\n",
      "convergence after 14 epochs took 1 seconds\n",
      "[CV] ...... C=1.5, penalty=l2, solver=saga, score=0.924, total=   0.5s\n",
      "[CV] C=1.5, penalty=l2, solver=saga ..................................\n"
     ]
    },
    {
     "name": "stderr",
     "output_type": "stream",
     "text": [
      "[Parallel(n_jobs=1)]: Done   4 out of   4 | elapsed:    0.4s finished\n",
      "[Parallel(n_jobs=1)]: Using backend SequentialBackend with 1 concurrent workers.\n"
     ]
    },
    {
     "name": "stdout",
     "output_type": "stream",
     "text": [
      "convergence after 14 epochs took 0 seconds\n",
      "convergence after 14 epochs took 0 seconds\n",
      "convergence after 17 epochs took 0 seconds\n",
      "convergence after 15 epochs took 0 seconds\n",
      "[CV] ...... C=1.5, penalty=l2, solver=saga, score=0.925, total=   0.5s\n",
      "[CV] C=1.5, penalty=l2, solver=saga ..................................\n"
     ]
    },
    {
     "name": "stderr",
     "output_type": "stream",
     "text": [
      "[Parallel(n_jobs=1)]: Done   4 out of   4 | elapsed:    0.4s finished\n",
      "[Parallel(n_jobs=1)]: Using backend SequentialBackend with 1 concurrent workers.\n"
     ]
    },
    {
     "name": "stdout",
     "output_type": "stream",
     "text": [
      "convergence after 13 epochs took 0 seconds\n",
      "convergence after 13 epochs took 0 seconds\n",
      "convergence after 16 epochs took 0 seconds\n",
      "convergence after 14 epochs took 1 seconds\n",
      "[CV] ...... C=1.5, penalty=l2, solver=saga, score=0.921, total=   0.4s\n",
      "[CV] C=1.5, penalty=l2, solver=saga ..................................\n"
     ]
    },
    {
     "name": "stderr",
     "output_type": "stream",
     "text": [
      "[Parallel(n_jobs=1)]: Done   4 out of   4 | elapsed:    0.3s finished\n",
      "[Parallel(n_jobs=1)]: Using backend SequentialBackend with 1 concurrent workers.\n"
     ]
    },
    {
     "name": "stdout",
     "output_type": "stream",
     "text": [
      "convergence after 13 epochs took 0 seconds\n",
      "convergence after 13 epochs took 0 seconds\n",
      "convergence after 14 epochs took 0 seconds\n",
      "convergence after 15 epochs took 0 seconds\n",
      "[CV] ...... C=1.5, penalty=l2, solver=saga, score=0.923, total=   0.5s\n",
      "[CV] C=1.5, penalty=elasticnet, solver=newton-cg .....................\n",
      "[CV]  C=1.5, penalty=elasticnet, solver=newton-cg, score=nan, total=   0.0s\n",
      "[CV] C=1.5, penalty=elasticnet, solver=newton-cg .....................\n",
      "[CV]  C=1.5, penalty=elasticnet, solver=newton-cg, score=nan, total=   0.0s\n",
      "[CV] C=1.5, penalty=elasticnet, solver=newton-cg .....................\n",
      "[CV]  C=1.5, penalty=elasticnet, solver=newton-cg, score=nan, total=   0.0s\n",
      "[CV] C=1.5, penalty=elasticnet, solver=newton-cg .....................\n",
      "[CV]  C=1.5, penalty=elasticnet, solver=newton-cg, score=nan, total=   0.0s\n",
      "[CV] C=1.5, penalty=elasticnet, solver=newton-cg .....................\n",
      "[CV]  C=1.5, penalty=elasticnet, solver=newton-cg, score=nan, total=   0.0s\n",
      "[CV] C=1.5, penalty=elasticnet, solver=lbfgs .........................\n",
      "[CV]  C=1.5, penalty=elasticnet, solver=lbfgs, score=nan, total=   0.0s\n",
      "[CV] C=1.5, penalty=elasticnet, solver=lbfgs .........................\n",
      "[CV]  C=1.5, penalty=elasticnet, solver=lbfgs, score=nan, total=   0.0s\n",
      "[CV] C=1.5, penalty=elasticnet, solver=lbfgs .........................\n",
      "[CV]  C=1.5, penalty=elasticnet, solver=lbfgs, score=nan, total=   0.0s\n",
      "[CV] C=1.5, penalty=elasticnet, solver=lbfgs .........................\n",
      "[CV]  C=1.5, penalty=elasticnet, solver=lbfgs, score=nan, total=   0.0s\n",
      "[CV] C=1.5, penalty=elasticnet, solver=lbfgs .........................\n",
      "[CV]  C=1.5, penalty=elasticnet, solver=lbfgs, score=nan, total=   0.0s\n",
      "[CV] C=1.5, penalty=elasticnet, solver=liblinear .....................\n",
      "[CV]  C=1.5, penalty=elasticnet, solver=liblinear, score=nan, total=   0.0s\n",
      "[CV] C=1.5, penalty=elasticnet, solver=liblinear .....................\n",
      "[CV]  C=1.5, penalty=elasticnet, solver=liblinear, score=nan, total=   0.0s\n",
      "[CV] C=1.5, penalty=elasticnet, solver=liblinear .....................\n",
      "[CV]  C=1.5, penalty=elasticnet, solver=liblinear, score=nan, total=   0.0s\n",
      "[CV] C=1.5, penalty=elasticnet, solver=liblinear .....................\n",
      "[CV]  C=1.5, penalty=elasticnet, solver=liblinear, score=nan, total=   0.0s\n",
      "[CV] C=1.5, penalty=elasticnet, solver=liblinear .....................\n",
      "[CV]  C=1.5, penalty=elasticnet, solver=liblinear, score=nan, total=   0.0s\n",
      "[CV] C=1.5, penalty=elasticnet, solver=sag ...........................\n",
      "[CV] . C=1.5, penalty=elasticnet, solver=sag, score=nan, total=   0.0s\n",
      "[CV] C=1.5, penalty=elasticnet, solver=sag ...........................\n",
      "[CV] . C=1.5, penalty=elasticnet, solver=sag, score=nan, total=   0.0s\n",
      "[CV] C=1.5, penalty=elasticnet, solver=sag ...........................\n",
      "[CV] . C=1.5, penalty=elasticnet, solver=sag, score=nan, total=   0.0s\n",
      "[CV] C=1.5, penalty=elasticnet, solver=sag ...........................\n",
      "[CV] . C=1.5, penalty=elasticnet, solver=sag, score=nan, total=   0.0s\n",
      "[CV] C=1.5, penalty=elasticnet, solver=sag ...........................\n",
      "[CV] . C=1.5, penalty=elasticnet, solver=sag, score=nan, total=   0.0s\n",
      "[CV] C=1.5, penalty=elasticnet, solver=saga ..........................\n",
      "[CV]  C=1.5, penalty=elasticnet, solver=saga, score=nan, total=   0.0s\n",
      "[CV] C=1.5, penalty=elasticnet, solver=saga ..........................\n",
      "[CV]  C=1.5, penalty=elasticnet, solver=saga, score=nan, total=   0.0s\n",
      "[CV] C=1.5, penalty=elasticnet, solver=saga ..........................\n",
      "[CV]  C=1.5, penalty=elasticnet, solver=saga, score=nan, total=   0.0s\n",
      "[CV] C=1.5, penalty=elasticnet, solver=saga ..........................\n",
      "[CV]  C=1.5, penalty=elasticnet, solver=saga, score=nan, total=   0.0s\n",
      "[CV] C=1.5, penalty=elasticnet, solver=saga ..........................\n",
      "[CV]  C=1.5, penalty=elasticnet, solver=saga, score=nan, total=   0.0s\n",
      "[CV] C=1.5, penalty=none, solver=newton-cg ...........................\n"
     ]
    },
    {
     "name": "stderr",
     "output_type": "stream",
     "text": [
      "[Parallel(n_jobs=1)]: Done   4 out of   4 | elapsed:    0.4s finished\n",
      "D:\\Anaconda3\\lib\\site-packages\\sklearn\\model_selection\\_validation.py:548: FitFailedWarning: Estimator fit failed. The score on this train-test partition for these parameters will be set to nan. Details: \n",
      "Traceback (most recent call last):\n",
      "  File \"D:\\Anaconda3\\lib\\site-packages\\sklearn\\model_selection\\_validation.py\", line 531, in _fit_and_score\n",
      "    estimator.fit(X_train, y_train, **fit_params)\n",
      "  File \"D:\\Anaconda3\\lib\\site-packages\\sklearn\\linear_model\\_logistic.py\", line 1304, in fit\n",
      "    solver = _check_solver(self.solver, self.penalty, self.dual)\n",
      "  File \"D:\\Anaconda3\\lib\\site-packages\\sklearn\\linear_model\\_logistic.py\", line 442, in _check_solver\n",
      "    raise ValueError(\"Solver %s supports only 'l2' or 'none' penalties, \"\n",
      "ValueError: Solver newton-cg supports only 'l2' or 'none' penalties, got elasticnet penalty.\n",
      "\n",
      "  warnings.warn(\"Estimator fit failed. The score on this train-test\"\n",
      "D:\\Anaconda3\\lib\\site-packages\\sklearn\\model_selection\\_validation.py:548: FitFailedWarning: Estimator fit failed. The score on this train-test partition for these parameters will be set to nan. Details: \n",
      "Traceback (most recent call last):\n",
      "  File \"D:\\Anaconda3\\lib\\site-packages\\sklearn\\model_selection\\_validation.py\", line 531, in _fit_and_score\n",
      "    estimator.fit(X_train, y_train, **fit_params)\n",
      "  File \"D:\\Anaconda3\\lib\\site-packages\\sklearn\\linear_model\\_logistic.py\", line 1304, in fit\n",
      "    solver = _check_solver(self.solver, self.penalty, self.dual)\n",
      "  File \"D:\\Anaconda3\\lib\\site-packages\\sklearn\\linear_model\\_logistic.py\", line 442, in _check_solver\n",
      "    raise ValueError(\"Solver %s supports only 'l2' or 'none' penalties, \"\n",
      "ValueError: Solver lbfgs supports only 'l2' or 'none' penalties, got elasticnet penalty.\n",
      "\n",
      "  warnings.warn(\"Estimator fit failed. The score on this train-test\"\n",
      "D:\\Anaconda3\\lib\\site-packages\\sklearn\\model_selection\\_validation.py:548: FitFailedWarning: Estimator fit failed. The score on this train-test partition for these parameters will be set to nan. Details: \n",
      "Traceback (most recent call last):\n",
      "  File \"D:\\Anaconda3\\lib\\site-packages\\sklearn\\model_selection\\_validation.py\", line 531, in _fit_and_score\n",
      "    estimator.fit(X_train, y_train, **fit_params)\n",
      "  File \"D:\\Anaconda3\\lib\\site-packages\\sklearn\\linear_model\\_logistic.py\", line 1304, in fit\n",
      "    solver = _check_solver(self.solver, self.penalty, self.dual)\n",
      "  File \"D:\\Anaconda3\\lib\\site-packages\\sklearn\\linear_model\\_logistic.py\", line 449, in _check_solver\n",
      "    raise ValueError(\"Only 'saga' solver supports elasticnet penalty,\"\n",
      "ValueError: Only 'saga' solver supports elasticnet penalty, got solver=liblinear.\n",
      "\n",
      "  warnings.warn(\"Estimator fit failed. The score on this train-test\"\n",
      "D:\\Anaconda3\\lib\\site-packages\\sklearn\\model_selection\\_validation.py:548: FitFailedWarning: Estimator fit failed. The score on this train-test partition for these parameters will be set to nan. Details: \n",
      "Traceback (most recent call last):\n",
      "  File \"D:\\Anaconda3\\lib\\site-packages\\sklearn\\model_selection\\_validation.py\", line 531, in _fit_and_score\n",
      "    estimator.fit(X_train, y_train, **fit_params)\n",
      "  File \"D:\\Anaconda3\\lib\\site-packages\\sklearn\\linear_model\\_logistic.py\", line 1304, in fit\n",
      "    solver = _check_solver(self.solver, self.penalty, self.dual)\n",
      "  File \"D:\\Anaconda3\\lib\\site-packages\\sklearn\\linear_model\\_logistic.py\", line 442, in _check_solver\n",
      "    raise ValueError(\"Solver %s supports only 'l2' or 'none' penalties, \"\n",
      "ValueError: Solver sag supports only 'l2' or 'none' penalties, got elasticnet penalty.\n",
      "\n",
      "  warnings.warn(\"Estimator fit failed. The score on this train-test\"\n",
      "D:\\Anaconda3\\lib\\site-packages\\sklearn\\model_selection\\_validation.py:548: FitFailedWarning: Estimator fit failed. The score on this train-test partition for these parameters will be set to nan. Details: \n",
      "Traceback (most recent call last):\n",
      "  File \"D:\\Anaconda3\\lib\\site-packages\\sklearn\\model_selection\\_validation.py\", line 531, in _fit_and_score\n",
      "    estimator.fit(X_train, y_train, **fit_params)\n",
      "  File \"D:\\Anaconda3\\lib\\site-packages\\sklearn\\linear_model\\_logistic.py\", line 1312, in fit\n",
      "    raise ValueError(\"l1_ratio must be between 0 and 1;\"\n",
      "ValueError: l1_ratio must be between 0 and 1; got (l1_ratio=None)\n",
      "\n",
      "  warnings.warn(\"Estimator fit failed. The score on this train-test\"\n",
      "D:\\Anaconda3\\lib\\site-packages\\sklearn\\linear_model\\_logistic.py:1320: UserWarning: Setting penalty='none' will ignore the C and l1_ratio parameters\n",
      "  warnings.warn(\n",
      "[Parallel(n_jobs=1)]: Using backend SequentialBackend with 1 concurrent workers.\n",
      "[Parallel(n_jobs=1)]: Done   4 out of   4 | elapsed:    0.4s finished\n",
      "D:\\Anaconda3\\lib\\site-packages\\sklearn\\linear_model\\_logistic.py:1320: UserWarning: Setting penalty='none' will ignore the C and l1_ratio parameters\n",
      "  warnings.warn(\n",
      "[Parallel(n_jobs=1)]: Using backend SequentialBackend with 1 concurrent workers.\n"
     ]
    },
    {
     "name": "stdout",
     "output_type": "stream",
     "text": [
      "[CV]  C=1.5, penalty=none, solver=newton-cg, score=0.924, total=   0.5s\n",
      "[CV] C=1.5, penalty=none, solver=newton-cg ...........................\n"
     ]
    },
    {
     "name": "stderr",
     "output_type": "stream",
     "text": [
      "[Parallel(n_jobs=1)]: Done   4 out of   4 | elapsed:    0.5s finished\n",
      "D:\\Anaconda3\\lib\\site-packages\\sklearn\\linear_model\\_logistic.py:1320: UserWarning: Setting penalty='none' will ignore the C and l1_ratio parameters\n",
      "  warnings.warn(\n",
      "[Parallel(n_jobs=1)]: Using backend SequentialBackend with 1 concurrent workers.\n"
     ]
    },
    {
     "name": "stdout",
     "output_type": "stream",
     "text": [
      "[CV]  C=1.5, penalty=none, solver=newton-cg, score=0.924, total=   0.6s\n",
      "[CV] C=1.5, penalty=none, solver=newton-cg ...........................\n"
     ]
    },
    {
     "name": "stderr",
     "output_type": "stream",
     "text": [
      "[Parallel(n_jobs=1)]: Done   4 out of   4 | elapsed:    0.4s finished\n",
      "D:\\Anaconda3\\lib\\site-packages\\sklearn\\linear_model\\_logistic.py:1320: UserWarning: Setting penalty='none' will ignore the C and l1_ratio parameters\n",
      "  warnings.warn(\n",
      "[Parallel(n_jobs=1)]: Using backend SequentialBackend with 1 concurrent workers.\n"
     ]
    },
    {
     "name": "stdout",
     "output_type": "stream",
     "text": [
      "[CV]  C=1.5, penalty=none, solver=newton-cg, score=0.925, total=   0.5s\n",
      "[CV] C=1.5, penalty=none, solver=newton-cg ...........................\n"
     ]
    },
    {
     "name": "stderr",
     "output_type": "stream",
     "text": [
      "[Parallel(n_jobs=1)]: Done   4 out of   4 | elapsed:    0.4s finished\n",
      "D:\\Anaconda3\\lib\\site-packages\\sklearn\\linear_model\\_logistic.py:1320: UserWarning: Setting penalty='none' will ignore the C and l1_ratio parameters\n",
      "  warnings.warn(\n",
      "[Parallel(n_jobs=1)]: Using backend SequentialBackend with 1 concurrent workers.\n"
     ]
    },
    {
     "name": "stdout",
     "output_type": "stream",
     "text": [
      "[CV]  C=1.5, penalty=none, solver=newton-cg, score=0.921, total=   0.5s\n",
      "[CV] C=1.5, penalty=none, solver=newton-cg ...........................\n"
     ]
    },
    {
     "name": "stderr",
     "output_type": "stream",
     "text": [
      "[Parallel(n_jobs=1)]: Done   4 out of   4 | elapsed:    0.4s finished\n",
      "D:\\Anaconda3\\lib\\site-packages\\sklearn\\linear_model\\_logistic.py:1320: UserWarning: Setting penalty='none' will ignore the C and l1_ratio parameters\n",
      "  warnings.warn(\n",
      "[Parallel(n_jobs=1)]: Using backend SequentialBackend with 1 concurrent workers.\n",
      "[Parallel(n_jobs=1)]: Done   4 out of   4 | elapsed:    0.1s finished\n"
     ]
    },
    {
     "name": "stdout",
     "output_type": "stream",
     "text": [
      "[CV]  C=1.5, penalty=none, solver=newton-cg, score=0.924, total=   0.5s\n",
      "[CV] C=1.5, penalty=none, solver=lbfgs ...............................\n"
     ]
    },
    {
     "name": "stderr",
     "output_type": "stream",
     "text": [
      "D:\\Anaconda3\\lib\\site-packages\\sklearn\\linear_model\\_logistic.py:1320: UserWarning: Setting penalty='none' will ignore the C and l1_ratio parameters\n",
      "  warnings.warn(\n",
      "[Parallel(n_jobs=1)]: Using backend SequentialBackend with 1 concurrent workers.\n",
      "[Parallel(n_jobs=1)]: Done   4 out of   4 | elapsed:    0.1s finished\n",
      "D:\\Anaconda3\\lib\\site-packages\\sklearn\\linear_model\\_logistic.py:1320: UserWarning: Setting penalty='none' will ignore the C and l1_ratio parameters\n",
      "  warnings.warn(\n",
      "[Parallel(n_jobs=1)]: Using backend SequentialBackend with 1 concurrent workers.\n"
     ]
    },
    {
     "name": "stdout",
     "output_type": "stream",
     "text": [
      "[CV] ... C=1.5, penalty=none, solver=lbfgs, score=0.924, total=   0.2s\n",
      "[CV] C=1.5, penalty=none, solver=lbfgs ...............................\n",
      "[CV] ... C=1.5, penalty=none, solver=lbfgs, score=0.924, total=   0.2s\n",
      "[CV] C=1.5, penalty=none, solver=lbfgs ...............................\n"
     ]
    },
    {
     "name": "stderr",
     "output_type": "stream",
     "text": [
      "[Parallel(n_jobs=1)]: Done   4 out of   4 | elapsed:    0.1s finished\n",
      "D:\\Anaconda3\\lib\\site-packages\\sklearn\\linear_model\\_logistic.py:1320: UserWarning: Setting penalty='none' will ignore the C and l1_ratio parameters\n",
      "  warnings.warn(\n",
      "[Parallel(n_jobs=1)]: Using backend SequentialBackend with 1 concurrent workers.\n",
      "[Parallel(n_jobs=1)]: Done   4 out of   4 | elapsed:    0.1s finished\n",
      "D:\\Anaconda3\\lib\\site-packages\\sklearn\\linear_model\\_logistic.py:1320: UserWarning: Setting penalty='none' will ignore the C and l1_ratio parameters\n",
      "  warnings.warn(\n",
      "[Parallel(n_jobs=1)]: Using backend SequentialBackend with 1 concurrent workers.\n"
     ]
    },
    {
     "name": "stdout",
     "output_type": "stream",
     "text": [
      "[CV] ... C=1.5, penalty=none, solver=lbfgs, score=0.925, total=   0.2s\n",
      "[CV] C=1.5, penalty=none, solver=lbfgs ...............................\n",
      "[CV] ... C=1.5, penalty=none, solver=lbfgs, score=0.921, total=   0.2s\n",
      "[CV] C=1.5, penalty=none, solver=lbfgs ...............................\n"
     ]
    },
    {
     "name": "stderr",
     "output_type": "stream",
     "text": [
      "[Parallel(n_jobs=1)]: Done   4 out of   4 | elapsed:    0.1s finished\n",
      "D:\\Anaconda3\\lib\\site-packages\\sklearn\\model_selection\\_validation.py:548: FitFailedWarning: Estimator fit failed. The score on this train-test partition for these parameters will be set to nan. Details: \n",
      "Traceback (most recent call last):\n",
      "  File \"D:\\Anaconda3\\lib\\site-packages\\sklearn\\model_selection\\_validation.py\", line 531, in _fit_and_score\n",
      "    estimator.fit(X_train, y_train, **fit_params)\n",
      "  File \"D:\\Anaconda3\\lib\\site-packages\\sklearn\\linear_model\\_logistic.py\", line 1304, in fit\n",
      "    solver = _check_solver(self.solver, self.penalty, self.dual)\n",
      "  File \"D:\\Anaconda3\\lib\\site-packages\\sklearn\\linear_model\\_logistic.py\", line 453, in _check_solver\n",
      "    raise ValueError(\n",
      "ValueError: penalty='none' is not supported for the liblinear solver\n",
      "\n",
      "  warnings.warn(\"Estimator fit failed. The score on this train-test\"\n",
      "D:\\Anaconda3\\lib\\site-packages\\sklearn\\linear_model\\_logistic.py:1320: UserWarning: Setting penalty='none' will ignore the C and l1_ratio parameters\n",
      "  warnings.warn(\n",
      "[Parallel(n_jobs=1)]: Using backend SequentialBackend with 1 concurrent workers.\n"
     ]
    },
    {
     "name": "stdout",
     "output_type": "stream",
     "text": [
      "[CV] ... C=1.5, penalty=none, solver=lbfgs, score=0.924, total=   0.2s\n",
      "[CV] C=1.5, penalty=none, solver=liblinear ...........................\n",
      "[CV] . C=1.5, penalty=none, solver=liblinear, score=nan, total=   0.0s\n",
      "[CV] C=1.5, penalty=none, solver=liblinear ...........................\n",
      "[CV] . C=1.5, penalty=none, solver=liblinear, score=nan, total=   0.0s\n",
      "[CV] C=1.5, penalty=none, solver=liblinear ...........................\n",
      "[CV] . C=1.5, penalty=none, solver=liblinear, score=nan, total=   0.0s\n",
      "[CV] C=1.5, penalty=none, solver=liblinear ...........................\n",
      "[CV] . C=1.5, penalty=none, solver=liblinear, score=nan, total=   0.0s\n",
      "[CV] C=1.5, penalty=none, solver=liblinear ...........................\n",
      "[CV] . C=1.5, penalty=none, solver=liblinear, score=nan, total=   0.0s\n",
      "[CV] C=1.5, penalty=none, solver=sag .................................\n",
      "convergence after 25 epochs took 0 seconds\n",
      "convergence after 21 epochs took 0 seconds\n",
      "convergence after 19 epochs took 0 seconds\n",
      "convergence after 24 epochs took 0 seconds\n",
      "[CV] ..... C=1.5, penalty=none, solver=sag, score=0.924, total=   0.6s\n",
      "[CV] C=1.5, penalty=none, solver=sag .................................\n",
      "convergence after 25 epochs took 0 seconds\n"
     ]
    },
    {
     "name": "stderr",
     "output_type": "stream",
     "text": [
      "[Parallel(n_jobs=1)]: Done   4 out of   4 | elapsed:    0.5s finished\n",
      "D:\\Anaconda3\\lib\\site-packages\\sklearn\\linear_model\\_logistic.py:1320: UserWarning: Setting penalty='none' will ignore the C and l1_ratio parameters\n",
      "  warnings.warn(\n",
      "[Parallel(n_jobs=1)]: Using backend SequentialBackend with 1 concurrent workers.\n"
     ]
    },
    {
     "name": "stdout",
     "output_type": "stream",
     "text": [
      "convergence after 20 epochs took 0 seconds\n",
      "convergence after 20 epochs took 1 seconds\n",
      "convergence after 24 epochs took 0 seconds\n",
      "[CV] ..... C=1.5, penalty=none, solver=sag, score=0.924, total=   0.6s\n",
      "[CV] C=1.5, penalty=none, solver=sag .................................\n",
      "convergence after 25 epochs took 0 seconds"
     ]
    },
    {
     "name": "stderr",
     "output_type": "stream",
     "text": [
      "[Parallel(n_jobs=1)]: Done   4 out of   4 | elapsed:    0.5s finished\n",
      "D:\\Anaconda3\\lib\\site-packages\\sklearn\\linear_model\\_logistic.py:1320: UserWarning: Setting penalty='none' will ignore the C and l1_ratio parameters\n",
      "  warnings.warn(\n",
      "[Parallel(n_jobs=1)]: Using backend SequentialBackend with 1 concurrent workers.\n"
     ]
    },
    {
     "name": "stdout",
     "output_type": "stream",
     "text": [
      "\n",
      "convergence after 21 epochs took 0 seconds\n",
      "convergence after 20 epochs took 0 seconds\n",
      "convergence after 26 epochs took 0 seconds\n",
      "[CV] ..... C=1.5, penalty=none, solver=sag, score=0.925, total=   0.6s\n",
      "[CV] C=1.5, penalty=none, solver=sag .................................\n"
     ]
    },
    {
     "name": "stderr",
     "output_type": "stream",
     "text": [
      "[Parallel(n_jobs=1)]: Done   4 out of   4 | elapsed:    0.5s finished\n",
      "D:\\Anaconda3\\lib\\site-packages\\sklearn\\linear_model\\_logistic.py:1320: UserWarning: Setting penalty='none' will ignore the C and l1_ratio parameters\n",
      "  warnings.warn(\n",
      "[Parallel(n_jobs=1)]: Using backend SequentialBackend with 1 concurrent workers.\n"
     ]
    },
    {
     "name": "stdout",
     "output_type": "stream",
     "text": [
      "convergence after 23 epochs took 1 seconds\n",
      "convergence after 23 epochs took 0 seconds\n",
      "convergence after 19 epochs took 0 seconds\n",
      "convergence after 24 epochs took 0 seconds\n",
      "[CV] ..... C=1.5, penalty=none, solver=sag, score=0.921, total=   0.6s\n",
      "[CV] C=1.5, penalty=none, solver=sag .................................\n"
     ]
    },
    {
     "name": "stderr",
     "output_type": "stream",
     "text": [
      "[Parallel(n_jobs=1)]: Done   4 out of   4 | elapsed:    0.5s finished\n",
      "D:\\Anaconda3\\lib\\site-packages\\sklearn\\linear_model\\_logistic.py:1320: UserWarning: Setting penalty='none' will ignore the C and l1_ratio parameters\n",
      "  warnings.warn(\n",
      "[Parallel(n_jobs=1)]: Using backend SequentialBackend with 1 concurrent workers.\n"
     ]
    },
    {
     "name": "stdout",
     "output_type": "stream",
     "text": [
      "convergence after 26 epochs took 0 seconds\n",
      "convergence after 21 epochs took 0 seconds\n",
      "convergence after 20 epochs took 0 seconds\n",
      "convergence after 23 epochs took 1 seconds\n",
      "[CV] ..... C=1.5, penalty=none, solver=sag, score=0.924, total=   0.6s\n",
      "[CV] C=1.5, penalty=none, solver=saga ................................\n"
     ]
    },
    {
     "name": "stderr",
     "output_type": "stream",
     "text": [
      "[Parallel(n_jobs=1)]: Done   4 out of   4 | elapsed:    0.5s finished\n",
      "D:\\Anaconda3\\lib\\site-packages\\sklearn\\linear_model\\_logistic.py:1320: UserWarning: Setting penalty='none' will ignore the C and l1_ratio parameters\n",
      "  warnings.warn(\n",
      "[Parallel(n_jobs=1)]: Using backend SequentialBackend with 1 concurrent workers.\n"
     ]
    },
    {
     "name": "stdout",
     "output_type": "stream",
     "text": [
      "convergence after 14 epochs took 0 seconds\n",
      "convergence after 14 epochs took 0 seconds\n",
      "convergence after 18 epochs took 0 seconds\n",
      "convergence after 13 epochs took 0 seconds\n",
      "[CV] .... C=1.5, penalty=none, solver=saga, score=0.924, total=   0.4s\n",
      "[CV] C=1.5, penalty=none, solver=saga ................................\n",
      "convergence after 13 epochs took 0 seconds\n"
     ]
    },
    {
     "name": "stderr",
     "output_type": "stream",
     "text": [
      "[Parallel(n_jobs=1)]: Done   4 out of   4 | elapsed:    0.3s finished\n",
      "D:\\Anaconda3\\lib\\site-packages\\sklearn\\linear_model\\_logistic.py:1320: UserWarning: Setting penalty='none' will ignore the C and l1_ratio parameters\n",
      "  warnings.warn(\n",
      "[Parallel(n_jobs=1)]: Using backend SequentialBackend with 1 concurrent workers.\n"
     ]
    },
    {
     "name": "stdout",
     "output_type": "stream",
     "text": [
      "convergence after 14 epochs took 0 seconds\n",
      "convergence after 14 epochs took 0 seconds\n",
      "convergence after 14 epochs took 0 seconds\n"
     ]
    },
    {
     "name": "stderr",
     "output_type": "stream",
     "text": [
      "[Parallel(n_jobs=1)]: Done   4 out of   4 | elapsed:    0.3s finished\n",
      "D:\\Anaconda3\\lib\\site-packages\\sklearn\\linear_model\\_logistic.py:1320: UserWarning: Setting penalty='none' will ignore the C and l1_ratio parameters\n",
      "  warnings.warn(\n",
      "[Parallel(n_jobs=1)]: Using backend SequentialBackend with 1 concurrent workers.\n"
     ]
    },
    {
     "name": "stdout",
     "output_type": "stream",
     "text": [
      "[CV] .... C=1.5, penalty=none, solver=saga, score=0.924, total=   0.4s\n",
      "[CV] C=1.5, penalty=none, solver=saga ................................\n",
      "convergence after 14 epochs took 1 seconds\n",
      "convergence after 14 epochs took 0 seconds\n",
      "convergence after 17 epochs took 0 seconds\n",
      "convergence after 15 epochs took 0 seconds\n",
      "[CV] .... C=1.5, penalty=none, solver=saga, score=0.925, total=   0.5s\n",
      "[CV] C=1.5, penalty=none, solver=saga ................................\n",
      "convergence after 13 epochs took 0 seconds\n"
     ]
    },
    {
     "name": "stderr",
     "output_type": "stream",
     "text": [
      "[Parallel(n_jobs=1)]: Done   4 out of   4 | elapsed:    0.4s finished\n",
      "D:\\Anaconda3\\lib\\site-packages\\sklearn\\linear_model\\_logistic.py:1320: UserWarning: Setting penalty='none' will ignore the C and l1_ratio parameters\n",
      "  warnings.warn(\n",
      "[Parallel(n_jobs=1)]: Using backend SequentialBackend with 1 concurrent workers.\n"
     ]
    },
    {
     "name": "stdout",
     "output_type": "stream",
     "text": [
      "convergence after 13 epochs took 0 seconds\n",
      "convergence after 22 epochs took 0 seconds\n",
      "convergence after 14 epochs took 1 seconds\n",
      "[CV] .... C=1.5, penalty=none, solver=saga, score=0.921, total=   0.5s\n",
      "[CV] C=1.5, penalty=none, solver=saga ................................\n",
      "convergence after 13 epochs took 0 seconds\n",
      "convergence after 13 epochs took 0 seconds"
     ]
    },
    {
     "name": "stderr",
     "output_type": "stream",
     "text": [
      "[Parallel(n_jobs=1)]: Done   4 out of   4 | elapsed:    0.4s finished\n",
      "D:\\Anaconda3\\lib\\site-packages\\sklearn\\linear_model\\_logistic.py:1320: UserWarning: Setting penalty='none' will ignore the C and l1_ratio parameters\n",
      "  warnings.warn(\n",
      "[Parallel(n_jobs=1)]: Using backend SequentialBackend with 1 concurrent workers.\n"
     ]
    },
    {
     "name": "stdout",
     "output_type": "stream",
     "text": [
      "\n",
      "convergence after 26 epochs took 0 seconds\n",
      "convergence after 15 epochs took 0 seconds\n",
      "[CV] .... C=1.5, penalty=none, solver=saga, score=0.924, total=   0.5s\n"
     ]
    },
    {
     "name": "stderr",
     "output_type": "stream",
     "text": [
      "[Parallel(n_jobs=1)]: Done   4 out of   4 | elapsed:    0.4s finished\n",
      "[Parallel(n_jobs=1)]: Done 300 out of 300 | elapsed:  1.4min finished\n",
      "D:\\Anaconda3\\lib\\site-packages\\sklearn\\linear_model\\_logistic.py:1320: UserWarning: Setting penalty='none' will ignore the C and l1_ratio parameters\n",
      "  warnings.warn(\n",
      "[Parallel(n_jobs=1)]: Using backend SequentialBackend with 1 concurrent workers.\n",
      "[Parallel(n_jobs=1)]: Done   4 out of   4 | elapsed:    0.6s finished\n"
     ]
    },
    {
     "data": {
      "text/plain": [
       "{'C': 0.5, 'penalty': 'none', 'solver': 'newton-cg'}"
      ]
     },
     "execution_count": 143,
     "metadata": {},
     "output_type": "execute_result"
    }
   ],
   "source": [
    "grid_lr.fit(x_train,y_train)\n",
    "grid_lr.best_params_"
   ]
  },
  {
   "cell_type": "code",
   "execution_count": 161,
   "metadata": {},
   "outputs": [
    {
     "data": {
      "text/plain": [
       "0.9255137897987434"
      ]
     },
     "execution_count": 161,
     "metadata": {},
     "output_type": "execute_result"
    }
   ],
   "source": [
    "lr = LogisticRegression(random_state=20)\n",
    "lr.fit(x_train,y_train)\n",
    "lr.score(x_test,y_test)"
   ]
  },
  {
   "cell_type": "code",
   "execution_count": 164,
   "metadata": {},
   "outputs": [
    {
     "name": "stdout",
     "output_type": "stream",
     "text": [
      "Fitting 5 folds for each of 10 candidates, totalling 50 fits\n"
     ]
    },
    {
     "name": "stderr",
     "output_type": "stream",
     "text": [
      "[Parallel(n_jobs=-1)]: Using backend LokyBackend with 16 concurrent workers.\n",
      "[Parallel(n_jobs=-1)]: Done  36 out of  50 | elapsed:    8.8s remaining:    3.4s\n",
      "[Parallel(n_jobs=-1)]: Done  50 out of  50 | elapsed:    9.7s finished\n",
      "D:\\Anaconda3\\lib\\site-packages\\sklearn\\linear_model\\_logistic.py:1320: UserWarning: Setting penalty='none' will ignore the C and l1_ratio parameters\n",
      "  warnings.warn(\n"
     ]
    },
    {
     "data": {
      "text/plain": [
       "{'solver': 'lbfgs', 'penalty': 'none', 'multi_class': 'multinomial', 'C': 0.25}"
      ]
     },
     "execution_count": 164,
     "metadata": {},
     "output_type": "execute_result"
    }
   ],
   "source": [
    "# could have also used RandomizedSearchCV\n",
    "from sklearn.model_selection import RandomizedSearchCV\n",
    "lr_params = {\n",
    "    'penalty' : ['l2', 'none'],\n",
    "    'solver' : ['newton-cg', 'lbfgs', 'sag'],\n",
    "    'C' : [0.25,0.5,0.75], # to control regularization small value means strong regularization,\n",
    "    'multi_class' : ['ovr', 'multinomial']\n",
    "    # other params mostly depends on solver and penalty combo so not adding them for now   \n",
    "}\n",
    "\n",
    "rand_lr = RandomizedSearchCV(lr,param_distributions=lr_params,verbose=3,n_jobs=-1)\n",
    "rand_lr.fit(x_train,y_train)\n",
    "rand_lr.best_params_"
   ]
  },
  {
   "cell_type": "code",
   "execution_count": 165,
   "metadata": {},
   "outputs": [
    {
     "name": "stderr",
     "output_type": "stream",
     "text": [
      "D:\\Anaconda3\\lib\\site-packages\\sklearn\\linear_model\\_logistic.py:1320: UserWarning: Setting penalty='none' will ignore the C and l1_ratio parameters\n",
      "  warnings.warn(\n"
     ]
    },
    {
     "data": {
      "text/plain": [
       "0.9257800021296987"
      ]
     },
     "execution_count": 165,
     "metadata": {},
     "output_type": "execute_result"
    }
   ],
   "source": [
    "#{'solver': 'lbfgs', 'penalty': 'none', 'multi_class': 'multinomial', 'C': 0.25}\n",
    "lr_rand = LogisticRegression(solver='lbfgs',penalty='none',multi_class='multinomial',C=0.25,random_state=20)\n",
    "lr_rand.fit(x_train,y_train)\n",
    "lr_rand.score(x_test,y_test)"
   ]
  },
  {
   "cell_type": "code",
   "execution_count": 211,
   "metadata": {},
   "outputs": [
    {
     "name": "stdout",
     "output_type": "stream",
     "text": [
      "yes\n"
     ]
    }
   ],
   "source": [
    "if (type(lr_rand)==LogisticRegression):\n",
    "    print('yes')\n",
    "    "
   ]
  },
  {
   "cell_type": "code",
   "execution_count": 228,
   "metadata": {},
   "outputs": [],
   "source": [
    "def classificationMatrics(model,x_test,y_test,beta=1.0,show=[\"all\"]):\n",
    "    \"\"\"\n",
    "    params:\n",
    "    model : model object\n",
    "    x_test : feature test data set\n",
    "    y_test : label test data set\n",
    "    beta : default = 1.0 \n",
    "    show : defautl = \"all\" but can customize with this options {\"all\",\"matrix\",\"report\",\"auc\",\"fbeta\"}\n",
    "    \"\"\"\n",
    "    try:\n",
    "        yr_prob_pred =None\n",
    "        if (type(model)==LogisticRegression):\n",
    "            yr_prob_pred = model.predict_proba(x_test)\n",
    "        elif(type(model)==SVC and model.probability == True):\n",
    "            yr_prob_pred = model.predict_proba(x_test)\n",
    "            \n",
    "        \n",
    "        y_pred = model.predict(x_test)\n",
    "        \n",
    "        if(\"all\" in show or \"matrix\" in show):\n",
    "            print('************************ Confusion Matrix ************************')\n",
    "            print(metrics.confusion_matrix(y_test,y_pred))\n",
    "        \n",
    "        if(\"all\" in show or \"report\" in show):\n",
    "            print(\"*********************** Metrics Report ************************\")\n",
    "            print(metrics.classification_report(y_test,yb_pred,digits=3))\n",
    "            print(\"********************************************************\")\n",
    "        \n",
    "        if((\"all\" in show or \"auc\" in show) and yr_prob_pred is not None):\n",
    "            print('AUC Score - ',roc_auc_score(y_test,yr_prob_pred,multi_class='ovr'))\n",
    "            \n",
    "        if(\"all\" in show or \"fbeta\" in show):\n",
    "            print(f'************************ F {beta} Scores ************************')\n",
    "            print('macro - ',fbeta_score(y_test, yr_pred, average='macro', beta=beta))\n",
    "            print('micro - ',fbeta_score(y_test, yr_pred, average='micro', beta=beta))\n",
    "            print('weighted - ',fbeta_score(y_test, yr_pred, average='weighted', beta=beta))\n",
    "            print('average = none  ', fbeta_score(y_test, yr_pred, average=None, beta=1.0))\n",
    "    except Exception as e:\n",
    "        print('Failed evaluating classificationMatrices ',e)"
   ]
  },
  {
   "cell_type": "code",
   "execution_count": 229,
   "metadata": {},
   "outputs": [
    {
     "name": "stdout",
     "output_type": "stream",
     "text": [
      "************************ Confusion Matrix ************************\n",
      "[[ 3950   129    54     4]\n",
      " [  829   391     0     7]\n",
      " [    6     3 12823     0]\n",
      " [  332    29     1   224]]\n",
      "*********************** Metrics Report ************************\n",
      "              precision    recall  f1-score   support\n",
      "\n",
      "           1      0.766     0.954     0.850      4137\n",
      "           2      0.738     0.298     0.425      1227\n",
      "           3      0.992     1.000     0.996     12832\n",
      "           4      0.967     0.353     0.517       586\n",
      "\n",
      "    accuracy                          0.923     18782\n",
      "   macro avg      0.866     0.651     0.697     18782\n",
      "weighted avg      0.925     0.923     0.912     18782\n",
      "\n",
      "********************************************************\n",
      "AUC Score -  0.9600132792361151\n",
      "************************ F 1.0 Scores ************************\n",
      "macro -  0.7091110969557048\n",
      "micro -  0.9257800021296987\n",
      "weighted -  0.9152845071418175\n",
      "average = none   [0.85368489 0.43957279 0.9975107  0.545676  ]\n"
     ]
    }
   ],
   "source": [
    "classificationMatrics(lr_rand,x_test,y_test) # here accuracy seems increase by approx 1%"
   ]
  },
  {
   "cell_type": "code",
   "execution_count": 230,
   "metadata": {},
   "outputs": [
    {
     "name": "stdout",
     "output_type": "stream",
     "text": [
      "model saved at location ... SavedModels/HOPActivityPrediction_lr.pkl\n"
     ]
    }
   ],
   "source": [
    "#saving LogisticRegression model\n",
    "def saveModelPickle(model,filename):\n",
    "    try: \n",
    "        path = 'SavedModels/' + filename\n",
    "\n",
    "        if(os.path.exists(path)):\n",
    "            os.remove(path)\n",
    "\n",
    "        pickle.dump(model,open(path,\"wb\"))\n",
    "        print(\"model saved at location ...\",path)\n",
    "    except Exception as e:\n",
    "            print('Failed saveModelPickle ',e)\n",
    "        \n",
    "saveModelPickle(lr_rand,\"HOPActivityPrediction_lr.pkl\")"
   ]
  },
  {
   "cell_type": "markdown",
   "metadata": {},
   "source": [
    "# SVC"
   ]
  },
  {
   "cell_type": "code",
   "execution_count": 231,
   "metadata": {},
   "outputs": [
    {
     "data": {
      "text/plain": [
       "SVC(probability=True)"
      ]
     },
     "execution_count": 231,
     "metadata": {},
     "output_type": "execute_result"
    }
   ],
   "source": [
    "from sklearn.svm import SVC\n",
    "\n",
    "svc_model = SVC() \n",
    "svc_model.probability = True\n",
    "svc_model.fit(x_train,y_train)"
   ]
  },
  {
   "cell_type": "code",
   "execution_count": 233,
   "metadata": {},
   "outputs": [
    {
     "data": {
      "text/plain": [
       "True"
      ]
     },
     "execution_count": 233,
     "metadata": {},
     "output_type": "execute_result"
    }
   ],
   "source": [
    "svc_model.probability"
   ]
  },
  {
   "cell_type": "code",
   "execution_count": 234,
   "metadata": {},
   "outputs": [
    {
     "name": "stdout",
     "output_type": "stream",
     "text": [
      "*********************** Metrics Report ************************\n",
      "              precision    recall  f1-score   support\n",
      "\n",
      "           1      0.766     0.954     0.850      4137\n",
      "           2      0.738     0.298     0.425      1227\n",
      "           3      0.992     1.000     0.996     12832\n",
      "           4      0.967     0.353     0.517       586\n",
      "\n",
      "    accuracy                          0.923     18782\n",
      "   macro avg      0.866     0.651     0.697     18782\n",
      "weighted avg      0.925     0.923     0.912     18782\n",
      "\n",
      "********************************************************\n",
      "AUC Score -  0.9896447389358789\n",
      "************************ F 0.5 Scores ************************\n",
      "macro -  0.7755523834884515\n",
      "micro -  0.9257800021296987\n",
      "weighted -  0.9176581818493097\n",
      "average = none   [0.85368489 0.43957279 0.9975107  0.545676  ]\n"
     ]
    }
   ],
   "source": [
    "classificationMatrics(svc_model,x_test,y_test,show=[\"report\",\"auc\",\"fbeta\"],beta=0.5)"
   ]
  },
  {
   "cell_type": "code",
   "execution_count": 123,
   "metadata": {},
   "outputs": [
    {
     "ename": "NameError",
     "evalue": "name 'GridSearchCV' is not defined",
     "output_type": "error",
     "traceback": [
      "\u001b[1;31m---------------------------------------------------------------------------\u001b[0m",
      "\u001b[1;31mNameError\u001b[0m                                 Traceback (most recent call last)",
      "\u001b[1;32m<ipython-input-123-53ed0f74dbe3>\u001b[0m in \u001b[0;36m<module>\u001b[1;34m\u001b[0m\n\u001b[0;32m      5\u001b[0m }\n\u001b[0;32m      6\u001b[0m \u001b[1;33m\u001b[0m\u001b[0m\n\u001b[1;32m----> 7\u001b[1;33m \u001b[0mgrid_svc\u001b[0m \u001b[1;33m=\u001b[0m \u001b[0mGridSearchCV\u001b[0m\u001b[1;33m(\u001b[0m\u001b[0msvc\u001b[0m\u001b[1;33m,\u001b[0m\u001b[0mparam_grid\u001b[0m\u001b[1;33m=\u001b[0m\u001b[0msvc_params\u001b[0m\u001b[1;33m,\u001b[0m\u001b[0mverbose\u001b[0m\u001b[1;33m=\u001b[0m\u001b[1;36m3\u001b[0m\u001b[1;33m)\u001b[0m\u001b[1;33m\u001b[0m\u001b[1;33m\u001b[0m\u001b[0m\n\u001b[0m\u001b[0;32m      8\u001b[0m \u001b[0mgrid_svc\u001b[0m\u001b[1;33m.\u001b[0m\u001b[0mfit\u001b[0m\u001b[1;33m(\u001b[0m\u001b[0mx_train\u001b[0m\u001b[1;33m,\u001b[0m\u001b[0my_train\u001b[0m\u001b[1;33m)\u001b[0m\u001b[1;33m\u001b[0m\u001b[1;33m\u001b[0m\u001b[0m\n\u001b[0;32m      9\u001b[0m \u001b[0mgrid_svc\u001b[0m\u001b[1;33m.\u001b[0m\u001b[0mbest_params_\u001b[0m\u001b[1;33m\u001b[0m\u001b[1;33m\u001b[0m\u001b[0m\n",
      "\u001b[1;31mNameError\u001b[0m: name 'GridSearchCV' is not defined"
     ]
    }
   ],
   "source": [
    "\n",
    "svc_params = {\n",
    "    'kernel' : ['linear', 'poly', 'rbf', 'sigmoid'],\n",
    "    'C' : [.1, .5,1,2,3,4],\n",
    "    'gamma': [.001,.1,.4,.004,.003]\n",
    "}\n",
    "\n",
    "grid_svc = RandomizedSearchCV(svc_model,param_distributions=svc_params,verbose=3)\n",
    "grid_svc.fit(x_train,y_train)\n",
    "grid_svc.best_params_"
   ]
  },
  {
   "cell_type": "code",
   "execution_count": null,
   "metadata": {},
   "outputs": [],
   "source": [
    "pickle.dump(knn,open(\"knn.pkl\",\"wb\"))"
   ]
  },
  {
   "cell_type": "code",
   "execution_count": null,
   "metadata": {},
   "outputs": [],
   "source": [
    "# For Decision Tree\n",
    "from sklearn.tree import DecisionTreeClassifier\n",
    "from sklearn import tree\n",
    "from sklearn.model_selection import GridSearchCV"
   ]
  }
 ],
 "metadata": {
  "kernelspec": {
   "display_name": "Python 3",
   "language": "python",
   "name": "python3"
  },
  "language_info": {
   "codemirror_mode": {
    "name": "ipython",
    "version": 3
   },
   "file_extension": ".py",
   "mimetype": "text/x-python",
   "name": "python",
   "nbconvert_exporter": "python",
   "pygments_lexer": "ipython3",
   "version": "3.8.5"
  }
 },
 "nbformat": 4,
 "nbformat_minor": 4
}
