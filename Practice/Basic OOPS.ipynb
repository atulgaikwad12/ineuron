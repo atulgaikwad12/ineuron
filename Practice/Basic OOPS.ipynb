{
 "cells": [
  {
   "cell_type": "markdown",
   "metadata": {},
   "source": [
    "# class- Classification of real world entity\n",
    "# object variable of class "
   ]
  },
  {
   "cell_type": "code",
   "execution_count": 3,
   "metadata": {},
   "outputs": [],
   "source": [
    "class Car:\n",
    "    pass"
   ]
  },
  {
   "cell_type": "code",
   "execution_count": 5,
   "metadata": {},
   "outputs": [],
   "source": [
    "audi = Car()\n",
    "audi.milage = 70\n",
    "audi.year = 2020\n",
    "audi.make = 1232444\n",
    "audi.model = 'AZ10'"
   ]
  },
  {
   "cell_type": "code",
   "execution_count": 6,
   "metadata": {},
   "outputs": [
    {
     "data": {
      "text/plain": [
       "70"
      ]
     },
     "execution_count": 6,
     "metadata": {},
     "output_type": "execute_result"
    }
   ],
   "source": [
    "audi.milage"
   ]
  },
  {
   "cell_type": "code",
   "execution_count": 7,
   "metadata": {},
   "outputs": [
    {
     "ename": "NameError",
     "evalue": "name 'milage' is not defined",
     "output_type": "error",
     "traceback": [
      "\u001b[1;31m---------------------------------------------------------------------------\u001b[0m",
      "\u001b[1;31mNameError\u001b[0m                                 Traceback (most recent call last)",
      "\u001b[1;32m<ipython-input-7-e6d08bcec70d>\u001b[0m in \u001b[0;36m<module>\u001b[1;34m\u001b[0m\n\u001b[1;32m----> 1\u001b[1;33m \u001b[0mmilage\u001b[0m\u001b[1;33m\u001b[0m\u001b[1;33m\u001b[0m\u001b[0m\n\u001b[0m",
      "\u001b[1;31mNameError\u001b[0m: name 'milage' is not defined"
     ]
    }
   ],
   "source": [
    "milage"
   ]
  },
  {
   "cell_type": "code",
   "execution_count": 8,
   "metadata": {},
   "outputs": [],
   "source": [
    "naxon = Car()\n",
    "naxon.milage = 50\n",
    "naxon.year = 2019\n",
    "naxon.make = 45562\n",
    "naxon.model = 'WR10'"
   ]
  },
  {
   "cell_type": "code",
   "execution_count": 9,
   "metadata": {},
   "outputs": [
    {
     "data": {
      "text/plain": [
       "45562"
      ]
     },
     "execution_count": 9,
     "metadata": {},
     "output_type": "execute_result"
    }
   ],
   "source": [
    "naxon.make"
   ]
  },
  {
   "cell_type": "code",
   "execution_count": 10,
   "metadata": {},
   "outputs": [
    {
     "data": {
      "text/plain": [
       "1232444"
      ]
     },
     "execution_count": 10,
     "metadata": {},
     "output_type": "execute_result"
    }
   ],
   "source": [
    "audi.make"
   ]
  },
  {
   "cell_type": "code",
   "execution_count": 11,
   "metadata": {},
   "outputs": [],
   "source": [
    "naxon.baseprice = 900000"
   ]
  },
  {
   "cell_type": "code",
   "execution_count": 13,
   "metadata": {},
   "outputs": [
    {
     "data": {
      "text/plain": [
       "900000"
      ]
     },
     "execution_count": 13,
     "metadata": {},
     "output_type": "execute_result"
    }
   ],
   "source": [
    "naxon.baseprice"
   ]
  },
  {
   "cell_type": "code",
   "execution_count": 14,
   "metadata": {},
   "outputs": [],
   "source": [
    "# Now here variables are not defined and we have to write again n again for each new object "
   ]
  },
  {
   "cell_type": "code",
   "execution_count": 20,
   "metadata": {},
   "outputs": [],
   "source": [
    "class cars:\n",
    "    \n",
    "    def __init__(self, milage , year, make, model):\n",
    "        self.milage = milage\n",
    "        self.year   = year\n",
    "        self.make   = make\n",
    "        self.model  = model"
   ]
  },
  {
   "cell_type": "code",
   "execution_count": 21,
   "metadata": {},
   "outputs": [],
   "source": [
    "audi  = cars(65,2020,134235,'AW12')"
   ]
  },
  {
   "cell_type": "code",
   "execution_count": 22,
   "metadata": {},
   "outputs": [],
   "source": [
    "naxon = cars(70,2019,32123,'WR10')"
   ]
  },
  {
   "cell_type": "code",
   "execution_count": 15,
   "metadata": {},
   "outputs": [
    {
     "ename": "TypeError",
     "evalue": "__init__() missing 4 required positional arguments: 'milage', 'year', 'make', and 'model'",
     "output_type": "error",
     "traceback": [
      "\u001b[1;31m---------------------------------------------------------------------------\u001b[0m",
      "\u001b[1;31mTypeError\u001b[0m                                 Traceback (most recent call last)",
      "\u001b[1;32m<ipython-input-15-7183ded2a488>\u001b[0m in \u001b[0;36m<module>\u001b[1;34m\u001b[0m\n\u001b[1;32m----> 1\u001b[1;33m \u001b[0mtoyato\u001b[0m \u001b[1;33m=\u001b[0m \u001b[0mcars\u001b[0m\u001b[1;33m(\u001b[0m\u001b[1;33m)\u001b[0m\u001b[1;33m\u001b[0m\u001b[1;33m\u001b[0m\u001b[0m\n\u001b[0m",
      "\u001b[1;31mTypeError\u001b[0m: __init__() missing 4 required positional arguments: 'milage', 'year', 'make', and 'model'"
     ]
    }
   ],
   "source": [
    "toyato = cars()"
   ]
  },
  {
   "cell_type": "code",
   "execution_count": 16,
   "metadata": {},
   "outputs": [
    {
     "data": {
      "text/plain": [
       "134235"
      ]
     },
     "execution_count": 16,
     "metadata": {},
     "output_type": "execute_result"
    }
   ],
   "source": [
    "audi.make"
   ]
  },
  {
   "cell_type": "code",
   "execution_count": 23,
   "metadata": {},
   "outputs": [
    {
     "data": {
      "text/plain": [
       "70"
      ]
     },
     "execution_count": 23,
     "metadata": {},
     "output_type": "execute_result"
    }
   ],
   "source": [
    "naxon.milage"
   ]
  },
  {
   "cell_type": "code",
   "execution_count": 18,
   "metadata": {},
   "outputs": [],
   "source": [
    "class cars:\n",
    "    \n",
    "    def __init__( milage , year, make, model): # milage will behave as pointer to a class as it is a first parameter of init\n",
    "        self.milage = milage\n",
    "        self.year   = year\n",
    "        self.make   = make\n",
    "        self.model  = model"
   ]
  },
  {
   "cell_type": "code",
   "execution_count": 19,
   "metadata": {},
   "outputs": [
    {
     "ename": "TypeError",
     "evalue": "__init__() takes 4 positional arguments but 5 were given",
     "output_type": "error",
     "traceback": [
      "\u001b[1;31m---------------------------------------------------------------------------\u001b[0m",
      "\u001b[1;31mTypeError\u001b[0m                                 Traceback (most recent call last)",
      "\u001b[1;32m<ipython-input-19-fa9f9822a214>\u001b[0m in \u001b[0;36m<module>\u001b[1;34m\u001b[0m\n\u001b[1;32m----> 1\u001b[1;33m \u001b[0mnaxon\u001b[0m \u001b[1;33m=\u001b[0m \u001b[0mcars\u001b[0m\u001b[1;33m(\u001b[0m\u001b[1;36m70\u001b[0m\u001b[1;33m,\u001b[0m\u001b[1;36m2019\u001b[0m\u001b[1;33m,\u001b[0m\u001b[1;36m32123\u001b[0m\u001b[1;33m,\u001b[0m\u001b[1;34m'WR10'\u001b[0m\u001b[1;33m)\u001b[0m\u001b[1;33m\u001b[0m\u001b[1;33m\u001b[0m\u001b[0m\n\u001b[0m",
      "\u001b[1;31mTypeError\u001b[0m: __init__() takes 4 positional arguments but 5 were given"
     ]
    }
   ],
   "source": [
    "naxon = cars(70,2019,32123,'WR10') # hence here will get error on passing of 5 arguments as milage is not a param now"
   ]
  },
  {
   "cell_type": "code",
   "execution_count": 94,
   "metadata": {},
   "outputs": [],
   "source": [
    "class cars:\n",
    "    \n",
    "    def __init__(self, company, milage , year, make, model):\n",
    "        self.company = company\n",
    "        self.milage = milage\n",
    "        self.year   = year\n",
    "        self.make   = make\n",
    "        self.model  = model\n",
    "        \n",
    "    def carAge(self,current_year):\n",
    "        return current_year - self.year\n",
    "\n",
    "    def getMilage(self):\n",
    "        return str(self.milage) + ' km/hr'\n",
    "    \n",
    "    def __str__(self):\n",
    "        return self.company + ' (' + self.model + ') -' + str(self.year)\n",
    "        "
   ]
  },
  {
   "cell_type": "code",
   "execution_count": 95,
   "metadata": {},
   "outputs": [],
   "source": [
    "audi  = cars('Audi',65,2020,134235,'AW12')"
   ]
  },
  {
   "cell_type": "code",
   "execution_count": 96,
   "metadata": {},
   "outputs": [
    {
     "data": {
      "text/plain": [
       "2"
      ]
     },
     "execution_count": 96,
     "metadata": {},
     "output_type": "execute_result"
    }
   ],
   "source": [
    "audi.carAge(2022)"
   ]
  },
  {
   "cell_type": "code",
   "execution_count": 97,
   "metadata": {},
   "outputs": [
    {
     "data": {
      "text/plain": [
       "'65 km/hr'"
      ]
     },
     "execution_count": 97,
     "metadata": {},
     "output_type": "execute_result"
    }
   ],
   "source": [
    "audi.getMilage()"
   ]
  },
  {
   "cell_type": "code",
   "execution_count": 98,
   "metadata": {},
   "outputs": [
    {
     "data": {
      "text/plain": [
       "<__main__.cars at 0x219777f47c0>"
      ]
     },
     "execution_count": 98,
     "metadata": {},
     "output_type": "execute_result"
    }
   ],
   "source": [
    "audi"
   ]
  },
  {
   "cell_type": "code",
   "execution_count": 99,
   "metadata": {},
   "outputs": [
    {
     "name": "stdout",
     "output_type": "stream",
     "text": [
      "Audi (AW12) -2020\n"
     ]
    }
   ],
   "source": [
    "print(audi)"
   ]
  },
  {
   "cell_type": "code",
   "execution_count": 113,
   "metadata": {},
   "outputs": [],
   "source": [
    "class student:    \n",
    "    \n",
    "    def __init__(self,name, roll_no, joining_year, *current_topics):\n",
    "        self.name = name\n",
    "        self.roll_no = roll_no\n",
    "        self.joining_year = joining_year\n",
    "        self.current_topics = current_topics\n",
    "        \n",
    "    def __str__(self):\n",
    "        return \"Name: \" + self.name + \" Roll No:\" + str(self.roll_no)\n",
    "    \n",
    "    def getDuration(self, current_yr):\n",
    "        return current_yr - self.joining_year\n",
    "    \n",
    "    def search_in_current_topics(self,search_topic):\n",
    "        \n",
    "        if(search_topic in self.current_topics):\n",
    "            return True\n",
    "        else:\n",
    "            return False\n",
    "    \n",
    "    def showCurrentTopics(self):\n",
    "        return self.current_topics"
   ]
  },
  {
   "cell_type": "code",
   "execution_count": 114,
   "metadata": {},
   "outputs": [],
   "source": [
    "s1 = student('Atul G',10,2019,'AI','Data Science','Python','DL')"
   ]
  },
  {
   "cell_type": "code",
   "execution_count": 115,
   "metadata": {},
   "outputs": [
    {
     "data": {
      "text/plain": [
       "('AI', 'Data Science', 'Python', 'DL')"
      ]
     },
     "execution_count": 115,
     "metadata": {},
     "output_type": "execute_result"
    }
   ],
   "source": [
    "s1.showCurrentTopics()"
   ]
  },
  {
   "cell_type": "code",
   "execution_count": 116,
   "metadata": {},
   "outputs": [
    {
     "data": {
      "text/plain": [
       "True"
      ]
     },
     "execution_count": 116,
     "metadata": {},
     "output_type": "execute_result"
    }
   ],
   "source": [
    "s1.search_in_current_topics('DL')"
   ]
  },
  {
   "cell_type": "code",
   "execution_count": 117,
   "metadata": {},
   "outputs": [
    {
     "data": {
      "text/plain": [
       "3"
      ]
     },
     "execution_count": 117,
     "metadata": {},
     "output_type": "execute_result"
    }
   ],
   "source": [
    "s1.getDuration(2022)"
   ]
  },
  {
   "cell_type": "code",
   "execution_count": 119,
   "metadata": {},
   "outputs": [
    {
     "data": {
      "text/plain": [
       "'Name: Atul G Roll No:10'"
      ]
     },
     "execution_count": 119,
     "metadata": {},
     "output_type": "execute_result"
    }
   ],
   "source": [
    "str(s1)"
   ]
  },
  {
   "cell_type": "code",
   "execution_count": 120,
   "metadata": {},
   "outputs": [],
   "source": [
    "import datetime as dt"
   ]
  },
  {
   "cell_type": "code",
   "execution_count": 123,
   "metadata": {},
   "outputs": [],
   "source": [
    "currentdate = dt.datetime.now()"
   ]
  },
  {
   "cell_type": "code",
   "execution_count": 130,
   "metadata": {},
   "outputs": [
    {
     "data": {
      "text/plain": [
       "11"
      ]
     },
     "execution_count": 130,
     "metadata": {},
     "output_type": "execute_result"
    }
   ],
   "source": [
    "currentdate.day"
   ]
  },
  {
   "cell_type": "code",
   "execution_count": 131,
   "metadata": {},
   "outputs": [
    {
     "name": "stdout",
     "output_type": "stream",
     "text": [
      "Sunday\n"
     ]
    }
   ],
   "source": [
    "print(currentdate.strftime(\"%A\"))"
   ]
  },
  {
   "cell_type": "code",
   "execution_count": 134,
   "metadata": {},
   "outputs": [
    {
     "name": "stdout",
     "output_type": "stream",
     "text": [
      "2021-11-04 17:39:55\n"
     ]
    }
   ],
   "source": [
    "print(currentdate.strftime(\"%Y-%d-%m %H:%M:%S\"))"
   ]
  },
  {
   "cell_type": "code",
   "execution_count": 135,
   "metadata": {},
   "outputs": [
    {
     "data": {
      "text/plain": [
       "'D:\\\\ineuron\\\\ineuron\\\\Practice'"
      ]
     },
     "execution_count": 135,
     "metadata": {},
     "output_type": "execute_result"
    }
   ],
   "source": [
    "pwd()"
   ]
  },
  {
   "cell_type": "code",
   "execution_count": 156,
   "metadata": {},
   "outputs": [],
   "source": [
    "import logging as lg\n",
    "class data:\n",
    "    \n",
    "    def __init__(self,filename,file_type,date,size):\n",
    "        self.filename  = filename\n",
    "        self.file_type = file_type\n",
    "        self.date      = date\n",
    "        self.size      = size\n",
    "               \n",
    "        formate = '%(asctime)-15s %(name)s %(message)s'\n",
    "        lg.basicConfig(filename='log_file.txt',level= lg.DEBUG, format  = formate)\n",
    "        \n",
    "    def log(self,msg,level = \"INFO\"):\n",
    "                \n",
    "        if(level == \"INFO\"):\n",
    "            lg.info(msg)\n",
    "        else:\n",
    "            lg.error(msg)\n",
    "        \n",
    "    def file_open(self):\n",
    "        \n",
    "        try:\n",
    "            filename = self.filename + \".\" + self.file_type\n",
    "            fw = open(filename,'w+')\n",
    "            fw.write('Start Writing in file')\n",
    "            self.log('Start Writing in file')\n",
    "            text = self.filename + self.file_type + str(self.date) + str(self.size)\n",
    "            fw.write(text)\n",
    "            \n",
    "        except Exception as e:\n",
    "            msg = 'File Writing Failed...' + str(e)\n",
    "            print(msg,\"ERROR\")\n",
    "            self.log(msg)\n",
    "        else:\n",
    "            fw.close()\n",
    "            \n",
    "        \n",
    "    def file_read(self):\n",
    "        \n",
    "        try:\n",
    "            filename = self.filename + \".\" + self.file_type\n",
    "            fr = open(filename)\n",
    "            self.log('Start Reading in file')\n",
    "            lst = []\n",
    "            for line in fr:\n",
    "                lst.append(line)\n",
    "                           \n",
    "        except Exception as e:\n",
    "            msg = 'File Writing Failed...' + str(e)\n",
    "            print(msg)\n",
    "            self.log(msg,\"ERROR\")\n",
    "        else:\n",
    "            fr.close()\n",
    "            return lst\n",
    "        \n",
    "        \n",
    "    def file_append(self,text):\n",
    "        \n",
    "        try:\n",
    "            filename = self.filename + \".\" + self.file_type\n",
    "            fa = open(filename,'a')\n",
    "            self.log('Start Appending in file')\n",
    "            fa.write('\\n'+text)\n",
    "                           \n",
    "        except Exception as e:\n",
    "            msg = 'File Appending Failed...' + str(e)\n",
    "            print(msg)\n",
    "            self.log(msg,\"ERROR\")\n",
    "        else:\n",
    "            fa.close()\n",
    "            \n",
    "        "
   ]
  },
  {
   "cell_type": "code",
   "execution_count": 157,
   "metadata": {},
   "outputs": [],
   "source": [
    "d = data(\"abc\",\"txt\",2021,1024)"
   ]
  },
  {
   "cell_type": "code",
   "execution_count": 158,
   "metadata": {},
   "outputs": [],
   "source": [
    "d.file_open()"
   ]
  },
  {
   "cell_type": "code",
   "execution_count": 159,
   "metadata": {},
   "outputs": [
    {
     "data": {
      "text/plain": [
       "['Start Writing in fileabctxt20211024']"
      ]
     },
     "execution_count": 159,
     "metadata": {},
     "output_type": "execute_result"
    }
   ],
   "source": [
    "d.file_read()"
   ]
  },
  {
   "cell_type": "code",
   "execution_count": 160,
   "metadata": {},
   "outputs": [],
   "source": [
    "d.file_append('New data for file ')"
   ]
  },
  {
   "cell_type": "code",
   "execution_count": 161,
   "metadata": {},
   "outputs": [
    {
     "data": {
      "text/plain": [
       "['Start Writing in fileabctxt20211024\\n', 'New data for file ']"
      ]
     },
     "execution_count": 161,
     "metadata": {},
     "output_type": "execute_result"
    }
   ],
   "source": [
    "d.file_read()"
   ]
  },
  {
   "cell_type": "code",
   "execution_count": null,
   "metadata": {},
   "outputs": [],
   "source": [
    "Abstraction -> protecting variable\n",
    "variablename => private \n",
    "_variablename => protected\n",
    "__variablename => private"
   ]
  },
  {
   "cell_type": "code",
   "execution_count": 29,
   "metadata": {},
   "outputs": [],
   "source": [
    "class Test:\n",
    "    \n",
    "    def __init__(self,a,b,c):\n",
    "        self.a  = a\n",
    "        self._b = b\n",
    "        self.__c = c\n",
    "        \n",
    "    def custom(self):\n",
    "        return self.a + self._b +self.__c"
   ]
  },
  {
   "cell_type": "code",
   "execution_count": 30,
   "metadata": {},
   "outputs": [],
   "source": [
    "t = Test(1,2,3)"
   ]
  },
  {
   "cell_type": "code",
   "execution_count": 31,
   "metadata": {},
   "outputs": [
    {
     "data": {
      "text/plain": [
       "1"
      ]
     },
     "execution_count": 31,
     "metadata": {},
     "output_type": "execute_result"
    }
   ],
   "source": [
    "t.a # public variable"
   ]
  },
  {
   "cell_type": "code",
   "execution_count": 32,
   "metadata": {},
   "outputs": [
    {
     "data": {
      "text/plain": [
       "2"
      ]
     },
     "execution_count": 32,
     "metadata": {},
     "output_type": "execute_result"
    }
   ],
   "source": [
    "t._b # Protected variable is acessible using object"
   ]
  },
  {
   "cell_type": "code",
   "execution_count": 33,
   "metadata": {},
   "outputs": [
    {
     "ename": "AttributeError",
     "evalue": "'Test' object has no attribute '__c'",
     "output_type": "error",
     "traceback": [
      "\u001b[1;31m---------------------------------------------------------------------------\u001b[0m",
      "\u001b[1;31mAttributeError\u001b[0m                            Traceback (most recent call last)",
      "\u001b[1;32m<ipython-input-33-9a08febb9d79>\u001b[0m in \u001b[0;36m<module>\u001b[1;34m\u001b[0m\n\u001b[1;32m----> 1\u001b[1;33m \u001b[0mt\u001b[0m\u001b[1;33m.\u001b[0m\u001b[0m__c\u001b[0m \u001b[1;31m# Not able access private variable directly using object\u001b[0m\u001b[1;33m\u001b[0m\u001b[1;33m\u001b[0m\u001b[0m\n\u001b[0m",
      "\u001b[1;31mAttributeError\u001b[0m: 'Test' object has no attribute '__c'"
     ]
    }
   ],
   "source": [
    "t.__c # Not able access private variable directly using object "
   ]
  },
  {
   "cell_type": "code",
   "execution_count": 34,
   "metadata": {},
   "outputs": [
    {
     "data": {
      "text/plain": [
       "3"
      ]
     },
     "execution_count": 34,
     "metadata": {},
     "output_type": "execute_result"
    }
   ],
   "source": [
    "# We can access private like this\n",
    "t._Test__c"
   ]
  },
  {
   "cell_type": "code",
   "execution_count": 35,
   "metadata": {},
   "outputs": [
    {
     "data": {
      "text/plain": [
       "6"
      ]
     },
     "execution_count": 35,
     "metadata": {},
     "output_type": "execute_result"
    }
   ],
   "source": [
    "t.custom() "
   ]
  },
  {
   "cell_type": "code",
   "execution_count": 38,
   "metadata": {},
   "outputs": [],
   "source": [
    "class Test2(Test):\n",
    "    \n",
    "    def __init__(self,j,*args): \n",
    "        super(Test2,self).__init__(*args)\n",
    "        self.j = j"
   ]
  },
  {
   "cell_type": "code",
   "execution_count": 39,
   "metadata": {},
   "outputs": [],
   "source": [
    "t2 = Test2(12,1,2,3)"
   ]
  },
  {
   "cell_type": "code",
   "execution_count": 40,
   "metadata": {},
   "outputs": [
    {
     "data": {
      "text/plain": [
       "12"
      ]
     },
     "execution_count": 40,
     "metadata": {},
     "output_type": "execute_result"
    }
   ],
   "source": [
    "t2.j"
   ]
  },
  {
   "cell_type": "code",
   "execution_count": 41,
   "metadata": {},
   "outputs": [
    {
     "data": {
      "text/plain": [
       "1"
      ]
     },
     "execution_count": 41,
     "metadata": {},
     "output_type": "execute_result"
    }
   ],
   "source": [
    "t2.a"
   ]
  },
  {
   "cell_type": "code",
   "execution_count": 42,
   "metadata": {},
   "outputs": [
    {
     "data": {
      "text/plain": [
       "2"
      ]
     },
     "execution_count": 42,
     "metadata": {},
     "output_type": "execute_result"
    }
   ],
   "source": [
    "t2._b"
   ]
  },
  {
   "cell_type": "code",
   "execution_count": 43,
   "metadata": {},
   "outputs": [
    {
     "ename": "AttributeError",
     "evalue": "'Test2' object has no attribute '__c'",
     "output_type": "error",
     "traceback": [
      "\u001b[1;31m---------------------------------------------------------------------------\u001b[0m",
      "\u001b[1;31mAttributeError\u001b[0m                            Traceback (most recent call last)",
      "\u001b[1;32m<ipython-input-43-dc33ae4437f4>\u001b[0m in \u001b[0;36m<module>\u001b[1;34m\u001b[0m\n\u001b[1;32m----> 1\u001b[1;33m \u001b[0mt2\u001b[0m\u001b[1;33m.\u001b[0m\u001b[0m__c\u001b[0m\u001b[1;33m\u001b[0m\u001b[1;33m\u001b[0m\u001b[0m\n\u001b[0m",
      "\u001b[1;31mAttributeError\u001b[0m: 'Test2' object has no attribute '__c'"
     ]
    }
   ],
   "source": [
    "t2.__c"
   ]
  },
  {
   "cell_type": "code",
   "execution_count": 47,
   "metadata": {},
   "outputs": [
    {
     "data": {
      "text/plain": [
       "3"
      ]
     },
     "execution_count": 47,
     "metadata": {},
     "output_type": "execute_result"
    }
   ],
   "source": [
    "t2._Test__c"
   ]
  },
  {
   "cell_type": "code",
   "execution_count": 89,
   "metadata": {},
   "outputs": [
    {
     "name": "stdout",
     "output_type": "stream",
     "text": [
      "test=>10\n",
      "test1=>20\n"
     ]
    }
   ],
   "source": [
    "class test:\n",
    "    def __init__(self,v):\n",
    "        self.__v = v\n",
    "        \n",
    "    def a(self):\n",
    "        return 'test=>' + str(self.__v) \n",
    "\n",
    "class test1:\n",
    "    \n",
    "    def __init__(self,v):\n",
    "        self.__v = v\n",
    "        \n",
    "    def a(self):\n",
    "        return 'test1=>' + str(self.__v)\n",
    "    \n",
    "class test2(test,test1):\n",
    "    \n",
    "    def __init__(self,v):\n",
    "        test.__init__(self,v)\n",
    "        test1.__init__(self,v+10)   \n",
    "    \n",
    "t2 = test2(10)\n",
    "print(t2.a()) # priority given to first class inherited in child class \n",
    "print(test1.a(t2))"
   ]
  },
  {
   "cell_type": "code",
   "execution_count": 92,
   "metadata": {},
   "outputs": [
    {
     "ename": "TypeError",
     "evalue": "a() missing 1 required positional argument: 'y'",
     "output_type": "error",
     "traceback": [
      "\u001b[1;31m---------------------------------------------------------------------------\u001b[0m",
      "\u001b[1;31mTypeError\u001b[0m                                 Traceback (most recent call last)",
      "\u001b[1;32m<ipython-input-92-1010cae3f62b>\u001b[0m in \u001b[0;36m<module>\u001b[1;34m\u001b[0m\n\u001b[0;32m     13\u001b[0m \u001b[1;33m\u001b[0m\u001b[0m\n\u001b[0;32m     14\u001b[0m \u001b[0mt2\u001b[0m \u001b[1;33m=\u001b[0m \u001b[0mtest2\u001b[0m\u001b[1;33m(\u001b[0m\u001b[1;33m)\u001b[0m\u001b[1;33m\u001b[0m\u001b[1;33m\u001b[0m\u001b[0m\n\u001b[1;32m---> 15\u001b[1;33m \u001b[0mprint\u001b[0m\u001b[1;33m(\u001b[0m\u001b[0mt2\u001b[0m\u001b[1;33m.\u001b[0m\u001b[0ma\u001b[0m\u001b[1;33m(\u001b[0m\u001b[1;36m10\u001b[0m\u001b[1;33m)\u001b[0m\u001b[1;33m)\u001b[0m\u001b[1;33m\u001b[0m\u001b[1;33m\u001b[0m\u001b[0m\n\u001b[0m\u001b[0;32m     16\u001b[0m \u001b[0mprint\u001b[0m\u001b[1;33m(\u001b[0m\u001b[0mt2\u001b[0m\u001b[1;33m.\u001b[0m\u001b[0ma\u001b[0m\u001b[1;33m(\u001b[0m\u001b[1;36m20\u001b[0m\u001b[1;33m,\u001b[0m\u001b[1;36m30\u001b[0m\u001b[1;33m)\u001b[0m\u001b[1;33m)\u001b[0m\u001b[1;33m\u001b[0m\u001b[1;33m\u001b[0m\u001b[0m\n",
      "\u001b[1;31mTypeError\u001b[0m: a() missing 1 required positional argument: 'y'"
     ]
    }
   ],
   "source": [
    "# multiple inheritance with same method name is not possible even with method overloading \n",
    "\n",
    "class test:\n",
    "        \n",
    "    def a(self,x,y):\n",
    "        return 'test=>' + str(x+y) \n",
    "\n",
    "class test1:\n",
    "\n",
    "    def a(self,z):\n",
    "        return 'test1=>' + str(z)\n",
    "    \n",
    "class test2(test,test1):\n",
    "    pass\n",
    "    \n",
    "t2 = test2()\n",
    "print(t2.a(10))\n",
    "print(t2.a(20,30))"
   ]
  },
  {
   "cell_type": "markdown",
   "metadata": {},
   "source": [
    "Encapsulation => hiding actual implementation of class "
   ]
  },
  {
   "cell_type": "code",
   "execution_count": 102,
   "metadata": {},
   "outputs": [],
   "source": [
    "class test:\n",
    "    \n",
    "    def __init__(self,a):\n",
    "        self.a = a\n",
    "    \n",
    "    def __str__(self): \n",
    "        return \"Inside test class with a= \" + str(self.a)\n",
    "    \n",
    "class test1:\n",
    "    \n",
    "    def __init__(self,b):\n",
    "        self.b = b\n",
    "        \n",
    "    def __str__(self):\n",
    "        return \"Inside test1 class with b= \" + str(self.b)\n",
    "    \n",
    "class final:\n",
    "    \n",
    "    def __init__(self,obj,obj1):\n",
    "        self.obj = obj\n",
    "        self.obj1 = obj1\n",
    "        \n",
    "    def __str__(self):\n",
    "        return str(self.obj) + \" \" + str(self.obj1)\n",
    "    \n"
   ]
  },
  {
   "cell_type": "code",
   "execution_count": 103,
   "metadata": {},
   "outputs": [],
   "source": [
    "t = test(10)\n",
    "t1 = test1(20)\n",
    "f = final(t,t1)"
   ]
  },
  {
   "cell_type": "code",
   "execution_count": 104,
   "metadata": {},
   "outputs": [
    {
     "name": "stdout",
     "output_type": "stream",
     "text": [
      "Inside test class with a= 10Inside test1 class with b= 20\n"
     ]
    }
   ],
   "source": [
    "print(f)"
   ]
  },
  {
   "cell_type": "code",
   "execution_count": null,
   "metadata": {},
   "outputs": [],
   "source": []
  }
 ],
 "metadata": {
  "kernelspec": {
   "display_name": "Python 3",
   "language": "python",
   "name": "python3"
  },
  "language_info": {
   "codemirror_mode": {
    "name": "ipython",
    "version": 3
   },
   "file_extension": ".py",
   "mimetype": "text/x-python",
   "name": "python",
   "nbconvert_exporter": "python",
   "pygments_lexer": "ipython3",
   "version": "3.8.5"
  }
 },
 "nbformat": 4,
 "nbformat_minor": 4
}
