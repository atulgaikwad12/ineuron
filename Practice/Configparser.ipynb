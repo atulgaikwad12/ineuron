{
 "cells": [
  {
   "cell_type": "code",
   "execution_count": 1,
   "metadata": {},
   "outputs": [
    {
     "name": "stdout",
     "output_type": "stream",
     "text": [
      "Collecting configparser\n",
      "  Downloading configparser-5.0.2-py3-none-any.whl (19 kB)\n",
      "Installing collected packages: configparser\n",
      "Successfully installed configparser-5.0.2\n"
     ]
    }
   ],
   "source": [
    "!pip install configparser"
   ]
  },
  {
   "cell_type": "code",
   "execution_count": 2,
   "metadata": {},
   "outputs": [],
   "source": [
    "import configparser as cp"
   ]
  },
  {
   "cell_type": "code",
   "execution_count": 24,
   "metadata": {},
   "outputs": [
    {
     "name": "stdout",
     "output_type": "stream",
     "text": [
      "['dbserver', 'dbname']\n",
      "['mongodb://localhost:27017/', 'Employee']\n"
     ]
    }
   ],
   "source": [
    "\n",
    "class configHandler:\n",
    "\n",
    "    def __init__(self,filename):\n",
    "        self.filename = filename\n",
    "\n",
    "    def __str__(self):\n",
    "        return self.filename\n",
    "\n",
    "    def generateConfigFile(self):\n",
    "        # This is a hardcoded schema with default values\n",
    "        write_config = cp.ConfigParser()\n",
    "\n",
    "        write_config.add_section(\"mongodb\")\n",
    "        write_config.set(\"mongodb\", \"dbserver\", \"mongodb://localhost:27017/\")\n",
    "        write_config.set(\"mongodb\", \"dbname\", \"Employee\")\n",
    "\n",
    "        write_config.add_section(\"mysql\")\n",
    "        write_config.set(\"mysql\", \"dbserver\", \"localhost\")\n",
    "        write_config.set(\"mysql\", \"user\", \"root\")\n",
    "        write_config.set(\"mysql\", \"passwd\", \"mysql\")\n",
    "\n",
    "        write_config.add_section(\"cassandra\")\n",
    "        write_config.set(\"cassandra\", \"user\", \"atulgaikwad\")\n",
    "        write_config.set(\"cassandra\", \"passwd\", \"Test123!\")\n",
    "\n",
    "        if('.ini' in self.filename):\n",
    "            configFile = self.filename\n",
    "        else:\n",
    "            configFile = self.filename + \".ini\"\n",
    "\n",
    "        fw = open(configFile, 'w')\n",
    "        write_config.write(fw)\n",
    "        fw.close()\n",
    "\n",
    "    def readConfigFile(self,section):\n",
    "        #read_config = cp.ConfigParser()\n",
    "\n",
    "        if ('.ini' in self.filename):\n",
    "            configFile = self.filename\n",
    "        else:\n",
    "            configFile = self.filename + \".ini\"\n",
    "\n",
    "        #read_config.read(configFile)\n",
    "        #print(read_config)\n",
    "        #data = read_config.get(section)\n",
    "        #print(data)\n",
    "        #print(read_config.items())\n",
    "        custom = cp.RawConfigParser()\n",
    "        custom.read(configFile)\n",
    "        print(list(custom[section].keys()))\n",
    "        print(list(custom[section].values()))\n",
    "            \n",
    "\n",
    "\n",
    "if (__name__ == \"__main__\"):\n",
    "    ch = configHandler(\"dbconnections.ini\")\n",
    "    #Uncomment below line to generate ini file\n",
    "    #ch.generateConfigFile()\n",
    "    ch.readConfigFile(\"mongodb\")\n"
   ]
  },
  {
   "cell_type": "code",
   "execution_count": null,
   "metadata": {},
   "outputs": [],
   "source": []
  }
 ],
 "metadata": {
  "kernelspec": {
   "display_name": "Python 3",
   "language": "python",
   "name": "python3"
  },
  "language_info": {
   "codemirror_mode": {
    "name": "ipython",
    "version": 3
   },
   "file_extension": ".py",
   "mimetype": "text/x-python",
   "name": "python",
   "nbconvert_exporter": "python",
   "pygments_lexer": "ipython3",
   "version": "3.8.5"
  }
 },
 "nbformat": 4,
 "nbformat_minor": 4
}
