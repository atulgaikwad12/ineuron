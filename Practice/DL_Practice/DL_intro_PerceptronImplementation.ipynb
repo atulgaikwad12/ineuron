{
 "cells": [
  {
   "cell_type": "code",
   "execution_count": 1,
   "metadata": {},
   "outputs": [
    {
     "name": "stdout",
     "output_type": "stream",
     "text": [
      "Requirement already satisfied: joblib in d:\\anaconda3\\lib\\site-packages (0.17.0)\n"
     ]
    }
   ],
   "source": [
    "!pip install joblib"
   ]
  },
  {
   "cell_type": "code",
   "execution_count": null,
   "metadata": {},
   "outputs": [],
   "source": [
    "# ref -> https://github.com/c17hawke/Perceptron_implimentation_FSDS\n",
    "# DL intro collab notebook -> https://colab.research.google.com/drive/12n3MwGahkQZuTi4fDhYja2-AcyBsuQKc"
   ]
  },
  {
   "cell_type": "code",
   "execution_count": 25,
   "metadata": {},
   "outputs": [],
   "source": [
    "import os \n",
    "import matplotlib.pyplot as plt\n",
    "import joblib\n",
    "import numpy as np\n",
    "import  pandas as pd\n",
    "\n",
    "plt.style.use(\"fivethirtyeight\")"
   ]
  },
  {
   "cell_type": "code",
   "execution_count": 3,
   "metadata": {},
   "outputs": [
    {
     "data": {
      "text/plain": [
       "array([ 0.07879254, -0.44381755,  1.09172885])"
      ]
     },
     "execution_count": 3,
     "metadata": {},
     "output_type": "execute_result"
    }
   ],
   "source": [
    "np.random.randn(3)"
   ]
  },
  {
   "cell_type": "code",
   "execution_count": 17,
   "metadata": {},
   "outputs": [
    {
     "data": {
      "text/plain": [
       "0.0001"
      ]
     },
     "execution_count": 17,
     "metadata": {},
     "output_type": "execute_result"
    }
   ],
   "source": [
    "1e-4 #indicates => 10^-4"
   ]
  },
  {
   "cell_type": "code",
   "execution_count": 18,
   "metadata": {},
   "outputs": [
    {
     "data": {
      "text/plain": [
       "array([-1.10487856e-04,  3.47306165e-05, -6.55591755e-05])"
      ]
     },
     "execution_count": 18,
     "metadata": {},
     "output_type": "execute_result"
    }
   ],
   "source": [
    " np.random.randn(3) * 1e-4 "
   ]
  },
  {
   "cell_type": "code",
   "execution_count": 12,
   "metadata": {},
   "outputs": [
    {
     "data": {
      "text/plain": [
       "array([[12., 23., -1.],\n",
       "       [34., 45., -1.]])"
      ]
     },
     "execution_count": 12,
     "metadata": {},
     "output_type": "execute_result"
    }
   ],
   "source": [
    "np.c_[[[12, 23],\n",
    "      [34, 45]],-np.ones((2,1))]"
   ]
  },
  {
   "cell_type": "code",
   "execution_count": 67,
   "metadata": {},
   "outputs": [],
   "source": [
    "\n",
    "class Perceptron:\n",
    "    \n",
    "    def __init__(self,eta: float=None,epochs: int=None):\n",
    "        #self.weights = np.random.randn(3) * 1e-4 \n",
    "        self.eta=eta # learning rate\n",
    "        self.epochs = epochs # iterations\n",
    "        \n",
    "    #_ for private function\n",
    "    def _z_outcomes(self, inputs, weights): \n",
    "        return np.dot(inputs,weights) # for dot product of matrix\n",
    "    \n",
    "    \n",
    "    def activation_function(self,z):\n",
    "        #step funtion considering 0 as threshold if >0 then 1 else 0\n",
    "        return np.where(z>0,1,0) \n",
    "    \n",
    "    def fit(self,x,y):\n",
    "        self.x = x\n",
    "        self.y = y\n",
    "        self.weights = np.random.randn(self.x.shape[1]+1) * 1e-4 \n",
    "            \n",
    "        x_with_bias = np.c_[self.x,-np.ones((len(self.x),1))]\n",
    "        print(f\"X with Bias:\\n{x_with_bias}\")\n",
    "        \n",
    "        for epoch in range(self.epochs):\n",
    "            print(\"--\"*10)\n",
    "            print(f\"for epoch >> {epoch + 1}\")\n",
    "            print(\"--\"*10)\n",
    "            z = self._z_outcomes(x_with_bias,self.weights)\n",
    "            y_hat = self.activation_function(z)\n",
    "            print(f\"y_hat :\\n{y_hat} for epoch {epoch+1}/{self.epochs}\")\n",
    "            \n",
    "            self.error = y - y_hat\n",
    "            print(f\"error: \\n{self.error}\")\n",
    "            \n",
    "            if(np.all((self.error == 0))): # for early exit \n",
    "                break\n",
    "                \n",
    "            self.weights = self.weights + self.eta * np.dot(x_with_bias.T,self.error)\n",
    "            print(f\"updated weights after epoch: {epoch + 1}/{self.epochs}: \\n{self.weights}\")\n",
    "            print(f\"##\"*10)\n",
    "            \n",
    "    \n",
    "    def predict(self,x):\n",
    "        x_with_bias = np.c_[x,-np.ones((len(x),1))]\n",
    "        z = self._z_outcomes(x_with_bias,self.weights)\n",
    "        y_pred = self.activation_function(z)\n",
    "        return y_pred\n",
    "            \n",
    "        \n",
    "        "
   ]
  },
  {
   "cell_type": "code",
   "execution_count": 68,
   "metadata": {},
   "outputs": [
    {
     "data": {
      "text/plain": [
       "(4, 1)"
      ]
     },
     "execution_count": 68,
     "metadata": {},
     "output_type": "execute_result"
    }
   ],
   "source": [
    "x =  np.ones((4,1))\n",
    "x.shape"
   ]
  },
  {
   "cell_type": "code",
   "execution_count": 69,
   "metadata": {},
   "outputs": [],
   "source": [
    "df_OR = pd.DataFrame({\n",
    "    \"x1\": [0,0,1,1],\n",
    "    \"x2\": [0,1,0,1],\n",
    "    \"y\" : [0,1,1,1]\n",
    "})"
   ]
  },
  {
   "cell_type": "code",
   "execution_count": 70,
   "metadata": {},
   "outputs": [],
   "source": [
    "def prepare_data(df,target_col=\"y\"):\n",
    "    x = df.drop(target_col,axis=1)\n",
    "    y= df[target_col]\n",
    "    \n",
    "    return x,y"
   ]
  },
  {
   "cell_type": "code",
   "execution_count": 71,
   "metadata": {},
   "outputs": [
    {
     "name": "stdout",
     "output_type": "stream",
     "text": [
      "X with Bias:\n",
      "[[ 0.  0. -1.]\n",
      " [ 0.  1. -1.]\n",
      " [ 1.  0. -1.]\n",
      " [ 1.  1. -1.]]\n",
      "--------------------\n",
      "for epoch >> 1\n",
      "--------------------\n",
      "y_hat :\n",
      "[0 1 1 1] for epoch 1/10\n",
      "error: \n",
      "0    0\n",
      "1    0\n",
      "2    0\n",
      "3    0\n",
      "Name: y, dtype: int64\n"
     ]
    }
   ],
   "source": [
    "x, y = prepare_data(df_OR)\n",
    "eta=0.1\n",
    "ephocs=10\n",
    "\n",
    "model_or = Perceptron(eta=eta,epochs=ephocs)\n",
    "model_or.fit(x,y)"
   ]
  },
  {
   "cell_type": "code",
   "execution_count": 72,
   "metadata": {},
   "outputs": [
    {
     "data": {
      "text/plain": [
       "array([1])"
      ]
     },
     "execution_count": 72,
     "metadata": {},
     "output_type": "execute_result"
    }
   ],
   "source": [
    "model_or.predict([[0,1]])"
   ]
  },
  {
   "cell_type": "code",
   "execution_count": 73,
   "metadata": {},
   "outputs": [
    {
     "data": {
      "text/plain": [
       "array([1])"
      ]
     },
     "execution_count": 73,
     "metadata": {},
     "output_type": "execute_result"
    }
   ],
   "source": [
    "model_or.predict([[1,1]])"
   ]
  },
  {
   "cell_type": "code",
   "execution_count": 74,
   "metadata": {},
   "outputs": [
    {
     "data": {
      "text/plain": [
       "array([0])"
      ]
     },
     "execution_count": 74,
     "metadata": {},
     "output_type": "execute_result"
    }
   ],
   "source": [
    "model_or.predict([[0,0]])"
   ]
  },
  {
   "cell_type": "code",
   "execution_count": 75,
   "metadata": {},
   "outputs": [
    {
     "name": "stdout",
     "output_type": "stream",
     "text": [
      "X with Bias:\n",
      "[[ 0.  0. -1.]\n",
      " [ 0.  1. -1.]\n",
      " [ 1.  0. -1.]\n",
      " [ 1.  1. -1.]]\n",
      "--------------------\n",
      "for epoch >> 1\n",
      "--------------------\n",
      "y_hat :\n",
      "[1 1 1 1] for epoch 1/10\n",
      "error: \n",
      "0   -1\n",
      "1   -1\n",
      "2   -1\n",
      "3    0\n",
      "Name: y, dtype: int64\n",
      "updated weights after epoch: 1/10: \n",
      "[-0.09987593 -0.10003623  0.29992753]\n",
      "####################\n",
      "--------------------\n",
      "for epoch >> 2\n",
      "--------------------\n",
      "y_hat :\n",
      "[0 0 0 0] for epoch 2/10\n",
      "error: \n",
      "0    0\n",
      "1    0\n",
      "2    0\n",
      "3    1\n",
      "Name: y, dtype: int64\n",
      "updated weights after epoch: 2/10: \n",
      "[ 1.24068836e-04 -3.62305298e-05  1.99927532e-01]\n",
      "####################\n",
      "--------------------\n",
      "for epoch >> 3\n",
      "--------------------\n",
      "y_hat :\n",
      "[0 0 0 0] for epoch 3/10\n",
      "error: \n",
      "0    0\n",
      "1    0\n",
      "2    0\n",
      "3    1\n",
      "Name: y, dtype: int64\n",
      "updated weights after epoch: 3/10: \n",
      "[0.10012407 0.09996377 0.09992753]\n",
      "####################\n",
      "--------------------\n",
      "for epoch >> 4\n",
      "--------------------\n",
      "y_hat :\n",
      "[0 1 1 1] for epoch 4/10\n",
      "error: \n",
      "0    0\n",
      "1   -1\n",
      "2   -1\n",
      "3    0\n",
      "Name: y, dtype: int64\n",
      "updated weights after epoch: 4/10: \n",
      "[ 1.24068836e-04 -3.62305298e-05  2.99927532e-01]\n",
      "####################\n",
      "--------------------\n",
      "for epoch >> 5\n",
      "--------------------\n",
      "y_hat :\n",
      "[0 0 0 0] for epoch 5/10\n",
      "error: \n",
      "0    0\n",
      "1    0\n",
      "2    0\n",
      "3    1\n",
      "Name: y, dtype: int64\n",
      "updated weights after epoch: 5/10: \n",
      "[0.10012407 0.09996377 0.19992753]\n",
      "####################\n",
      "--------------------\n",
      "for epoch >> 6\n",
      "--------------------\n",
      "y_hat :\n",
      "[0 0 0 1] for epoch 6/10\n",
      "error: \n",
      "0    0\n",
      "1    0\n",
      "2    0\n",
      "3    0\n",
      "Name: y, dtype: int64\n"
     ]
    },
    {
     "data": {
      "text/plain": [
       "array([0])"
      ]
     },
     "execution_count": 75,
     "metadata": {},
     "output_type": "execute_result"
    }
   ],
   "source": [
    "df_AND = pd.DataFrame({\n",
    "    \"x1\": [0,0,1,1],\n",
    "    \"x2\": [0,1,0,1],\n",
    "    \"y\" : [0,0,0,1]\n",
    "})\n",
    "\n",
    "x, y = prepare_data(df_AND)\n",
    "eta=0.1\n",
    "ephocs=10\n",
    "\n",
    "model_and = Perceptron(eta=eta,epochs=ephocs)\n",
    "model_and.fit(x,y)\n",
    "\n",
    "model_and.predict([[0,1]])"
   ]
  },
  {
   "cell_type": "code",
   "execution_count": 76,
   "metadata": {},
   "outputs": [
    {
     "data": {
      "text/plain": [
       "array([1])"
      ]
     },
     "execution_count": 76,
     "metadata": {},
     "output_type": "execute_result"
    }
   ],
   "source": [
    "model_and.predict([[1,1]])"
   ]
  },
  {
   "cell_type": "code",
   "execution_count": 77,
   "metadata": {},
   "outputs": [
    {
     "name": "stdout",
     "output_type": "stream",
     "text": [
      "X with Bias:\n",
      "[[ 0.  0. -1.]\n",
      " [ 0.  1. -1.]\n",
      " [ 1.  0. -1.]\n",
      " [ 1.  1. -1.]]\n",
      "--------------------\n",
      "for epoch >> 1\n",
      "--------------------\n",
      "y_hat :\n",
      "[1 1 1 1] for epoch 1/10\n",
      "error: \n",
      "0   -1\n",
      "1    0\n",
      "2    0\n",
      "3   -1\n",
      "Name: y, dtype: int64\n",
      "updated weights after epoch: 1/10: \n",
      "[-0.09995988 -0.09982267  0.19989827]\n",
      "####################\n",
      "--------------------\n",
      "for epoch >> 2\n",
      "--------------------\n",
      "y_hat :\n",
      "[0 0 0 0] for epoch 2/10\n",
      "error: \n",
      "0    0\n",
      "1    1\n",
      "2    1\n",
      "3    0\n",
      "Name: y, dtype: int64\n",
      "updated weights after epoch: 2/10: \n",
      "[ 4.01178083e-05  1.77331537e-04 -1.01732711e-04]\n",
      "####################\n",
      "--------------------\n",
      "for epoch >> 3\n",
      "--------------------\n",
      "y_hat :\n",
      "[1 1 1 1] for epoch 3/10\n",
      "error: \n",
      "0   -1\n",
      "1    0\n",
      "2    0\n",
      "3   -1\n",
      "Name: y, dtype: int64\n",
      "updated weights after epoch: 3/10: \n",
      "[-0.09995988 -0.09982267  0.19989827]\n",
      "####################\n",
      "--------------------\n",
      "for epoch >> 4\n",
      "--------------------\n",
      "y_hat :\n",
      "[0 0 0 0] for epoch 4/10\n",
      "error: \n",
      "0    0\n",
      "1    1\n",
      "2    1\n",
      "3    0\n",
      "Name: y, dtype: int64\n",
      "updated weights after epoch: 4/10: \n",
      "[ 4.01178083e-05  1.77331537e-04 -1.01732711e-04]\n",
      "####################\n",
      "--------------------\n",
      "for epoch >> 5\n",
      "--------------------\n",
      "y_hat :\n",
      "[1 1 1 1] for epoch 5/10\n",
      "error: \n",
      "0   -1\n",
      "1    0\n",
      "2    0\n",
      "3   -1\n",
      "Name: y, dtype: int64\n",
      "updated weights after epoch: 5/10: \n",
      "[-0.09995988 -0.09982267  0.19989827]\n",
      "####################\n",
      "--------------------\n",
      "for epoch >> 6\n",
      "--------------------\n",
      "y_hat :\n",
      "[0 0 0 0] for epoch 6/10\n",
      "error: \n",
      "0    0\n",
      "1    1\n",
      "2    1\n",
      "3    0\n",
      "Name: y, dtype: int64\n",
      "updated weights after epoch: 6/10: \n",
      "[ 4.01178083e-05  1.77331537e-04 -1.01732711e-04]\n",
      "####################\n",
      "--------------------\n",
      "for epoch >> 7\n",
      "--------------------\n",
      "y_hat :\n",
      "[1 1 1 1] for epoch 7/10\n",
      "error: \n",
      "0   -1\n",
      "1    0\n",
      "2    0\n",
      "3   -1\n",
      "Name: y, dtype: int64\n",
      "updated weights after epoch: 7/10: \n",
      "[-0.09995988 -0.09982267  0.19989827]\n",
      "####################\n",
      "--------------------\n",
      "for epoch >> 8\n",
      "--------------------\n",
      "y_hat :\n",
      "[0 0 0 0] for epoch 8/10\n",
      "error: \n",
      "0    0\n",
      "1    1\n",
      "2    1\n",
      "3    0\n",
      "Name: y, dtype: int64\n",
      "updated weights after epoch: 8/10: \n",
      "[ 4.01178083e-05  1.77331537e-04 -1.01732711e-04]\n",
      "####################\n",
      "--------------------\n",
      "for epoch >> 9\n",
      "--------------------\n",
      "y_hat :\n",
      "[1 1 1 1] for epoch 9/10\n",
      "error: \n",
      "0   -1\n",
      "1    0\n",
      "2    0\n",
      "3   -1\n",
      "Name: y, dtype: int64\n",
      "updated weights after epoch: 9/10: \n",
      "[-0.09995988 -0.09982267  0.19989827]\n",
      "####################\n",
      "--------------------\n",
      "for epoch >> 10\n",
      "--------------------\n",
      "y_hat :\n",
      "[0 0 0 0] for epoch 10/10\n",
      "error: \n",
      "0    0\n",
      "1    1\n",
      "2    1\n",
      "3    0\n",
      "Name: y, dtype: int64\n",
      "updated weights after epoch: 10/10: \n",
      "[ 4.01178083e-05  1.77331537e-04 -1.01732711e-04]\n",
      "####################\n"
     ]
    },
    {
     "data": {
      "text/plain": [
       "array([1])"
      ]
     },
     "execution_count": 77,
     "metadata": {},
     "output_type": "execute_result"
    }
   ],
   "source": [
    "# same wont work for XOR as it is not having linear behavior for it will require multiple neurons\\perceptron\n",
    "\n",
    "df_XOR = pd.DataFrame({\n",
    "    \"x1\": [0,0,1,1],\n",
    "    \"x2\": [0,1,0,1],\n",
    "    \"y\" : [0,1,1,0]\n",
    "})\n",
    "\n",
    "x, y = prepare_data(df_XOR)\n",
    "eta=0.1\n",
    "ephocs=10\n",
    "\n",
    "model_xor = Perceptron(eta=eta,epochs=ephocs)\n",
    "model_xor.fit(x,y)\n",
    "\n",
    "model_xor.predict([[0,1]])"
   ]
  },
  {
   "cell_type": "code",
   "execution_count": null,
   "metadata": {},
   "outputs": [],
   "source": []
  }
 ],
 "metadata": {
  "kernelspec": {
   "display_name": "Python 3",
   "language": "python",
   "name": "python3"
  },
  "language_info": {
   "codemirror_mode": {
    "name": "ipython",
    "version": 3
   },
   "file_extension": ".py",
   "mimetype": "text/x-python",
   "name": "python",
   "nbconvert_exporter": "python",
   "pygments_lexer": "ipython3",
   "version": "3.8.5"
  }
 },
 "nbformat": 4,
 "nbformat_minor": 4
}
