{
 "cells": [
  {
   "cell_type": "code",
   "execution_count": 20,
   "metadata": {},
   "outputs": [],
   "source": [
    "import cv2\n",
    "import matplotlib.pyplot as plt\n",
    "import numpy as np\n",
    "import os \n",
    "from pathlib import Path"
   ]
  },
  {
   "cell_type": "code",
   "execution_count": 5,
   "metadata": {},
   "outputs": [],
   "source": [
    "file_path = str(Path('./img_resources/flower-puns.jpg'))\n",
    "img = cv2.imread(file_path)\n",
    "gray_scale_img = cv2.cvtColor(img, cv2.COLOR_BGR2GRAY)"
   ]
  },
  {
   "cell_type": "code",
   "execution_count": 6,
   "metadata": {},
   "outputs": [],
   "source": [
    "cv2.imshow(\"Color flower image\",img)\n",
    "cv2.imshow(\"GrayScaled flower image\",gray_scale_img)\n",
    "cv2.waitKey(0) # wait till any key of is Pressed\n",
    "# To close all windows\n",
    "cv2.destroyAllWindows()"
   ]
  },
  {
   "cell_type": "code",
   "execution_count": 7,
   "metadata": {},
   "outputs": [
    {
     "data": {
      "text/plain": [
       "True"
      ]
     },
     "execution_count": 7,
     "metadata": {},
     "output_type": "execute_result"
    }
   ],
   "source": [
    "# saving file\n",
    "cv2.imwrite(\"./img_resources/grayscale_img.jpg\",gray_scale_img)"
   ]
  },
  {
   "cell_type": "code",
   "execution_count": 8,
   "metadata": {},
   "outputs": [],
   "source": [
    "rectangle_draw = cv2.rectangle(img,(384,0),(520,128),(0,0,255),3)\n",
    "cv2.imshow(\"rectangle drawn on flower image\",rectangle_draw)\n",
    "cv2.waitKey(0) \n",
    "cv2.destroyAllWindows()"
   ]
  },
  {
   "cell_type": "code",
   "execution_count": 15,
   "metadata": {},
   "outputs": [],
   "source": [
    "font = cv2.FONT_ITALIC\n",
    "x_axis = 250\n",
    "y_axis = 0\n",
    "thickness = 2 \n",
    "y_axis2 = 450\n",
    "x_axis2 = 550\n",
    "img = cv2.imread(file_path)\n",
    "rectangle_draw = cv2.rectangle(img,(x_axis,y_axis),(x_axis2,y_axis2),(0,0,255),thickness)\n",
    "cv2.putText(rectangle_draw,\"Rectangle\",(x_axis+2,y_axis+10),font,1,(255,0,0),thickness)\n",
    "cv2.imshow(\"rectangle drawn on flower image\",rectangle_draw)\n",
    "cv2.waitKey(0) \n",
    "cv2.destroyAllWindows()"
   ]
  },
  {
   "cell_type": "code",
   "execution_count": 18,
   "metadata": {},
   "outputs": [],
   "source": [
    "cam_idx = 0 \n",
    "cap = cv2.VideoCapture(cam_idx)\n",
    "img_idx = 0\n",
    "font = cv2.FONT_ITALIC\n",
    "x_axis = 250\n",
    "y_axis = 0\n",
    "thickness = 2 \n",
    "y_axis2 = 450\n",
    "x_axis2 = 550\n",
    "imgtext = \"video frame\"\n",
    "os.makedirs(f\"./img_resources/samples/{imgtext}\",exist_ok=True)\n",
    "while True:\n",
    "    # capturing the frame\n",
    "    x, frame = cap.read()\n",
    "    #print(x) # True if frame is present\n",
    "    #print(frame.shape)\n",
    "    # Text on image\n",
    "    rectangle_draw = cv2.rectangle(frame,(x_axis,y_axis),(x_axis2,y_axis2),(0,0,255),thickness)\n",
    "    cv2.putText(rectangle_draw,imgtext,(x_axis+2,y_axis+10),font,1,(255,0,0),thickness)\n",
    "    cv2.imshow(\"rectangle drawn on video frame image\",rectangle_draw)\n",
    "    cv2.imwrite(f\"./img_resources/samples/{imgtext}/sample_{img_idx}.jpg\",rectangle_draw)\n",
    "    \n",
    "    img_idx += 1\n",
    "    \n",
    "    if(cv2.waitKey(1) & 0xFF == ord('q')) or img_idx > 10 :\n",
    "        break\n",
    "        \n",
    "cap.release()\n",
    "cv2.destroyAllWindows()"
   ]
  },
  {
   "cell_type": "code",
   "execution_count": 25,
   "metadata": {},
   "outputs": [],
   "source": [
    "# saving video captured video \n",
    "\n",
    "cam_idx = 0 \n",
    "cap = cv2.VideoCapture(cam_idx)\n",
    "fps = 30\n",
    "# Width and height of the frames in the video stream\n",
    "size = (int(cap.get(cv2.CAP_PROP_FRAME_WIDTH)),int(cap.get(cv2.CAP_PROP_FRAME_HEIGHT)))\n",
    "\n",
    "# Define the codec and create VideoWriter object\n",
    "fourcc =cv2.VideoWriter_fourcc('I','4','2','0')\n",
    "out = cv2.VideoWriter(\"./img_resources/sample.avi\", fourcc, fps,size)\n",
    "numFramesRemaining = 10*fps \n",
    "\n",
    "while (cap.isOpened()):\n",
    "    # capturing the frame\n",
    "    success, frame = cap.read()\n",
    "    \n",
    "    if success == True and numFramesRemaining > 0:\n",
    "        out.write(frame)\n",
    "        cv2.imshow('frame',frame)\n",
    "        cv2.waitKey(1)\n",
    "        numFramesRemaining -= 1\n",
    "    else:\n",
    "        break\n",
    "        \n",
    "cap.release()\n",
    "out.release()\n",
    "cv2.destroyAllWindows()"
   ]
  },
  {
   "cell_type": "code",
   "execution_count": null,
   "metadata": {},
   "outputs": [],
   "source": []
  }
 ],
 "metadata": {
  "kernelspec": {
   "display_name": "Python 3",
   "language": "python",
   "name": "python3"
  },
  "language_info": {
   "codemirror_mode": {
    "name": "ipython",
    "version": 3
   },
   "file_extension": ".py",
   "mimetype": "text/x-python",
   "name": "python",
   "nbconvert_exporter": "python",
   "pygments_lexer": "ipython3",
   "version": "3.8.5"
  }
 },
 "nbformat": 4,
 "nbformat_minor": 4
}
