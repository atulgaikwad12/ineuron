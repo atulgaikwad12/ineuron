{
 "cells": [
  {
   "cell_type": "markdown",
   "metadata": {},
   "source": [
    "# Logging "
   ]
  },
  {
   "cell_type": "code",
   "execution_count": 1,
   "metadata": {},
   "outputs": [],
   "source": [
    "import logging as lg"
   ]
  },
  {
   "cell_type": "code",
   "execution_count": 2,
   "metadata": {},
   "outputs": [],
   "source": [
    "import os"
   ]
  },
  {
   "cell_type": "code",
   "execution_count": 3,
   "metadata": {},
   "outputs": [
    {
     "data": {
      "text/plain": [
       "'D:\\\\ineuron\\\\ineuron\\\\Practice'"
      ]
     },
     "execution_count": 3,
     "metadata": {},
     "output_type": "execute_result"
    }
   ],
   "source": [
    "os.getcwd()"
   ]
  },
  {
   "cell_type": "code",
   "execution_count": 5,
   "metadata": {},
   "outputs": [],
   "source": [
    "os.mkdir('Logs')"
   ]
  },
  {
   "cell_type": "code",
   "execution_count": 4,
   "metadata": {},
   "outputs": [],
   "source": [
    "os.chdir(os.getcwd() + '\\Logs')"
   ]
  },
  {
   "cell_type": "code",
   "execution_count": 5,
   "metadata": {},
   "outputs": [
    {
     "data": {
      "text/plain": [
       "'D:\\\\ineuron\\\\ineuron\\\\Practice\\\\Logs'"
      ]
     },
     "execution_count": 5,
     "metadata": {},
     "output_type": "execute_result"
    }
   ],
   "source": [
    "os.getcwd()"
   ]
  },
  {
   "cell_type": "code",
   "execution_count": 6,
   "metadata": {},
   "outputs": [],
   "source": [
    "lg.basicConfig(filename='log1.txt',level= lg.INFO, format  = '%(asctime)s %(message)s')"
   ]
  },
  {
   "cell_type": "code",
   "execution_count": 8,
   "metadata": {},
   "outputs": [],
   "source": [
    "lg.info('Starting Logging ....1')"
   ]
  },
  {
   "cell_type": "code",
   "execution_count": 9,
   "metadata": {},
   "outputs": [],
   "source": [
    "lg.warning('This a warning log ----1')"
   ]
  },
  {
   "cell_type": "code",
   "execution_count": 10,
   "metadata": {},
   "outputs": [],
   "source": [
    "lg.error('Error found at line ....12')"
   ]
  },
  {
   "cell_type": "code",
   "execution_count": 12,
   "metadata": {},
   "outputs": [
    {
     "name": "stdout",
     "output_type": "stream",
     "text": [
      "something went wrong\n"
     ]
    }
   ],
   "source": [
    "a=0\n",
    "b=12\n",
    "try:\n",
    "    a = b/a\n",
    "    print('done',a)\n",
    "except Exception as e:\n",
    "    print('something went wrong')\n",
    "    lg.error('Error occured ')\n",
    "    lg.exception(e)\n",
    "    "
   ]
  },
  {
   "cell_type": "code",
   "execution_count": 15,
   "metadata": {},
   "outputs": [],
   "source": [
    "lg.debug('debugg line ')\n",
    "lg.critical('critical line ')"
   ]
  },
  {
   "cell_type": "code",
   "execution_count": 7,
   "metadata": {},
   "outputs": [],
   "source": [
    "lg.debug('debugg line ')"
   ]
  },
  {
   "cell_type": "code",
   "execution_count": 8,
   "metadata": {},
   "outputs": [],
   "source": [
    "lg.shutdown() #closing logging object "
   ]
  },
  {
   "cell_type": "code",
   "execution_count": 14,
   "metadata": {},
   "outputs": [
    {
     "data": {
      "text/plain": [
       "'D:\\\\ineuron\\\\ineuron\\\\Practice\\\\Logs'"
      ]
     },
     "execution_count": 14,
     "metadata": {},
     "output_type": "execute_result"
    }
   ],
   "source": [
    "os.getcwd()"
   ]
  },
  {
   "cell_type": "code",
   "execution_count": 3,
   "metadata": {},
   "outputs": [
    {
     "name": "stdout",
     "output_type": "stream",
     "text": [
      "Enter 3 numbers separated by space to get their sumation12 4 10\n",
      "Priniting logs stored in file \n",
      "2021-04-04 16:29:30,347 Enter 3 numbers separated by space to get their sumation\n",
      "\n",
      "2021-04-04 16:29:33,893 Entered numbers are 12,8,10\n",
      "\n",
      "2021-04-04 16:29:33,893 Sum of numbers is 30\n",
      "\n",
      "2021-04-04 16:33:56,056 Enter 3 numbers separated by space to get their sumation\n",
      "\n",
      "2021-04-04 16:33:59,441 Entered numbers are 12,3,4\n",
      "\n",
      "2021-04-04 16:33:59,441 numbers - 0\n",
      "\n",
      "2021-04-04 16:33:59,442 Sum after adding number 12\n",
      "\n",
      "2021-04-04 16:33:59,442 numbers - 12\n",
      "\n",
      "2021-04-04 16:33:59,442 Sum after adding number 15\n",
      "\n",
      "2021-04-04 16:33:59,442 numbers - 15\n",
      "\n",
      "2021-04-04 16:33:59,442 Sum after adding number 19\n",
      "\n",
      "2021-04-04 16:33:59,443 Sum of numbers is 19\n",
      "\n",
      "2021-04-04 16:40:51,127 Enter 3 numbers separated by space to get their sumation\n",
      "\n",
      "2021-04-04 16:41:03,844 Entered numbers are 12,4,10\n",
      "\n",
      "2021-04-04 16:41:03,847 numbers - 0\n",
      "\n",
      "2021-04-04 16:41:03,847 Sum after adding number 12\n",
      "\n",
      "2021-04-04 16:41:03,847 numbers - 12\n",
      "\n",
      "2021-04-04 16:41:03,847 Sum after adding number 16\n",
      "\n",
      "2021-04-04 16:41:03,847 numbers - 16\n",
      "\n",
      "2021-04-04 16:41:03,848 Sum after adding number 26\n",
      "\n",
      "2021-04-04 16:41:03,848 Sum of numbers is 26\n",
      "\n"
     ]
    }
   ],
   "source": [
    "import logging as lg\n",
    "lg.basicConfig(filename='log2.txt',level= lg.INFO, format  = '%(asctime)s %(message)s')\n",
    "\n",
    "def getSum(*args):\n",
    "    s = 0\n",
    "    for i in args:\n",
    "        lg.info('numbers - '+str(s))\n",
    "        s+=i       \n",
    "        lg.info('Sum after adding number '+str(s))\n",
    "    return s\n",
    "\n",
    "lg.info('Enter 3 numbers separated by space to get their sumation')\n",
    "a,b,c = map(int,input('Enter 3 numbers separated by space to get their sumation').split())\n",
    "lg.info('Entered numbers are '+str(a)+','+str(b)+','+str(c))\n",
    "s = getSum(a,b,c)\n",
    "lg.info('Sum of numbers is '+str(s))\n",
    "\n",
    "print('Priniting logs stored in file ')\n",
    "\n",
    "fr = open('log2.txt')\n",
    "for line in fr:\n",
    "    print(line)\n",
    "\n",
    "    \n"
   ]
  },
  {
   "cell_type": "code",
   "execution_count": 6,
   "metadata": {},
   "outputs": [
    {
     "name": "stderr",
     "output_type": "stream",
     "text": [
      "%(asctime)-15s %(name)s %(clientip)s %(user)-8s %(message)s\n",
      "%(asctime)-15s %(name)s %(clientip)s %(user)-8s %(message)s\n",
      "2021-04-04 17:28:12,950 root 192.168.0.1 ATUL     Enter 3 numbers separated by space to get their sumation\n"
     ]
    },
    {
     "name": "stdout",
     "output_type": "stream",
     "text": [
      "Enter 3 numbers separated by space to get their sumation12 3 4 \n"
     ]
    },
    {
     "name": "stderr",
     "output_type": "stream",
     "text": [
      "%(asctime)-15s %(name)s %(clientip)s %(user)-8s %(message)s\n",
      "%(asctime)-15s %(name)s %(clientip)s %(user)-8s %(message)s\n",
      "2021-04-04 17:28:18,650 Logger2.MainFunction 192.168.0.1 ATUL     Entered numbers are 12,3,4\n",
      "%(asctime)-15s %(name)s %(clientip)s %(user)-8s %(message)s\n",
      "%(asctime)-15s %(name)s %(clientip)s %(user)-8s %(message)s\n",
      "2021-04-04 17:28:18,656 Logger1.getSumFunction 192.168.0.1 ATUL     numbers - 0\n",
      "%(asctime)-15s %(name)s %(clientip)s %(user)-8s %(message)s\n",
      "%(asctime)-15s %(name)s %(clientip)s %(user)-8s %(message)s\n",
      "2021-04-04 17:28:18,662 Logger1.getSumFunction 192.168.0.1 ATUL     Sum after adding number 12\n",
      "%(asctime)-15s %(name)s %(clientip)s %(user)-8s %(message)s\n",
      "%(asctime)-15s %(name)s %(clientip)s %(user)-8s %(message)s\n",
      "2021-04-04 17:28:18,667 Logger1.getSumFunction 192.168.0.1 ATUL     numbers - 12\n",
      "%(asctime)-15s %(name)s %(clientip)s %(user)-8s %(message)s\n",
      "%(asctime)-15s %(name)s %(clientip)s %(user)-8s %(message)s\n",
      "2021-04-04 17:28:18,670 Logger1.getSumFunction 192.168.0.1 ATUL     Sum after adding number 15\n",
      "%(asctime)-15s %(name)s %(clientip)s %(user)-8s %(message)s\n",
      "%(asctime)-15s %(name)s %(clientip)s %(user)-8s %(message)s\n",
      "2021-04-04 17:28:18,673 Logger1.getSumFunction 192.168.0.1 ATUL     numbers - 15\n",
      "%(asctime)-15s %(name)s %(clientip)s %(user)-8s %(message)s\n",
      "%(asctime)-15s %(name)s %(clientip)s %(user)-8s %(message)s\n",
      "2021-04-04 17:28:18,676 Logger1.getSumFunction 192.168.0.1 ATUL     Sum after adding number 19\n",
      "%(asctime)-15s %(name)s %(clientip)s %(user)-8s %(message)s\n",
      "%(asctime)-15s %(name)s %(clientip)s %(user)-8s %(message)s\n",
      "2021-04-04 17:28:18,679 Logger2.MainFunction 192.168.0.1 ATUL     Sum of numbers is 19\n"
     ]
    }
   ],
   "source": [
    "import logging as lg\n",
    "formate = '%(asctime)-15s %(name)s %(clientip)s %(user)-8s %(message)s'\n",
    "lg.basicConfig(filename='app.log',level= lg.DEBUG, format  = formate)\n",
    "console_log = lg.StreamHandler()\n",
    "console_log.setLevel(lg.INFO)\n",
    "formatter = lg.Formatter(formate)\n",
    "console_log.setFormatter(formatter)\n",
    "lg.getLogger().addHandler(console_log)\n",
    "logger1 = lg.getLogger('Logger1.getSumFunction')\n",
    "logger2 = lg.getLogger('Logger2.MainFunction')\n",
    "d = {'clientip': '192.168.0.1', 'user': 'ATUL'}\n",
    "\n",
    "def getSum(*args):\n",
    "    s = 0\n",
    "    for i in args:\n",
    "        logger1.info('numbers - '+str(s), extra=d)\n",
    "        s+=i       \n",
    "        logger1.info('Sum after adding number '+str(s), extra=d)\n",
    "    return s\n",
    "\n",
    "lg.warning('Enter 3 numbers separated by space to get their sumation', extra=d)\n",
    "a,b,c = map(int,input('Enter 3 numbers separated by space to get their sumation').split())\n",
    "logger2.info('Entered numbers are '+str(a)+','+str(b)+','+str(c), extra=d)\n",
    "s = getSum(a,b,c)\n",
    "logger2.info('Sum of numbers is '+str(s), extra=d)\n",
    " \n",
    "\n",
    "\n"
   ]
  },
  {
   "cell_type": "code",
   "execution_count": 3,
   "metadata": {},
   "outputs": [
    {
     "data": {
      "text/plain": [
       "'D:\\\\ineuron\\\\ineuron\\\\Practice\\\\Logs'"
      ]
     },
     "execution_count": 3,
     "metadata": {},
     "output_type": "execute_result"
    }
   ],
   "source": [
    "pwd()\n"
   ]
  },
  {
   "cell_type": "code",
   "execution_count": 2,
   "metadata": {},
   "outputs": [
    {
     "data": {
      "text/plain": [
       "'D:\\\\ineuron\\\\ineuron\\\\Practice\\\\Logs'"
      ]
     },
     "execution_count": 2,
     "metadata": {},
     "output_type": "execute_result"
    }
   ],
   "source": [
    "import os\n",
    "os.chdir(os.getcwd() + '\\Logs')\n",
    "os.getcwd()"
   ]
  },
  {
   "cell_type": "code",
   "execution_count": null,
   "metadata": {},
   "outputs": [],
   "source": []
  }
 ],
 "metadata": {
  "kernelspec": {
   "display_name": "Python 3",
   "language": "python",
   "name": "python3"
  },
  "language_info": {
   "codemirror_mode": {
    "name": "ipython",
    "version": 3
   },
   "file_extension": ".py",
   "mimetype": "text/x-python",
   "name": "python",
   "nbconvert_exporter": "python",
   "pygments_lexer": "ipython3",
   "version": "3.8.5"
  }
 },
 "nbformat": 4,
 "nbformat_minor": 4
}
