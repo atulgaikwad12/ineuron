{
 "cells": [
  {
   "cell_type": "markdown",
   "metadata": {},
   "source": [
    "Q1 Create a function in python to read the text file and replace specific content\n",
    "of the file."
   ]
  },
  {
   "cell_type": "code",
   "execution_count": 20,
   "metadata": {},
   "outputs": [
    {
     "name": "stdout",
     "output_type": "stream",
     "text": [
      "Original File Content -\n",
      "This is a placement assignment\n",
      "\n",
      "After replacement File Content -\n",
      "This is a screening assignment\n"
     ]
    }
   ],
   "source": [
    "class text_file:\n",
    "    \n",
    "    def __init__(self,file_name):\n",
    "        self.file_name = file_name\n",
    "    \n",
    "    def initiate(self,data : str) -> None:\n",
    "        '''\n",
    "            To create a File and write Origin file content\n",
    "            input param:\n",
    "                data : data to write in file\n",
    "        '''\n",
    "        with open(self.file_name,'w') as fw:\n",
    "            fw.write(data)\n",
    "\n",
    "    def read_file(self) -> None:\n",
    "        '''\n",
    "            To create a File and write Origin file content\n",
    "        '''\n",
    "        for line in open(self.file_name):\n",
    "            print(line)\n",
    "                \n",
    "    def replace_data(self,replace : str,by : str) -> None:\n",
    "        '''\n",
    "            To replace particular string from text file data by the string passed in input\n",
    "            input params\n",
    "                replace : string to replace\n",
    "                by : string which will replace the old string\n",
    "        '''\n",
    "        text = []\n",
    "        for line in open(self.file_name):\n",
    "            line = line.replace(replace,by)\n",
    "            text.append(line)\n",
    "        \n",
    "        with open(self.file_name,'w') as fw:\n",
    "            fw.write(\"\\n\".join(text))\n",
    "        \n",
    "try:    \n",
    "    file_name = 'example.txt'\n",
    "    original_data = 'This is a placement assignment'\n",
    "    tf = text_file(file_name)\n",
    "    tf.initiate(original_data)\n",
    "    print('Original File Content -')\n",
    "    tf.read_file()\n",
    "    tf.replace_data(replace=\"placement\",by=\"screening\")\n",
    "    print('\\nAfter replacement File Content -')\n",
    "    tf.read_file()\n",
    "except Exception as e:\n",
    "    print('Failed to do the file replace string operation->',e)"
   ]
  },
  {
   "cell_type": "markdown",
   "metadata": {},
   "source": [
    "Q2 Demonstrate use of abstract class, multiple inheritance and decorator in\n",
    "python using examples."
   ]
  },
  {
   "cell_type": "markdown",
   "metadata": {},
   "source": [
    "Abstract class Demo"
   ]
  },
  {
   "cell_type": "code",
   "execution_count": 4,
   "metadata": {},
   "outputs": [
    {
     "name": "stdout",
     "output_type": "stream",
     "text": [
      "Drawing rectangle of dimension {'Height': 10, 'Width': 20}\n",
      "Drawing circle of dimension {'Radius': 20}\n"
     ]
    }
   ],
   "source": [
    "# using abstraction to inforce implementation of basic methods of shape class like dimension and draw\n",
    "from abc import ABC,abstractclassmethod\n",
    "\n",
    "class shape(ABC):\n",
    "    \n",
    "    @abstractclassmethod\n",
    "    def dimension(self):\n",
    "        pass\n",
    "    \n",
    "    @abstractclassmethod\n",
    "    def draw(self):\n",
    "        pass\n",
    "    \n",
    "class rectangle(shape):\n",
    "    \n",
    "    def __init__(self,x,y):\n",
    "        self.x = x\n",
    "        self.y = y\n",
    "        \n",
    "    def dimension(self):\n",
    "        return {'Height' : self.x,'Width' : self.y}\n",
    "    \n",
    "    def draw(self):\n",
    "        print(f'Drawing rectangle of dimension {self.dimension()}') \n",
    "\n",
    "class circle(shape):\n",
    "    pi = 3.14\n",
    "    \n",
    "    def __init__(self,x):\n",
    "        self.x = x\n",
    "        \n",
    "    def dimension(self):\n",
    "        return {'Radius' : self.x}\n",
    "    \n",
    "    def draw(self):\n",
    "        print(f'Drawing circle of dimension {self.dimension()}') \n",
    "    \n",
    "try:\n",
    "    r = rectangle(10,20)\n",
    "    r.draw()\n",
    "    c = circle(20)\n",
    "    c.draw()\n",
    "except Exception as e:\n",
    "    print('Failed to draw shapes ',e)"
   ]
  },
  {
   "cell_type": "markdown",
   "metadata": {},
   "source": [
    "Multiple inheritance"
   ]
  },
  {
   "cell_type": "code",
   "execution_count": 16,
   "metadata": {},
   "outputs": [
    {
     "name": "stdout",
     "output_type": "stream",
     "text": [
      "depositing amount 20000 in saving account, now current balance is 20000\n",
      "depositing amount 5000 in saving account, now current balance is 25000\n",
      "depositing amount 5000 in saving account, now current balance is 30000\n"
     ]
    }
   ],
   "source": [
    "# example of multiple inheritance where child class 'account' inheriting 2 parent classes i.e 'saving', 'fixed_deposit'\n",
    "class saving():\n",
    "    \n",
    "    deposit_amt = 0\n",
    "    \n",
    "    def deposit(self,deposit_amt):\n",
    "        self.deposit_amt = self.deposit_amt + deposit_amt\n",
    "        print(f\"depositing amount {deposit_amt} in saving account, now current balance is {self.deposit_amt}\")\n",
    "    \n",
    "class fixed_deposit():\n",
    "    deposit_amt = 0\n",
    "    def deposit(self,deposit_amt):\n",
    "        self.deposit_amt = self.deposit_amt + deposit_amt\n",
    "        print(f\"depositing amount {deposit_amt} in FD, now current balance is {self.deposit_amt}\")\n",
    "    \n",
    "class account(saving,fixed_deposit):\n",
    "    \n",
    "    def __init__(self,holder_name,deposit_amt=0.00):\n",
    "        self.holder_name = holder_name\n",
    "        super().deposit(deposit_amt)\n",
    "\n",
    "try:\n",
    "    # Here each time amount will be deposited to saving account\n",
    "    # due to the order of inheritance every time deposit method of saving class is getting called  \n",
    "    a = account('XYZ',20000)\n",
    "    a.deposit(5000)\n",
    "    a.deposit(5000)\n",
    "except Exception as e:\n",
    "    print('Failed to draw shapes ',e)"
   ]
  },
  {
   "cell_type": "markdown",
   "metadata": {},
   "source": [
    "Decorators"
   ]
  },
  {
   "cell_type": "code",
   "execution_count": 19,
   "metadata": {},
   "outputs": [
    {
     "name": "stdout",
     "output_type": "stream",
     "text": [
      "5.0\n",
      "kindly provide non zero value in denominator\n",
      "0.0\n"
     ]
    }
   ],
   "source": [
    "# simple decorator to handle exception of divide function\n",
    "def divisionbyzero(function):\n",
    "    \n",
    "    def wrapper(*args):\n",
    "        if(args[1] == 0):\n",
    "            print(\"kindly provide non zero value in denominator\")\n",
    "        else:\n",
    "            function(*args)\n",
    "    return wrapper\n",
    "\n",
    "@divisionbyzero\n",
    "def divide(x,y):\n",
    "    print(x/y)\n",
    "\n",
    "divide(10,2)\n",
    "divide(10,0)\n",
    "divide(0,10)"
   ]
  },
  {
   "cell_type": "code",
   "execution_count": null,
   "metadata": {},
   "outputs": [],
   "source": []
  }
 ],
 "metadata": {
  "kernelspec": {
   "display_name": "Python 3",
   "language": "python",
   "name": "python3"
  },
  "language_info": {
   "codemirror_mode": {
    "name": "ipython",
    "version": 3
   },
   "file_extension": ".py",
   "mimetype": "text/x-python",
   "name": "python",
   "nbconvert_exporter": "python",
   "pygments_lexer": "ipython3",
   "version": "3.8.5"
  }
 },
 "nbformat": 4,
 "nbformat_minor": 4
}
