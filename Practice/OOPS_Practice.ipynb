{
 "cells": [
  {
   "cell_type": "markdown",
   "metadata": {},
   "source": [
    "# Single level inheritance and magic functions + operator overloading "
   ]
  },
  {
   "cell_type": "code",
   "execution_count": 55,
   "metadata": {},
   "outputs": [],
   "source": [
    "class person:\n",
    "    \n",
    "    def __init__(self,fname='',lname=''):\n",
    "        self.fname = fname\n",
    "        self.lname = lname\n",
    "    \n",
    "    def getName(this):\n",
    "        return this.fname +' ' + this.lname\n",
    "    \n",
    "    \n",
    "class student(person):\n",
    "    \n",
    "    def __init__(self,branch='BE',clg_name='MU',fname='',lname=''):\n",
    "        self.branch = branch\n",
    "        self.clg_name = clg_name\n",
    "        super().__init__(fname,lname)\n",
    "        \n",
    "    def getName(self):\n",
    "        return 'student:: ' + super().getName()\n",
    "    \n",
    "    def __str__(self):\n",
    "        return 'This is student class object for -> '+ self.getName()\n",
    "    \n",
    "    # operator overloading -> defining behavior of + operator specific to object of this class \n",
    "    def __add__(self,other): \n",
    "        return self.getName() + '\\n' + other.getName()\n",
    "    \n",
    "    def __gt__(self,other):\n",
    "        if len(self.fname) > len(other.fname): \n",
    "            return True \n",
    "        else: \n",
    "            return False"
   ]
  },
  {
   "cell_type": "code",
   "execution_count": 56,
   "metadata": {},
   "outputs": [],
   "source": [
    "p1 = student(fname='Atul',lname='Gaikwad')\n",
    "p2 = student(fname='Shubham',lname='Gaikwad')"
   ]
  },
  {
   "cell_type": "code",
   "execution_count": 57,
   "metadata": {},
   "outputs": [
    {
     "data": {
      "text/plain": [
       "'student:: Shubham Gaikwad'"
      ]
     },
     "execution_count": 57,
     "metadata": {},
     "output_type": "execute_result"
    }
   ],
   "source": [
    "p2.getName()"
   ]
  },
  {
   "cell_type": "code",
   "execution_count": 46,
   "metadata": {},
   "outputs": [
    {
     "data": {
      "text/plain": [
       "'student:: Shubham Gaikwad'"
      ]
     },
     "execution_count": 46,
     "metadata": {},
     "output_type": "execute_result"
    }
   ],
   "source": [
    "p2.getName()"
   ]
  },
  {
   "cell_type": "code",
   "execution_count": 47,
   "metadata": {},
   "outputs": [
    {
     "name": "stdout",
     "output_type": "stream",
     "text": [
      "This is student class object for -> student:: Shubham Gaikwad\n"
     ]
    }
   ],
   "source": [
    "# Before magic method __str__()\n",
    "# print(p2)"
   ]
  },
  {
   "cell_type": "code",
   "execution_count": 48,
   "metadata": {},
   "outputs": [
    {
     "name": "stdout",
     "output_type": "stream",
     "text": [
      "This is student class object for -> student:: Shubham Gaikwad\n"
     ]
    }
   ],
   "source": [
    "print(p2)"
   ]
  },
  {
   "cell_type": "code",
   "execution_count": 49,
   "metadata": {},
   "outputs": [
    {
     "data": {
      "text/plain": [
       "<__main__.student at 0x1ab075cb220>"
      ]
     },
     "execution_count": 49,
     "metadata": {},
     "output_type": "execute_result"
    }
   ],
   "source": [
    "p2"
   ]
  },
  {
   "cell_type": "code",
   "execution_count": 52,
   "metadata": {},
   "outputs": [
    {
     "ename": "TypeError",
     "evalue": "unsupported operand type(s) for -: 'student' and 'student'",
     "output_type": "error",
     "traceback": [
      "\u001b[1;31m---------------------------------------------------------------------------\u001b[0m",
      "\u001b[1;31mTypeError\u001b[0m                                 Traceback (most recent call last)",
      "\u001b[1;32m<ipython-input-52-a9127017e37b>\u001b[0m in \u001b[0;36m<module>\u001b[1;34m\u001b[0m\n\u001b[1;32m----> 1\u001b[1;33m \u001b[0mprint\u001b[0m\u001b[1;33m(\u001b[0m\u001b[0mp1\u001b[0m\u001b[1;33m-\u001b[0m\u001b[0mp2\u001b[0m\u001b[1;33m)\u001b[0m\u001b[1;33m\u001b[0m\u001b[1;33m\u001b[0m\u001b[0m\n\u001b[0m",
      "\u001b[1;31mTypeError\u001b[0m: unsupported operand type(s) for -: 'student' and 'student'"
     ]
    }
   ],
   "source": [
    "print(p1-p2) # bcoz class of this object has no __sub__() defined so - operation cannot be performed"
   ]
  },
  {
   "cell_type": "code",
   "execution_count": 51,
   "metadata": {},
   "outputs": [
    {
     "name": "stdout",
     "output_type": "stream",
     "text": [
      "student:: Atul Gaikwad\n",
      "student:: Shubham Gaikwad\n"
     ]
    }
   ],
   "source": [
    "print(p1+p2) #since we have __add__() method defined we can use + operator for class student"
   ]
  },
  {
   "cell_type": "code",
   "execution_count": 59,
   "metadata": {},
   "outputs": [
    {
     "name": "stdout",
     "output_type": "stream",
     "text": [
      "Yes\n"
     ]
    }
   ],
   "source": [
    "# simmilarly this is working bcoz of __ge__() method\n",
    "if(p2 > p1):\n",
    "    print('Yes')\n",
    "else:\n",
    "    print('No')"
   ]
  },
  {
   "cell_type": "markdown",
   "metadata": {},
   "source": [
    "# multilevel inheritance"
   ]
  },
  {
   "cell_type": "code",
   "execution_count": 60,
   "metadata": {},
   "outputs": [],
   "source": [
    "class class_rep(student):\n",
    "    pass\n",
    "    "
   ]
  },
  {
   "cell_type": "code",
   "execution_count": 61,
   "metadata": {},
   "outputs": [],
   "source": [
    "c1 = class_rep()"
   ]
  },
  {
   "cell_type": "code",
   "execution_count": 62,
   "metadata": {},
   "outputs": [
    {
     "data": {
      "text/plain": [
       "''"
      ]
     },
     "execution_count": 62,
     "metadata": {},
     "output_type": "execute_result"
    }
   ],
   "source": [
    "c1.fname"
   ]
  },
  {
   "cell_type": "code",
   "execution_count": 64,
   "metadata": {},
   "outputs": [
    {
     "data": {
      "text/plain": [
       "'BE'"
      ]
     },
     "execution_count": 64,
     "metadata": {},
     "output_type": "execute_result"
    }
   ],
   "source": [
    "c1.branch"
   ]
  },
  {
   "cell_type": "code",
   "execution_count": 65,
   "metadata": {},
   "outputs": [
    {
     "data": {
      "text/plain": [
       "'student::  '"
      ]
     },
     "execution_count": 65,
     "metadata": {},
     "output_type": "execute_result"
    }
   ],
   "source": [
    "c1.getName() # since class 'class_rep' had no method called getName it used parent class i.e student class method \n",
    "#but not the super parent class's method"
   ]
  },
  {
   "cell_type": "code",
   "execution_count": 66,
   "metadata": {},
   "outputs": [],
   "source": [
    "c2 = class_rep()"
   ]
  },
  {
   "cell_type": "code",
   "execution_count": 67,
   "metadata": {},
   "outputs": [
    {
     "data": {
      "text/plain": [
       "'student::  \\nstudent::  '"
      ]
     },
     "execution_count": 67,
     "metadata": {},
     "output_type": "execute_result"
    }
   ],
   "source": [
    "c1+c2"
   ]
  },
  {
   "cell_type": "markdown",
   "metadata": {},
   "source": [
    "# multiple inheritance"
   ]
  },
  {
   "cell_type": "code",
   "execution_count": 125,
   "metadata": {},
   "outputs": [],
   "source": [
    "class personal():\n",
    "    \n",
    "    def __init__(self,name,age,contact):\n",
    "        print('Inside personal init')\n",
    "        self.name  = name\n",
    "        self.age = age\n",
    "        self.__contact =  contact\n",
    "        \n",
    "    def getName(self):\n",
    "        return 'person :: ' + self.name\n",
    "    \n",
    "    def getContact(self):\n",
    "        return self.__contact \n",
    "        \n",
    "class department():\n",
    "    \n",
    "    def __init__(self,department,manager):\n",
    "        print('Inside department init')\n",
    "        self.department = department\n",
    "        self.manager = manager\n",
    "        \n",
    "    def getName(self):\n",
    "        return 'department :: ' + self.department\n",
    "\n",
    "class employee(personal,department):\n",
    "    \n",
    "    def __init__(self,name,age,department,manager,designation,contact):\n",
    "        print('Inside employee init')\n",
    "        \n",
    "        super().__init__(name,age,contact) # this is calling initializer of personal class\n",
    "        # super().__init__(department,manager) # uncommenting this will give error of missing parameter contact\n",
    "        # seems super() is only points to parents class that is first inherited (from left)\n",
    "        \n",
    "        # better to handle initializer of more than one parent class\n",
    "        #personal.__init__(self,name,age,contact) # alternate way\n",
    "        department.__init__(self,department,manager)\n",
    "        self.designation = designation\n",
    "    \n",
    "    def __repr__(self):\n",
    "        return self.name + ' ' + self.designation\n",
    "    \n",
    "    "
   ]
  },
  {
   "cell_type": "code",
   "execution_count": 126,
   "metadata": {},
   "outputs": [
    {
     "name": "stdout",
     "output_type": "stream",
     "text": [
      "Inside employee init\n",
      "Inside personal init\n"
     ]
    }
   ],
   "source": [
    "emp = employee('Atul',25,'Developement','Ravinder','Developer',9702313731)"
   ]
  },
  {
   "cell_type": "code",
   "execution_count": 127,
   "metadata": {},
   "outputs": [
    {
     "data": {
      "text/plain": [
       "'person :: Atul'"
      ]
     },
     "execution_count": 127,
     "metadata": {},
     "output_type": "execute_result"
    }
   ],
   "source": [
    "emp.getName() \n",
    "# method of class inheritated first from the left in sequence was called "
   ]
  },
  {
   "cell_type": "code",
   "execution_count": 128,
   "metadata": {},
   "outputs": [
    {
     "ename": "AttributeError",
     "evalue": "'employee' object has no attribute '__contact'",
     "output_type": "error",
     "traceback": [
      "\u001b[1;31m---------------------------------------------------------------------------\u001b[0m",
      "\u001b[1;31mAttributeError\u001b[0m                            Traceback (most recent call last)",
      "\u001b[1;32m<ipython-input-128-7eef5b3ec030>\u001b[0m in \u001b[0;36m<module>\u001b[1;34m\u001b[0m\n\u001b[1;32m----> 1\u001b[1;33m \u001b[0memp\u001b[0m\u001b[1;33m.\u001b[0m\u001b[0m__contact\u001b[0m \u001b[1;31m# not able to use __contact private variabble\u001b[0m\u001b[1;33m\u001b[0m\u001b[1;33m\u001b[0m\u001b[0m\n\u001b[0m",
      "\u001b[1;31mAttributeError\u001b[0m: 'employee' object has no attribute '__contact'"
     ]
    }
   ],
   "source": [
    "emp.__contact # not able to use __contact private variabble"
   ]
  },
  {
   "cell_type": "code",
   "execution_count": 129,
   "metadata": {},
   "outputs": [
    {
     "data": {
      "text/plain": [
       "9702313731"
      ]
     },
     "execution_count": 129,
     "metadata": {},
     "output_type": "execute_result"
    }
   ],
   "source": [
    "# but same private variable can be access in class method \n",
    "emp.getContact()"
   ]
  },
  {
   "cell_type": "code",
   "execution_count": 131,
   "metadata": {},
   "outputs": [],
   "source": [
    "class __abc:\n",
    "    pass"
   ]
  },
  {
   "cell_type": "code",
   "execution_count": 133,
   "metadata": {},
   "outputs": [],
   "source": [
    "a = __abc()"
   ]
  },
  {
   "cell_type": "code",
   "execution_count": 134,
   "metadata": {},
   "outputs": [
    {
     "name": "stdout",
     "output_type": "stream",
     "text": [
      "<__main__.__abc object at 0x000001AB084925B0>\n"
     ]
    }
   ],
   "source": [
    "print(a)"
   ]
  },
  {
   "cell_type": "code",
   "execution_count": null,
   "metadata": {},
   "outputs": [],
   "source": []
  }
 ],
 "metadata": {
  "kernelspec": {
   "display_name": "Python 3",
   "language": "python",
   "name": "python3"
  },
  "language_info": {
   "codemirror_mode": {
    "name": "ipython",
    "version": 3
   },
   "file_extension": ".py",
   "mimetype": "text/x-python",
   "name": "python",
   "nbconvert_exporter": "python",
   "pygments_lexer": "ipython3",
   "version": "3.8.5"
  }
 },
 "nbformat": 4,
 "nbformat_minor": 4
}
