{
 "cells": [
  {
   "cell_type": "code",
   "execution_count": 1,
   "metadata": {},
   "outputs": [
    {
     "name": "stdout",
     "output_type": "stream",
     "text": [
      "Python 3.8.5\n"
     ]
    }
   ],
   "source": [
    "!python --version"
   ]
  },
  {
   "cell_type": "code",
   "execution_count": 2,
   "metadata": {},
   "outputs": [
    {
     "name": "stdout",
     "output_type": "stream",
     "text": [
      "Collecting cassandra-driver\n",
      "  Downloading cassandra_driver-3.25.0-cp38-cp38-win_amd64.whl (2.9 MB)\n",
      "Collecting geomet<0.3,>=0.1\n",
      "  Downloading geomet-0.2.1.post1-py3-none-any.whl (18 kB)\n",
      "Requirement already satisfied: six>=1.9 in d:\\anaconda3\\lib\\site-packages (from cassandra-driver) (1.15.0)\n",
      "Requirement already satisfied: click in d:\\anaconda3\\lib\\site-packages (from geomet<0.3,>=0.1->cassandra-driver) (7.1.2)\n",
      "Installing collected packages: geomet, cassandra-driver\n",
      "Successfully installed cassandra-driver-3.25.0 geomet-0.2.1.post1\n"
     ]
    }
   ],
   "source": [
    "!pip install cassandra-driver"
   ]
  },
  {
   "cell_type": "code",
   "execution_count": 3,
   "metadata": {},
   "outputs": [],
   "source": [
    "import cassandra"
   ]
  },
  {
   "cell_type": "code",
   "execution_count": 4,
   "metadata": {},
   "outputs": [
    {
     "name": "stdout",
     "output_type": "stream",
     "text": [
      "3.25.0\n"
     ]
    }
   ],
   "source": [
    "print(cassandra.__version__)"
   ]
  },
  {
   "cell_type": "code",
   "execution_count": 5,
   "metadata": {},
   "outputs": [
    {
     "name": "stdout",
     "output_type": "stream",
     "text": [
      "4.0.0.6811\n"
     ]
    }
   ],
   "source": [
    "from cassandra.cluster import Cluster\n",
    "from cassandra.auth import PlainTextAuthProvider\n",
    "\n",
    "cloud_config= {\n",
    "        'secure_connect_bundle': 'D:\\ineuron\\CassandraDataStraxPythonBundle\\secure-connect-test1.zip'\n",
    "}\n",
    "auth_provider = PlainTextAuthProvider('qZHkzZaFCPBuuJHOUZcDligQ', 'Wj.CTINlrZeOJDDm+R7tWHZ4P_KSRiAX3inEN+URy3FTENeQa9zmR0Se.dQdPiAxKL_zTKzZmgdF+nv0,T.a7Yh1D_mkB3UNFtqM_gR30bpxPW0kaYyOZ02bqy4GZgnt')\n",
    "cluster = Cluster(cloud=cloud_config, auth_provider=auth_provider)\n",
    "session = cluster.connect()\n",
    "\n",
    "row = session.execute(\"select release_version from system.local\").one()\n",
    "if row:\n",
    "    print(row[0])\n",
    "else:\n",
    "    print(\"An error occurred.\")"
   ]
  },
  {
   "cell_type": "markdown",
   "metadata": {},
   "source": [
    "Token \n",
    "\n",
    "AstraCS:qZHkzZaFCPBuuJHOUZcDligQ:d66cd1ac5229b28149ebe38421887e0683697e8d33c58029ccc3335e25afc568"
   ]
  },
  {
   "cell_type": "code",
   "execution_count": 1,
   "metadata": {},
   "outputs": [
    {
     "name": "stdout",
     "output_type": "stream",
     "text": [
      "3.11.10\n"
     ]
    }
   ],
   "source": [
    "# for offline cassandra connection\n",
    "from cassandra.cluster import Cluster\n",
    "cluster = Cluster()\n",
    "session_offline = cluster.connect()\n",
    "\n",
    "row = session_offline.execute(\"select release_version from system.local\").one()\n",
    "if row:\n",
    "    print(row[0])\n",
    "else:\n",
    "    print(\"An error occurred.\")"
   ]
  },
  {
   "cell_type": "code",
   "execution_count": 2,
   "metadata": {},
   "outputs": [],
   "source": [
    "session_offline.execute(\"CREATE KEYSPACE quint WITH replication={'class':'SimpleStrategy','replication_factor':'1'} AND durable_writes='true';\").one()"
   ]
  },
  {
   "cell_type": "code",
   "execution_count": null,
   "metadata": {},
   "outputs": [],
   "source": [
    "# Create KeySpace \n",
    "\n",
    "\n",
    "#CREATE KEYSPACE ineruon3 WITH replication = {'class':'SimpleStrategy', 'replication_factor' : 3}"
   ]
  },
  {
   "cell_type": "code",
   "execution_count": 2,
   "metadata": {},
   "outputs": [],
   "source": [
    "session_offline.execute(\"use quint \").one()"
   ]
  },
  {
   "cell_type": "code",
   "execution_count": 3,
   "metadata": {},
   "outputs": [
    {
     "data": {
      "text/plain": [
       "Row(keyspace_name='quint', durable_writes=True, replication=OrderedMapSerializedKey([('class', 'org.apache.cassandra.locator.SimpleStrategy'), ('replication_factor', '1')]))"
      ]
     },
     "execution_count": 3,
     "metadata": {},
     "output_type": "execute_result"
    }
   ],
   "source": [
    "session_offline.execute(\"select * from system_schema.keyspaces\").one()"
   ]
  },
  {
   "cell_type": "code",
   "execution_count": 5,
   "metadata": {},
   "outputs": [
    {
     "name": "stdout",
     "output_type": "stream",
     "text": [
      "None\n"
     ]
    }
   ],
   "source": [
    "row = session_offline.execute(\"CREATE TABLE quint.emp(emp_id int PRIMARY KEY,emp_name text,emp_city text,emp_sal varint,emp_phone varint)\").one()\n",
    "print(row)"
   ]
  },
  {
   "cell_type": "code",
   "execution_count": 21,
   "metadata": {},
   "outputs": [
    {
     "data": {
      "text/plain": [
       "Row(applied=False, emp_id=12, emp_city='Mumbai', emp_name='Atul', emp_phone=9702313731, emp_sal=42500)"
      ]
     },
     "execution_count": 21,
     "metadata": {},
     "output_type": "execute_result"
    }
   ],
   "source": [
    "session_offline.execute(\"insert into quint.emp(emp_id ,emp_name,emp_city,emp_sal,emp_phone) values(12,'Atul','Mumbai',42500,9702313731) IF NOT EXISTS;\").one()"
   ]
  },
  {
   "cell_type": "code",
   "execution_count": 22,
   "metadata": {},
   "outputs": [
    {
     "data": {
      "text/plain": [
       "Row(emp_id=11, emp_city='Pune', emp_name='Atul Gaikwad', emp_phone=None, emp_sal=None)"
      ]
     },
     "execution_count": 22,
     "metadata": {},
     "output_type": "execute_result"
    }
   ],
   "source": [
    "session_offline.execute(\"select * from emp;\").one()\n"
   ]
  },
  {
   "cell_type": "code",
   "execution_count": 31,
   "metadata": {},
   "outputs": [],
   "source": [
    "session_offline.execute(\"alter table emp add emp_hobbies list<text>;\").one()"
   ]
  },
  {
   "cell_type": "code",
   "execution_count": 51,
   "metadata": {},
   "outputs": [
    {
     "name": "stdout",
     "output_type": "stream",
     "text": [
      "Row(emp_id=11, emp_city='Pune', emp_hobbies=['dance', 'singing'], emp_name='Shubham Gaikwad', emp_phone=None, emp_sal=None)\n",
      "Row(emp_id=14, emp_city='Mumbai', emp_hobbies=['Reading', 'Cooking'], emp_name='Pratiksha Gaikwad', emp_phone=None, emp_sal=None)\n",
      "Row(emp_id=12, emp_city='Mumbai', emp_hobbies=None, emp_name='Atul', emp_phone=9702313731, emp_sal=42500)\n"
     ]
    }
   ],
   "source": [
    "row = session_offline.execute(\"select * from quint.emp;\")\n",
    "for i in row:\n",
    "    print(i)"
   ]
  },
  {
   "cell_type": "code",
   "execution_count": 35,
   "metadata": {},
   "outputs": [
    {
     "data": {
      "text/plain": [
       "Row(applied=True)"
      ]
     },
     "execution_count": 35,
     "metadata": {},
     "output_type": "execute_result"
    }
   ],
   "source": [
    "session_offline.execute(\"update emp set emp_hobbies=emp_hobbies + ['singing'] where emp_id=11 IF EXISTS;\").one()"
   ]
  },
  {
   "cell_type": "code",
   "execution_count": 52,
   "metadata": {},
   "outputs": [
    {
     "name": "stdout",
     "output_type": "stream",
     "text": [
      "Row(emp_name='Shubham Gaikwad')\n",
      "Row(emp_name='Atul')\n"
     ]
    }
   ],
   "source": [
    "row = session_offline.execute(\"select emp_name from emp where emp_id in (11,12) ALLOW FILTERING;\")\n",
    "for i in row:\n",
    "    print(i)"
   ]
  },
  {
   "cell_type": "code",
   "execution_count": 42,
   "metadata": {},
   "outputs": [],
   "source": [
    "session_offline.execute(\"update emp set emp_name='Pratiksha Gaikwad',emp_city='Mumbai',emp_hobbies=['Reading','Cooking'] where emp_id=14;\").one()"
   ]
  },
  {
   "cell_type": "code",
   "execution_count": 59,
   "metadata": {},
   "outputs": [
    {
     "name": "stdout",
     "output_type": "stream",
     "text": [
      "Row(emp_id=11, emp_city='Pune', emp_hobbies=['dance', 'singing'], emp_name='Shubham Gaikwad', emp_phone=None, emp_sal=None)\n",
      "Row(emp_id=14, emp_city='Mumbai', emp_hobbies=['Reading', 'Cooking'], emp_name='Pratiksha Gaikwad', emp_phone=None, emp_sal=None)\n",
      "Row(emp_id=12, emp_city='Mumbai', emp_hobbies=None, emp_name='Atul', emp_phone=9702313731, emp_sal=42500)\n"
     ]
    }
   ],
   "source": [
    "row = session_offline.execute(\"select * from emp limit 3;\")\n",
    "for i in row:\n",
    "    print(i)"
   ]
  },
  {
   "cell_type": "code",
   "execution_count": null,
   "metadata": {},
   "outputs": [],
   "source": []
  },
  {
   "cell_type": "code",
   "execution_count": 8,
   "metadata": {},
   "outputs": [
    {
     "name": "stdout",
     "output_type": "stream",
     "text": [
      "None\n"
     ]
    }
   ],
   "source": [
    "# use keyspace\n",
    "cloud_config= {\n",
    "        'secure_connect_bundle': 'D:\\ineuron\\CassandraDataStraxPythonBundle\\secure-connect-test1.zip'\n",
    "}\n",
    "auth_provider = PlainTextAuthProvider('qZHkzZaFCPBuuJHOUZcDligQ', 'Wj.CTINlrZeOJDDm+R7tWHZ4P_KSRiAX3inEN+URy3FTENeQa9zmR0Se.dQdPiAxKL_zTKzZmgdF+nv0,T.a7Yh1D_mkB3UNFtqM_gR30bpxPW0kaYyOZ02bqy4GZgnt')\n",
    "cluster = Cluster(cloud=cloud_config, auth_provider=auth_provider)\n",
    "session = cluster.connect()\n",
    "\n",
    "row = session.execute(\"use ineuron\").one()\n",
    "print(row)"
   ]
  },
  {
   "cell_type": "code",
   "execution_count": 11,
   "metadata": {},
   "outputs": [
    {
     "name": "stdout",
     "output_type": "stream",
     "text": [
      "Row(keyspace_name='system_auth', durable_writes=True, graph_engine=None, replication=OrderedMapSerializedKey([('class', 'org.apache.cassandra.locator.NetworkTopologyStrategy'), ('us-east-1', '3')]))\n"
     ]
    }
   ],
   "source": [
    "row = session.execute(\"select * from system_schema.keyspaces\").one()\n",
    "print(row)"
   ]
  },
  {
   "cell_type": "code",
   "execution_count": 13,
   "metadata": {},
   "outputs": [
    {
     "name": "stdout",
     "output_type": "stream",
     "text": [
      "None\n"
     ]
    }
   ],
   "source": [
    "row = session.execute(\"CREATE TABLE ineuron.emp(emp_id int PRIMARY KEY,emp_name text,emp_city text,emp_sal varint,emp_phone varint)\").one()\n",
    "print(row)"
   ]
  },
  {
   "cell_type": "code",
   "execution_count": 18,
   "metadata": {},
   "outputs": [
    {
     "name": "stdout",
     "output_type": "stream",
     "text": [
      "None\n"
     ]
    }
   ],
   "source": [
    "row = session.execute(\"insert into emp(emp_id,emp_name,emp_city,emp_sal,emp_phone) values(12,'Atul','Mumbai',32500,9702313944)\").one()\n",
    "print(row)"
   ]
  },
  {
   "cell_type": "code",
   "execution_count": 19,
   "metadata": {},
   "outputs": [
    {
     "name": "stdout",
     "output_type": "stream",
     "text": [
      "Row(emp_id=12, emp_city='Mumbai', emp_name='Atul', emp_phone=9702313944, emp_sal=32500)\n"
     ]
    }
   ],
   "source": [
    "row = session.execute(\"select * from ineuron.emp\").one()\n",
    "print(row)"
   ]
  },
  {
   "cell_type": "code",
   "execution_count": null,
   "metadata": {},
   "outputs": [],
   "source": []
  }
 ],
 "metadata": {
  "kernelspec": {
   "display_name": "Python 3",
   "language": "python",
   "name": "python3"
  },
  "language_info": {
   "codemirror_mode": {
    "name": "ipython",
    "version": 3
   },
   "file_extension": ".py",
   "mimetype": "text/x-python",
   "name": "python",
   "nbconvert_exporter": "python",
   "pygments_lexer": "ipython3",
   "version": "3.8.5"
  }
 },
 "nbformat": 4,
 "nbformat_minor": 4
}
