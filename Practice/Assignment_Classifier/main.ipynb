{
 "cells": [
  {
   "cell_type": "code",
   "execution_count": 62,
   "metadata": {},
   "outputs": [],
   "source": [
    "import shutil as sh\n",
    "import os \n",
    "import re\n",
    "import logging as lg\n",
    "import docx\n",
    "\n",
    "class classifier:\n",
    "    \n",
    "    ogPath      =  os.getcwd()\n",
    "    input_src   =  ogPath + '\\\\InputAssignments'\n",
    "    output_dest =  ogPath + '\\\\OutputAssignments'\n",
    "    log_path    =  ogPath + '\\\\Logs'\n",
    "    formate = '%(asctime)-15s %(name)s %(message)s'\n",
    "    lg.basicConfig(filename='log_file.txt',level= lg.DEBUG, format  = formate)\n",
    "    \n",
    "    def __init__(self,category,pattern):\n",
    "        self.category = category\n",
    "        self.pattern  = pattern \n",
    "        \n",
    "        self.merger()\n",
    "        self.create_category()\n",
    "        self.classify()\n",
    "        \n",
    "    def __str__(self):\n",
    "        return 'Category: '+ self.category + 'Folder path:' + self.cat_folder + ' Pattern: ' +self.pattern\n",
    "    \n",
    "    def log(self,msg,level = \"INFO\"):\n",
    "        \n",
    "        if(level == \"INFO\"):\n",
    "            lg.info(msg)\n",
    "        else:\n",
    "            lg.error(msg)\n",
    "            \n",
    "    def create_category(self):\n",
    "        self.cat_folder = output_dest + \"\\\\\" + self.category\n",
    "        try:\n",
    "            os.chdir(output_dest)\n",
    "        \n",
    "            if not os.path.isdir(self.category):         \n",
    "                mkdir(self.category)\n",
    "                msg = 'Category '+ self.category +' Created....now at'+ self.cat_folder\n",
    "                log(msg)\n",
    "                    \n",
    "        except Exception as e:\n",
    "            \n",
    "            msg = 'Category Folder Creation Failed..'+e \n",
    "            log(msg,'ERROR')\n",
    "        else:\n",
    "            msg = 'Done with category '+self.category+' folder creation '\n",
    "            log(msg)\n",
    "            os.chdir(ogPath)\n",
    "                        \n",
    "    def classify(self):\n",
    "        try:\n",
    "            os.chdir(input_src)\n",
    "            for file in os.listdir():\n",
    "                if not os.path.isdir(file) and not re.search(\".*[.]py$\", file):  # Not directory only docx file \n",
    "                    if(re.search(self.pattern,file)):\n",
    "                        msg = 'Shifting=> '+ file +' to folder ..'+ self.cat_folder\n",
    "                        log(msg)\n",
    "                        sh.move(file,self.cat_folder)\n",
    "                        \n",
    "        except Exception as e:\n",
    "            \n",
    "            msg = 'Classification failed....'+ e \n",
    "            log(msg,'ERROR')\n",
    "        else:\n",
    "            msg = 'Done with all assigments of category '+ self.category\n",
    "            log(msg)\n",
    "            os.chdir(ogPath)\n",
    "            \n",
    "    def merger(self):\n",
    "        # create an instance of a word document\n",
    "        doc = docx.Document()\n",
    "        \n",
    "        # add a heading of level 0 (largest heading)\n",
    "        doc.add_heading('Final merged assignment', 0)\n",
    "\n",
    "        # add a paragraph and store \n",
    "        # the object in a variable\n",
    "        doc_para = doc.add_paragraph('Your paragraph goes here, ')\n",
    "\n",
    "        # add a run i.e, style like \n",
    "        # bold, italic, underline, etc.\n",
    "        doc_para.add_run('hey there, bold here').bold = True\n",
    "        doc_para.add_run(', and ')\n",
    "        doc_para.add_run('these words are italic').italic = True\n",
    "\n",
    "        # add a page break to start a new page\n",
    "        doc.add_page_break()\n",
    "\n",
    "        # add a heading of level 2\n",
    "        doc.add_heading('Heading level 2', 2)\n",
    "\n",
    "        # now save the document to a location\n",
    "        doc.save(output_dest)\n",
    "        "
   ]
  },
  {
   "cell_type": "code",
   "execution_count": 1,
   "metadata": {},
   "outputs": [],
   "source": [
    "import classifier,merger\n",
    "\n",
    "if(__name__ == \"__main__\"):\n",
    "    \n",
    "    basic = classifier(\"Python Basic\",\"^A.*[a-zA-Z][1-9].docx$\")\n",
    "    adv = classifier(\"Python Advance\",\"^A.*_[1-9].docx$\")\n",
    "    progm = classifier(\"Python Programming Basic\",\"^Programming.*[a-zA-Z][0-9].docx$\")\n",
    "    adv_progm = classifier(\"Python Programming Advance\",\"^Programming.*_[0-9].docx$\")\n",
    "    \n",
    "    \n",
    "    "
   ]
  },
  {
   "cell_type": "code",
   "execution_count": 2,
   "metadata": {},
   "outputs": [
    {
     "data": {
      "text/plain": [
       "'D:\\\\ineuron\\\\ineuron\\\\Practice\\\\Assignment_Classifier'"
      ]
     },
     "execution_count": 2,
     "metadata": {},
     "output_type": "execute_result"
    }
   ],
   "source": [
    "pwd()"
   ]
  },
  {
   "cell_type": "code",
   "execution_count": 39,
   "metadata": {},
   "outputs": [
    {
     "name": "stdout",
     "output_type": "stream",
     "text": [
      "yes\n"
     ]
    }
   ],
   "source": [
    "import re\n",
    "\n",
    "#Check if the string starts with \"The\" and ends with \"Spain\":\n",
    "# Assignment3.docx\n",
    "# Assignment_2.docx\n",
    "# Programming_Assingment3.docx\n",
    "# Programming_Assignment_1.docx\n",
    "\n",
    "txt = \"Assignment_2.docx\"\n",
    "x = re.search(\"^A.*_[1-9].docx$\", txt)\n",
    "if x:\n",
    "    print('yes')\n",
    "else:\n",
    "    print('no')"
   ]
  },
  {
   "cell_type": "code",
   "execution_count": 61,
   "metadata": {},
   "outputs": [
    {
     "name": "stdout",
     "output_type": "stream",
     "text": [
      "Assignment1.docx\n",
      "Assignment2.docx\n",
      "Assignment3.docx\n",
      "Assignment4.docx\n",
      "Assignment_1.docx\n",
      "Assignment_2.docx\n",
      "Assignment_3.docx\n",
      "Assignment_4.docx\n",
      "Programming_Assignment_1.docx\n",
      "Programming_Assignment_2.docx\n",
      "Programming_Assignment_3.docx\n",
      "Programming_Assingment1.docx\n",
      "Programming_Assingment2.docx\n",
      "Programming_Assingment3.docx\n"
     ]
    }
   ],
   "source": [
    "input_src  = 'InputAssignments'\n",
    "os.chdir(os.getcwd()+\"\\\\\"+input_src)\n",
    "for file in os.listdir():\n",
    "    if not os.path.isdir(file) and re.search(\".*[.]docx$\", file): \n",
    "        print(file)"
   ]
  },
  {
   "cell_type": "code",
   "execution_count": 58,
   "metadata": {},
   "outputs": [
    {
     "name": "stdout",
     "output_type": "stream",
     "text": [
      "no\n"
     ]
    }
   ],
   "source": [
    "txt = \"ass.py\"\n",
    "\n",
    "if not re.search(\".*[.]py$\", txt):\n",
    "    print('yes')\n",
    "else:\n",
    "    print('no')"
   ]
  },
  {
   "cell_type": "code",
   "execution_count": null,
   "metadata": {},
   "outputs": [],
   "source": []
  }
 ],
 "metadata": {
  "kernelspec": {
   "display_name": "Python 3",
   "language": "python",
   "name": "python3"
  },
  "language_info": {
   "codemirror_mode": {
    "name": "ipython",
    "version": 3
   },
   "file_extension": ".py",
   "mimetype": "text/x-python",
   "name": "python",
   "nbconvert_exporter": "python",
   "pygments_lexer": "ipython3",
   "version": "3.8.5"
  }
 },
 "nbformat": 4,
 "nbformat_minor": 4
}
