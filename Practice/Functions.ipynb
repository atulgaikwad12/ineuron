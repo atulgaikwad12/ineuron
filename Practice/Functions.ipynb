{
 "cells": [
  {
   "cell_type": "code",
   "execution_count": 14,
   "metadata": {},
   "outputs": [
    {
     "name": "stdout",
     "output_type": "stream",
     "text": [
      "<class 'tuple'>\n",
      "10\n",
      "20\n",
      "30\n"
     ]
    }
   ],
   "source": [
    "# function to return multiple data in the form of tuples\n",
    "# default parameters\n",
    "def multiReturns(\n",
    "    x=10,\n",
    "    y=20,\n",
    "    z=30):\n",
    "    return x,y,z\n",
    "\n",
    "print(type( multiReturns() )) # Returns tuple in case of multiple data in return \n",
    "\n",
    "a,_,b = multiReturns()  # function returns 3 variable but we want only 2 hence we used _ as a placeholder   \n",
    "\n",
    "print(a)\n",
    "print(_) # Placeholder same as variable holds value\n",
    "print(b)\n"
   ]
  },
  {
   "cell_type": "code",
   "execution_count": 13,
   "metadata": {},
   "outputs": [
    {
     "name": "stdout",
     "output_type": "stream",
     "text": [
      "100\n"
     ]
    }
   ],
   "source": [
    "_ =100 # defined as a variable\n",
    "print(_) "
   ]
  },
  {
   "cell_type": "code",
   "execution_count": 29,
   "metadata": {},
   "outputs": [
    {
     "ename": "SyntaxError",
     "evalue": "non-default argument follows default argument (<ipython-input-29-5d0b399c7621>, line 1)",
     "output_type": "error",
     "traceback": [
      "\u001b[1;36m  File \u001b[1;32m\"<ipython-input-29-5d0b399c7621>\"\u001b[1;36m, line \u001b[1;32m1\u001b[0m\n\u001b[1;33m    def defaultPara(z,n=10,m):\u001b[0m\n\u001b[1;37m                    ^\u001b[0m\n\u001b[1;31mSyntaxError\u001b[0m\u001b[1;31m:\u001b[0m non-default argument follows default argument\n"
     ]
    }
   ],
   "source": [
    "# can't put default param neither at first place nor in middle place\n",
    "def defaultPara(z,n=10,m):\n",
    "    return n+m\n",
    "\n",
    "#print(defaultPara(,20))"
   ]
  },
  {
   "cell_type": "code",
   "execution_count": 49,
   "metadata": {},
   "outputs": [
    {
     "data": {
      "text/plain": [
       "[1, 2, 3, 4, 5, 6, 7, 8, 68, 70]"
      ]
     },
     "execution_count": 49,
     "metadata": {},
     "output_type": "execute_result"
    }
   ],
   "source": [
    "# function to take multiple input params using single *args => it will be of type tuple\n",
    "def takeList(*largs):\n",
    "    final=list()\n",
    "    for i in largs:\n",
    "        final = final + i\n",
    "    return final\n",
    "\n",
    "    \n",
    "takeList(final,[1,2,3,4],[5,6,7],[],[8,68,70])"
   ]
  },
  {
   "cell_type": "code",
   "execution_count": 104,
   "metadata": {},
   "outputs": [
    {
     "data": {
      "text/plain": [
       "[1, 2, 3, 4, 5, 6, 7, 8, 68, 70, 1, 2, 3, 4, 5, 6, 7, 'RR', 'YY', 8, 68, 70]"
      ]
     },
     "execution_count": 104,
     "metadata": {},
     "output_type": "execute_result"
    }
   ],
   "source": [
    "# Keyword argument after arbitrary positional argument\n",
    "def takeList(*largs,l):\n",
    "    final=list()\n",
    "    for i in largs:\n",
    "        final = final + i\n",
    "    return final\n",
    "\n",
    "# Here if we want any input param after args we can do like this    using  Keyword Argument l \n",
    "takeList(final,[1,2,3,4],[5,6,7],['RR','YY'],[8,68,70],l=566) \n",
    "\n",
    "# otherwise will get error if we pass inputs like this\n",
    "#takeList(final,[1,2,3,4],[5,6,7],['RR','YY'],[8,68,70],566) "
   ]
  },
  {
   "cell_type": "code",
   "execution_count": 105,
   "metadata": {},
   "outputs": [
    {
     "name": "stdout",
     "output_type": "stream",
     "text": [
      "[]\n",
      "[1, 2, 3, 4, 5, 6, 7, 8, 68, 70]\n"
     ]
    }
   ],
   "source": [
    "# call by refernce \n",
    "# passing list refernce in input\n",
    "def takeList(lst1,*largs):\n",
    "    # Or by using List Comprehnsion\n",
    "    [lst1.extend(i) for i in largs]   \n",
    "    \n",
    "    \n",
    "final=[]\n",
    "print(final)\n",
    "takeList(final,[1,2,3,4],[5,6,7],[],[8,68,70])\n",
    "print(final)"
   ]
  },
  {
   "cell_type": "code",
   "execution_count": 5,
   "metadata": {},
   "outputs": [
    {
     "name": "stdout",
     "output_type": "stream",
     "text": [
      "Atul Gaikwad\n",
      "Atul\n"
     ]
    }
   ],
   "source": [
    "# call by value\n",
    "\n",
    "d = 'Atul'\n",
    " \n",
    "def callbyValue(d):\n",
    "    d=d + ' Gaikwad'\n",
    "    print(d)\n",
    "\n",
    "    \n",
    "callbyValue(d)\n",
    "print(d)"
   ]
  },
  {
   "cell_type": "code",
   "execution_count": 26,
   "metadata": {},
   "outputs": [
    {
     "name": "stdout",
     "output_type": "stream",
     "text": [
      "2218321676464\n",
      "<class 'int'>\n",
      "Atul\n"
     ]
    }
   ],
   "source": [
    "# passing addres \n",
    "\n",
    "d = 'Atul'\n",
    " \n",
    "def callbyValue(*d):\n",
    "    #d=d + ' Gaikwad'\n",
    "    print(*d)\n",
    "    print(type(*d))\n",
    "\n",
    "    \n",
    "callbyValue(id(d))\n",
    "print(d)"
   ]
  },
  {
   "cell_type": "code",
   "execution_count": 61,
   "metadata": {},
   "outputs": [
    {
     "name": "stdout",
     "output_type": "stream",
     "text": [
      "{'a': 10, 'b': True, 'c': [12, 3, 'ER'], 'd': 'AD'}\n",
      "<class 'dict'>\n"
     ]
    }
   ],
   "source": [
    "# arbitrary keyword arguments => **kwargs\n",
    "# returns dict but accept only key value pair and key only as a variable \n",
    "\n",
    "def takeKWargs(**kwargs):\n",
    "    print(kwargs)\n",
    "    #print(**kwargs) gives error\n",
    "    print(type(kwargs))\n",
    "    \n",
    "takeKWargs(a = 10,b=True, c =[12,3,'ER'],d='AD')"
   ]
  },
  {
   "cell_type": "code",
   "execution_count": 62,
   "metadata": {},
   "outputs": [
    {
     "ename": "SyntaxError",
     "evalue": "expression cannot contain assignment, perhaps you meant \"==\"? (<ipython-input-62-232fa242efec>, line 1)",
     "output_type": "error",
     "traceback": [
      "\u001b[1;36m  File \u001b[1;32m\"<ipython-input-62-232fa242efec>\"\u001b[1;36m, line \u001b[1;32m1\u001b[0m\n\u001b[1;33m    takeKWargs('a' = 10,b=True, c =[12,3,'ER'],d='AD')\u001b[0m\n\u001b[1;37m               ^\u001b[0m\n\u001b[1;31mSyntaxError\u001b[0m\u001b[1;31m:\u001b[0m expression cannot contain assignment, perhaps you meant \"==\"?\n"
     ]
    }
   ],
   "source": [
    "takeKWargs('a' = 10,b=True, c =[12,3,'ER'],d='AD')"
   ]
  },
  {
   "cell_type": "code",
   "execution_count": 63,
   "metadata": {},
   "outputs": [
    {
     "ename": "NameError",
     "evalue": "name 'c' is not defined",
     "output_type": "error",
     "traceback": [
      "\u001b[1;31m---------------------------------------------------------------------------\u001b[0m",
      "\u001b[1;31mNameError\u001b[0m                                 Traceback (most recent call last)",
      "\u001b[1;32m<ipython-input-63-74cfa0e5d6f5>\u001b[0m in \u001b[0;36m<module>\u001b[1;34m\u001b[0m\n\u001b[1;32m----> 1\u001b[1;33m \u001b[0mtakeKWargs\u001b[0m\u001b[1;33m(\u001b[0m\u001b[1;33m{\u001b[0m\u001b[1;34m'a'\u001b[0m\u001b[1;33m:\u001b[0m\u001b[1;36m10\u001b[0m\u001b[1;33m,\u001b[0m\u001b[0mb\u001b[0m\u001b[1;33m:\u001b[0m\u001b[1;32mTrue\u001b[0m\u001b[1;33m,\u001b[0m \u001b[0mc\u001b[0m \u001b[1;33m:\u001b[0m\u001b[1;33m[\u001b[0m\u001b[1;36m12\u001b[0m\u001b[1;33m,\u001b[0m\u001b[1;36m3\u001b[0m\u001b[1;33m,\u001b[0m\u001b[1;34m'ER'\u001b[0m\u001b[1;33m]\u001b[0m\u001b[1;33m,\u001b[0m\u001b[0md\u001b[0m\u001b[1;33m:\u001b[0m\u001b[1;34m'AD'\u001b[0m\u001b[1;33m}\u001b[0m\u001b[1;33m)\u001b[0m\u001b[1;33m\u001b[0m\u001b[1;33m\u001b[0m\u001b[0m\n\u001b[0m",
      "\u001b[1;31mNameError\u001b[0m: name 'c' is not defined"
     ]
    }
   ],
   "source": [
    "takeKWargs({'a':10,b:True, c :[12,3,'ER'],d:'AD'})"
   ]
  },
  {
   "cell_type": "code",
   "execution_count": 87,
   "metadata": {},
   "outputs": [
    {
     "data": {
      "text/plain": [
       "([[12, 2], [12, 3, 'EW'], [16, 'ER'], ['RR', 'TT']],\n",
       " [(23, 5, 6), (5, 67, 8)],\n",
       " [{'a': 12, 'b': 45}, {'2': 45}],\n",
       " [{43, 78}],\n",
       " ['GRR', 'JJ'])"
      ]
     },
     "execution_count": 87,
     "metadata": {},
     "output_type": "execute_result"
    }
   ],
   "source": [
    "\n",
    "#Q1\n",
    "def classifier(*largs):\n",
    "    lst   = []\n",
    "    mtup = []\n",
    "    mdict = []\n",
    "    mset  = []\n",
    "    lstr  = []\n",
    "    \n",
    "    [lst.append(i) for i in largs if(type(i)) == list]  \n",
    "    [mtup.append(i) for i in largs if(type(i)) == tuple]  \n",
    "    [mdict.append(i) for i in largs if(type(i)) == dict]  \n",
    "    [mset.append(i) for i in largs if(type(i)) == set]  \n",
    "    [lstr.append(i) for i in largs if(type(i)) == str] \n",
    "\n",
    "                        \n",
    "    return lst,mtup,mdict,mset,lstr\n",
    "\n",
    "classifier([12,2],[12,3,'EW'],[16,'ER'],['RR','TT'],(23,5,6),(5,67,8),{'a':12,'b':45},{'2':45},{43,78},'GRR','JJ')"
   ]
  },
  {
   "cell_type": "code",
   "execution_count": 97,
   "metadata": {},
   "outputs": [
    {
     "data": {
      "text/plain": [
       "{list: [[12, 2], [12, 3, 'EW'], [16, 'ER'], ['RR', 'TT']],\n",
       " tuple: [(23, 5, 6), (5, 67, 8)],\n",
       " dict: [{'a': 12, 'b': 45}, {'2': 45}],\n",
       " set: [{43, 78}, {'88', 'tt'}],\n",
       " str: ['GRR', 'JJ'],\n",
       " complex: [(6+7j), (5+7j)]}"
      ]
     },
     "execution_count": 97,
     "metadata": {},
     "output_type": "execute_result"
    }
   ],
   "source": [
    "#Q1 dynamic code \n",
    "def d_classifier(*largs):\n",
    "    final_dict = dict()\n",
    "\n",
    "    for i in largs:\n",
    "        if(type(i) in final_dict.keys()):\n",
    "            final_dict[type(i)].append(i)\n",
    "        else:\n",
    "            final_dict[type(i)] = [i]\n",
    "                        \n",
    "    return final_dict\n",
    "\n",
    "d_classifier([12,2],[12,3,'EW'],[16,'ER'],['RR','TT'],(23,5,6),(5,67,8),{'a':12,'b':45},{'2':45},{43,78},'GRR','JJ',6+7j,5+7j,\n",
    "            {'88','tt'})"
   ]
  },
  {
   "cell_type": "code",
   "execution_count": 113,
   "metadata": {},
   "outputs": [
    {
     "data": {
      "text/plain": [
       "[4, 77, 8, 99, 'JJ', 'GF', 23, 5, 6, 'YY', 'UU']"
      ]
     },
     "execution_count": 113,
     "metadata": {},
     "output_type": "execute_result"
    }
   ],
   "source": [
    "#Q2\n",
    "def classifier2(*largs,**kwargs):\n",
    "    lst   = []\n",
    "    [lst.extend(i) for i in largs if(type(i)) == list] \n",
    "    [lst.extend(i) for i in kwargs.values() if(type(i)) == list] \n",
    "    return lst\n",
    "\n",
    "classifier2([4,77,8],[99,'JJ','GF'],a='23',b=[23,5,6],c=['YY','UU'])\n",
    "    "
   ]
  },
  {
   "cell_type": "code",
   "execution_count": 117,
   "metadata": {},
   "outputs": [
    {
     "ename": "SyntaxError",
     "evalue": "invalid syntax (<ipython-input-117-1e5f89fd5c4a>, line 2)",
     "output_type": "error",
     "traceback": [
      "\u001b[1;36m  File \u001b[1;32m\"<ipython-input-117-1e5f89fd5c4a>\"\u001b[1;36m, line \u001b[1;32m2\u001b[0m\n\u001b[1;33m    def classifier2(**kwargs,*largs):\u001b[0m\n\u001b[1;37m                             ^\u001b[0m\n\u001b[1;31mSyntaxError\u001b[0m\u001b[1;31m:\u001b[0m invalid syntax\n"
     ]
    }
   ],
   "source": [
    "# kwargs before args giving error \n",
    "# the correct order for your parameters is:\n",
    "\n",
    "# 1. Standard arguments\n",
    "# 2. *args arguments\n",
    "# 3. **kwargs arguments\n",
    "\n",
    "def classifier2(**kwargs,*largs):\n",
    "    lst   = []\n",
    "    [lst.extend(i) for i in largs if(type(i)) == list] \n",
    "    [lst.extend(i) for i in kwargs.values() if(type(i)) == list] \n",
    "    return lst\n",
    "\n",
    "classifier2(a='23',b=[23,5,6],c=['YY','UU'],[4,77,8],[99,'JJ','GF'])   "
   ]
  },
  {
   "cell_type": "code",
   "execution_count": 121,
   "metadata": {},
   "outputs": [
    {
     "data": {
      "text/plain": [
       "([4, 77, 8, 99, 'JJ', 'GF'], '23', [23, 5, 6], ['YY', 'UU'])"
      ]
     },
     "execution_count": 121,
     "metadata": {},
     "output_type": "execute_result"
    }
   ],
   "source": [
    "#Q2 \n",
    "def classifier2(*largs,b,a,c):\n",
    "    lst   = []\n",
    "    [lst.extend(i) for i in largs if(type(i)) == list] \n",
    "    #[lst.extend(i) for i in kwargs.values() if(type(i)) == list] \n",
    "    return lst,a,b,c\n",
    "\n",
    "classifier2([4,77,8],[99,'JJ','GF'],a='23',b=[23,5,6],c=['YY','UU'])\n",
    "        "
   ]
  },
  {
   "cell_type": "code",
   "execution_count": null,
   "metadata": {},
   "outputs": [],
   "source": []
  }
 ],
 "metadata": {
  "kernelspec": {
   "display_name": "Python 3",
   "language": "python",
   "name": "python3"
  },
  "language_info": {
   "codemirror_mode": {
    "name": "ipython",
    "version": 3
   },
   "file_extension": ".py",
   "mimetype": "text/x-python",
   "name": "python",
   "nbconvert_exporter": "python",
   "pygments_lexer": "ipython3",
   "version": "3.8.5"
  }
 },
 "nbformat": 4,
 "nbformat_minor": 4
}
