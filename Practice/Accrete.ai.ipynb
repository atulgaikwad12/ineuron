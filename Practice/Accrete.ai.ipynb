{
 "cells": [
  {
   "cell_type": "code",
   "execution_count": 14,
   "metadata": {},
   "outputs": [
    {
     "data": {
      "text/plain": [
       "<generator object fib at 0x0000027E3A370120>"
      ]
     },
     "execution_count": 14,
     "metadata": {},
     "output_type": "execute_result"
    }
   ],
   "source": [
    "# 0 1 1 2 3 5 8 13\n",
    "\n",
    "def fib(n):\n",
    "    res = list()\n",
    "    for i in range(n):\n",
    "        if(i==0):\n",
    "            res.append(0)\n",
    "        elif(i==1):\n",
    "            res.append(1)\n",
    "        else:\n",
    "            res.append(res[i-1]+res[i-2])\n",
    "        yield res[i]\n",
    "    \n",
    "    \n",
    "fib(8)"
   ]
  },
  {
   "cell_type": "code",
   "execution_count": 15,
   "metadata": {},
   "outputs": [
    {
     "name": "stdout",
     "output_type": "stream",
     "text": [
      "0\n",
      "1\n",
      "1\n",
      "2\n",
      "3\n",
      "5\n",
      "8\n",
      "13\n"
     ]
    }
   ],
   "source": [
    "for i in fib(8):\n",
    "    print(i)"
   ]
  },
  {
   "cell_type": "code",
   "execution_count": 3,
   "metadata": {},
   "outputs": [
    {
     "name": "stdout",
     "output_type": "stream",
     "text": [
      "The positional arguments are (10, 20)\n",
      "The keyword arguments  are {}\n",
      "0.5\n"
     ]
    }
   ],
   "source": [
    "def deco(divide):\n",
    "    \n",
    "    def warapper(*args,**kwargs):\n",
    "        print('The positional arguments are', args)\n",
    "        print('The keyword arguments  are', kwargs)\n",
    "        \n",
    "        if(args[1] == 0):\n",
    "            print('Cannot divide')\n",
    "        else:\n",
    "            divide(*args)\n",
    "    return warapper\n",
    "    \n",
    "    \n",
    "@deco\n",
    "def divide(a,b):\n",
    "    print(a/b)\n",
    "\n",
    "divide(10,20)\n",
    "#divide(10,0)\n",
    "#divide(0,10)"
   ]
  },
  {
   "cell_type": "code",
   "execution_count": 85,
   "metadata": {},
   "outputs": [],
   "source": [
    "input = \"%%%%Atul%%%%Gaikwad%%%%s\"\n",
    "output = \"Atul%Gaikwad\""
   ]
  },
  {
   "cell_type": "code",
   "execution_count": 39,
   "metadata": {},
   "outputs": [
    {
     "data": {
      "text/plain": [
       "['A', 't', 'u', 'l', '%', 'G', 'a', 'i', 'k', 'w', 'a', 'd', '%', 's']"
      ]
     },
     "execution_count": 39,
     "metadata": {},
     "output_type": "execute_result"
    }
   ],
   "source": [
    "output = \"Atul%Gaikwad%s\"\n",
    "lst = list(output)\n",
    "lst\n",
    "\n"
   ]
  },
  {
   "cell_type": "code",
   "execution_count": 51,
   "metadata": {},
   "outputs": [],
   "source": [
    "def process_str(ipstr):\n",
    "    \n",
    "    stck = list(ipstr)\n",
    "    word_flag = False\n",
    "    l = len(stck)\n",
    "    output = [] \n",
    "    for idx,ch in enumerate(stck):\n",
    "        #print(word_flag)\n",
    "        if ch == \"%\" and word_flag == True and idx < l-1 and stck[idx+1] !=\"%\":\n",
    "            output.append(ch)\n",
    "            word_flag = False\n",
    "        elif ch == \"%\":\n",
    "            continue\n",
    "        else:\n",
    "            output.append(ch)\n",
    "            word_flag = True\n",
    "    \n",
    "    return \"\".join(output)"
   ]
  },
  {
   "cell_type": "code",
   "execution_count": 54,
   "metadata": {
    "scrolled": true
   },
   "outputs": [
    {
     "data": {
      "text/plain": [
       "'Atul%Gaikwad'"
      ]
     },
     "execution_count": 54,
     "metadata": {},
     "output_type": "execute_result"
    }
   ],
   "source": [
    "process_str(\"%%%%Atul%%%%Gaikwad%%%%\")"
   ]
  },
  {
   "cell_type": "code",
   "execution_count": 55,
   "metadata": {},
   "outputs": [
    {
     "data": {
      "text/plain": [
       "'Atul%Gaikwad%s'"
      ]
     },
     "execution_count": 55,
     "metadata": {},
     "output_type": "execute_result"
    }
   ],
   "source": [
    "process_str(\"%%%%Atul%%%%Gaikwad%%%%s\")"
   ]
  },
  {
   "cell_type": "code",
   "execution_count": 56,
   "metadata": {},
   "outputs": [
    {
     "data": {
      "text/plain": [
       "'Atul%Gaikwad'"
      ]
     },
     "execution_count": 56,
     "metadata": {},
     "output_type": "execute_result"
    }
   ],
   "source": [
    "process_str(\"Atul%%%%Gaikwad%%%%\")"
   ]
  },
  {
   "cell_type": "code",
   "execution_count": 57,
   "metadata": {},
   "outputs": [
    {
     "data": {
      "text/plain": [
       "True"
      ]
     },
     "execution_count": 57,
     "metadata": {},
     "output_type": "execute_result"
    }
   ],
   "source": [
    "a = 10\n",
    "b = 10\n",
    "\n",
    "a == b"
   ]
  },
  {
   "cell_type": "code",
   "execution_count": 58,
   "metadata": {},
   "outputs": [
    {
     "data": {
      "text/plain": [
       "True"
      ]
     },
     "execution_count": 58,
     "metadata": {},
     "output_type": "execute_result"
    }
   ],
   "source": [
    "a is b"
   ]
  },
  {
   "cell_type": "code",
   "execution_count": 59,
   "metadata": {},
   "outputs": [
    {
     "data": {
      "text/plain": [
       "True"
      ]
     },
     "execution_count": 59,
     "metadata": {},
     "output_type": "execute_result"
    }
   ],
   "source": [
    "l1 = [1,2,3]\n",
    "l2 = [1,2,3]\n",
    "\n",
    "l1 == l2"
   ]
  },
  {
   "cell_type": "code",
   "execution_count": 60,
   "metadata": {},
   "outputs": [
    {
     "data": {
      "text/plain": [
       "False"
      ]
     },
     "execution_count": 60,
     "metadata": {},
     "output_type": "execute_result"
    }
   ],
   "source": [
    "l1 is l2"
   ]
  },
  {
   "cell_type": "code",
   "execution_count": null,
   "metadata": {},
   "outputs": [],
   "source": []
  }
 ],
 "metadata": {
  "kernelspec": {
   "display_name": "Python 3",
   "language": "python",
   "name": "python3"
  },
  "language_info": {
   "codemirror_mode": {
    "name": "ipython",
    "version": 3
   },
   "file_extension": ".py",
   "mimetype": "text/x-python",
   "name": "python",
   "nbconvert_exporter": "python",
   "pygments_lexer": "ipython3",
   "version": "3.8.5"
  }
 },
 "nbformat": 4,
 "nbformat_minor": 4
}
