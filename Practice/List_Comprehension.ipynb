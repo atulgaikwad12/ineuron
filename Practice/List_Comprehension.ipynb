{
 "cells": [
  {
   "cell_type": "code",
   "execution_count": 2,
   "metadata": {},
   "outputs": [
    {
     "data": {
      "text/plain": [
       "[0, 1, 2, 3, 4, 5, 6, 7, 8, 9]"
      ]
     },
     "execution_count": 2,
     "metadata": {},
     "output_type": "execute_result"
    }
   ],
   "source": [
    "l = list(range(0,10))\n",
    "l"
   ]
  },
  {
   "cell_type": "code",
   "execution_count": 3,
   "metadata": {},
   "outputs": [
    {
     "data": {
      "text/plain": [
       "['yes', 'no', 'yes', 'no', 'yes', 'no', 'yes', 'no', 'yes', 'no']"
      ]
     },
     "execution_count": 3,
     "metadata": {},
     "output_type": "execute_result"
    }
   ],
   "source": [
    "['yes' if i%2==0 else 'no' for i in l]"
   ]
  },
  {
   "cell_type": "code",
   "execution_count": 4,
   "metadata": {},
   "outputs": [
    {
     "data": {
      "text/plain": [
       "['else case',\n",
       " 'no',\n",
       " 'yes',\n",
       " 'yes',\n",
       " 'no',\n",
       " 'else case',\n",
       " 'else case',\n",
       " 'else case',\n",
       " 'else case',\n",
       " 'else case']"
      ]
     },
     "execution_count": 4,
     "metadata": {},
     "output_type": "execute_result"
    }
   ],
   "source": [
    "['yes' if i==2 or i==3 else 'no' if i==1 or i==4 else 'else case' for i in l]"
   ]
  },
  {
   "cell_type": "code",
   "execution_count": 5,
   "metadata": {},
   "outputs": [
    {
     "name": "stdout",
     "output_type": "stream",
     "text": [
      "else case\n",
      "no\n",
      "yes\n",
      "yes\n",
      "no\n",
      "else case\n",
      "else case\n",
      "else case\n",
      "else case\n",
      "else case\n"
     ]
    }
   ],
   "source": [
    "# above code is for else if ladder\n",
    "for i in l:\n",
    "    if i==2 or i==3:\n",
    "        print('yes')\n",
    "    elif i==1 or i==4:\n",
    "        print('no')\n",
    "    else:\n",
    "        print('else case')"
   ]
  },
  {
   "cell_type": "code",
   "execution_count": 10,
   "metadata": {},
   "outputs": [
    {
     "data": {
      "text/plain": [
       "[0, 4, 8, 12, 16]"
      ]
     },
     "execution_count": 10,
     "metadata": {},
     "output_type": "execute_result"
    }
   ],
   "source": [
    "k=[i*2 for i in l if i%2==0]\n",
    "k"
   ]
  },
  {
   "cell_type": "code",
   "execution_count": 11,
   "metadata": {},
   "outputs": [
    {
     "data": {
      "text/plain": [
       "['0', '4', '8', 'unknown', 'unknown']"
      ]
     },
     "execution_count": 11,
     "metadata": {},
     "output_type": "execute_result"
    }
   ],
   "source": [
    "['0' if i==0 else '4' if i==4 else '8' if i==8 else 'unknown' for i in k]"
   ]
  },
  {
   "cell_type": "code",
   "execution_count": 12,
   "metadata": {},
   "outputs": [
    {
     "data": {
      "text/plain": [
       "[0, 6]"
      ]
     },
     "execution_count": 12,
     "metadata": {},
     "output_type": "execute_result"
    }
   ],
   "source": [
    "[i for i in range(8) if i % 2 == 0 if i % 3 == 0] # multiple if"
   ]
  },
  {
   "cell_type": "code",
   "execution_count": 13,
   "metadata": {},
   "outputs": [
    {
     "name": "stdout",
     "output_type": "stream",
     "text": [
      "0\n",
      "0\n",
      "2\n",
      "3\n",
      "4\n",
      "6\n",
      "6\n"
     ]
    }
   ],
   "source": [
    "# above code is same as \n",
    "for i in range(8):\n",
    "    if i % 2 == 0:\n",
    "        print(i)\n",
    "        \n",
    "    if i % 3 == 0:\n",
    "        print(i)\n",
    "\n",
    "    "
   ]
  },
  {
   "cell_type": "code",
   "execution_count": 19,
   "metadata": {},
   "outputs": [
    {
     "name": "stdout",
     "output_type": "stream",
     "text": [
      "01010\n",
      "List- [0, 0, 0, 0, 1, 0, 1, 0]\n"
     ]
    }
   ],
   "source": [
    "blist = list()\n",
    "\n",
    "def cov_dectobin(num):\n",
    "    if(num >=1):\n",
    "        cov_dectobin(num // 2) #Floor Division or Integer Division \n",
    "    blist.append(num%2)\n",
    "    print(num %2,end=\"\")\n",
    "\n",
    "cov_dectobin(10)\n",
    "if 8 - len(blist) > 0:\n",
    "    for i in range(8 - len(blist)):\n",
    "        blist.insert(0,0)\n",
    "\n",
    "print('\\nList-',blist)"
   ]
  },
  {
   "cell_type": "code",
   "execution_count": null,
   "metadata": {},
   "outputs": [],
   "source": []
  }
 ],
 "metadata": {
  "kernelspec": {
   "display_name": "Python 3",
   "language": "python",
   "name": "python3"
  },
  "language_info": {
   "codemirror_mode": {
    "name": "ipython",
    "version": 3
   },
   "file_extension": ".py",
   "mimetype": "text/x-python",
   "name": "python",
   "nbconvert_exporter": "python",
   "pygments_lexer": "ipython3",
   "version": "3.8.5"
  }
 },
 "nbformat": 4,
 "nbformat_minor": 4
}
