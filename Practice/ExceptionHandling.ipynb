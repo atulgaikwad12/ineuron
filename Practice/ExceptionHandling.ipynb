{
 "cells": [
  {
   "cell_type": "code",
   "execution_count": null,
   "metadata": {},
   "outputs": [],
   "source": [
    "# Exception handling is for run time errors/exceptions not for compile errors#"
   ]
  },
  {
   "cell_type": "code",
   "execution_count": 1,
   "metadata": {},
   "outputs": [],
   "source": [
    "try:\n",
    "    f = open('xyz.txt','a')\n",
    "    f.write('sdf sdf df')\n",
    "    f.close()\n",
    "except:\n",
    "    print('File append operation failed')"
   ]
  },
  {
   "cell_type": "code",
   "execution_count": 2,
   "metadata": {},
   "outputs": [
    {
     "name": "stdout",
     "output_type": "stream",
     "text": [
      "Failed to read file\n"
     ]
    }
   ],
   "source": [
    "# since we have already closed file object here we may get error\n",
    "try:\n",
    "    f.seek(0)\n",
    "    f.read()\n",
    "except:\n",
    "    print('Failed to read file')"
   ]
  },
  {
   "cell_type": "code",
   "execution_count": 3,
   "metadata": {},
   "outputs": [
    {
     "name": "stdout",
     "output_type": "stream",
     "text": [
      "0\n",
      "division by zero\n",
      "Something went wrong\n"
     ]
    }
   ],
   "source": [
    "# To print actual exception msg using Exception super class\n",
    "\n",
    "try:\n",
    "    a=1\n",
    "    b=int(input())\n",
    "    print(a/b)\n",
    "except Exception as e:\n",
    "    print(e)\n",
    "    print('Something went wrong')"
   ]
  },
  {
   "cell_type": "code",
   "execution_count": 1,
   "metadata": {},
   "outputs": [
    {
     "name": "stdout",
     "output_type": "stream",
     "text": [
      "0\n",
      "division by zero\n",
      "Something went wrong\n",
      "Inside finally to print each time\n"
     ]
    }
   ],
   "source": [
    "# Else with Try Except- else will get executed only after sucessfull execution of try block (else block has to be after try excpet)\n",
    "# finally block - to execute each time (finally can be written after else block or directly after except block )\n",
    "\n",
    "try:\n",
    "    a=1\n",
    "    b=int(input())\n",
    "    print(a/b)\n",
    "except Exception as e:\n",
    "    print(e)\n",
    "    print('Something went wrong')\n",
    "else:\n",
    "    print('Inside else block')\n",
    "finally:\n",
    "    print('Inside finally to print each time')\n"
   ]
  },
  {
   "cell_type": "code",
   "execution_count": 18,
   "metadata": {},
   "outputs": [
    {
     "name": "stdout",
     "output_type": "stream",
     "text": [
      "0\n",
      "division by zero\n",
      "Something went wrong\n",
      "Inside finally to print each time\n",
      "23\n",
      "oops try again\n",
      "Inside neasted try excpet finally block \n"
     ]
    }
   ],
   "source": [
    "# Neasted try excpet \n",
    "\n",
    "try:\n",
    "    a=1\n",
    "    b=int(input())\n",
    "    print(a/b)\n",
    "except Exception as e:\n",
    "    print(e)\n",
    "    print('Something went wrong')\n",
    "else:\n",
    "    print('Inside else block')\n",
    "finally:\n",
    "    print('Inside finally to print each time')\n",
    "    try: \n",
    "        s = int(input())\n",
    "        print('data='+s)\n",
    "    except:\n",
    "        print('oops try again')\n",
    "    finally: \n",
    "        print('Inside neasted try excpet finally block ')\n",
    "\n",
    "        "
   ]
  },
  {
   "cell_type": "code",
   "execution_count": 20,
   "metadata": {},
   "outputs": [
    {
     "name": "stdout",
     "output_type": "stream",
     "text": [
      "not writable\n",
      "file writing failed \n"
     ]
    }
   ],
   "source": [
    "# We can explicitly mention exception\n",
    "\n",
    "try:\n",
    "    f = open('xyz.txt')\n",
    "    f.write('dsdf')\n",
    "except IOError as i: # 'as i' is just an alising and its optional\n",
    "    print(i)\n",
    "    print('file writing failed ')"
   ]
  },
  {
   "cell_type": "code",
   "execution_count": 42,
   "metadata": {},
   "outputs": [
    {
     "name": "stdout",
     "output_type": "stream",
     "text": [
      "File not found \n"
     ]
    }
   ],
   "source": [
    "try:\n",
    "    f = open('xyz14.txt')\n",
    "    f.write('dsdf')\n",
    "except FileNotFoundError:\n",
    "    print('File not found ')\n",
    "except FileExistsError as fe:\n",
    "    print(fe)\n",
    "except ValueError:\n",
    "    print('Inside value error')\n",
    "except (IOError,OSror): \n",
    "    print('file writing failed ')\n",
    "except:\n",
    "    print('Something Failed')"
   ]
  },
  {
   "cell_type": "code",
   "execution_count": 41,
   "metadata": {},
   "outputs": [
    {
     "name": "stdout",
     "output_type": "stream",
     "text": [
      "-1\n",
      "Enter Positive value Greater than 0\n"
     ]
    }
   ],
   "source": [
    "# custome error msg for exception \n",
    "\n",
    "try:\n",
    "    val = int(input())\n",
    "    if(val <=0 ):\n",
    "        raise ValueError('Enter Positive value Greater than 0')\n",
    "except ValueError as v: # here we can also give Exception class instead of ValueError still will get custome msg of ValueError\n",
    "    print(v)\n",
    "except Exception as e: \n",
    "    print(e)\n",
    "    "
   ]
  },
  {
   "cell_type": "code",
   "execution_count": 4,
   "metadata": {},
   "outputs": [
    {
     "name": "stdout",
     "output_type": "stream",
     "text": [
      "Enter a number: 23\n",
      "This value is too large, try again!\n",
      "\n",
      "Enter a number: 3\n",
      "This value is too small, try again!\n",
      "\n",
      "Enter a number: 10\n",
      "Congratulations! You guessed it correctly.\n"
     ]
    }
   ],
   "source": [
    "# define Python user-defined exceptions\n",
    "class Error(Exception):\n",
    "    \"\"\"Base class for other exceptions\"\"\"\n",
    "    pass\n",
    "\n",
    "\n",
    "class ValueTooSmallError(Error):\n",
    "    \"\"\"Raised when the input value is too small\"\"\"\n",
    "    pass\n",
    "\n",
    "\n",
    "class ValueTooLargeError(Error):\n",
    "    \"\"\"Raised when the input value is too large\"\"\"\n",
    "    pass\n",
    "\n",
    "\n",
    "# you need to guess this number\n",
    "number = 10\n",
    "\n",
    "# user guesses a number until he/she gets it right\n",
    "while True:\n",
    "    try:\n",
    "        i_num = int(input(\"Enter a number: \"))\n",
    "        if i_num < number:\n",
    "            raise ValueTooSmallError\n",
    "        elif i_num > number:\n",
    "            raise ValueTooLargeError\n",
    "        break\n",
    "    except ValueTooSmallError:\n",
    "        print(\"This value is too small, try again!\")\n",
    "        print()\n",
    "    except ValueTooLargeError:\n",
    "        print(\"This value is too large, try again!\")\n",
    "        print()\n",
    "\n",
    "print(\"Congratulations! You guessed it correctly.\")"
   ]
  },
  {
   "cell_type": "code",
   "execution_count": 3,
   "metadata": {},
   "outputs": [
    {
     "name": "stdout",
     "output_type": "stream",
     "text": [
      "0\n",
      "1\n",
      "2\n",
      "3\n",
      "4\n"
     ]
    }
   ],
   "source": [
    "for i in range(0,11):\n",
    "    print(i)\n",
    "    if(i==4):\n",
    "        break \n",
    "else:\n",
    "    print(\"inside else \") # only after whole for loop execution "
   ]
  },
  {
   "cell_type": "code",
   "execution_count": 9,
   "metadata": {},
   "outputs": [
    {
     "name": "stdout",
     "output_type": "stream",
     "text": [
      "Enter a number: 12\n",
      "This value is incorrect, try again!\n",
      "\n",
      "Enter a number: 43\n",
      "This value is incorrect, try again!\n",
      "\n",
      "Enter a number: 10\n",
      "Congratulations! You guessed it correctly.\n"
     ]
    }
   ],
   "source": [
    "# define Python user-defined exceptions\n",
    "\n",
    "class CustomException(Exception):\n",
    "    pass\n",
    "\n",
    "\n",
    "# you need to guess this number\n",
    "number = 10\n",
    "\n",
    "# user guesses a number until he/she gets it right\n",
    "while True:\n",
    "    try:\n",
    "        i_num = int(input(\"Enter a number: \"))\n",
    "        if i_num < number:\n",
    "            raise CustomException\n",
    "        elif i_num > number:\n",
    "            raise CustomException\n",
    "        break\n",
    "    except CustomException as c:\n",
    "        print(\"This value is incorrect, try again!\")\n",
    "        print(c)\n",
    "\n",
    "print(\"Congratulations! You guessed it correctly.\")"
   ]
  },
  {
   "cell_type": "code",
   "execution_count": 10,
   "metadata": {},
   "outputs": [
    {
     "name": "stdout",
     "output_type": "stream",
     "text": [
      "Enter a Number12sd\n",
      "Invalid Input invalid literal for int() with base 10: '12sd'\n",
      "Inside finally\n",
      "Enter a Number12\n",
      "12\n",
      "Valid Data Thanks \n",
      "Inside finally\n"
     ]
    }
   ],
   "source": [
    "while True:\n",
    "    \n",
    "    try:\n",
    "        a = int(input(\"Enter a Number\"))\n",
    "        print(a)\n",
    "    except Exception as e:\n",
    "        print(\"Invalid Input\",e)\n",
    "    else:\n",
    "        print(\"Valid Data Thanks \")\n",
    "        break\n",
    "    finally:\n",
    "        print(\"Inside finally\") # still break is there in else finally will get executed \n",
    "        "
   ]
  },
  {
   "cell_type": "code",
   "execution_count": 11,
   "metadata": {},
   "outputs": [],
   "source": [
    "# Custom Exception using only Function \n",
    "def create_exception(a):\n",
    "    if a == 6:\n",
    "        raise Exception \n",
    "    else:\n",
    "        print(\"Input is valid\")"
   ]
  },
  {
   "cell_type": "code",
   "execution_count": 12,
   "metadata": {},
   "outputs": [
    {
     "name": "stdout",
     "output_type": "stream",
     "text": [
      "Input is valid\n"
     ]
    }
   ],
   "source": [
    "create_exception(23)"
   ]
  },
  {
   "cell_type": "code",
   "execution_count": 13,
   "metadata": {},
   "outputs": [
    {
     "ename": "Exception",
     "evalue": "",
     "output_type": "error",
     "traceback": [
      "\u001b[1;31m---------------------------------------------------------------------------\u001b[0m",
      "\u001b[1;31mException\u001b[0m                                 Traceback (most recent call last)",
      "\u001b[1;32m<ipython-input-13-fcabae6f4223>\u001b[0m in \u001b[0;36m<module>\u001b[1;34m\u001b[0m\n\u001b[1;32m----> 1\u001b[1;33m \u001b[0mcreate_exception\u001b[0m\u001b[1;33m(\u001b[0m\u001b[1;36m6\u001b[0m\u001b[1;33m)\u001b[0m\u001b[1;33m\u001b[0m\u001b[1;33m\u001b[0m\u001b[0m\n\u001b[0m",
      "\u001b[1;32m<ipython-input-11-ad52394cdcc5>\u001b[0m in \u001b[0;36mcreate_exception\u001b[1;34m(a)\u001b[0m\n\u001b[0;32m      1\u001b[0m \u001b[1;32mdef\u001b[0m \u001b[0mcreate_exception\u001b[0m\u001b[1;33m(\u001b[0m\u001b[0ma\u001b[0m\u001b[1;33m)\u001b[0m\u001b[1;33m:\u001b[0m\u001b[1;33m\u001b[0m\u001b[1;33m\u001b[0m\u001b[0m\n\u001b[0;32m      2\u001b[0m     \u001b[1;32mif\u001b[0m \u001b[0ma\u001b[0m \u001b[1;33m==\u001b[0m \u001b[1;36m6\u001b[0m\u001b[1;33m:\u001b[0m\u001b[1;33m\u001b[0m\u001b[1;33m\u001b[0m\u001b[0m\n\u001b[1;32m----> 3\u001b[1;33m         \u001b[1;32mraise\u001b[0m \u001b[0mException\u001b[0m\u001b[1;33m\u001b[0m\u001b[1;33m\u001b[0m\u001b[0m\n\u001b[0m\u001b[0;32m      4\u001b[0m     \u001b[1;32melse\u001b[0m\u001b[1;33m:\u001b[0m\u001b[1;33m\u001b[0m\u001b[1;33m\u001b[0m\u001b[0m\n\u001b[0;32m      5\u001b[0m         \u001b[0mprint\u001b[0m\u001b[1;33m(\u001b[0m\u001b[1;34m\"Input is valid\"\u001b[0m\u001b[1;33m)\u001b[0m\u001b[1;33m\u001b[0m\u001b[1;33m\u001b[0m\u001b[0m\n",
      "\u001b[1;31mException\u001b[0m: "
     ]
    }
   ],
   "source": [
    "create_exception(6)"
   ]
  },
  {
   "cell_type": "code",
   "execution_count": 14,
   "metadata": {},
   "outputs": [],
   "source": [
    "def create_exception(a):\n",
    "    if a == 6:\n",
    "        raise Exception(\"Error is\",a)\n",
    "    else:\n",
    "        print(\"Input is valid\")"
   ]
  },
  {
   "cell_type": "code",
   "execution_count": 16,
   "metadata": {},
   "outputs": [
    {
     "ename": "Exception",
     "evalue": "('Error is', 6)",
     "output_type": "error",
     "traceback": [
      "\u001b[1;31m---------------------------------------------------------------------------\u001b[0m",
      "\u001b[1;31mException\u001b[0m                                 Traceback (most recent call last)",
      "\u001b[1;32m<ipython-input-16-fcabae6f4223>\u001b[0m in \u001b[0;36m<module>\u001b[1;34m\u001b[0m\n\u001b[1;32m----> 1\u001b[1;33m \u001b[0mcreate_exception\u001b[0m\u001b[1;33m(\u001b[0m\u001b[1;36m6\u001b[0m\u001b[1;33m)\u001b[0m\u001b[1;33m\u001b[0m\u001b[1;33m\u001b[0m\u001b[0m\n\u001b[0m",
      "\u001b[1;32m<ipython-input-14-54aa1cb75fec>\u001b[0m in \u001b[0;36mcreate_exception\u001b[1;34m(a)\u001b[0m\n\u001b[0;32m      1\u001b[0m \u001b[1;32mdef\u001b[0m \u001b[0mcreate_exception\u001b[0m\u001b[1;33m(\u001b[0m\u001b[0ma\u001b[0m\u001b[1;33m)\u001b[0m\u001b[1;33m:\u001b[0m\u001b[1;33m\u001b[0m\u001b[1;33m\u001b[0m\u001b[0m\n\u001b[0;32m      2\u001b[0m     \u001b[1;32mif\u001b[0m \u001b[0ma\u001b[0m \u001b[1;33m==\u001b[0m \u001b[1;36m6\u001b[0m\u001b[1;33m:\u001b[0m\u001b[1;33m\u001b[0m\u001b[1;33m\u001b[0m\u001b[0m\n\u001b[1;32m----> 3\u001b[1;33m         \u001b[1;32mraise\u001b[0m \u001b[0mException\u001b[0m\u001b[1;33m(\u001b[0m\u001b[1;34m\"Error is\"\u001b[0m\u001b[1;33m,\u001b[0m\u001b[0ma\u001b[0m\u001b[1;33m)\u001b[0m\u001b[1;33m\u001b[0m\u001b[1;33m\u001b[0m\u001b[0m\n\u001b[0m\u001b[0;32m      4\u001b[0m     \u001b[1;32melse\u001b[0m\u001b[1;33m:\u001b[0m\u001b[1;33m\u001b[0m\u001b[1;33m\u001b[0m\u001b[0m\n\u001b[0;32m      5\u001b[0m         \u001b[0mprint\u001b[0m\u001b[1;33m(\u001b[0m\u001b[1;34m\"Input is valid\"\u001b[0m\u001b[1;33m)\u001b[0m\u001b[1;33m\u001b[0m\u001b[1;33m\u001b[0m\u001b[0m\n",
      "\u001b[1;31mException\u001b[0m: ('Error is', 6)"
     ]
    }
   ],
   "source": [
    "create_exception(6)"
   ]
  },
  {
   "cell_type": "code",
   "execution_count": 15,
   "metadata": {},
   "outputs": [
    {
     "name": "stdout",
     "output_type": "stream",
     "text": [
      "('Error is', 6)\n"
     ]
    }
   ],
   "source": [
    "try:\n",
    "    create_exception(6)\n",
    "except Exception as e:\n",
    "    print(e)"
   ]
  },
  {
   "cell_type": "code",
   "execution_count": 2,
   "metadata": {},
   "outputs": [],
   "source": [
    "from TestModules.Test import mod1 "
   ]
  },
  {
   "cell_type": "code",
   "execution_count": 3,
   "metadata": {},
   "outputs": [
    {
     "data": {
      "text/plain": [
       "<module 'TestModules.Test.mod1' from 'D:\\\\ineuron\\\\ineuron\\\\Practice\\\\TestModules\\\\Test\\\\mod1.py'>"
      ]
     },
     "execution_count": 3,
     "metadata": {},
     "output_type": "execute_result"
    }
   ],
   "source": [
    "mod1"
   ]
  },
  {
   "cell_type": "code",
   "execution_count": 4,
   "metadata": {},
   "outputs": [
    {
     "data": {
      "text/plain": [
       "([0, 2, 4, 6, 8, 10, 12, 14, 16, 18, 20, 22], 'Execuation successfull')"
      ]
     },
     "execution_count": 4,
     "metadata": {},
     "output_type": "execute_result"
    }
   ],
   "source": [
    "mod1.evenNumbers(23)"
   ]
  },
  {
   "cell_type": "markdown",
   "metadata": {},
   "source": [
    "# code inside mod1\n",
    "\n",
    "import logging as lg\n",
    "\n",
    "def evenNumbers(data):\n",
    "    lg.basicConfig(filename='log_1.txt',level= lg.INFO, format  = '%(asctime)s %(message)s')\n",
    "    lst = []\n",
    "    try:\n",
    "        if(type(data) != int):\n",
    "            msg = \"Plz Enter Integer\"\n",
    "            raise ValueError(msg)\n",
    "        else:\n",
    "           \n",
    "            try:\n",
    "                for i in range(data):  \n",
    "                    if(i%2 ==0):\n",
    "                        lst.append(i)                  \n",
    "                 \n",
    "            except Exception as e:\n",
    "                try:\n",
    "                    lg.error(e)\n",
    "                except:\n",
    "                    msg = \"logging failed\"\n",
    "                    print(msg)\n",
    "    except ValueError as ve:\n",
    "        lg.error(ve)\n",
    "    else:\n",
    "        msg = \"Execuation successfull\"\n",
    "        lg.info(msg)        \n",
    "    finally:\n",
    "        lg.shutdown()\n",
    "        return lst,msg    \n",
    "    "
   ]
  },
  {
   "cell_type": "code",
   "execution_count": 4,
   "metadata": {},
   "outputs": [
    {
     "name": "stdout",
     "output_type": "stream",
     "text": [
      "inside loop 0\n",
      "inside loop 1\n",
      "inside loop 2\n",
      "inside loop 3\n"
     ]
    }
   ],
   "source": [
    "for i in range(10):\n",
    "    #if (i==4): break\n",
    "    print('inside loop',i)\n",
    "else:\n",
    "    print('out of the loop')"
   ]
  },
  {
   "cell_type": "code",
   "execution_count": null,
   "metadata": {},
   "outputs": [],
   "source": []
  }
 ],
 "metadata": {
  "kernelspec": {
   "display_name": "Python 3",
   "language": "python",
   "name": "python3"
  },
  "language_info": {
   "codemirror_mode": {
    "name": "ipython",
    "version": 3
   },
   "file_extension": ".py",
   "mimetype": "text/x-python",
   "name": "python",
   "nbconvert_exporter": "python",
   "pygments_lexer": "ipython3",
   "version": "3.8.5"
  }
 },
 "nbformat": 4,
 "nbformat_minor": 4
}
