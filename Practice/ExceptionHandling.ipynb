{
 "cells": [
  {
   "cell_type": "code",
   "execution_count": null,
   "metadata": {},
   "outputs": [],
   "source": [
    "# Exception handling is for run time errors/exceptions not for compile errors#"
   ]
  },
  {
   "cell_type": "code",
   "execution_count": 1,
   "metadata": {},
   "outputs": [],
   "source": [
    "try:\n",
    "    f = open('xyz.txt','a')\n",
    "    f.write('sdf sdf df')\n",
    "    f.close()\n",
    "except:\n",
    "    print('File append operation failed')"
   ]
  },
  {
   "cell_type": "code",
   "execution_count": 2,
   "metadata": {},
   "outputs": [
    {
     "name": "stdout",
     "output_type": "stream",
     "text": [
      "Failed to read file\n"
     ]
    }
   ],
   "source": [
    "# since we have already closed file object here we may get error\n",
    "try:\n",
    "    f.seek(0)\n",
    "    f.read()\n",
    "except:\n",
    "    print('Failed to read file')"
   ]
  },
  {
   "cell_type": "code",
   "execution_count": 3,
   "metadata": {},
   "outputs": [
    {
     "name": "stdout",
     "output_type": "stream",
     "text": [
      "0\n",
      "division by zero\n",
      "Something went wrong\n"
     ]
    }
   ],
   "source": [
    "# To print actual exception msg using Exception super class\n",
    "\n",
    "try:\n",
    "    a=1\n",
    "    b=int(input())\n",
    "    print(a/b)\n",
    "except Exception as e:\n",
    "    print(e)\n",
    "    print('Something went wrong')"
   ]
  },
  {
   "cell_type": "code",
   "execution_count": 16,
   "metadata": {},
   "outputs": [
    {
     "name": "stdout",
     "output_type": "stream",
     "text": [
      "2\n",
      "0.5\n",
      "Inside finally to print each time\n"
     ]
    }
   ],
   "source": [
    "# Else with Try Except- else will get executed only after sucessfull execution of try block (else block has to be after try excpet)\n",
    "# finally block - to execute each time (finally can be written after else block or directly after except block )\n",
    "\n",
    "try:\n",
    "    a=1\n",
    "    b=int(input())\n",
    "    print(a/b)\n",
    "except Exception as e:\n",
    "    print(e)\n",
    "    print('Something went wrong')\n",
    "else:\n",
    "    print('Inside else block')\n",
    "finally:\n",
    "    print('Inside finally to print each time')\n"
   ]
  },
  {
   "cell_type": "code",
   "execution_count": 18,
   "metadata": {},
   "outputs": [
    {
     "name": "stdout",
     "output_type": "stream",
     "text": [
      "0\n",
      "division by zero\n",
      "Something went wrong\n",
      "Inside finally to print each time\n",
      "23\n",
      "oops try again\n",
      "Inside neasted try excpet finally block \n"
     ]
    }
   ],
   "source": [
    "# Neasted try excpet \n",
    "\n",
    "try:\n",
    "    a=1\n",
    "    b=int(input())\n",
    "    print(a/b)\n",
    "except Exception as e:\n",
    "    print(e)\n",
    "    print('Something went wrong')\n",
    "else:\n",
    "    print('Inside else block')\n",
    "finally:\n",
    "    print('Inside finally to print each time')\n",
    "    try: \n",
    "        s = int(input())\n",
    "        print('data='+s)\n",
    "    except:\n",
    "        print('oops try again')\n",
    "    finally: \n",
    "        print('Inside neasted try excpet finally block ')\n",
    "\n",
    "        "
   ]
  },
  {
   "cell_type": "code",
   "execution_count": 20,
   "metadata": {},
   "outputs": [
    {
     "name": "stdout",
     "output_type": "stream",
     "text": [
      "not writable\n",
      "file writing failed \n"
     ]
    }
   ],
   "source": [
    "# We can explicitly mention exception\n",
    "\n",
    "try:\n",
    "    f = open('xyz.txt')\n",
    "    f.write('dsdf')\n",
    "except IOError as i: # 'as i' is just an alising and its optional\n",
    "    print(i)\n",
    "    print('file writing failed ')"
   ]
  },
  {
   "cell_type": "code",
   "execution_count": 42,
   "metadata": {},
   "outputs": [
    {
     "name": "stdout",
     "output_type": "stream",
     "text": [
      "File not found \n"
     ]
    }
   ],
   "source": [
    "try:\n",
    "    f = open('xyz14.txt')\n",
    "    f.write('dsdf')\n",
    "except FileNotFoundError:\n",
    "    print('File not found ')\n",
    "except FileExistsError as fe:\n",
    "    print(fe)\n",
    "except ValueError:\n",
    "    print('Inside value error')\n",
    "except (IOError,OSror): \n",
    "    print('file writing failed ')\n",
    "except:\n",
    "    print('Something Failed')"
   ]
  },
  {
   "cell_type": "code",
   "execution_count": 41,
   "metadata": {},
   "outputs": [
    {
     "name": "stdout",
     "output_type": "stream",
     "text": [
      "-1\n",
      "Enter Positive value Greater than 0\n"
     ]
    }
   ],
   "source": [
    "# custome error msg for exception \n",
    "\n",
    "try:\n",
    "    val = int(input())\n",
    "    if(val <=0 ):\n",
    "        raise ValueError('Enter Positive value Greater than 0')\n",
    "except ValueError as v: # here we can also give Exception class instead of ValueError still will get custome msg of ValueError\n",
    "    print(v)\n",
    "except Exception as e: \n",
    "    print(e)\n",
    "    "
   ]
  },
  {
   "cell_type": "code",
   "execution_count": 4,
   "metadata": {},
   "outputs": [
    {
     "name": "stdout",
     "output_type": "stream",
     "text": [
      "Enter a number: 23\n",
      "This value is too large, try again!\n",
      "\n",
      "Enter a number: 3\n",
      "This value is too small, try again!\n",
      "\n",
      "Enter a number: 10\n",
      "Congratulations! You guessed it correctly.\n"
     ]
    }
   ],
   "source": [
    "# define Python user-defined exceptions\n",
    "class Error(Exception):\n",
    "    \"\"\"Base class for other exceptions\"\"\"\n",
    "    pass\n",
    "\n",
    "\n",
    "class ValueTooSmallError(Error):\n",
    "    \"\"\"Raised when the input value is too small\"\"\"\n",
    "    pass\n",
    "\n",
    "\n",
    "class ValueTooLargeError(Error):\n",
    "    \"\"\"Raised when the input value is too large\"\"\"\n",
    "    pass\n",
    "\n",
    "\n",
    "# you need to guess this number\n",
    "number = 10\n",
    "\n",
    "# user guesses a number until he/she gets it right\n",
    "while True:\n",
    "    try:\n",
    "        i_num = int(input(\"Enter a number: \"))\n",
    "        if i_num < number:\n",
    "            raise ValueTooSmallError\n",
    "        elif i_num > number:\n",
    "            raise ValueTooLargeError\n",
    "        break\n",
    "    except ValueTooSmallError:\n",
    "        print(\"This value is too small, try again!\")\n",
    "        print()\n",
    "    except ValueTooLargeError:\n",
    "        print(\"This value is too large, try again!\")\n",
    "        print()\n",
    "\n",
    "print(\"Congratulations! You guessed it correctly.\")"
   ]
  },
  {
   "cell_type": "code",
   "execution_count": null,
   "metadata": {},
   "outputs": [],
   "source": []
  }
 ],
 "metadata": {
  "kernelspec": {
   "display_name": "Python 3",
   "language": "python",
   "name": "python3"
  },
  "language_info": {
   "codemirror_mode": {
    "name": "ipython",
    "version": 3
   },
   "file_extension": ".py",
   "mimetype": "text/x-python",
   "name": "python",
   "nbconvert_exporter": "python",
   "pygments_lexer": "ipython3",
   "version": "3.8.5"
  }
 },
 "nbformat": 4,
 "nbformat_minor": 4
}
