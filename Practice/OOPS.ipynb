{
 "cells": [
  {
   "cell_type": "markdown",
   "metadata": {},
   "source": [
    "# Method overloading"
   ]
  },
  {
   "cell_type": "raw",
   "metadata": {},
   "source": [
    "Method overloading is not supported in Python \n",
    "as python will take latest defined method in consideration \n",
    "\n",
    "but we can achieve it using below labirary "
   ]
  },
  {
   "cell_type": "code",
   "execution_count": 52,
   "metadata": {},
   "outputs": [
    {
     "name": "stdout",
     "output_type": "stream",
     "text": [
      "inside 2 Int i/p args6\n",
      "inside 3 Int i/p args12\n",
      "inside 3 float i/p args17.204\n"
     ]
    }
   ],
   "source": [
    "from multipledispatch import dispatch\n",
    "  \n",
    "#passing one parameter\n",
    "@dispatch(int,int)\n",
    "def product1(first,second):\n",
    "    result = first*second\n",
    "    print('inside 2 Int i/p args'+str(result));\n",
    "\n",
    "#passing two parameters\n",
    "@dispatch(int,int,int)\n",
    "def product1(first,second,third):\n",
    "    result  = first * second * third\n",
    "    print('inside 3 Int i/p args'+str(result));\n",
    "\n",
    "#you can also pass data type of any value as per requirement\n",
    "@dispatch(float,float,float)\n",
    "def product1(first,second,third):\n",
    "    result  = first * second * third\n",
    "    print('inside 3 float i/p args'+str(result));\n",
    "  \n",
    "  \n",
    "#calling product method with 2 arguments\n",
    "product1(2,3)\n",
    "product1(2,3,2) #this will give output of 12\n",
    "product1(2.2,3.4,2.3) # this will give output of 17.985999999999997 "
   ]
  },
  {
   "cell_type": "code",
   "execution_count": 53,
   "metadata": {},
   "outputs": [
    {
     "data": {
      "text/plain": [
       "'product1'"
      ]
     },
     "execution_count": 53,
     "metadata": {},
     "output_type": "execute_result"
    }
   ],
   "source": [
    "product1.__name__"
   ]
  },
  {
   "cell_type": "code",
   "execution_count": 54,
   "metadata": {},
   "outputs": [
    {
     "data": {
      "text/plain": [
       "'Multiply dispatched method: product1\\n\\nOther signatures:\\n    int, int\\n    int, int, int\\n    float, float, float'"
      ]
     },
     "execution_count": 54,
     "metadata": {},
     "output_type": "execute_result"
    }
   ],
   "source": [
    "product1.__doc__"
   ]
  },
  {
   "cell_type": "code",
   "execution_count": null,
   "metadata": {},
   "outputs": [],
   "source": []
  },
  {
   "cell_type": "markdown",
   "metadata": {},
   "source": [
    "# Method Overriding "
   ]
  },
  {
   "cell_type": "code",
   "execution_count": 11,
   "metadata": {},
   "outputs": [],
   "source": [
    "class person:\n",
    "    def __init__(self,name,age,gender):\n",
    "        self.name = name \n",
    "        self.age = age\n",
    "        self.gender = gender\n",
    "        \n",
    "    def __str__(self):\n",
    "        return 'Name is '+self.name +'\\nAge= '+str(self.age)+'\\nGender='+self.gender\n",
    "\n",
    "    "
   ]
  },
  {
   "cell_type": "code",
   "execution_count": 12,
   "metadata": {},
   "outputs": [
    {
     "data": {
      "text/plain": [
       "<__main__.person at 0x1f627c09520>"
      ]
     },
     "execution_count": 12,
     "metadata": {},
     "output_type": "execute_result"
    }
   ],
   "source": [
    "p = person('Atul Gaikwad',23,'M')\n",
    "p"
   ]
  },
  {
   "cell_type": "code",
   "execution_count": 13,
   "metadata": {},
   "outputs": [
    {
     "name": "stdout",
     "output_type": "stream",
     "text": [
      "Name is Atul Gaikwad\n",
      "Age= 23\n",
      "Gender=M\n"
     ]
    }
   ],
   "source": [
    "print(p)"
   ]
  },
  {
   "cell_type": "code",
   "execution_count": 14,
   "metadata": {},
   "outputs": [
    {
     "data": {
      "text/plain": [
       "'Name is Atul Gaikwad\\nAge= 23\\nGender=M'"
      ]
     },
     "execution_count": 14,
     "metadata": {},
     "output_type": "execute_result"
    }
   ],
   "source": [
    "str(p)"
   ]
  },
  {
   "cell_type": "code",
   "execution_count": 21,
   "metadata": {},
   "outputs": [],
   "source": [
    "class student(person):\n",
    "    \n",
    "    def __init__(self,student_id,*args):\n",
    "        self.student_id = student_id\n",
    "        super(student,self).__init__(*args)\n",
    "    \n",
    "    def __str__(self):\n",
    "        return super(student,self).__str__() + \"\\nis a student\"  #Overrided Method of parent class"
   ]
  },
  {
   "cell_type": "code",
   "execution_count": 22,
   "metadata": {},
   "outputs": [],
   "source": [
    "s = student(123,'Atul Gaikwad',23,'M')"
   ]
  },
  {
   "cell_type": "code",
   "execution_count": 23,
   "metadata": {},
   "outputs": [
    {
     "data": {
      "text/plain": [
       "<__main__.student at 0x1f627c09250>"
      ]
     },
     "execution_count": 23,
     "metadata": {},
     "output_type": "execute_result"
    }
   ],
   "source": [
    "s"
   ]
  },
  {
   "cell_type": "code",
   "execution_count": 24,
   "metadata": {},
   "outputs": [
    {
     "name": "stdout",
     "output_type": "stream",
     "text": [
      "Name is Atul Gaikwad\n",
      "Age= 23\n",
      "Gender=M\n",
      "is a student\n"
     ]
    }
   ],
   "source": [
    "print(s)"
   ]
  },
  {
   "cell_type": "code",
   "execution_count": 25,
   "metadata": {},
   "outputs": [
    {
     "name": "stdout",
     "output_type": "stream",
     "text": [
      "Name is Atul Gaikwad\n",
      "Age= 23\n",
      "Gender=M\n"
     ]
    }
   ],
   "source": [
    "print(p)"
   ]
  },
  {
   "cell_type": "code",
   "execution_count": 37,
   "metadata": {},
   "outputs": [],
   "source": [
    "class parentA:\n",
    "    def funct1(self):\n",
    "        print('Inside parent class function')\n",
    "        \n",
    "    def funct3(self):\n",
    "        print('Inside child class function 3')\n",
    "\n",
    "class childB(parentA):\n",
    "    def funct1(self):\n",
    "        print('Inside child class function 1')\n",
    "        \n",
    "    def funct2(self,call=None):\n",
    "        if(call == \"Parent\"):\n",
    "            super().funct1()\n",
    "        else:\n",
    "            self.funct1()\n",
    "        print('Inside child class function 2')\n",
    "        "
   ]
  },
  {
   "cell_type": "code",
   "execution_count": 38,
   "metadata": {},
   "outputs": [
    {
     "name": "stdout",
     "output_type": "stream",
     "text": [
      "Inside child class function 3\n"
     ]
    }
   ],
   "source": [
    "obj = childB()\n",
    "obj.funct3()"
   ]
  },
  {
   "cell_type": "code",
   "execution_count": 39,
   "metadata": {},
   "outputs": [
    {
     "name": "stdout",
     "output_type": "stream",
     "text": [
      "Inside child class function 1\n"
     ]
    }
   ],
   "source": [
    "obj.funct1() # here both child and parent has same function but child class overriding parent class function"
   ]
  },
  {
   "cell_type": "code",
   "execution_count": 40,
   "metadata": {},
   "outputs": [
    {
     "name": "stdout",
     "output_type": "stream",
     "text": [
      "Inside parent class function\n",
      "Inside child class function 2\n"
     ]
    }
   ],
   "source": [
    "obj.funct2(\"Parent\") # avoding override using extra argument "
   ]
  },
  {
   "cell_type": "code",
   "execution_count": 41,
   "metadata": {},
   "outputs": [
    {
     "name": "stdout",
     "output_type": "stream",
     "text": [
      "Inside child class function 1\n",
      "Inside child class function 2\n"
     ]
    }
   ],
   "source": [
    "obj.funct2()"
   ]
  },
  {
   "cell_type": "markdown",
   "metadata": {},
   "source": [
    "# Encapsulation"
   ]
  },
  {
   "cell_type": "code",
   "execution_count": 31,
   "metadata": {},
   "outputs": [],
   "source": [
    "class tyre:\n",
    "    def __init__(self,branch,baise,opt_pre):\n",
    "        self.branch =  branch\n",
    "        self.baise =  baise\n",
    "        self.opt_pre = opt_pre\n",
    "    \n",
    "    def __str__(self):\n",
    "        return 'branch= ' + str(self.branch) + ' baise= ' + str(self.baise) + ' opt_pre= ' + str(self.opt_pre)"
   ]
  },
  {
   "cell_type": "code",
   "execution_count": 32,
   "metadata": {},
   "outputs": [
    {
     "name": "stdout",
     "output_type": "stream",
     "text": [
      "branch= 12 baise= 23 opt_pre= 300\n"
     ]
    }
   ],
   "source": [
    "t = tyre(12,23,300)\n",
    "print(t)"
   ]
  },
  {
   "cell_type": "code",
   "execution_count": 33,
   "metadata": {},
   "outputs": [],
   "source": [
    "class engine:\n",
    "    def __init__(self,fuel_type,noise_level):\n",
    "        self.fuel_type =  fuel_type\n",
    "        self.noise_level =  noise_level\n",
    "    \n",
    "    def __str__(self):\n",
    "        return 'fuel_type= ' + str(self.fuel_type) + ' noise_level= ' + str(self.noise_level)"
   ]
  },
  {
   "cell_type": "code",
   "execution_count": 34,
   "metadata": {},
   "outputs": [
    {
     "name": "stdout",
     "output_type": "stream",
     "text": [
      "fuel_type= Petrol noise_level= 56\n"
     ]
    }
   ],
   "source": [
    "e = engine('Petrol',56)\n",
    "print(e)"
   ]
  },
  {
   "cell_type": "code",
   "execution_count": 35,
   "metadata": {},
   "outputs": [],
   "source": [
    "class body:\n",
    "    def __init__(self,body_size):\n",
    "        self.body_size = body_size\n",
    "    \n",
    "    def __str__(self):\n",
    "        return \"body_size= \"+ str(self.body_size)"
   ]
  },
  {
   "cell_type": "code",
   "execution_count": 36,
   "metadata": {},
   "outputs": [
    {
     "name": "stdout",
     "output_type": "stream",
     "text": [
      "body_size= small\n"
     ]
    }
   ],
   "source": [
    "b = body('small')\n",
    "print(b)"
   ]
  },
  {
   "cell_type": "code",
   "execution_count": 66,
   "metadata": {},
   "outputs": [],
   "source": [
    "class car:\n",
    "    \n",
    "    def __init__(self,car_name,t,e,b):\n",
    "        self.car_name = car_name \n",
    "        self.tyre = t\n",
    "        self.engine = e\n",
    "        self.body = b\n",
    "    \n",
    "    def __str__(self):\n",
    "        return \"car=\" + self.car_name +\" tyre \" + str(self.tyre) + \" engine \" + str(self.engine) + \" \" + str(self.body)"
   ]
  },
  {
   "cell_type": "markdown",
   "metadata": {},
   "source": [
    "# Composite Encapsulation"
   ]
  },
  {
   "cell_type": "code",
   "execution_count": 67,
   "metadata": {},
   "outputs": [
    {
     "data": {
      "text/plain": [
       "'car=audi x11 tyre branch= 12 baise= 23 opt_pre= 300 engine fuel_type= Petrol noise_level= 56 body_size= small'"
      ]
     },
     "execution_count": 67,
     "metadata": {},
     "output_type": "execute_result"
    }
   ],
   "source": [
    "c = car('audi x11',t,e,b)\n",
    "str(c)"
   ]
  },
  {
   "cell_type": "markdown",
   "metadata": {},
   "source": [
    "# Dynamic Encapsulation"
   ]
  },
  {
   "cell_type": "code",
   "execution_count": 70,
   "metadata": {},
   "outputs": [
    {
     "data": {
      "text/plain": [
       "'car=audi x11 tyre branch= 12 baise= 23 opt_pre= 300 engine fuel_type= Petrol noise_level= 56 body_size= medium'"
      ]
     },
     "execution_count": 70,
     "metadata": {},
     "output_type": "execute_result"
    }
   ],
   "source": [
    "c = car('audi x11',t,e,'body_size= medium') # One object value changed by passing different data in local variable of class\n",
    "str(c)"
   ]
  },
  {
   "cell_type": "markdown",
   "metadata": {},
   "source": [
    "# Polymorphism"
   ]
  },
  {
   "cell_type": "code",
   "execution_count": 79,
   "metadata": {},
   "outputs": [
    {
     "name": "stdout",
     "output_type": "stream",
     "text": [
      "234\n",
      "450\n",
      "ASsdf0\n",
      "[23, 'AS', 'sdf'][43, 66]4\n"
     ]
    }
   ],
   "source": [
    "# same function / function name but used for different data types/ different number of parameters \n",
    "\n",
    "def add_x(x, y, z =0): \n",
    "    return str(x) + str(y) + str(z)\n",
    "\n",
    "print(add_x(2, 3, 4))\n",
    "print(add_x(4,5))\n",
    "print(add_x('AS','sdf'))\n",
    "print(add_x([23,'AS','sdf'],[43,66],4))\n"
   ]
  },
  {
   "cell_type": "markdown",
   "metadata": {},
   "source": [
    "# Abstraction"
   ]
  },
  {
   "cell_type": "code",
   "execution_count": 86,
   "metadata": {},
   "outputs": [
    {
     "name": "stdout",
     "output_type": "stream",
     "text": [
      "The mileage is 30kmph\n",
      "The mileage is 27kmph \n",
      "The mileage is 25kmph \n",
      "The mileage is 24kmph \n"
     ]
    }
   ],
   "source": [
    "from abc import ABC,abstractmethod\n",
    "\n",
    "#An Abstract class can contain the both method normal and abstract method.\n",
    "#An Abstract cannot be instantiated; we cannot create objects for the abstract class.\n",
    "class Car(ABC):   \n",
    "    def mileage(self):   \n",
    "        pass  \n",
    "\n",
    "class Tesla(Car):   \n",
    "    def mileage(self):   \n",
    "        print(\"The mileage is 30kmph\")   \n",
    "        \n",
    "class Suzuki(Car):   \n",
    "    def mileage(self):   \n",
    "        print(\"The mileage is 25kmph \")   \n",
    "        \n",
    "class Duster(Car):   \n",
    "     def mileage(self):   \n",
    "        print(\"The mileage is 24kmph \")   \n",
    "\n",
    "class Renault(Car):   \n",
    "    def mileage(self):   \n",
    "        print(\"The mileage is 27kmph \")   \n",
    "          \n",
    "# Driver code   \n",
    "t= Tesla ()   \n",
    "t.mileage()   \n",
    "  \n",
    "r = Renault()   \n",
    "r.mileage()   \n",
    "  \n",
    "s = Suzuki()   \n",
    "s.mileage()   \n",
    "\n",
    "d = Duster()   \n",
    "d.mileage()  \n"
   ]
  },
  {
   "cell_type": "code",
   "execution_count": 87,
   "metadata": {},
   "outputs": [],
   "source": [
    "cc = Car ()   "
   ]
  },
  {
   "cell_type": "code",
   "execution_count": 90,
   "metadata": {},
   "outputs": [],
   "source": [
    "cc.mileage()"
   ]
  },
  {
   "cell_type": "code",
   "execution_count": 24,
   "metadata": {},
   "outputs": [],
   "source": [
    "# Bonus calculator \n",
    "\n",
    "class pma():\n",
    "    \n",
    "    # Private class variable\n",
    "    __percentageRatingA = \"75%\"\n",
    "    __percentageRatingB = \"60%\"\n",
    "    __percentageRatingC = \"55%\"\n",
    "    __percentageRatingD = \"No Bonus\"\n",
    "    \n",
    "    def __init__(self,empid,empRating):\n",
    "        \n",
    "        self.empid = empid\n",
    "        self.empRating = empRating\n",
    "        \n",
    "    def getBonusPercentage(self):\n",
    "        rating = self.empRating\n",
    "        \n",
    "        if(rating == \"A\"):\n",
    "            return 'Bonus is ' + self.__percentageRatingA\n",
    "        elif(rating == \"B\"):\n",
    "            return 'Bonus is ' + self.__percentageRatingB\n",
    "        elif(rating == \"C\"):\n",
    "            return 'Bonus is ' + self.__percentageRatingC\n",
    "        else:\n",
    "            return 'Employee will have ' + self.__percentageRatingD\n",
    "        \n",
    "    def setRatingPercentage(self,rating,value):\n",
    "    \n",
    "        if(rating == \"A\"):\n",
    "            self.__percentageRatingA = value\n",
    "        elif(rating == \"B\"):\n",
    "            self.__percentageRatingB = value\n",
    "        elif(rating == \"C\"):\n",
    "            self.__percentageRatingC = value\n",
    "        else:\n",
    "            self.__percentageRatingD = value\n",
    "\n",
    "\n",
    "e1 = pma(123,'A')\n",
    "e2 = pma(345,'B')\n",
    "e3 = pma(563,'C')\n",
    "e4 = pma(124,'D')"
   ]
  },
  {
   "cell_type": "code",
   "execution_count": 25,
   "metadata": {},
   "outputs": [
    {
     "data": {
      "text/plain": [
       "'Bonus is 75%'"
      ]
     },
     "execution_count": 25,
     "metadata": {},
     "output_type": "execute_result"
    }
   ],
   "source": [
    "e1.getBonusPercentage()"
   ]
  },
  {
   "cell_type": "code",
   "execution_count": 26,
   "metadata": {},
   "outputs": [
    {
     "data": {
      "text/plain": [
       "'Bonus is 60%'"
      ]
     },
     "execution_count": 26,
     "metadata": {},
     "output_type": "execute_result"
    }
   ],
   "source": [
    "e2.getBonusPercentage()"
   ]
  },
  {
   "cell_type": "code",
   "execution_count": 27,
   "metadata": {},
   "outputs": [],
   "source": [
    "e3._pma__percentageRatingB = \"65%\""
   ]
  },
  {
   "cell_type": "code",
   "execution_count": 28,
   "metadata": {},
   "outputs": [
    {
     "data": {
      "text/plain": [
       "'Bonus is 60%'"
      ]
     },
     "execution_count": 28,
     "metadata": {},
     "output_type": "execute_result"
    }
   ],
   "source": [
    "e2.getBonusPercentage() # Percentage changed only for e3 object not for e2 and rest other objects "
   ]
  },
  {
   "cell_type": "code",
   "execution_count": 29,
   "metadata": {},
   "outputs": [
    {
     "data": {
      "text/plain": [
       "'65%'"
      ]
     },
     "execution_count": 29,
     "metadata": {},
     "output_type": "execute_result"
    }
   ],
   "source": [
    "e3._pma__percentageRatingB"
   ]
  },
  {
   "cell_type": "code",
   "execution_count": 30,
   "metadata": {},
   "outputs": [],
   "source": [
    "e2.setRatingPercentage(\"A\",\"80%\")"
   ]
  },
  {
   "cell_type": "code",
   "execution_count": 31,
   "metadata": {},
   "outputs": [
    {
     "data": {
      "text/plain": [
       "'Bonus is 60%'"
      ]
     },
     "execution_count": 31,
     "metadata": {},
     "output_type": "execute_result"
    }
   ],
   "source": [
    "e2.getBonusPercentage()"
   ]
  },
  {
   "cell_type": "code",
   "execution_count": 32,
   "metadata": {},
   "outputs": [
    {
     "data": {
      "text/plain": [
       "'80%'"
      ]
     },
     "execution_count": 32,
     "metadata": {},
     "output_type": "execute_result"
    }
   ],
   "source": [
    "e2._pma__percentageRatingA"
   ]
  },
  {
   "cell_type": "markdown",
   "metadata": {},
   "source": [
    "# Method Overloading and Operator Overloading "
   ]
  },
  {
   "cell_type": "code",
   "execution_count": 53,
   "metadata": {},
   "outputs": [],
   "source": [
    "class multiply:\n",
    "    \n",
    "    def __init__(self,a):\n",
    "        self.a = a\n",
    "    \n",
    "    def __mul__(self,other): # Overriding mul method \n",
    "        return self.a * self.a\n",
    "    \n",
    "    def __add__(self, other):\n",
    "        return self.a - other.a # Overriding operator with - subtraction "
   ]
  },
  {
   "cell_type": "code",
   "execution_count": 54,
   "metadata": {},
   "outputs": [],
   "source": [
    "m1 = multiply(10)\n",
    "m2 = multiply(2)"
   ]
  },
  {
   "cell_type": "code",
   "execution_count": 55,
   "metadata": {},
   "outputs": [
    {
     "data": {
      "text/plain": [
       "100"
      ]
     },
     "execution_count": 55,
     "metadata": {},
     "output_type": "execute_result"
    }
   ],
   "source": [
    "m1 * m2"
   ]
  },
  {
   "cell_type": "code",
   "execution_count": 50,
   "metadata": {},
   "outputs": [
    {
     "data": {
      "text/plain": [
       "8"
      ]
     },
     "execution_count": 50,
     "metadata": {},
     "output_type": "execute_result"
    }
   ],
   "source": [
    "m1 + m2"
   ]
  },
  {
   "cell_type": "markdown",
   "metadata": {},
   "source": [
    "# Polymorphism"
   ]
  },
  {
   "cell_type": "code",
   "execution_count": 60,
   "metadata": {},
   "outputs": [
    {
     "data": {
      "text/plain": [
       "14"
      ]
     },
     "execution_count": 60,
     "metadata": {},
     "output_type": "execute_result"
    }
   ],
   "source": [
    "# Behavior of same entity in different forms like below\n",
    "def addition(a,b):\n",
    "    return a + b\n",
    "\n",
    "addition(12,2)"
   ]
  },
  {
   "cell_type": "code",
   "execution_count": 61,
   "metadata": {},
   "outputs": [
    {
     "data": {
      "text/plain": [
       "'ATUL GAIKWAD'"
      ]
     },
     "execution_count": 61,
     "metadata": {},
     "output_type": "execute_result"
    }
   ],
   "source": [
    "addition('ATUL',' GAIKWAD')"
   ]
  },
  {
   "cell_type": "code",
   "execution_count": 64,
   "metadata": {},
   "outputs": [
    {
     "data": {
      "text/plain": [
       "[12, 32, 45, '123', 'WE', 56]"
      ]
     },
     "execution_count": 64,
     "metadata": {},
     "output_type": "execute_result"
    }
   ],
   "source": [
    "addition([12,32,45] , ['123','WE',56])"
   ]
  },
  {
   "cell_type": "code",
   "execution_count": null,
   "metadata": {},
   "outputs": [],
   "source": []
  }
 ],
 "metadata": {
  "kernelspec": {
   "display_name": "Python 3",
   "language": "python",
   "name": "python3"
  },
  "language_info": {
   "codemirror_mode": {
    "name": "ipython",
    "version": 3
   },
   "file_extension": ".py",
   "mimetype": "text/x-python",
   "name": "python",
   "nbconvert_exporter": "python",
   "pygments_lexer": "ipython3",
   "version": "3.8.5"
  }
 },
 "nbformat": 4,
 "nbformat_minor": 4
}
