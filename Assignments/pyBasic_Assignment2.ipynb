{
 "cells": [
  {
   "cell_type": "raw",
   "metadata": {},
   "source": [
    "1. What are the two values of Boolean data type? How do you write them?"
   ]
  },
  {
   "cell_type": "code",
   "execution_count": null,
   "metadata": {},
   "outputs": [],
   "source": [
    "# Two boolean data type's value are true and false we can write them as below\n",
    "True\n",
    "False"
   ]
  },
  {
   "cell_type": "raw",
   "metadata": {},
   "source": [
    "2. What are the three different types of Boolean operators?"
   ]
  },
  {
   "cell_type": "code",
   "execution_count": 4,
   "metadata": {},
   "outputs": [
    {
     "name": "stdout",
     "output_type": "stream",
     "text": [
      "False\n",
      "True\n",
      "False\n"
     ]
    }
   ],
   "source": [
    "# Logical operators deals with single or multiple boolean values and returns single boolean value (true/false)\n",
    "a =10\n",
    "b =20\n",
    "\n",
    "# 1. and returns true only if both the conditions are true \n",
    "print(a<b and a==b) \n",
    "\n",
    "# 2. or returns true if any of the condition is true\n",
    "print(a>b or a<b) \n",
    "\n",
    "# 3. not -> returns opposite boolean than that of condition \n",
    "print(not(a<b)) "
   ]
  },
  {
   "cell_type": "raw",
   "metadata": {},
   "source": [
    "3. Write out the truth tables of each Boolean operator (that is, every possible combination of Boolean values for the operator and what they evaluate to)."
   ]
  },
  {
   "cell_type": "code",
   "execution_count": 10,
   "metadata": {},
   "outputs": [
    {
     "name": "stdout",
     "output_type": "stream",
     "text": [
      "Boolean list 1 [False, False, True, True]\n",
      "Boolean list 2 [False, True, False, True]\n",
      "AND result [False, False, False, True]\n",
      "OR result [False, True, True, True]\n",
      "NOT of list 1  [True, True, False, False]\n",
      "NOT of list 2 [True, False, True, False]\n"
     ]
    }
   ],
   "source": [
    "l1 = [False,False,True,True]\n",
    "l2 = [False,True,False,True]\n",
    "print('Boolean list 1',l1)\n",
    "print('Boolean list 2',l2)\n",
    "\n",
    "# AND\n",
    "\n",
    "# v1  v2  AND\n",
    "# 0   0   0\n",
    "# 0   1   0\n",
    "# 1   0   0\n",
    "# 1   1   1\n",
    "\n",
    "r1 = list()\n",
    "for i,j in zip(l1,l2):\n",
    "    r1.append((i and j))\n",
    "print('AND result',r1)\n",
    "\n",
    "# OR\n",
    "\n",
    "# v1  v2  OR\n",
    "# 0   0   0\n",
    "# 0   1   1\n",
    "# 1   0   1\n",
    "# 1   1   1\n",
    "\n",
    "r1 = list()\n",
    "for i,j in zip(l1,l2):\n",
    "    r1.append((i or j))\n",
    "print('OR result',r1)\n",
    "\n",
    "\n",
    "# NOT\n",
    "\n",
    "# v1  v2  not(v1)  not(v2)\n",
    "# 0   0   1        1\n",
    "# 0   1   1        0\n",
    "# 1   0   0        1\n",
    "# 1   1   0        0\n",
    "\n",
    "r1 = list()\n",
    "for i in l1:\n",
    "    r1.append(not(i))\n",
    "print('NOT of list 1 ',r1)\n",
    "\n",
    "r1 = list()\n",
    "for i in l2:\n",
    "    r1.append(not(i))\n",
    "print('NOT of list 2',r1)\n"
   ]
  },
  {
   "cell_type": "raw",
   "metadata": {},
   "source": [
    "4. What are the values of the following expressions?"
   ]
  },
  {
   "cell_type": "code",
   "execution_count": 11,
   "metadata": {},
   "outputs": [
    {
     "data": {
      "text/plain": [
       "False"
      ]
     },
     "execution_count": 11,
     "metadata": {},
     "output_type": "execute_result"
    }
   ],
   "source": [
    "(5 > 4) and (3 == 5) # True and False => False"
   ]
  },
  {
   "cell_type": "code",
   "execution_count": 12,
   "metadata": {},
   "outputs": [
    {
     "data": {
      "text/plain": [
       "False"
      ]
     },
     "execution_count": 12,
     "metadata": {},
     "output_type": "execute_result"
    }
   ],
   "source": [
    "not (5 > 4) # not(True) => False"
   ]
  },
  {
   "cell_type": "code",
   "execution_count": 13,
   "metadata": {},
   "outputs": [
    {
     "data": {
      "text/plain": [
       "True"
      ]
     },
     "execution_count": 13,
     "metadata": {},
     "output_type": "execute_result"
    }
   ],
   "source": [
    "(5 > 4) or (3 == 5) # True or False => True"
   ]
  },
  {
   "cell_type": "code",
   "execution_count": 14,
   "metadata": {},
   "outputs": [
    {
     "data": {
      "text/plain": [
       "False"
      ]
     },
     "execution_count": 14,
     "metadata": {},
     "output_type": "execute_result"
    }
   ],
   "source": [
    "not ((5 > 4) or (3 == 5)) # not( True or False) => False"
   ]
  },
  {
   "cell_type": "code",
   "execution_count": 15,
   "metadata": {},
   "outputs": [
    {
     "data": {
      "text/plain": [
       "False"
      ]
     },
     "execution_count": 15,
     "metadata": {},
     "output_type": "execute_result"
    }
   ],
   "source": [
    "(True and True) and (True == False) # True and False => False"
   ]
  },
  {
   "cell_type": "code",
   "execution_count": 16,
   "metadata": {},
   "outputs": [
    {
     "data": {
      "text/plain": [
       "True"
      ]
     },
     "execution_count": 16,
     "metadata": {},
     "output_type": "execute_result"
    }
   ],
   "source": [
    "(not False) or (not True) # True or False => True"
   ]
  },
  {
   "cell_type": "raw",
   "metadata": {},
   "source": [
    "5. What are the six different types of comparison operators?"
   ]
  },
  {
   "cell_type": "code",
   "execution_count": 45,
   "metadata": {},
   "outputs": [
    {
     "name": "stdout",
     "output_type": "stream",
     "text": [
      "True\n",
      "True\n",
      "False\n",
      "True\n",
      "True\n",
      "True\n"
     ]
    }
   ],
   "source": [
    "# Comparision operators returns True/False depending on values compared using them \n",
    "\n",
    "# 1. < Less than\n",
    "print(2<5)\n",
    "\n",
    "# 2. > Greater than\n",
    "print(10>5)\n",
    "\n",
    "# 3. == equal to\n",
    "print(2==5)\n",
    "\n",
    "# 4. >= greater than equal to\n",
    "print(10 >= 10)\n",
    "\n",
    "# 5. <= less than equal to\n",
    "print(8 <= 10)\n",
    "\n",
    "# 6. != not equal to\n",
    "print(3 !=4)\n"
   ]
  },
  {
   "cell_type": "raw",
   "metadata": {},
   "source": [
    "6. How do you tell the difference between the equal to and assignment operators?"
   ]
  },
  {
   "cell_type": "code",
   "execution_count": 18,
   "metadata": {},
   "outputs": [
    {
     "data": {
      "text/plain": [
       "False"
      ]
     },
     "execution_count": 18,
     "metadata": {},
     "output_type": "execute_result"
    }
   ],
   "source": [
    "# Equal to operator denoted by == and it is used to compared two values\n",
    "# Whereas assignment operator denoted by = and it is used to assign value to varibale \n",
    "\n",
    "# Assignment of values using assignment operator\n",
    "a=10 \n",
    "b=20\n",
    "\n",
    "# Comparision between two variables using equal operator\n",
    "a == b"
   ]
  },
  {
   "cell_type": "raw",
   "metadata": {},
   "source": [
    "7. Describe a condition and when you would use one."
   ]
  },
  {
   "cell_type": "code",
   "execution_count": 19,
   "metadata": {},
   "outputs": [
    {
     "name": "stdout",
     "output_type": "stream",
     "text": [
      "number is even\n"
     ]
    }
   ],
   "source": [
    "# Condition returns boolean value in result, it is used to make decision/ action \n",
    "# example if we want to know if number is even or not will form below condition \n",
    "\n",
    "num =4\n",
    "if num%2 == 0:\n",
    "    print(\"number is even\")"
   ]
  },
  {
   "cell_type": "raw",
   "metadata": {},
   "source": [
    "8. Identify the three blocks in this code:"
   ]
  },
  {
   "cell_type": "code",
   "execution_count": 21,
   "metadata": {},
   "outputs": [
    {
     "name": "stdout",
     "output_type": "stream",
     "text": [
      "spam\n"
     ]
    }
   ],
   "source": [
    "spam = 0\n",
    "# Block 1 -> main block outside if\n",
    "\n",
    "if spam == 10:\n",
    "    # Block 2 -> inside if spam value ==10 \n",
    "    print('eggs') \n",
    "    \n",
    "    # Block 3 -> either inside if or else\n",
    "    if spam > 5:\n",
    "        print('bacon') \n",
    "    else:\n",
    "        print('ham') \n",
    "\n",
    "    print('spam')\n",
    "    \n",
    "print('spam') # Will get only this print as spam==10 will give False, so code will come here direclty "
   ]
  },
  {
   "cell_type": "raw",
   "metadata": {},
   "source": [
    "9. . Write code that prints Hello if 1 is stored in spam, prints Howdy if 2 is stored in spam, and prints Greetings! if anything else is stored in spam."
   ]
  },
  {
   "cell_type": "code",
   "execution_count": 46,
   "metadata": {},
   "outputs": [
    {
     "name": "stdout",
     "output_type": "stream",
     "text": [
      "Enter value of spam-5\n",
      "Greetings!\n"
     ]
    }
   ],
   "source": [
    "spam = int(input('Enter value of spam-'))\n",
    "\n",
    "if(spam == 1):\n",
    "    print('Hello')\n",
    "elif(spam == 2):\n",
    "    print('Howdy')\n",
    "else:\n",
    "    print('Greetings!')\n",
    "    "
   ]
  },
  {
   "cell_type": "raw",
   "metadata": {},
   "source": [
    "10.What keys can you press if your program is stuck in an infinite loop?"
   ]
  },
  {
   "cell_type": "code",
   "execution_count": 30,
   "metadata": {},
   "outputs": [],
   "source": [
    " # clt + c "
   ]
  },
  {
   "cell_type": "raw",
   "metadata": {},
   "source": [
    "11. How can you tell the difference between break and continue?"
   ]
  },
  {
   "cell_type": "code",
   "execution_count": 32,
   "metadata": {},
   "outputs": [
    {
     "name": "stdout",
     "output_type": "stream",
     "text": [
      "0\n",
      "1\n"
     ]
    }
   ],
   "source": [
    "# break will stop loop \n",
    "for i in range(10):\n",
    "    if i == 2:\n",
    "        break\n",
    "        \n",
    "    print(i) #after 2 nothing will get print due to break"
   ]
  },
  {
   "cell_type": "code",
   "execution_count": 33,
   "metadata": {},
   "outputs": [
    {
     "name": "stdout",
     "output_type": "stream",
     "text": [
      "0\n",
      "1\n",
      "3\n",
      "4\n",
      "5\n",
      "6\n",
      "7\n",
      "8\n",
      "9\n"
     ]
    }
   ],
   "source": [
    "# continue will keep loop runing skiping the all statement written below continue \n",
    "\n",
    "for i in range(10):\n",
    "    if i == 2:\n",
    "        continue \n",
    "        \n",
    "    print(i) # print of 2 will be skipped due to continue "
   ]
  },
  {
   "cell_type": "raw",
   "metadata": {},
   "source": [
    "12. What is the difference between range(10), range(0, 10), and range(0, 10, 1) in a for loop?"
   ]
  },
  {
   "cell_type": "code",
   "execution_count": 47,
   "metadata": {},
   "outputs": [
    {
     "name": "stdout",
     "output_type": "stream",
     "text": [
      "0123456789\n",
      "0123456789\n",
      "0123456789\n"
     ]
    }
   ],
   "source": [
    "# All we give same result \n",
    "\n",
    "# here by default initial range is 0 and step size is 1\n",
    "for i in range(10):\n",
    "    print(i,end=\"\")\n",
    "\n",
    "print()\n",
    "# here by default step size is 1\n",
    "for i in range(0,10):\n",
    "    print(i,end=\"\")\n",
    "\n",
    "print()\n",
    "# here same values as of default passed in range function, hence won't show any difference \n",
    "for i in range(0,10,1):\n",
    "    print(i,end=\"\")\n",
    "    \n",
    "print()"
   ]
  },
  {
   "cell_type": "raw",
   "metadata": {},
   "source": [
    "13. Write a short program that prints the numbers 1 to 10 using a for loop. Then write an equivalent program that prints the numbers 1 to 10 using a while loop."
   ]
  },
  {
   "cell_type": "code",
   "execution_count": 40,
   "metadata": {},
   "outputs": [
    {
     "name": "stdout",
     "output_type": "stream",
     "text": [
      "1\n",
      "2\n",
      "3\n",
      "4\n",
      "5\n",
      "6\n",
      "7\n",
      "8\n",
      "9\n",
      "10\n"
     ]
    }
   ],
   "source": [
    "for i in range(1,11):\n",
    "    print(i)"
   ]
  },
  {
   "cell_type": "code",
   "execution_count": 41,
   "metadata": {},
   "outputs": [
    {
     "name": "stdout",
     "output_type": "stream",
     "text": [
      "1\n",
      "2\n",
      "3\n",
      "4\n",
      "5\n",
      "6\n",
      "7\n",
      "8\n",
      "9\n",
      "10\n"
     ]
    }
   ],
   "source": [
    "i=1\n",
    "while(i<=10):\n",
    "    print(i)\n",
    "    i+=1"
   ]
  },
  {
   "cell_type": "raw",
   "metadata": {},
   "source": [
    "14. If you had a function named bacon() inside a module named spam, how would you call it after importing spam?"
   ]
  },
  {
   "cell_type": "code",
   "execution_count": 44,
   "metadata": {},
   "outputs": [],
   "source": [
    "# Assuming we have spam.py module and function defined inside it  \n",
    "\n",
    "import spam as s\n",
    "\n",
    "s.bacon()"
   ]
  },
  {
   "cell_type": "code",
   "execution_count": null,
   "metadata": {},
   "outputs": [],
   "source": []
  }
 ],
 "metadata": {
  "kernelspec": {
   "display_name": "Python 3",
   "language": "python",
   "name": "python3"
  },
  "language_info": {
   "codemirror_mode": {
    "name": "ipython",
    "version": 3
   },
   "file_extension": ".py",
   "mimetype": "text/x-python",
   "name": "python",
   "nbconvert_exporter": "python",
   "pygments_lexer": "ipython3",
   "version": "3.8.5"
  }
 },
 "nbformat": 4,
 "nbformat_minor": 4
}
