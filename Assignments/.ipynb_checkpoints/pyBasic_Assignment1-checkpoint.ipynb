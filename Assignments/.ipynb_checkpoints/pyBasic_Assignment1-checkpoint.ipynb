{
 "cells": [
  {
   "cell_type": "raw",
   "metadata": {},
   "source": [
    " 1. What are the differences between operators and values in the following?"
   ]
  },
  {
   "cell_type": "code",
   "execution_count": 13,
   "metadata": {},
   "outputs": [
    {
     "name": "stdout",
     "output_type": "stream",
     "text": [
      "200\n",
      "ATULATUL\n",
      "<class 'str'>  with lenght= 5\n",
      "hello\n",
      "<class 'float'>\n",
      "10\n",
      "5.0\n",
      "15\n",
      "Hello World\n",
      "<class 'int'>\n"
     ]
    }
   ],
   "source": [
    "\n",
    "\n",
    "# If we use Operators then corresponding values/variables are also expected\n",
    "# print(*) # can't print operators alone \n",
    "# print(6) # can print value alone\n",
    "\n",
    "# We can store value in variable like a =10 but not operator like a=*\n",
    "\n",
    "# * is an arithmetic operator used to perform multiplication between numeric values\n",
    "a = 10 * 20 # here 10 and 20 are the values \n",
    "print(a)\n",
    "\n",
    "# If we use same * operator For value of string data type, will get same string multiple time\n",
    "print('ATUL'*2)\n",
    "\n",
    "# 'hello' is a string value also can be considered as list of characters, char/string has to be defined inside ' or \" quotes \n",
    "mystr = 'hello'\n",
    "print(type(mystr),' with lenght=',len(mystr))\n",
    "\n",
    "# Can use string like list for iteration \n",
    "for i in mystr:\n",
    "    print(i,end=\"\")\n",
    "print()\n",
    "\n",
    "# -87.8 is a float value as it is a numeric value and has digit after decimal point\n",
    "# -  here is indicates negative interger \n",
    "print(type(-87.8))\n",
    "\n",
    "# - is also can be used as a arithmetic operator to subtract two numeric values\n",
    "print(13-3)\n",
    "\n",
    "# / arithmetic operator used to divide 2 numeric values\n",
    "print(10/2)\n",
    "\n",
    "# + arithmetic operator used to perform addition of numeric values also to contact string type values\n",
    "print(12+3)\n",
    "print('Hello' + ' World')\n",
    "\n",
    "# 6 simple numeric value of data type interger \n",
    "print(type(6))"
   ]
  },
  {
   "cell_type": "raw",
   "metadata": {},
   "source": [
    "2. What is the difference between string and variable?"
   ]
  },
  {
   "cell_type": "code",
   "execution_count": 17,
   "metadata": {},
   "outputs": [
    {
     "name": "stdout",
     "output_type": "stream",
     "text": [
      "spam\n"
     ]
    }
   ],
   "source": [
    "# string value has to be defined inside ' or \" quotes\n",
    "# spam # this will give error as it won't be considered as string value\n",
    "# but we can use it as a variable to store any value \n",
    "\n",
    "# 'spam' this is a string value which can be stored inside variable like\n",
    "\n",
    "spam = 'spam' \n",
    "\n",
    "'''\n",
    "When we assign value to the variable then depending on data type of value, we have assigned in it memory gets allocated.\n",
    "Hence we can reuse this variable multiple time in real instance to fetch value\n",
    "'''\n",
    "\n",
    "print(spam)\n"
   ]
  },
  {
   "cell_type": "raw",
   "metadata": {},
   "source": [
    "3. Describe three different data forms."
   ]
  },
  {
   "cell_type": "code",
   "execution_count": 35,
   "metadata": {},
   "outputs": [
    {
     "name": "stdout",
     "output_type": "stream",
     "text": [
      "<class 'int'>\n",
      "<class 'int'>\n",
      "<class 'float'>\n",
      "2.0\n",
      "3.0\n",
      "True\n",
      "PQR\n",
      "['ABBC', 11, 'PQR']\n"
     ]
    }
   ],
   "source": [
    "''' Integer '''\n",
    "# This data type refers to numeric values postive/negative without precision like\n",
    "print(type(10))\n",
    "print(type(-19))\n",
    "print(type(10.032)) # this not a Integer as it has 3 digits after decimal point It is a float\n",
    "\n",
    "'''Complex'''  \n",
    "# Combination of real and imaginary part can be stored in Complex data form like below\n",
    "complx = 2 + 3j \n",
    "type(complx)\n",
    "print(complx.real) # to see real part\n",
    "print(complx.imag) # to see imaginary part\n",
    "\n",
    "'''Boolean'''\n",
    "# This data type either refers to True or False value \n",
    "a = False\n",
    "type(a)\n",
    "# Operators like ==/ in which is used for comparisions, also returns False/True value \n",
    "print(a == False)   \n",
    "\n",
    "'''List'''\n",
    "mylst = [12,'ABBC',11,'PQR',[13,15],23]\n",
    "# We can store multiple values of differnet data types in single list and fetch it using index (which starts from 0)\n",
    "# List can have neasted list inside it\n",
    "print(mylst[3])\n",
    "\n",
    "# slicing of list to show items from 0 t0 3 index \n",
    "print(mylst[1:4])\n",
    "\n",
    "\n"
   ]
  },
  {
   "cell_type": "raw",
   "metadata": {},
   "source": [
    "4. What makes up an expression? What are the functions of all expressions?"
   ]
  },
  {
   "cell_type": "code",
   "execution_count": 38,
   "metadata": {},
   "outputs": [
    {
     "name": "stdout",
     "output_type": "stream",
     "text": [
      "10\n",
      "30\n",
      "None\n"
     ]
    }
   ],
   "source": [
    "# We can make expression with combination of identifiers(variable/class/function name), literals(values), and operators.\n",
    "# Expression are evaluated by interpreter and then displayed result.\n",
    "# Statements do some actions (print/assignment/loops..etc) whereas expression will always return a result. \n",
    "\n",
    "print(10) # here this is just a print statement\n",
    "print(10+20) # here 10+20 will be evaluated and then final result will be shown, 10+20 is a expression\n"
   ]
  },
  {
   "cell_type": "raw",
   "metadata": {},
   "source": [
    "5. In this chapter, assignment statements such as spam = 10 were added. What's the\n",
    "difference between a declaration and an expression?"
   ]
  },
  {
   "cell_type": "code",
   "execution_count": 40,
   "metadata": {},
   "outputs": [
    {
     "data": {
      "text/plain": [
       "300"
      ]
     },
     "execution_count": 40,
     "metadata": {},
     "output_type": "execute_result"
    }
   ],
   "source": [
    "spam = 10 # This is declaration statement it's not returning any result or don't need to evaluate \n",
    "spam * 30 # this is a aithmetic expression which will return value after evaluation "
   ]
  },
  {
   "cell_type": "raw",
   "metadata": {},
   "source": [
    "6. After running the following code, what does the variable bacon contain?\n",
    "bacon = 22\n",
    "bacon + 1"
   ]
  },
  {
   "cell_type": "code",
   "execution_count": 41,
   "metadata": {},
   "outputs": [
    {
     "name": "stdout",
     "output_type": "stream",
     "text": [
      "22\n"
     ]
    }
   ],
   "source": [
    "bacon = 22\n",
    "bacon + 1 # here bacon original value won't change as it is not a assignment \n",
    "print(bacon) # will return 22 "
   ]
  },
  {
   "cell_type": "raw",
   "metadata": {},
   "source": [
    "7. What should the values of the following two terms be?\n",
    "'spam'+'spamspam'\n",
    "'spam'*3"
   ]
  },
  {
   "cell_type": "code",
   "execution_count": 43,
   "metadata": {},
   "outputs": [
    {
     "name": "stdout",
     "output_type": "stream",
     "text": [
      "spamspamspam\n",
      "spamspamspam\n"
     ]
    }
   ],
   "source": [
    "# Both will give same result at the end =>spamspamspam\n",
    "\n",
    "print('spam'+'spamspam') # this will concate two string and produce new string => spamspamspam\n",
    "print('spam'*3) # this will concate the same string thrice and will give spamspamspam"
   ]
  },
  {
   "cell_type": "raw",
   "metadata": {},
   "source": [
    "8. Why is it that eggs is a true variable name but 100 is not?"
   ]
  },
  {
   "cell_type": "code",
   "execution_count": 27,
   "metadata": {},
   "outputs": [
    {
     "name": "stdout",
     "output_type": "stream",
     "text": [
      "1\n",
      "10\n"
     ]
    }
   ],
   "source": [
    "# Variable name must always start with either letter or _ other than that won't be recognized as variable by compiler. Hence eggs is a valid variable name but 100 is not\n",
    "eggs=1\n",
    "print(eggs)\n",
    "_eggs=10\n",
    "print(_eggs)\n",
    "#100=2 # this will give syntax error"
   ]
  },
  {
   "cell_type": "raw",
   "metadata": {},
   "source": [
    "9. Which of the following three functions may be used to convert a value to an integer, a\n",
    "floating-point number, or a string?"
   ]
  },
  {
   "cell_type": "code",
   "execution_count": 49,
   "metadata": {},
   "outputs": [
    {
     "name": "stdout",
     "output_type": "stream",
     "text": [
      "<class 'int'>\n",
      "22.0\n",
      "<class 'float'>\n",
      "<class 'str'>\n"
     ]
    }
   ],
   "source": [
    "# int() to convert a value to an integer\n",
    "print(type(int('22')))\n",
    "\n",
    "# float() to convert a value to a floating-point number\n",
    "print(float(22))\n",
    "print(type(float(22)))\n",
    "\n",
    "# str() to convert a value to a string\n",
    "print(type(str(22)))"
   ]
  },
  {
   "cell_type": "raw",
   "metadata": {},
   "source": [
    "10. What is the error caused by this expression? What would you do about it?\n",
    "'I have eaten'+ 99 + 'burritos.'"
   ]
  },
  {
   "cell_type": "code",
   "execution_count": 46,
   "metadata": {},
   "outputs": [
    {
     "data": {
      "text/plain": [
       "'I have eaten 99 burritos.'"
      ]
     },
     "execution_count": 46,
     "metadata": {},
     "output_type": "execute_result"
    }
   ],
   "source": [
    "#'I have eaten '+ 99 + ' burritos.' # Here trying to concate string with Integer will give TypeError\n",
    "# To avoide will cast Int value to String like\n",
    "'I have eaten '+ str(99) + ' burritos.'\n"
   ]
  }
 ],
 "metadata": {
  "kernelspec": {
   "display_name": "Python 3",
   "language": "python",
   "name": "python3"
  },
  "language_info": {
   "codemirror_mode": {
    "name": "ipython",
    "version": 3
   },
   "file_extension": ".py",
   "mimetype": "text/x-python",
   "name": "python",
   "nbconvert_exporter": "python",
   "pygments_lexer": "ipython3",
   "version": "3.8.5"
  }
 },
 "nbformat": 4,
 "nbformat_minor": 4
}
