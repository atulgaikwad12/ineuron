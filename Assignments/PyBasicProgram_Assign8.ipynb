{
 "cells": [
  {
   "cell_type": "code",
   "execution_count": 46,
   "metadata": {},
   "outputs": [],
   "source": [
    "#Q1 To add two matrix\n",
    "import numpy as np\n",
    "a = [[12,20,45,1],\n",
    "    [45,3,6,2],\n",
    "    [2,14,65,3]]\n",
    "\n",
    "b = [[10,30,5,33],\n",
    "    [2,12,1,70],\n",
    "    [22,54,25,32]]"
   ]
  },
  {
   "cell_type": "code",
   "execution_count": 47,
   "metadata": {},
   "outputs": [
    {
     "data": {
      "text/plain": [
       "array([[22, 50, 50, 34],\n",
       "       [47, 15,  7, 72],\n",
       "       [24, 68, 90, 35]])"
      ]
     },
     "execution_count": 47,
     "metadata": {},
     "output_type": "execute_result"
    }
   ],
   "source": [
    "# addition of matix by converting to numpy array\n",
    "np.array(a) + np.array(b)"
   ]
  },
  {
   "cell_type": "code",
   "execution_count": 48,
   "metadata": {},
   "outputs": [
    {
     "data": {
      "text/plain": [
       "array([[ 120,  600,  225,   33],\n",
       "       [  90,   36,    6,  140],\n",
       "       [  44,  756, 1625,   96]])"
      ]
     },
     "execution_count": 48,
     "metadata": {},
     "output_type": "execute_result"
    }
   ],
   "source": [
    "#Q2 To multiply two matrix\n",
    "np.array(a) * np.array(b)"
   ]
  },
  {
   "cell_type": "code",
   "execution_count": 58,
   "metadata": {},
   "outputs": [
    {
     "name": "stdout",
     "output_type": "stream",
     "text": [
      "[[114 160  60  27]\n",
      " [ 74  97  73  14]\n",
      " [119 157 112  23]]\n"
     ]
    }
   ],
   "source": [
    "a = [[12, 7, 3],\n",
    "    [4, 5, 6],\n",
    "    [7, 8, 9]]\n",
    "   \n",
    "b = [[5, 8, 1, 2],\n",
    "    [6, 7, 3, 0],\n",
    "    [4, 5, 9, 1]]\n",
    "\n",
    "def matrixmul(a,b):\n",
    "    \n",
    "    if(len(a[0]) == len(b) or len(b[0]) == len(a)): \n",
    "        result = list()  \n",
    "        for i in range(len(a)):\n",
    "            res = list()\n",
    "            for j in range(len(b[0])):   \n",
    "                s = 0\n",
    "                for k in range(len(b)):\n",
    "                    s  += a[i][k] * b[k][j]\n",
    "                    \n",
    "                res.append(s)\n",
    "            result.append(res)\n",
    "        return np.array(result)\n",
    "    else:\n",
    "        return 'Cannot multiply matrices as they r not of correct length'\n",
    "    \n",
    "print(matrixmul(a,b))"
   ]
  },
  {
   "cell_type": "code",
   "execution_count": 60,
   "metadata": {},
   "outputs": [
    {
     "name": "stdout",
     "output_type": "stream",
     "text": [
      "[[ 99  83  72]\n",
      " [121 101  87]\n",
      " [131 125 123]]\n"
     ]
    }
   ],
   "source": [
    "print(matrixmul(a,b))"
   ]
  },
  {
   "cell_type": "code",
   "execution_count": 62,
   "metadata": {},
   "outputs": [
    {
     "data": {
      "text/plain": [
       "array([[5, 6, 4],\n",
       "       [8, 7, 5],\n",
       "       [1, 3, 9],\n",
       "       [2, 0, 1]])"
      ]
     },
     "execution_count": 62,
     "metadata": {},
     "output_type": "execute_result"
    }
   ],
   "source": [
    "#Q3. Transpose of matrix\n",
    "np.array(a).T"
   ]
  },
  {
   "cell_type": "code",
   "execution_count": 101,
   "metadata": {},
   "outputs": [
    {
     "name": "stdout",
     "output_type": "stream",
     "text": [
      "atul bsde cfg desf ggfd hello zsr\n"
     ]
    }
   ],
   "source": [
    "#Q4. To sort words in alphabetical order\n",
    "def wsort(sentence):\n",
    "    jnStr =\" \"\n",
    "    lst = sorted(sentence.split(\" \"))\n",
    "    print(jnStr.join(lst))\n",
    "wsort('ggfd bsde atul cfg zsr desf hello')"
   ]
  },
  {
   "cell_type": "code",
   "execution_count": 105,
   "metadata": {},
   "outputs": [
    {
     "data": {
      "text/plain": [
       "'Hello world '"
      ]
     },
     "execution_count": 105,
     "metadata": {},
     "output_type": "execute_result"
    }
   ],
   "source": [
    "# Q4 To remove punctuation from string\n",
    "import string \n",
    "def remPunctuatio(sent):\n",
    "    res=\"\"\n",
    "    for word in sent.split(\" \"):\n",
    "        if word in string.punctuation:\n",
    "            continue\n",
    "        res += word + \" \"\n",
    "    return res\n",
    "\n",
    "remPunctuatio('Hello world !')"
   ]
  },
  {
   "cell_type": "code",
   "execution_count": null,
   "metadata": {},
   "outputs": [],
   "source": []
  }
 ],
 "metadata": {
  "kernelspec": {
   "display_name": "Python 3",
   "language": "python",
   "name": "python3"
  },
  "language_info": {
   "codemirror_mode": {
    "name": "ipython",
    "version": 3
   },
   "file_extension": ".py",
   "mimetype": "text/x-python",
   "name": "python",
   "nbconvert_exporter": "python",
   "pygments_lexer": "ipython3",
   "version": "3.8.5"
  }
 },
 "nbformat": 4,
 "nbformat_minor": 4
}
