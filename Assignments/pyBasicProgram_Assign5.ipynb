{
 "cells": [
  {
   "cell_type": "code",
   "execution_count": 13,
   "metadata": {},
   "outputs": [
    {
     "name": "stdout",
     "output_type": "stream",
     "text": [
      "Enter 1st number- 12\n",
      "Enter 2nd number- 18\n",
      "LCM of entered numbers is- 36\n"
     ]
    }
   ],
   "source": [
    "# 1. To find LCM\n",
    "n1 = int(input('Enter 1st number- '))\n",
    "n2 = int(input('Enter 2nd number- '))\n",
    "\n",
    "lcm = 1\n",
    "m = max(n1,n2)\n",
    "#print('max of number is-',m)\n",
    "\n",
    "while(True):\n",
    "    if(m % n1 == 0 and m % n2 == 0):\n",
    "        lcm = m\n",
    "        break\n",
    "    \n",
    "    m+=1\n",
    "\n",
    "print('LCM of entered numbers is-',lcm)"
   ]
  },
  {
   "cell_type": "code",
   "execution_count": 23,
   "metadata": {},
   "outputs": [
    {
     "name": "stdout",
     "output_type": "stream",
     "text": [
      "Enter 1st number- 96\n",
      "Enter 2nd number- 60\n",
      "HCF of entered numbers is- 12\n"
     ]
    }
   ],
   "source": [
    "# 2. To find HCF\n",
    "x = int(input('Enter 1st number- '))\n",
    "y = int(input('Enter 2nd number- '))\n",
    "\n",
    "while(y):\n",
    "    x, y = y, x % y \n",
    "    #print('x=',x,'y=',y)\n",
    "\n",
    "print('HCF of entered numbers is-',x)"
   ]
  },
  {
   "cell_type": "code",
   "execution_count": 51,
   "metadata": {},
   "outputs": [
    {
     "name": "stdout",
     "output_type": "stream",
     "text": [
      "Enter decimal number- 1690\n",
      "Binary =  11010011010\n",
      "Octal =  3232\n",
      "Hexadecimal =  69A\n"
     ]
    }
   ],
   "source": [
    "# 3. To convert decimal to binary, octal, hexadecimal \n",
    "dec = int(input('Enter decimal number- '))\n",
    "\n",
    "# converting to binary 0/1\n",
    "n = dec\n",
    "bin=''\n",
    "while(n>0):\n",
    "    bin = bin + str(n%2)\n",
    "    n=n//2\n",
    "    \n",
    "print('Binary = ',bin[::-1])\n",
    "\n",
    "# converting to octal \n",
    "n = dec\n",
    "oct=''\n",
    "while(n>0):\n",
    "    oct = oct + str(n%8)\n",
    "    n=n//8\n",
    "    \n",
    "print('Octal = ',oct[::-1])\n",
    "\n",
    "# converting to hexadecimal\n",
    "n = dec\n",
    "hex=''\n",
    "dict_hex = {10:'A',11:'B',12:'C',13:'D',14:'E',15:'F'}\n",
    "while(n>0):\n",
    "    if(n%16 > 9 and n%16 <= 15):\n",
    "        hex = hex + dict_hex[n%16]\n",
    "    else:\n",
    "        hex = hex + str(n%16)\n",
    "    n=n//16\n",
    "    \n",
    "print('Hexadecimal = ',hex[::-1],)"
   ]
  },
  {
   "cell_type": "code",
   "execution_count": 80,
   "metadata": {},
   "outputs": [
    {
     "name": "stdout",
     "output_type": "stream",
     "text": [
      "Enter Character to know it's ASCII valueE\n",
      "ASCII value of character E is 69\n"
     ]
    }
   ],
   "source": [
    "# 4. To find ASCII value of character \n",
    "s = input('Enter Character to know it\\'s ASCII value')\n",
    "\n",
    "if len(s) ==1:\n",
    "    print('ASCII value of character',s,'is', ord(s))\n",
    "else:\n",
    "    print('Invalid data enter single character')"
   ]
  },
  {
   "cell_type": "code",
   "execution_count": 5,
   "metadata": {},
   "outputs": [
    {
     "name": "stdout",
     "output_type": "stream",
     "text": [
      "Enter first number- 12\n",
      "Enter second number- 4\n",
      "Choose mathematical operation- \n",
      " *\t/ \n",
      " +\t- \n",
      "*\n",
      "Result of 12 * 4 = 48\n"
     ]
    }
   ],
   "source": [
    "# 5. To make simple calculator with basic 4 mathematical operations \n",
    "n1 = int(input('Enter first number- '))\n",
    "n2 = int(input('Enter second number- '))\n",
    "opt = input('Choose mathematical operation- \\r *\\t/ \\r +\\t- \\r')\n",
    "valid_data = True\n",
    "\n",
    "if(opt == '+'): res = n1+n2\n",
    "elif(opt == '-') : res = n1-n2\n",
    "elif(opt == '*') : res = n1*n2\n",
    "elif(opt == '/') : res = n1/n2\n",
    "else: valid_data=False\n",
    "    \n",
    "if(valid_data):  \n",
    "    print('Result of',n1,opt,n2,'=',res)\n",
    "else:\n",
    "    print(\"Invalid Data\")"
   ]
  },
  {
   "cell_type": "code",
   "execution_count": null,
   "metadata": {},
   "outputs": [],
   "source": []
  }
 ],
 "metadata": {
  "kernelspec": {
   "display_name": "Python 3",
   "language": "python",
   "name": "python3"
  },
  "language_info": {
   "codemirror_mode": {
    "name": "ipython",
    "version": 3
   },
   "file_extension": ".py",
   "mimetype": "text/x-python",
   "name": "python",
   "nbconvert_exporter": "python",
   "pygments_lexer": "ipython3",
   "version": "3.8.5"
  }
 },
 "nbformat": 4,
 "nbformat_minor": 4
}
