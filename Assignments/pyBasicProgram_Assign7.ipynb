{
 "cells": [
  {
   "cell_type": "markdown",
   "metadata": {},
   "source": [
    "Q1. Write a Python Program to find sum of array?"
   ]
  },
  {
   "cell_type": "code",
   "execution_count": 2,
   "metadata": {},
   "outputs": [],
   "source": [
    "import array as arr"
   ]
  },
  {
   "cell_type": "code",
   "execution_count": 6,
   "metadata": {},
   "outputs": [
    {
     "name": "stdout",
     "output_type": "stream",
     "text": [
      "Sum of array is = 25\n"
     ]
    }
   ],
   "source": [
    "iArr = arr.array('i', [10, 12, 3])\n",
    "s =0 \n",
    "for i in iArr:\n",
    "    s+= i\n",
    "    \n",
    "print('Sum of array is = '+str(s))"
   ]
  },
  {
   "cell_type": "markdown",
   "metadata": {},
   "source": [
    "Q2. Write a Python Program to find largest element in an array?"
   ]
  },
  {
   "cell_type": "code",
   "execution_count": 18,
   "metadata": {},
   "outputs": [
    {
     "name": "stdout",
     "output_type": "stream",
     "text": [
      "Element of array =  [20, 50, 13]\n",
      "Largest element of array using max() = 50\n",
      "Largest element of array using Loop logic = 50\n"
     ]
    }
   ],
   "source": [
    "iArr = arr.array('i', [20, 50, 13])\n",
    "print('Elements of array = ' , list(iArr))\n",
    "\n",
    "print('Largest element of array using max() = ' + str(max(iArr)))\n",
    "\n",
    "maxElment = iArr[0]\n",
    "for i in range(1,len(iArr)):\n",
    "    if(maxElment < iArr[i]):\n",
    "        maxElment = iArr[i]\n",
    "        \n",
    "print('Largest element of array using Loop logic = ' + str(maxElment))"
   ]
  },
  {
   "cell_type": "markdown",
   "metadata": {},
   "source": [
    "Q3. Write a Python Program for array rotation?"
   ]
  },
  {
   "cell_type": "code",
   "execution_count": 47,
   "metadata": {},
   "outputs": [
    {
     "name": "stdout",
     "output_type": "stream",
     "text": [
      "Element of array before roation =  [20, 50, 13, 45]\n",
      "Array after 1 Right roation =  [45, 20, 50, 13]\n",
      "Array after 2 Right roation =  [13, 45, 20, 50]\n",
      "Array after 3 Right roation =  [50, 13, 45, 20]\n",
      "Array after 4 Right roation =  [20, 50, 13, 45]\n"
     ]
    }
   ],
   "source": [
    "iArr = arr.array('i', [20, 50, 13, 45])\n",
    "\n",
    "def leftRotate(iArr,rCount):\n",
    "    print('Elements of array before rotation = ' , list(iArr))\n",
    "    \n",
    "    k=1\n",
    "    while(k <= rCount):\n",
    "        temp = iArr[0]\n",
    "        \n",
    "        for i in range(len(iArr)-1):\n",
    "            iArr[i] = iArr[i+1]\n",
    "            \n",
    "        iArr[len(iArr)-1] = temp\n",
    "        print('Array after '+ str(k)+ ' Left roation = ' , list(iArr))\n",
    "        k += 1\n",
    "        \n",
    "def rightRotate(iArr,rCount):\n",
    "    print('Element of array before roation = ' , list(iArr))\n",
    "    \n",
    "    k=1\n",
    "    while(k <= rCount):\n",
    "        temp = iArr[len(iArr)-1]\n",
    "        \n",
    "        for i in range(len(iArr)-1,0,-1):\n",
    "            iArr[i] = iArr[i-1]\n",
    "            \n",
    "        iArr[0] = temp\n",
    "        print('Array after '+ str(k)+ ' Right roation = ' , list(iArr))\n",
    "        k += 1\n",
    "        \n",
    "    \n",
    "#leftRotate(iArr,2)\n",
    "rightRotate(iArr,4)"
   ]
  },
  {
   "cell_type": "markdown",
   "metadata": {},
   "source": [
    "Q4. Write a Python Program to Split the array and add the first part to the end?"
   ]
  },
  {
   "cell_type": "code",
   "execution_count": 64,
   "metadata": {},
   "outputs": [
    {
     "name": "stdout",
     "output_type": "stream",
     "text": [
      "Elements of array before rotation =  [20, 50, 13, 45, 65, 12]\n",
      "After spliting array at index 2 = [20, 50, 13] \n",
      "Array after adding splited part at end \n",
      "[45, 65, 12, 20, 50, 13]\n"
     ]
    }
   ],
   "source": [
    "iArr = arr.array('i', [20, 50, 13, 45, 65, 12])\n",
    "print('Elements of array = ' , list(iArr)) \n",
    "\n",
    "def leftRotate(iArr,rCount):   \n",
    "    k=1\n",
    "    while(k <= rCount):\n",
    "        temp = iArr[0]\n",
    "        for i in range(len(iArr)-1):\n",
    "            iArr[i] = iArr[i+1]            \n",
    "        iArr[len(iArr)-1] = temp\n",
    "        #print('Array after '+ str(k)+ ' Left roation = ' , list(iArr))\n",
    "        k += 1\n",
    "    return iArr\n",
    "        \n",
    "def splitArrayAt(iArr,index):\n",
    "    print('After spliting array at index %d = %s '%(index,str(list(iArr[:index+1]))))\n",
    "    return list(leftRotate(iArr,index+1))\n",
    "    \n",
    "print('Array after adding splited part at end \\n' + str(splitArrayAt(iArr,2)))"
   ]
  },
  {
   "cell_type": "markdown",
   "metadata": {},
   "source": [
    "Q5. Write a Python Program to check if given array is Monotonic?"
   ]
  },
  {
   "cell_type": "code",
   "execution_count": 74,
   "metadata": {},
   "outputs": [
    {
     "name": "stdout",
     "output_type": "stream",
     "text": [
      "Enter array of intergers 2 13 22 45 60 100\n",
      "Elements of Entered array =  [2, 13, 22, 45, 60, 100]\n",
      "Array is Monotonic\n"
     ]
    }
   ],
   "source": [
    "# Monotonic array will be either monotone increasing, or monotone decreasing\n",
    "\n",
    "def isMonotonicArry(iArr):\n",
    "    \n",
    "    # Increasing elements \n",
    "    bMonoIncreasing  = all(iArr[i] <= iArr[i + 1] for i in range(len(iArr) - 1))\n",
    "                           \n",
    "    #Decreasing elements \n",
    "    bMonoDescreasing = all(iArr[i] >= iArr[i + 1] for i in range(len(iArr) - 1))\n",
    "                          \n",
    "    return (bMonoIncreasing or bMonoDescreasing)\n",
    "\n",
    "\n",
    "try:\n",
    "    lst = list(map(int,input('Enter array of intergers ').split()))\n",
    "    iArr = arr.array('i', lst)\n",
    "    print('Elements of Entered array = ' , list(iArr)) \n",
    " \n",
    "    if(isMonotonicArry(iArr)):\n",
    "        print('Array is Monotonic')\n",
    "    else:\n",
    "        print('Array is non Monotonic')\n",
    "                           \n",
    "except:\n",
    "    print('Enter valid integer data type values')\n",
    "    \n"
   ]
  }
 ],
 "metadata": {
  "kernelspec": {
   "display_name": "Python 3",
   "language": "python",
   "name": "python3"
  },
  "language_info": {
   "codemirror_mode": {
    "name": "ipython",
    "version": 3
   },
   "file_extension": ".py",
   "mimetype": "text/x-python",
   "name": "python",
   "nbconvert_exporter": "python",
   "pygments_lexer": "ipython3",
   "version": "3.8.5"
  }
 },
 "nbformat": 4,
 "nbformat_minor": 4
}
