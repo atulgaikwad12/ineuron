{
 "cells": [
  {
   "cell_type": "markdown",
   "metadata": {},
   "source": [
    "1. Write a function that takes a list of lists and returns the value of all of the\n",
    "symbols in it, where each symbol adds or takes something from the total\n",
    "score. Symbol values:\n",
    "#= 5\n",
    "O = 3\n",
    "X = 1\n",
    "! = -1\n",
    "!! = -3\n",
    "!!! = -5\n",
    "\n",
    "A list of lists containing 2 #s, a O, and a !!! would equal (0 + 5 + 5 + 3 - 5) 8.\n",
    "\n",
    "If the final score is negative, return 0 (e.g. 3 #s, 3 !!s, 2 !!!s and a X would be (0 + 5 + 5 + 5 - 3 - 3 - 3 - 5 - 5 + 1) -3, so return 0.\n",
    "\n",
    "Examples\n",
    "\n",
    "check_score([\n",
    "  [\"#\", \"!\"],\n",
    "  [\"!!\", \"X\"]\n",
    "]) ➞ 2\n",
    "\n",
    "check_score([\n",
    "  [\"!!!\", \"O\", \"!\"],\n",
    "  [\"X\", \"#\", \"!!!\"],\n",
    "  [\"!!\", \"X\", \"O\"]\n",
    "]) ➞ 0\n"
   ]
  },
  {
   "cell_type": "code",
   "execution_count": 58,
   "metadata": {},
   "outputs": [],
   "source": [
    "data = [['0','X','@','!'],['!!!','!!','#'],['#','0','!','!!!','!!']]\n",
    "\n",
    "score = {\n",
    "    \"#\" : 5,\n",
    "    \"0\" : 3,\n",
    "    \"X\" : 1,\n",
    "    \"!\" : -1,\n",
    "    \"!!\" : -3,\n",
    "    \"!!!\": -5 }"
   ]
  },
  {
   "cell_type": "code",
   "execution_count": 63,
   "metadata": {},
   "outputs": [],
   "source": [
    "def getScoreOfsymbols(txt_lst,score):\n",
    "    total_score = 0\n",
    "    char_found = []\n",
    "    resp_score = []\n",
    "    for i in txt_lst:\n",
    "        if(type(i) == list):\n",
    "            for txt in i:\n",
    "                for char in score:  \n",
    "                    if(char == txt.strip()):\n",
    "                        char_found.append(char)\n",
    "                        resp_score.append(score[char])\n",
    "                        total_score += score[char]\n",
    "                        \n",
    "    if(total_score < 0):\n",
    "        total_score = 0\n",
    "    \n",
    "    return total_score,char_found,resp_score"
   ]
  },
  {
   "cell_type": "code",
   "execution_count": 62,
   "metadata": {},
   "outputs": [
    {
     "name": "stdout",
     "output_type": "stream",
     "text": [
      " Symbols Found ['0', 'X', '!', '!', '!!', '!!!', '!', '!!', '#', '#', '0', '!', '!', '!!', '!!!', '!', '!!'] \n",
      " Respective Score [3, 1, -1, -1, -3, -5, -1, -3, 5, 5, 3, -1, -1, -3, -5, -1, -3] \n",
      " Total Score 0\n"
     ]
    }
   ],
   "source": [
    "total_score,symbol_found,resp_score = getScoreOfsymbols(data,score)\n",
    "print(f' Symbols Found {symbol_found} \\n Respective Score {resp_score} \\n Total Score {total_score}')"
   ]
  },
  {
   "cell_type": "markdown",
   "metadata": {},
   "source": [
    "2. Create a function that takes a variable number of arguments, each\n",
    "argument representing the number of items in a group, and returns the\n",
    "number of permutations (combinations) of items that you could get by taking\n",
    "one item from each group.\n",
    "\n",
    "Examples\n",
    "\n",
    "combinations(2, 3) ➞ 6\n",
    "\n",
    "combinations(3, 7, 4) ➞ 84\n",
    "\n",
    "combinations(2, 3, 4, 5) ➞ 120\n"
   ]
  },
  {
   "cell_type": "code",
   "execution_count": 85,
   "metadata": {},
   "outputs": [],
   "source": [
    "def combinations(*args):\n",
    "    c = 1\n",
    "    \n",
    "    def fact(e):\n",
    "        if(e <= 1):\n",
    "            return 1\n",
    "        \n",
    "        return e*fact(e-1)\n",
    "    \n",
    "    for i in args:\n",
    "        c *= fact(i)/fact(i-1)    \n",
    "    return c\n"
   ]
  },
  {
   "cell_type": "code",
   "execution_count": 86,
   "metadata": {},
   "outputs": [
    {
     "data": {
      "text/plain": [
       "6.0"
      ]
     },
     "execution_count": 86,
     "metadata": {},
     "output_type": "execute_result"
    }
   ],
   "source": [
    "combinations(2,3)"
   ]
  },
  {
   "cell_type": "code",
   "execution_count": 87,
   "metadata": {},
   "outputs": [
    {
     "data": {
      "text/plain": [
       "84.0"
      ]
     },
     "execution_count": 87,
     "metadata": {},
     "output_type": "execute_result"
    }
   ],
   "source": [
    "combinations(3,7,4)"
   ]
  },
  {
   "cell_type": "code",
   "execution_count": 88,
   "metadata": {},
   "outputs": [
    {
     "data": {
      "text/plain": [
       "120.0"
      ]
     },
     "execution_count": 88,
     "metadata": {},
     "output_type": "execute_result"
    }
   ],
   "source": [
    "combinations(2,3,4,5)"
   ]
  },
  {
   "cell_type": "code",
   "execution_count": 89,
   "metadata": {},
   "outputs": [
    {
     "data": {
      "text/plain": [
       "2400.0"
      ]
     },
     "execution_count": 89,
     "metadata": {},
     "output_type": "execute_result"
    }
   ],
   "source": [
    "combinations(2,3,4,5,20)"
   ]
  },
  {
   "cell_type": "markdown",
   "metadata": {},
   "source": [
    "3. Create a function that takes a string as an argument and returns the Morse\n",
    "code equivalent.\n",
    "\n",
    "Examples\n",
    "\n",
    "encode_morse(\"EDABBIT CHALLENGE\") ➞ \". -.. .- -... -... .. -   -.-. .... .- .-.. .-.. . -. --. .\"\n",
    "\n",
    "encode_morse(\"HELP ME !\") ➞ \".... . .-.. .--.   -- .   -.-.--\"\n",
    "\n",
    "This dictionary can be used for coding:\n",
    "\n",
    "char_to_dots = {\n",
    "  'A': '.-', 'B': '-...', 'C': '-.-.', 'D': '-..', 'E': '.', 'F': '..-.',\n",
    "  'G': '--.', 'H': '....', 'I': '..', 'J': '.---', 'K': '-.-', 'L': '.-..',\n",
    "  'M': '--', 'N': '-.', 'O': '---', 'P': '.--.', 'Q': '--.-', 'R': '.-.',\n",
    "  'S': '...', 'T': '-', 'U': '..-', 'V': '...-', 'W': '.--', 'X': '-..-',\n",
    "  'Y': '-.--', 'Z': '--..', ' ': ' ', '0': '-----',\n",
    "  '1': '.----', '2': '..---', '3': '...--', '4': '....-', '5': '.....',\n",
    "  '6': '-....', '7': '--...', '8': '---..', '9': '----.',\n",
    "  '&': '.-...', \"'\": '.----.', '@': '.--.-.', ')': '-.--.-', '(': '-.--.',\n",
    "  ':': '---...', ',': '--..--', '=': '-...-', '!': '-.-.--', '.': '.-.-.-',\n",
    "  '-': '-....-', '+': '.-.-.', '\"': '.-..-.', '?': '..--..', '/': '-..-.'\n",
    "}"
   ]
  },
  {
   "cell_type": "code",
   "execution_count": 102,
   "metadata": {},
   "outputs": [],
   "source": [
    "def encode_morse(text):\n",
    "    s=\"\"\n",
    "    char_to_dots = {\n",
    "    'A': '.-', 'B': '-...', 'C': '-.-.', 'D': '-..', 'E': '.', 'F': '..-.',\n",
    "    'G': '--.', 'H': '....', 'I': '..', 'J': '.---', 'K': '-.-', 'L': '.-..',\n",
    "    'M': '--', 'N': '-.', 'O': '---', 'P': '.--.', 'Q': '--.-', 'R': '.-.',\n",
    "    'S': '...', 'T': '-', 'U': '..-', 'V': '...-', 'W': '.--', 'X': '-..-',\n",
    "    'Y': '-.--', 'Z': '--..', ' ': ' ', '0': '-----',\n",
    "    '1': '.----', '2': '..---', '3': '...--', '4': '....-', '5': '.....',\n",
    "    '6': '-....', '7': '--...', '8': '---..', '9': '----.',\n",
    "    '&': '.-...', \"'\": '.----.', '@': '.--.-.', ')': '-.--.-', '(': '-.--.',\n",
    "    ':': '---...', ',': '--..--', '=': '-...-', '!': '-.-.--', '.': '.-.-.-',\n",
    "    '-': '-....-', '+': '.-.-.', '\"': '.-..-.', '?': '..--..', '/': '-..-.'}\n",
    "    \n",
    "    def encode(char):\n",
    "        for c in char_to_dots:\n",
    "            if (char == c):\n",
    "                return char_to_dots[c]\n",
    "        else:\n",
    "            return char # intensionally returning same character if failed to find in dict \n",
    "        \n",
    "    for i in text:\n",
    "        s = s + encode(i)\n",
    "        \n",
    "    return s\n",
    "        "
   ]
  },
  {
   "cell_type": "code",
   "execution_count": 107,
   "metadata": {},
   "outputs": [
    {
     "data": {
      "text/plain": [
       "'......-...--. --. -.-.---..-.'"
      ]
     },
     "execution_count": 107,
     "metadata": {},
     "output_type": "execute_result"
    }
   ],
   "source": [
    "encode_morse(\"HELP ME !\")"
   ]
  },
  {
   "cell_type": "code",
   "execution_count": 106,
   "metadata": {},
   "outputs": [
    {
     "data": {
      "text/plain": [
       "'.-...--...-.....- -.-......-.-...-...-.--..'"
      ]
     },
     "execution_count": 106,
     "metadata": {},
     "output_type": "execute_result"
    }
   ],
   "source": [
    "encode_morse(\"EDABBIT CHALLENGE\")"
   ]
  },
  {
   "cell_type": "markdown",
   "metadata": {},
   "source": [
    "4.  Write a function that takes a number and returns True if it's a prime; False otherwise. The number can be 2^64-1 (2 to the power of 63, not XOR). With the standard technique it would be O(2^64-1), which is much too large for the 10 second time limit.\n",
    "\n",
    "Examples\n",
    "\n",
    "prime(7) ➞ True\n",
    "\n",
    "prime(56963) ➞ True\n",
    "\n",
    "prime(5151512515524) ➞ False"
   ]
  },
  {
   "cell_type": "code",
   "execution_count": 44,
   "metadata": {},
   "outputs": [],
   "source": [
    "def prime(num):\n",
    "    if(num <= 3):\n",
    "        return True\n",
    "    \n",
    "    if (num % 2 == 0 or num % 3 == 0) :\n",
    "        return False\n",
    "    \n",
    "    for i in range(5,num,2): # skipping even numbers as already checked divisiblity with 2 in above code \n",
    "        if(num % i == 0):\n",
    "            return False\n",
    "    else: \n",
    "        return True\n",
    "        "
   ]
  },
  {
   "cell_type": "code",
   "execution_count": 60,
   "metadata": {},
   "outputs": [
    {
     "data": {
      "text/plain": [
       "True"
      ]
     },
     "execution_count": 60,
     "metadata": {},
     "output_type": "execute_result"
    }
   ],
   "source": [
    "prime(17)"
   ]
  },
  {
   "cell_type": "code",
   "execution_count": 61,
   "metadata": {},
   "outputs": [
    {
     "data": {
      "text/plain": [
       "True"
      ]
     },
     "execution_count": 61,
     "metadata": {},
     "output_type": "execute_result"
    }
   ],
   "source": [
    "prime(56963)"
   ]
  },
  {
   "cell_type": "code",
   "execution_count": 130,
   "metadata": {},
   "outputs": [
    {
     "data": {
      "text/plain": [
       "True"
      ]
     },
     "execution_count": 130,
     "metadata": {},
     "output_type": "execute_result"
    }
   ],
   "source": [
    "prime(56963)"
   ]
  },
  {
   "cell_type": "code",
   "execution_count": 62,
   "metadata": {},
   "outputs": [
    {
     "data": {
      "text/plain": [
       "False"
      ]
     },
     "execution_count": 62,
     "metadata": {},
     "output_type": "execute_result"
    }
   ],
   "source": [
    "prime(5151512515524)"
   ]
  },
  {
   "cell_type": "code",
   "execution_count": 87,
   "metadata": {},
   "outputs": [
    {
     "name": "stdout",
     "output_type": "stream",
     "text": [
      "False\n",
      "0.0\n"
     ]
    }
   ],
   "source": [
    "import time\n",
    "start = time.process_time()\n",
    "print(prime(515153321251552423433234545434444444444444421322344554555453333333553453453434534555555622345477777831349777777777777))   \n",
    "print(time.process_time() - start)\n"
   ]
  },
  {
   "cell_type": "markdown",
   "metadata": {},
   "source": [
    "5.  Create a function that converts a word to a bitstring and then to a boolean list based on the following criteria:\n",
    "\n",
    "    1. Locate the position of the letter in the English alphabet (from 1 to 26).\n",
    "    2. Odd positions will be represented as 1 and 0 otherwise.\n",
    "    3. Convert the represented positions to boolean values, 1 for True and 0 for False.\n",
    "    4. Store the conversions into an array.\n",
    "\n",
    "Examples\n",
    "\n",
    "to_boolean_list(\"deep\") ➞ [False, True, True, False]\n",
    "#deep converts to 0110\n",
    "#d is the 4th alphabet - 0\n",
    "#e is the 5th alphabet - 1\n",
    "#e is the 5th alphabet - 1\n",
    "#p is the 16th alphabet - 0\n",
    "\n",
    "to_boolean_list(\"loves\") ➞ [False, True, False, True, True]\n",
    "\n",
    "to_boolean_list(\"tesh\") ➞ [False, True, True, False]\n"
   ]
  },
  {
   "cell_type": "code",
   "execution_count": 32,
   "metadata": {},
   "outputs": [],
   "source": [
    "def to_boolean_list(text):\n",
    "    res = []\n",
    "    \n",
    "    def pos(c):\n",
    "        #using upper as below range is only for upper case characters \n",
    "        return 66 - ord(c.upper()) # ord gives ASCII position which starts from 65 -> 'A' to 90 -> 'Z' \n",
    "    \n",
    "    for i in text:\n",
    "        if (pos(i) % 2 == 0):\n",
    "            res.append(False)\n",
    "        else:\n",
    "            res.append(True)\n",
    "            \n",
    "    return res\n",
    "    "
   ]
  },
  {
   "cell_type": "code",
   "execution_count": 33,
   "metadata": {},
   "outputs": [
    {
     "data": {
      "text/plain": [
       "[False, True, True, False]"
      ]
     },
     "execution_count": 33,
     "metadata": {},
     "output_type": "execute_result"
    }
   ],
   "source": [
    "to_boolean_list(\"deep\")"
   ]
  },
  {
   "cell_type": "code",
   "execution_count": 34,
   "metadata": {},
   "outputs": [
    {
     "data": {
      "text/plain": [
       "[False, True, False, True, True]"
      ]
     },
     "execution_count": 34,
     "metadata": {},
     "output_type": "execute_result"
    }
   ],
   "source": [
    "to_boolean_list(\"loves\") "
   ]
  },
  {
   "cell_type": "code",
   "execution_count": 35,
   "metadata": {},
   "outputs": [
    {
     "data": {
      "text/plain": [
       "[False, True, True, False]"
      ]
     },
     "execution_count": 35,
     "metadata": {},
     "output_type": "execute_result"
    }
   ],
   "source": [
    "to_boolean_list(\"tesh\")"
   ]
  }
 ],
 "metadata": {
  "kernelspec": {
   "display_name": "Python 3",
   "language": "python",
   "name": "python3"
  },
  "language_info": {
   "codemirror_mode": {
    "name": "ipython",
    "version": 3
   },
   "file_extension": ".py",
   "mimetype": "text/x-python",
   "name": "python",
   "nbconvert_exporter": "python",
   "pygments_lexer": "ipython3",
   "version": "3.8.5"
  }
 },
 "nbformat": 4,
 "nbformat_minor": 4
}
