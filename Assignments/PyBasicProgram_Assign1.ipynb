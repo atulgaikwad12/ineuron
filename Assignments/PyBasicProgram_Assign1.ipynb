{
 "cells": [
  {
   "cell_type": "code",
   "execution_count": 1,
   "metadata": {},
   "outputs": [
    {
     "name": "stdout",
     "output_type": "stream",
     "text": [
      "Hello\n"
     ]
    }
   ],
   "source": [
    "# 1. To Print Hello\n",
    "\n",
    "print('Hello')"
   ]
  },
  {
   "cell_type": "code",
   "execution_count": 4,
   "metadata": {},
   "outputs": [
    {
     "name": "stdout",
     "output_type": "stream",
     "text": [
      "30\n",
      "10.0\n"
     ]
    }
   ],
   "source": [
    "#2 . Arthimatic operations\n",
    "\n",
    "add = 10+20\n",
    "print(add)\n",
    "\n",
    "div = 20/2\n",
    "print(div)"
   ]
  },
  {
   "cell_type": "code",
   "execution_count": 8,
   "metadata": {},
   "outputs": [
    {
     "name": "stdout",
     "output_type": "stream",
     "text": [
      "Enter meausre of base and height of triangle - 20 12\n",
      "Area of triangle is  120.0\n"
     ]
    }
   ],
   "source": [
    "#3. To find area of triangle \n",
    "\n",
    "b,h = input('Enter meausre of base and height of triangle - ').split()\n",
    "area = 0.5 * (int(b) * int(h))\n",
    "print('Area of triangle is ',area)"
   ]
  },
  {
   "cell_type": "code",
   "execution_count": 13,
   "metadata": {},
   "outputs": [
    {
     "name": "stdout",
     "output_type": "stream",
     "text": [
      "Before swapping a=  10  and b=  30\n",
      "After swapping a=  30  and b=  10\n"
     ]
    }
   ],
   "source": [
    "#4. Swapping\n",
    "a = 10\n",
    "b = 30\n",
    "print('Before swapping a= ',a,' and b= ',b)\n",
    "\n",
    "temp = a\n",
    "a = b\n",
    "b = temp \n",
    "\n",
    "print('After swapping a= ',a,' and b= ',b)"
   ]
  },
  {
   "cell_type": "code",
   "execution_count": 20,
   "metadata": {},
   "outputs": [
    {
     "name": "stdout",
     "output_type": "stream",
     "text": [
      "Random number = 83\n"
     ]
    }
   ],
   "source": [
    "#5. To Generate Random number\n",
    "import random \n",
    "\n",
    "print('Random number =',random.randrange(0,100,1))"
   ]
  },
  {
   "cell_type": "code",
   "execution_count": null,
   "metadata": {},
   "outputs": [],
   "source": []
  }
 ],
 "metadata": {
  "kernelspec": {
   "display_name": "Python 3",
   "language": "python",
   "name": "python3"
  },
  "language_info": {
   "codemirror_mode": {
    "name": "ipython",
    "version": 3
   },
   "file_extension": ".py",
   "mimetype": "text/x-python",
   "name": "python",
   "nbconvert_exporter": "python",
   "pygments_lexer": "ipython3",
   "version": "3.8.5"
  }
 },
 "nbformat": 4,
 "nbformat_minor": 4
}
