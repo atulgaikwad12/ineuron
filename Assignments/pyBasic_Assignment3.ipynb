{
 "cells": [
  {
   "cell_type": "markdown",
   "metadata": {},
   "source": [
    "1. Why are functions advantageous to have in your programs?"
   ]
  },
  {
   "cell_type": "markdown",
   "metadata": {},
   "source": [
    "Function is created to bind a code which can be called from different places for multiple times \n",
    "also to have different output based on different input parameters functions are used\n",
    "So overall function are usefull to avoid repeatation same code and makes code simplier/ readable \n",
    "example -  function to sqaure number"
   ]
  },
  {
   "cell_type": "code",
   "execution_count": 1,
   "metadata": {},
   "outputs": [],
   "source": [
    "def sqaure(num):\n",
    "    return num ** 2"
   ]
  },
  {
   "cell_type": "code",
   "execution_count": 2,
   "metadata": {},
   "outputs": [
    {
     "data": {
      "text/plain": [
       "4"
      ]
     },
     "execution_count": 2,
     "metadata": {},
     "output_type": "execute_result"
    }
   ],
   "source": [
    "sqaure(2) #like this square function can be called any number of time from different places with different input number "
   ]
  },
  {
   "cell_type": "markdown",
   "metadata": {},
   "source": [
    "2. When does the code in a function execute: when the function is defined or when the function is called?"
   ]
  },
  {
   "cell_type": "code",
   "execution_count": 3,
   "metadata": {},
   "outputs": [
    {
     "name": "stdout",
     "output_type": "stream",
     "text": [
      "Inside function\n"
     ]
    }
   ],
   "source": [
    "# we can define function like- \n",
    "\n",
    "def function_name():\n",
    "    #body of function \n",
    "    print('Inside function')\n",
    "    pass\n",
    "\n",
    "#code inside function will get executed when we call that particular function like this (using parenthesis) \n",
    "function_name()"
   ]
  },
  {
   "cell_type": "markdown",
   "metadata": {},
   "source": [
    "3. What statement creates a function?"
   ]
  },
  {
   "cell_type": "markdown",
   "metadata": {},
   "source": [
    "def - keyword is used to create function we can specify function name after def and accept input parameters if needed "
   ]
  },
  {
   "cell_type": "markdown",
   "metadata": {},
   "source": [
    "4. What is the difference between a function and a function call?"
   ]
  },
  {
   "cell_type": "markdown",
   "metadata": {},
   "source": [
    "function does not execute itself so untill we call that function, code inside it won't be executed "
   ]
  },
  {
   "cell_type": "markdown",
   "metadata": {},
   "source": [
    "5. How many global scopes are there in a Python program? How many local scopes?"
   ]
  },
  {
   "cell_type": "markdown",
   "metadata": {},
   "source": [
    "In python we have Local, Enclosing , Global , Built in scope  \n",
    "Example of all this is as below"
   ]
  },
  {
   "cell_type": "code",
   "execution_count": 18,
   "metadata": {},
   "outputs": [
    {
     "name": "stdout",
     "output_type": "stream",
     "text": [
      "value of pi= 3.141592653589793\n",
      "inside function 1 x= 20\n",
      "inside function 2 x= 20\n",
      "outside main body x= 10\n"
     ]
    }
   ],
   "source": [
    "from math import pi\n",
    "\n",
    "print('value of pi=', pi)\n",
    "x = 10 #global\n",
    "def function1():\n",
    "    x = 20 #local\n",
    "    def function2():\n",
    "        print('inside function 2 x=',x) #Enclosed\n",
    "    \n",
    "    \n",
    "    print('inside function 1 x=',x)\n",
    "    function2()\n",
    "\n",
    "function1()    \n",
    "print('outside main body x=',x)"
   ]
  },
  {
   "cell_type": "markdown",
   "metadata": {},
   "source": [
    "1. In above program pi is used with built in scope as it is declared in math module and imported in above program \n",
    "\n",
    "2. x=10 is assignment of gloabl variable which will be available globally \n",
    "\n",
    "3. x defined inside function1 has local scope as it will be destroyed after execution of function\n",
    "\n",
    "4. function2 accessing local variable x of fucntion1,as function2 is declared inside function1. This is an example of enclosed scope."
   ]
  },
  {
   "cell_type": "markdown",
   "metadata": {},
   "source": [
    "6. What happens to variables in a local scope when the function call returns?"
   ]
  },
  {
   "cell_type": "markdown",
   "metadata": {},
   "source": [
    "local scope variable declared inside function is limted till the scope of function after function returns result local variable will get destroyed by dereferencing the memory address"
   ]
  },
  {
   "cell_type": "markdown",
   "metadata": {},
   "source": [
    "7. What is a return value? Can a return value be part of an expression?"
   ]
  },
  {
   "cell_type": "markdown",
   "metadata": {},
   "source": [
    "return value is data returned by function after its call \n",
    "we can store this returned data in some variables and use or else we can make it part of expression like below "
   ]
  },
  {
   "cell_type": "code",
   "execution_count": 5,
   "metadata": {},
   "outputs": [
    {
     "name": "stdout",
     "output_type": "stream",
     "text": [
      "14\n"
     ]
    }
   ],
   "source": [
    "res = sqaure(2) + 10 #sqaure function declared above, returns int data \n",
    "print(res)"
   ]
  },
  {
   "cell_type": "markdown",
   "metadata": {},
   "source": [
    "8. If a function does not have a return statement, what is the return value of a call to that function?"
   ]
  },
  {
   "cell_type": "code",
   "execution_count": 8,
   "metadata": {},
   "outputs": [
    {
     "name": "stdout",
     "output_type": "stream",
     "text": [
      "Inside function\n",
      "None\n"
     ]
    }
   ],
   "source": [
    "a = function_name() # function returning nothing returns None data on call\n",
    "print(a)"
   ]
  },
  {
   "cell_type": "markdown",
   "metadata": {},
   "source": [
    "9. How can you force a variable in a function to refer to the global variable?"
   ]
  },
  {
   "cell_type": "code",
   "execution_count": 10,
   "metadata": {},
   "outputs": [
    {
     "name": "stdout",
     "output_type": "stream",
     "text": [
      "20\n"
     ]
    }
   ],
   "source": [
    "# we can use global keyword inside function to make use of global variable inside function\n",
    "# like this \n",
    "\n",
    "a = 10\n",
    "\n",
    "def increment():\n",
    "    global a \n",
    "    a += 10\n",
    "\n",
    "increment()\n",
    "print(a)"
   ]
  },
  {
   "cell_type": "markdown",
   "metadata": {},
   "source": [
    "10. What is the data type of None?"
   ]
  },
  {
   "cell_type": "code",
   "execution_count": 11,
   "metadata": {},
   "outputs": [
    {
     "data": {
      "text/plain": [
       "NoneType"
      ]
     },
     "execution_count": 11,
     "metadata": {},
     "output_type": "execute_result"
    }
   ],
   "source": [
    "type(None)  # data type of None is None only"
   ]
  },
  {
   "cell_type": "markdown",
   "metadata": {},
   "source": [
    "11. What does the import areallyourpetsnamederic statement do?"
   ]
  },
  {
   "cell_type": "markdown",
   "metadata": {},
   "source": [
    "by import areallyourpetsnamederic we are trying to include module \"areallyourpetsnamederic\"\n",
    "so that we can use function/class already defined in this module in current working module "
   ]
  },
  {
   "cell_type": "markdown",
   "metadata": {},
   "source": [
    "12. If you had a function named bacon() in a module named spam, how would you call it after importing spam?"
   ]
  },
  {
   "cell_type": "code",
   "execution_count": null,
   "metadata": {},
   "outputs": [],
   "source": [
    "# We can call it in this way \n",
    "\n",
    "import spam as sp\n",
    "sp.bacon()"
   ]
  },
  {
   "cell_type": "markdown",
   "metadata": {},
   "source": [
    "13. How can you prevent a program from crashing when it gets an error?"
   ]
  },
  {
   "cell_type": "code",
   "execution_count": 14,
   "metadata": {},
   "outputs": [
    {
     "name": "stdout",
     "output_type": "stream",
     "text": [
      "Starting Program\n",
      "division by zero\n",
      "Outside exception handling at the end...\n"
     ]
    }
   ],
   "source": [
    "# we can use exception handling in program to avoid crash like this \n",
    "\n",
    "print('Starting Program')\n",
    "try : \n",
    "    a = 12/0 # division by zero exception will be raised \n",
    "    print(a)\n",
    "except Exception as e:\n",
    "    print(e)\n",
    "\n",
    "print('Outside exception handling at the end...')"
   ]
  },
  {
   "cell_type": "markdown",
   "metadata": {},
   "source": [
    "14. What goes in the try clause? What goes in the except clause?"
   ]
  },
  {
   "cell_type": "markdown",
   "metadata": {},
   "source": [
    "Try: \n",
    "inside try clause we add code which may cause any type of exception during excecution of some scenarios."
   ]
  },
  {
   "cell_type": "markdown",
   "metadata": {},
   "source": [
    "Except:\n",
    "inside except clause we can handle different types of exceptions riased due to any statment of try block \n",
    "and put alternate code, error message /restrictions for users, error logging code, etc inside except."
   ]
  }
 ],
 "metadata": {
  "kernelspec": {
   "display_name": "Python 3",
   "language": "python",
   "name": "python3"
  },
  "language_info": {
   "codemirror_mode": {
    "name": "ipython",
    "version": 3
   },
   "file_extension": ".py",
   "mimetype": "text/x-python",
   "name": "python",
   "nbconvert_exporter": "python",
   "pygments_lexer": "ipython3",
   "version": "3.8.5"
  }
 },
 "nbformat": 4,
 "nbformat_minor": 4
}
