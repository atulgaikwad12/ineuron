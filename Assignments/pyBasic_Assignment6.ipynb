{
 "cells": [
  {
   "cell_type": "raw",
   "metadata": {},
   "source": [
    "# 1. What are escape characters?"
   ]
  },
  {
   "cell_type": "raw",
   "metadata": {},
   "source": [
    "In python backshlash \"\\\" is a one of the escape character \n",
    "Escape characters are basically used in python string to handle special character which may make string invalid.\n",
    "Like in a String enclosed with double qoutes if we want to add one more double qoute in middle of same string \n",
    "then this won't be valid \n",
    "as Python Intereprator will consider only half of the part of string as string and rest part as inproperly enclosed string \n",
    "Which all together will be a invalid string \n",
    "To handle such case we can add backshalsh before the double qoute\n",
    "\n",
    "\"\\\" is used before other characters to form different escape characters like\n",
    "\"\\n\"\n",
    "\"\\r\"\n",
    "\"\\t\""
   ]
  },
  {
   "cell_type": "code",
   "execution_count": 16,
   "metadata": {},
   "outputs": [
    {
     "name": "stdout",
     "output_type": "stream",
     "text": [
      " Hi this a \"Perfect\" example \n"
     ]
    }
   ],
   "source": [
    "print(\" Hi this a \\\"Perfect\\\" example \")"
   ]
  },
  {
   "cell_type": "markdown",
   "metadata": {},
   "source": [
    "Simillarly as single \"\\\" has its own significance inside string \n",
    "double \"\\\\\" helps to handle it as per need "
   ]
  },
  {
   "cell_type": "code",
   "execution_count": 8,
   "metadata": {},
   "outputs": [
    {
     "name": "stdout",
     "output_type": "stream",
     "text": [
      "Address of drive = c:\\ineuron\\Assignment\\\n"
     ]
    }
   ],
   "source": [
    "path = \"ineuron\\Assignment\"\n",
    "print(\"Address of drive = c:\\\\\"+path+\"\\\\\")"
   ]
  },
  {
   "cell_type": "raw",
   "metadata": {},
   "source": [
    "2. What do the \\n and \\t escape characters represent?"
   ]
  },
  {
   "cell_type": "code",
   "execution_count": 12,
   "metadata": {},
   "outputs": [
    {
     "name": "stdout",
     "output_type": "stream",
     "text": [
      "Hi !!\n",
      "Welcome to new line \n",
      "\n",
      "Hi !!\tHere after tab space \n"
     ]
    }
   ],
   "source": [
    "#\\n and \\t are also escape characters with different significance \n",
    "\n",
    "#\\n -> used for new line in string\n",
    "print(\"Hi !!\\n\"+\"Welcome to new line \\n\")\n",
    "\n",
    "#\\t -> used for tab space in string \n",
    "print(\"Hi !!\\t\"+\"Here after tab space \")"
   ]
  },
  {
   "cell_type": "raw",
   "metadata": {},
   "source": [
    "3. How can you put a \\ backslash character in a string?"
   ]
  },
  {
   "cell_type": "code",
   "execution_count": 14,
   "metadata": {},
   "outputs": [
    {
     "name": "stdout",
     "output_type": "stream",
     "text": [
      "Address of drive = c:\\ineuron\\Assignment\\\n"
     ]
    }
   ],
   "source": [
    "# as single \"\\\" has its own significance inside string will use double \"\\\\\" escape character here \n",
    "\n",
    "path = \"ineuron\\Assignment\"\n",
    "print(\"Address of drive = c:\\\\\"+path+\"\\\\\")"
   ]
  },
  {
   "cell_type": "raw",
   "metadata": {},
   "source": [
    "4. The string value \"Howl's Moving Castle\" is a valid string. Why isn’t it a problem that the single quote character in the word Howl's isn’t escaped?"
   ]
  },
  {
   "cell_type": "raw",
   "metadata": {},
   "source": [
    "Here the main string is enclosed within double quotes so writing single qoute in middle of the string won't make it invalid\n",
    "as python interepretor will be able to recognize whole string correclty with the help of double quotes\n",
    "Hence no need of escape character here"
   ]
  },
  {
   "cell_type": "code",
   "execution_count": 15,
   "metadata": {},
   "outputs": [
    {
     "name": "stdout",
     "output_type": "stream",
     "text": [
      "Howl's Moving Castle\n"
     ]
    }
   ],
   "source": [
    "print(\"Howl's Moving Castle\")"
   ]
  },
  {
   "cell_type": "code",
   "execution_count": null,
   "metadata": {},
   "outputs": [],
   "source": [
    "5. If you don’t want to put \\n in your string, how can you write a string with newlines in it?"
   ]
  },
  {
   "cell_type": "code",
   "execution_count": 25,
   "metadata": {},
   "outputs": [
    {
     "name": "stdout",
     "output_type": "stream",
     "text": [
      "Hi !!\n",
      "New line \n",
      "Last line\n"
     ]
    }
   ],
   "source": [
    "# We can use triple qoutes to have newlines in a string \n",
    "s = \"\"\"Hi !!\n",
    "New line \n",
    "Last line\"\"\"\n",
    "\n",
    "print(s)"
   ]
  },
  {
   "cell_type": "markdown",
   "metadata": {},
   "source": [
    "6. What do the following expressions evaluate to?\n",
    "\n",
    "'Hello, world!'[1]\n",
    "'Hello, world!'[0:5]\n",
    "'Hello, world!'[:5]\n",
    "'Hello, world!'[3:]"
   ]
  },
  {
   "cell_type": "code",
   "execution_count": 27,
   "metadata": {},
   "outputs": [
    {
     "name": "stdout",
     "output_type": "stream",
     "text": [
      "e\n",
      "Hello\n",
      "Hello\n",
      "lo, world!\n"
     ]
    }
   ],
   "source": [
    "# Here Slicing a string using index\n",
    "\n",
    "print('Hello, world!'[1])  # Will return character at index 1 \n",
    "print('Hello, world!'[0:5]) # will return all characters from 0 to 4th index \n",
    "print('Hello, world!'[:5]) # will return all character from begining till index 4\n",
    "print('Hello, world!'[3:]) # will return all character starting from index 3 till end "
   ]
  },
  {
   "cell_type": "raw",
   "metadata": {},
   "source": [
    "7. What do the following expressions evaluate to?\n",
    "\n",
    "'Hello'.upper()\n",
    "'Hello'.upper().isupper()\n",
    "'Hello'.upper().lower()"
   ]
  },
  {
   "cell_type": "code",
   "execution_count": 29,
   "metadata": {},
   "outputs": [
    {
     "name": "stdout",
     "output_type": "stream",
     "text": [
      "HELLO\n",
      "True\n",
      "hello\n"
     ]
    }
   ],
   "source": [
    "# upper() function returns all characters of string in their upper case irrespective of their current case\n",
    "print('Hello'.upper()) # so here all letters will be print in upper case\n",
    "\n",
    "# isupper will return True if all characters of string are in upper case \n",
    "# here upper case converted string is checked with isupper() so it will print True\n",
    "print('Hello'.upper().isupper()) \n",
    "\n",
    "# lower() function returns all characters of string in their lower case irrespective of their current case\n",
    "print('Hello'.upper().lower())"
   ]
  },
  {
   "cell_type": "markdown",
   "metadata": {},
   "source": [
    "8. What do the following expressions evaluate to?\n",
    "\n",
    "'Remember, remember, the fifth of November.'.split()\n",
    "'-'.join('There can be only one.'.split())"
   ]
  },
  {
   "cell_type": "code",
   "execution_count": 33,
   "metadata": {},
   "outputs": [
    {
     "data": {
      "text/plain": [
       "['Remember,', 'remember,', 'the', 'fifth', 'of', 'November.']"
      ]
     },
     "execution_count": 33,
     "metadata": {},
     "output_type": "execute_result"
    }
   ],
   "source": [
    "# Here string is getting split into a list of substrings by considering whitespace as delimiter \n",
    "\n",
    "'Remember, remember, the fifth of November.'.split()"
   ]
  },
  {
   "cell_type": "code",
   "execution_count": 34,
   "metadata": {},
   "outputs": [
    {
     "data": {
      "text/plain": [
       "'There-can-be-only-one.'"
      ]
     },
     "execution_count": 34,
     "metadata": {},
     "output_type": "execute_result"
    }
   ],
   "source": [
    "# Here first string is getting split in a list of substring and then joined using '-' character \n",
    "# join() function allows us to join iterable elements of data type string with specific delimiter \n",
    "\n",
    "'-'.join('There can be only one.'.split())"
   ]
  },
  {
   "cell_type": "markdown",
   "metadata": {},
   "source": [
    "9. What string methods can you use to right-justify, left-justify, and center a string?"
   ]
  },
  {
   "cell_type": "code",
   "execution_count": 58,
   "metadata": {},
   "outputs": [
    {
     "name": "stdout",
     "output_type": "stream",
     "text": [
      "25\n"
     ]
    }
   ],
   "source": [
    "s = \"Python Basic Assignment 6\"\n",
    "print(len(s))"
   ]
  },
  {
   "cell_type": "code",
   "execution_count": 64,
   "metadata": {},
   "outputs": [
    {
     "name": "stdout",
     "output_type": "stream",
     "text": [
      "This is a Right aligned string with No filler char\n"
     ]
    },
    {
     "data": {
      "text/plain": [
       "'     Python Basic Assignment 6'"
      ]
     },
     "execution_count": 64,
     "metadata": {},
     "output_type": "execute_result"
    }
   ],
   "source": [
    "# right-justify string considering total length as 30 that means string will be aligned to right keeping \n",
    "# padding of 30-len(string) i.e 30-25=5 in left\n",
    "print(\"This is a Right aligned string with No filler char\")\n",
    "s.rjust(30)"
   ]
  },
  {
   "cell_type": "code",
   "execution_count": 65,
   "metadata": {},
   "outputs": [
    {
     "name": "stdout",
     "output_type": "stream",
     "text": [
      "This is a Left aligned string with filler char (+)\n"
     ]
    },
    {
     "data": {
      "text/plain": [
       "'Python Basic Assignment 6+++++'"
      ]
     },
     "execution_count": 65,
     "metadata": {},
     "output_type": "execute_result"
    }
   ],
   "source": [
    "# simmillarly left-justify will align string to left side keeping padding in right \n",
    "# here filler character is also passed to fill total padding \n",
    "\n",
    "print(\"This is a Left aligned string with filler char (+)\")\n",
    "s.ljust(30,'+')"
   ]
  },
  {
   "cell_type": "code",
   "execution_count": 66,
   "metadata": {},
   "outputs": [
    {
     "name": "stdout",
     "output_type": "stream",
     "text": [
      "This is a Center aligned string with filler char as (*)\n",
      "*******Python Basic Assignment 6********\n"
     ]
    }
   ],
   "source": [
    "# Center will keep string in Center by trying to achieve equal padding in both right and left side of string \n",
    "# Here total padding is 40-25=15, so center() has kept 7 char padding on left and 8 char padding on right \n",
    "# and filler is *\n",
    "\n",
    "print(\"This is a Center aligned string with filler char as (*)\")\n",
    "print(s.center(40,\"*\"))"
   ]
  },
  {
   "cell_type": "markdown",
   "metadata": {},
   "source": [
    "10. How can you trim whitespace characters from the beginning or end of a string?"
   ]
  },
  {
   "cell_type": "code",
   "execution_count": 69,
   "metadata": {},
   "outputs": [
    {
     "name": "stdout",
     "output_type": "stream",
     "text": [
      "   string before trim\n",
      "string after trim\n"
     ]
    }
   ],
   "source": [
    "# To trim whitespace we have strip() function which removes whitespace from both beginning and end of string \n",
    "\n",
    "# But to trim whitespace from beginning of string i.e from left side we can use lstrip()\n",
    "print('   string before trim')\n",
    "print('   string after trim'.lstrip())"
   ]
  },
  {
   "cell_type": "code",
   "execution_count": 76,
   "metadata": {},
   "outputs": [
    {
     "name": "stdout",
     "output_type": "stream",
     "text": [
      "string before trim###\n",
      "string after trim\n"
     ]
    }
   ],
   "source": [
    "#To trim whitespace from end of string i.e from right side we can use rstrip()\n",
    "# By default whitespace is beign trimed but we can also trim specific character from string like below \n",
    "print('string before trim###')\n",
    "print('string after trim###'.rstrip('#'))"
   ]
  },
  {
   "cell_type": "code",
   "execution_count": null,
   "metadata": {},
   "outputs": [],
   "source": []
  }
 ],
 "metadata": {
  "kernelspec": {
   "display_name": "Python 3",
   "language": "python",
   "name": "python3"
  },
  "language_info": {
   "codemirror_mode": {
    "name": "ipython",
    "version": 3
   },
   "file_extension": ".py",
   "mimetype": "text/x-python",
   "name": "python",
   "nbconvert_exporter": "python",
   "pygments_lexer": "ipython3",
   "version": "3.8.5"
  }
 },
 "nbformat": 4,
 "nbformat_minor": 4
}
