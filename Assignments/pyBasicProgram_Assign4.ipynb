{
 "cells": [
  {
   "cell_type": "code",
   "execution_count": 6,
   "metadata": {},
   "outputs": [
    {
     "name": "stdout",
     "output_type": "stream",
     "text": [
      "Enter a number- 4\n",
      "Factorial of a number 4 is= 24\n"
     ]
    }
   ],
   "source": [
    "# 1. To find factorial of a number \n",
    "\n",
    "num = int(input('Enter a number- '))\n",
    "n =num\n",
    "fact = 1\n",
    "while(n > 0):\n",
    "    fact = fact * n\n",
    "    n-=1\n",
    "    \n",
    "print('Factorial of a number',num, 'is=',fact)"
   ]
  },
  {
   "cell_type": "code",
   "execution_count": 7,
   "metadata": {},
   "outputs": [
    {
     "name": "stdout",
     "output_type": "stream",
     "text": [
      "Enter a number- 5\n",
      "5 x 1 = 5\n",
      "5 x 2 = 10\n",
      "5 x 3 = 15\n",
      "5 x 4 = 20\n",
      "5 x 5 = 25\n",
      "5 x 6 = 30\n",
      "5 x 7 = 35\n",
      "5 x 8 = 40\n",
      "5 x 9 = 45\n",
      "5 x 10 = 50\n"
     ]
    }
   ],
   "source": [
    "# 2. Display multiplication table\n",
    "\n",
    "num = int(input('Enter a number- '))\n",
    "\n",
    "for i in range(1,11):\n",
    "    print(num,'x',i,'=',num*i)"
   ]
  },
  {
   "cell_type": "code",
   "execution_count": 26,
   "metadata": {},
   "outputs": [
    {
     "name": "stdout",
     "output_type": "stream",
     "text": [
      "Enter desired lenght of fibonacci sequence- 10\n",
      "Fibonacci Sequence \n",
      "0 1 1 2 3 5 8 13 21 34 "
     ]
    }
   ],
   "source": [
    "# 3. To print fibonacci sequence\n",
    "\n",
    "mx = int(input('Enter desired lenght of fibonacci sequence- '))   \n",
    "a=0\n",
    "b=1\n",
    "print('Fibonacci Sequence \\r')\n",
    "for i in range(1,mx+1):\n",
    "    if(i == 1):\n",
    "        print(a,end=\" \")\n",
    "    elif(i == 2):\n",
    "        print(b,end=\" \")\n",
    "    else:\n",
    "        print(a+b,end=\" \")\n",
    "        temp=b\n",
    "        b=a+b\n",
    "        a=temp"
   ]
  },
  {
   "cell_type": "code",
   "execution_count": 25,
   "metadata": {},
   "outputs": [
    {
     "name": "stdout",
     "output_type": "stream",
     "text": [
      "Enter a number- 153\n",
      "Sum of cubes of all digits of number is  153\n",
      "Entered number 153 is Armstrong number\n"
     ]
    }
   ],
   "source": [
    "# 4. To check Armstrong Number\n",
    "\n",
    "num = int(input('Enter a number- '))\n",
    "n =num\n",
    "s = 0\n",
    "while(n > 0):\n",
    "    d = n%10\n",
    "    s = s +  (d*d*d) \n",
    "    n = n//10\n",
    "    \n",
    "print('Sum of cubes of all digits of number is ',s)\n",
    "if(num == s):\n",
    "    print('Entered number',num,'is Armstrong number')\n",
    "else:\n",
    "    print('Entered number',num,'is not Armstrong number')\n",
    "    "
   ]
  },
  {
   "cell_type": "code",
   "execution_count": 32,
   "metadata": {},
   "outputs": [
    {
     "name": "stdout",
     "output_type": "stream",
     "text": [
      "Enter limit of interval- 500\n",
      "Armstrong numbers of interval 0 to 500 \n",
      "0 1 153 370 371 407 "
     ]
    }
   ],
   "source": [
    "# 5. Armstrong numbers in an interval\n",
    "\n",
    "limit = int(input('Enter limit of interval- '))   \n",
    "print('Armstrong numbers of interval 0 to',limit,'\\r')\n",
    "for i in range(0,limit+1):\n",
    "    s = 0\n",
    "    n=i\n",
    "    while(n > 0): \n",
    "        d = n%10\n",
    "        s = s +  (d*d*d) \n",
    "        n = n//10\n",
    "        \n",
    "    if(i == s):\n",
    "        print(i,end=\" \")\n",
    "    else:\n",
    "        continue\n",
    "    "
   ]
  },
  {
   "cell_type": "code",
   "execution_count": 35,
   "metadata": {},
   "outputs": [
    {
     "name": "stdout",
     "output_type": "stream",
     "text": [
      "Enter max natural number - 10\n",
      "Sum of natural numbers from 1 to 10 is= 55\n"
     ]
    }
   ],
   "source": [
    "# 6. Sum of Natural numbers\n",
    "\n",
    "limit = int(input('Enter max natural number - '))  \n",
    "s = sum([x for x in range(1,limit+1)])\n",
    "print('Sum of natural numbers from 1 to',limit,'is=',s)"
   ]
  },
  {
   "cell_type": "code",
   "execution_count": null,
   "metadata": {},
   "outputs": [],
   "source": []
  }
 ],
 "metadata": {
  "kernelspec": {
   "display_name": "Python 3",
   "language": "python",
   "name": "python3"
  },
  "language_info": {
   "codemirror_mode": {
    "name": "ipython",
    "version": 3
   },
   "file_extension": ".py",
   "mimetype": "text/x-python",
   "name": "python",
   "nbconvert_exporter": "python",
   "pygments_lexer": "ipython3",
   "version": "3.8.5"
  }
 },
 "nbformat": 4,
 "nbformat_minor": 4
}
