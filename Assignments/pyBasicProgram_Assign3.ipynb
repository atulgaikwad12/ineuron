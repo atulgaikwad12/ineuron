{
 "cells": [
  {
   "cell_type": "code",
   "execution_count": 1,
   "metadata": {},
   "outputs": [
    {
     "name": "stdout",
     "output_type": "stream",
     "text": [
      "Enter number -39\n",
      "number is negative\n"
     ]
    }
   ],
   "source": [
    "#1. To check if number is postive,negative or zero\n",
    "\n",
    "num = int(input('Enter number '))\n",
    "\n",
    "if(num>0):\n",
    "    print('number is postive')\n",
    "elif(num<0):\n",
    "    print('number is negative')\n",
    "else:\n",
    "    print('number is zero')"
   ]
  },
  {
   "cell_type": "code",
   "execution_count": 2,
   "metadata": {},
   "outputs": [
    {
     "name": "stdout",
     "output_type": "stream",
     "text": [
      "Enter number 3\n",
      "number is odd\n"
     ]
    }
   ],
   "source": [
    "#2. To check if number is even or odd\n",
    "\n",
    "num = int(input('Enter number '))\n",
    "\n",
    "if(num%2 == 0):\n",
    "    print('number is even')\n",
    "else:\n",
    "    print('number is odd')"
   ]
  },
  {
   "cell_type": "code",
   "execution_count": 13,
   "metadata": {},
   "outputs": [
    {
     "name": "stdout",
     "output_type": "stream",
     "text": [
      "Enter year (yyyy) 2021\n",
      "2021  is a Non Leap Year\n"
     ]
    }
   ],
   "source": [
    "#3. To check Leap year\n",
    "\n",
    "y = int(input('Enter year (yyyy) '))\n",
    "\n",
    "# Leap year is a multiple of 4 but if it is a century year then it also, must be multiple of 400\n",
    "if((y % 100 == 0 and y % 400 == 0) or (y%100 !=0 and y%4==0)):\n",
    "    print(y,' is a Leap Year')\n",
    "else:\n",
    "    print(y,' is a Non Leap Year')"
   ]
  },
  {
   "cell_type": "code",
   "execution_count": 33,
   "metadata": {},
   "outputs": [
    {
     "name": "stdout",
     "output_type": "stream",
     "text": [
      "Enter number 17\n",
      "17 is a prime number\n"
     ]
    }
   ],
   "source": [
    "#4. To check Prime number\n",
    "\n",
    "num = int(input('Enter number '))\n",
    "\n",
    "if(num >1):\n",
    "    i = 2\n",
    "    while (i<num):\n",
    "        if(num%i == 0):\n",
    "            break\n",
    "        i+=1\n",
    "        \n",
    "if(num==0 or num==1):\n",
    "    print(num,'is neither prime nor composite')\n",
    "elif(i == num):\n",
    "    print(num,'is a prime number')\n",
    "else:\n",
    "    print(num,'is a non prime number')"
   ]
  },
  {
   "cell_type": "code",
   "execution_count": 34,
   "metadata": {},
   "outputs": [
    {
     "name": "stdout",
     "output_type": "stream",
     "text": [
      "1, 2, 3, 5, 7, 11, 13, 17, 19, 23, 29, 31, 37, 41, 43, 47, 53, 59, 61, 67, 71, 73, 79, 83, 89, 97, 101, 103, 107, 109, 113, 127, 131, 137, 139, 149, 151, 157, 163, 167, 173, 179, 181, 191, 193, 197, 199, 211, 223, 227, 229, 233, 239, 241, 251, 257, 263, 269, 271, 277, 281, 283, 293, 307, 311, 313, 317, 331, 337, 347, 349, 353, 359, 367, 373, 379, 383, 389, 397, 401, 409, 419, 421, 431, 433, 439, 443, 449, 457, 461, 463, 467, 479, 487, 491, 499, 503, 509, 521, 523, 541, 547, 557, 563, 569, 571, 577, 587, 593, 599, 601, 607, 613, 617, 619, 631, 641, 643, 647, 653, 659, 661, 673, 677, 683, 691, 701, 709, 719, 727, 733, 739, 743, 751, 757, 761, 769, 773, 787, 797, 809, 811, 821, 823, 827, 829, 839, 853, 857, 859, 863, 877, 881, 883, 887, 907, 911, 919, 929, 937, 941, 947, 953, 967, 971, 977, 983, 991, 997, "
     ]
    }
   ],
   "source": [
    "#5. Print all prime number in an interval of 1-10000\n",
    "\n",
    "for n in range(1,1001):\n",
    "    isPrime =True\n",
    "    for i in range(2,n):\n",
    "        if(n%i == 0):\n",
    "            isPrime = False\n",
    "            break\n",
    "        \n",
    "    if(isPrime):\n",
    "        print(n,end=\", \")"
   ]
  },
  {
   "cell_type": "code",
   "execution_count": null,
   "metadata": {},
   "outputs": [],
   "source": []
  }
 ],
 "metadata": {
  "kernelspec": {
   "display_name": "Python 3",
   "language": "python",
   "name": "python3"
  },
  "language_info": {
   "codemirror_mode": {
    "name": "ipython",
    "version": 3
   },
   "file_extension": ".py",
   "mimetype": "text/x-python",
   "name": "python",
   "nbconvert_exporter": "python",
   "pygments_lexer": "ipython3",
   "version": "3.8.5"
  }
 },
 "nbformat": 4,
 "nbformat_minor": 4
}
