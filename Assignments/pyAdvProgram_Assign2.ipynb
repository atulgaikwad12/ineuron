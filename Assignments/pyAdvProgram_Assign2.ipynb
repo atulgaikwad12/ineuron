{
 "cells": [
  {
   "cell_type": "markdown",
   "metadata": {},
   "source": [
    "Q1 Write a function that takes a positive integer num and calculates how many\n",
    "dots exist in a pentagonal shape around the center dot on the Nth iteration.\n",
    "In the image below you can see the first iteration is only a single dot. On the\n",
    "second, there are 6 dots. On the third, there are 16 dots, and on the fourth\n",
    "there are 31 dots.\n",
    "Return the number of dots that exist in the whole pentagon on the Nth iteration.\n",
    "Examples\n",
    "pentagonal(1) ➞ 1\n",
    "pentagonal(2) ➞ 6\n",
    "pentagonal(3) ➞ 16\n",
    "pentagonal(8) ➞ 141"
   ]
  },
  {
   "cell_type": "code",
   "execution_count": 25,
   "metadata": {},
   "outputs": [],
   "source": [
    "def pentagonal(nInter):\n",
    "    dots = 0\n",
    "    if nInter >= 1:\n",
    "        dots = 1 # in interation >=1 there will be atleast one dot \n",
    "    # calcuating dots for each iteration >1\n",
    "    for i in range(1,nInter):\n",
    "        dots += 5 * (i) # 5 as penatagon has five sides\n",
    "        #each side of each iteration will have nth interation-1 dots\n",
    "        \n",
    "    return dots"
   ]
  },
  {
   "cell_type": "code",
   "execution_count": 31,
   "metadata": {},
   "outputs": [
    {
     "name": "stdout",
     "output_type": "stream",
     "text": [
      "Enter positive number of interation :4\n"
     ]
    },
    {
     "data": {
      "text/plain": [
       "31"
      ]
     },
     "execution_count": 31,
     "metadata": {},
     "output_type": "execute_result"
    }
   ],
   "source": [
    "pentagonal(int(input(\"Enter positive number of interation :\")))"
   ]
  },
  {
   "cell_type": "markdown",
   "metadata": {},
   "source": [
    "Q2 Make a function that encrypts a given input with these steps:\n",
    "Input: \"apple\";\n",
    "Step 1: Reverse the input: \"elppa\";\n",
    "Step 2: Replace all vowels using the following chart:\n",
    "a => 0\n",
    "e => 1\n",
    "i => 2\n",
    "o => 2\n",
    "u => 3\n",
    "#\"1lpp0\";\n",
    "\n",
    "Step 3: Add \"aca\"; to the end of the word: \"1lpp0aca\";\n",
    "Output: \"1lpp0aca\";\n",
    "Examples\n",
    "encrypt(\"banana\") ➞ \"0n0n0baca\";\n",
    "encrypt(\"karaca\") ➞ \"0c0r0kaca\";\n",
    "encrypt(\"burak\") ➞ \"k0r3baca\";\n",
    "encrypt(\"alpaca\") ➞ \"0c0pl0aca\";"
   ]
  },
  {
   "cell_type": "code",
   "execution_count": 46,
   "metadata": {},
   "outputs": [],
   "source": [
    "def encrypt(istr):\n",
    "    vowel_dict = {\n",
    "    \"a\" : \"0\",\n",
    "    \"e\" : \"1\",\n",
    "    \"i\" : \"2\",\n",
    "    \"o\" : \"2\",\n",
    "    \"u\" : \"3\"}\n",
    "    #step1\n",
    "    istr = istr[-1::-1] # reversal\n",
    "    \n",
    "    #step2\n",
    "    for keys in vowel_dict:\n",
    "        istr = istr.replace(keys,vowel_dict[keys])\n",
    "    \n",
    "    #step3\n",
    "    istr = istr + \"aca\"\n",
    "    \n",
    "    return istr"
   ]
  },
  {
   "cell_type": "code",
   "execution_count": 47,
   "metadata": {},
   "outputs": [
    {
     "name": "stdout",
     "output_type": "stream",
     "text": [
      "0n0n0baca\n",
      "0c0r0kaca\n",
      "k0r3baca\n",
      "0c0pl0aca\n"
     ]
    }
   ],
   "source": [
    "print(encrypt(\"banana\")) # \"0n0n0baca\";\n",
    "print(encrypt(\"karaca\")) # \"0c0r0kaca\";\n",
    "print(encrypt(\"burak\")) # \"k0r3baca\";\n",
    "print(encrypt(\"alpaca\")) # \"0c0pl0aca\";"
   ]
  },
  {
   "cell_type": "markdown",
   "metadata": {},
   "source": [
    "Q3 Given the month and year as numbers, return whether that month contains\n",
    "a Friday 13th.(i.e You can check Python&#39;s datetime module)\n",
    "Examples\n",
    "has_friday_13(3, 2020) ➞ True\n",
    "has_friday_13(10, 2017) ➞ True\n",
    "has_friday_13(1, 1985) ➞ False"
   ]
  },
  {
   "cell_type": "code",
   "execution_count": 60,
   "metadata": {},
   "outputs": [],
   "source": [
    "from datetime import date\n",
    " \n",
    "def has_friday_13(month,year):\n",
    "    idate = date(year, month, 13)\n",
    "    print(\"Checking for Date....\", idate)\n",
    "    #Monday == 0 ... Sunday == 6, Means Friday == 4\n",
    "    if(my_date.weekday() == 4):\n",
    "        return True\n",
    "    else: return False"
   ]
  },
  {
   "cell_type": "code",
   "execution_count": 61,
   "metadata": {},
   "outputs": [
    {
     "name": "stdout",
     "output_type": "stream",
     "text": [
      "Checking for Date.... 2020-03-13\n",
      "has friday on 13 => False\n",
      "\n",
      "Checking for Date.... 2017-10-13\n",
      "has friday on 13 => False\n",
      "\n",
      "Checking for Date.... 1985-01-13\n",
      "has friday on 13 => False\n",
      "\n"
     ]
    }
   ],
   "source": [
    "print(f'has friday on 13 => {has_friday_13(3,2020)}\\n')\n",
    "print(f'has friday on 13 => {has_friday_13(10,2017)}\\n')\n",
    "print(f'has friday on 13 => {has_friday_13(1,1985)}\\n')"
   ]
  },
  {
   "cell_type": "markdown",
   "metadata": {},
   "source": [
    "Q4 Write a regular expression that will help us count how many bad cookies\n",
    "are produced every day. You must use RegEx negative lookbehind.\n",
    "Example\n",
    "lst = [\"bad cookie\", \"good cookie\", \"bad cookie\", \"good cookie\", \"good cookie\"]\n",
    "pattern = \"yourregularexpressionhere\"\n",
    "len(re.findall(pattern, \", \".join(lst))) ➞ 2"
   ]
  },
  {
   "cell_type": "code",
   "execution_count": 66,
   "metadata": {},
   "outputs": [
    {
     "data": {
      "text/plain": [
       "'bad cookie, good cookie, bad cookie, good cookie, good cookie'"
      ]
     },
     "execution_count": 66,
     "metadata": {},
     "output_type": "execute_result"
    }
   ],
   "source": [
    "\", \".join(lst)"
   ]
  },
  {
   "cell_type": "code",
   "execution_count": 73,
   "metadata": {},
   "outputs": [
    {
     "data": {
      "text/plain": [
       "['cookie', 'cookie']"
      ]
     },
     "execution_count": 73,
     "metadata": {},
     "output_type": "execute_result"
    }
   ],
   "source": [
    "# (?<=y)x RegEx Positive lookbehind.\n",
    "# (?<!x)y RegEx Negative lookbehind.\n",
    "\n",
    "import re\n",
    "re.findall(\"(?<!good )cookie\", \", \".join(lst))"
   ]
  },
  {
   "cell_type": "code",
   "execution_count": 74,
   "metadata": {},
   "outputs": [
    {
     "data": {
      "text/plain": [
       "2"
      ]
     },
     "execution_count": 74,
     "metadata": {},
     "output_type": "execute_result"
    }
   ],
   "source": [
    "import re\n",
    "lst = [\"bad cookie\", \"good cookie\", \"bad cookie\", \"good cookie\", \"good cookie\"]\n",
    "pattern = \"(?<!good )cookie\"\n",
    "len(re.findall(pattern, \", \".join(lst))) "
   ]
  },
  {
   "cell_type": "markdown",
   "metadata": {},
   "source": [
    "Q5 Given a list of words in the singular form, return a set of those words in the\n",
    "plural form if they appear more than once in the list.\n",
    "Examples\n",
    "pluralize([\"cow\", \"pig\", \"cow\", \"cow\"]) ➞ { \"cows\", \"pig\" }\n",
    "pluralize([\"table\", \"table\", \"table\"]) ➞ { \"tables\" }\n",
    "\n",
    "pluralize([\"chair\", \"pencil\", \"arm\"]) ➞ { \"chair\", \"pencil\", \"arm\" }"
   ]
  },
  {
   "cell_type": "code",
   "execution_count": 80,
   "metadata": {},
   "outputs": [
    {
     "data": {
      "text/plain": [
       "3"
      ]
     },
     "execution_count": 80,
     "metadata": {},
     "output_type": "execute_result"
    }
   ],
   "source": [
    "lst = [\"cow\", \"pig\", \"cow\", \"cow\"]\n",
    "lst.count(\"cow\")"
   ]
  },
  {
   "cell_type": "code",
   "execution_count": 87,
   "metadata": {},
   "outputs": [],
   "source": [
    "def pluralize(lst):\n",
    "    res = []\n",
    "    for s in lst:\n",
    "        if(lst.count(s) > 1):\n",
    "            s = s + 's' \n",
    "        res.append(s)\n",
    "    return set(res)"
   ]
  },
  {
   "cell_type": "code",
   "execution_count": 88,
   "metadata": {},
   "outputs": [
    {
     "name": "stdout",
     "output_type": "stream",
     "text": [
      "{'cows', 'pig'}\n",
      "{'tables'}\n",
      "{'arm', 'pencil', 'chair'}\n"
     ]
    }
   ],
   "source": [
    "print(pluralize([\"cow\", \"pig\", \"cow\", \"cow\"]))\n",
    "print(pluralize([\"table\", \"table\", \"table\"]))\n",
    "print(pluralize([\"chair\", \"pencil\", \"arm\"]))"
   ]
  }
 ],
 "metadata": {
  "kernelspec": {
   "display_name": "Python 3",
   "language": "python",
   "name": "python3"
  },
  "language_info": {
   "codemirror_mode": {
    "name": "ipython",
    "version": 3
   },
   "file_extension": ".py",
   "mimetype": "text/x-python",
   "name": "python",
   "nbconvert_exporter": "python",
   "pygments_lexer": "ipython3",
   "version": "3.8.5"
  }
 },
 "nbformat": 4,
 "nbformat_minor": 4
}
