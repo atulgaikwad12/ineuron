{
 "cells": [
  {
   "cell_type": "markdown",
   "metadata": {},
   "source": [
    "Q1 Write a Python Program to Display Fibonacci Sequence Using Recursion?"
   ]
  },
  {
   "cell_type": "code",
   "execution_count": 9,
   "metadata": {},
   "outputs": [
    {
     "name": "stdout",
     "output_type": "stream",
     "text": [
      "Enter Max Number for Fibonacci Sequence 20\n",
      "[0, 1, 1, 2, 3, 5, 8, 13]\n"
     ]
    }
   ],
   "source": [
    "limit = int(input(\"Enter Max Number for Fibonacci Sequence \"))\n",
    "lst = list()\n",
    "def fibonacci(x,y):   \n",
    "    if(x <= limit):\n",
    "        lst.append(x)\n",
    "        return fibonacci(y,x+y)\n",
    "\n",
    "fibonacci(0,1)\n",
    "print(lst)"
   ]
  },
  {
   "cell_type": "markdown",
   "metadata": {},
   "source": [
    "Q2 Write a Python Program to Find Factorial of Number Using Recursion?"
   ]
  },
  {
   "cell_type": "code",
   "execution_count": 13,
   "metadata": {},
   "outputs": [
    {
     "name": "stdout",
     "output_type": "stream",
     "text": [
      "Enter Number for Factorial 4\n",
      "factorial is  24\n"
     ]
    }
   ],
   "source": [
    "num = int(input(\"Enter Number for Factorial \"))\n",
    "\n",
    "def factorial(num):\n",
    "    \n",
    "    if(num >1):\n",
    "        return num * factorial(num-1)\n",
    "    else:\n",
    "        return 1\n",
    "    \n",
    "print('factorial is ',factorial(num))"
   ]
  },
  {
   "cell_type": "code",
   "execution_count": null,
   "metadata": {},
   "outputs": [],
   "source": [
    "Q3 Write a Python Program to calculate your Body Mass Index?"
   ]
  },
  {
   "cell_type": "code",
   "execution_count": 21,
   "metadata": {},
   "outputs": [
    {
     "name": "stdout",
     "output_type": "stream",
     "text": [
      "Enter your weight in kg 65\n",
      "Enter your height in m 1.8034\n",
      "Your BMI is  19.98615383860405 and it comes in healthy range\n"
     ]
    }
   ],
   "source": [
    "weight = float(input(\"Enter your weight in kg \"))\n",
    "height = float(input(\"Enter your height in m \"))\n",
    "\n",
    "bmIndex =  weight/(height ** 2)\n",
    "\n",
    "print(\"Your BMI is \",bmIndex,end=\"\" )\n",
    "\n",
    "if(bmIndex >= 25):\n",
    "    print(\" and it comes in OverWeight range\")  \n",
    "elif(bmIndex < 25 and bmIndex >= 18.5):\n",
    "    print(\" and it comes in healthy range\")\n",
    "else:\n",
    "    print(\" and it comes in UnderWeight range\")"
   ]
  },
  {
   "cell_type": "markdown",
   "metadata": {},
   "source": [
    "Q4 Write a Python Program to calculate the natural logarithm of any number?"
   ]
  },
  {
   "cell_type": "code",
   "execution_count": 22,
   "metadata": {},
   "outputs": [],
   "source": [
    "import math\n",
    "#math.log?"
   ]
  },
  {
   "cell_type": "code",
   "execution_count": 25,
   "metadata": {},
   "outputs": [
    {
     "name": "stdout",
     "output_type": "stream",
     "text": [
      "Enter number 10\n",
      "ln(10)= 2.302585092994046\n"
     ]
    }
   ],
   "source": [
    "num = int(input(\"Enter number \"))\n",
    "print('ln('+str(num)+ ')= ' + str(math.log(num)))"
   ]
  },
  {
   "cell_type": "markdown",
   "metadata": {},
   "source": [
    "Q5 Write a Python Program for cube sum of first n natural numbers?"
   ]
  },
  {
   "cell_type": "code",
   "execution_count": 33,
   "metadata": {},
   "outputs": [
    {
     "name": "stdout",
     "output_type": "stream",
     "text": [
      "Enter n 4\n",
      "cube sum of first 4 natural numbers is 100\n"
     ]
    }
   ],
   "source": [
    "n = int(input(\"Enter n \"))\n",
    "\n",
    "def cubesum(n):    \n",
    "    if(n > 1):\n",
    "        return (n ** 3) + cubesum(n-1)\n",
    "    else:\n",
    "        return 1\n",
    "\n",
    "s = cubesum(n)\n",
    "\n",
    "print('cube sum of first '+str(n) + ' natural numbers is', str(s))"
   ]
  }
 ],
 "metadata": {
  "kernelspec": {
   "display_name": "Python 3",
   "language": "python",
   "name": "python3"
  },
  "language_info": {
   "codemirror_mode": {
    "name": "ipython",
    "version": 3
   },
   "file_extension": ".py",
   "mimetype": "text/x-python",
   "name": "python",
   "nbconvert_exporter": "python",
   "pygments_lexer": "ipython3",
   "version": "3.8.5"
  }
 },
 "nbformat": 4,
 "nbformat_minor": 4
}
