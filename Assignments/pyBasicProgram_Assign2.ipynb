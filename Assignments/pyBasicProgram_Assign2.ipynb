{
 "cells": [
  {
   "cell_type": "code",
   "execution_count": 3,
   "metadata": {},
   "outputs": [
    {
     "name": "stdout",
     "output_type": "stream",
     "text": [
      "Enter KM to covert-2\n",
      "2  km = 1.24 mile\n"
     ]
    }
   ],
   "source": [
    "#1. To convert Km to Miles\n",
    "\n",
    "km = int(input('Enter KM to covert-'))\n",
    "# 1.609 km = 1 mile\n",
    "miles = round(km/1.609,2)\n",
    "print(km,' km =',miles,'mile')"
   ]
  },
  {
   "cell_type": "code",
   "execution_count": 6,
   "metadata": {},
   "outputs": [
    {
     "name": "stdout",
     "output_type": "stream",
     "text": [
      "Enter celsius value to covert-24\n",
      "24  celsius = 75.2  fahrenheit\n"
     ]
    }
   ],
   "source": [
    "#2. To convert celsius to Fahrenheit\n",
    "\n",
    "cl = int(input('Enter celsius value to covert-'))\n",
    "# (0°C × 9/5) + 32 = 32°F\n",
    "fh = round((cl*(9/5))+32,2)\n",
    "print(cl,' celsius =',fh,' fahrenheit')\n"
   ]
  },
  {
   "cell_type": "code",
   "execution_count": 9,
   "metadata": {},
   "outputs": [
    {
     "name": "stdout",
     "output_type": "stream",
     "text": [
      "Enter Momth (1-12) 2\n",
      "Enter Year (YYYY) 2021\n",
      "   February 2021\n",
      "Mo Tu We Th Fr Sa Su\n",
      " 1  2  3  4  5  6  7\n",
      " 8  9 10 11 12 13 14\n",
      "15 16 17 18 19 20 21\n",
      "22 23 24 25 26 27 28\n",
      "\n"
     ]
    }
   ],
   "source": [
    "#3. To print Calendar \n",
    "import calendar\n",
    "   \n",
    "mm = int(input('Enter Momth (1-12) '))\n",
    "yy = int(input('Enter Year (YYYY) '))\n",
    "\n",
    "print(calendar.month(yy, mm))"
   ]
  },
  {
   "cell_type": "code",
   "execution_count": 17,
   "metadata": {},
   "outputs": [
    {
     "name": "stdout",
     "output_type": "stream",
     "text": [
      "Standard formate - ax^2+bx+c = 0 \n",
      "Enter value of a 5\n",
      "Enter value of b 2\n",
      "Enter value of c 1\n",
      "x solution are (-0.2+0.4j) and (-0.2-0.4j)\n"
     ]
    }
   ],
   "source": [
    "#4. To solve quadratic equation\n",
    "import cmath \n",
    "print('Standard formate - ax^2+bx+c = 0 ')\n",
    "a = int(input('Enter value of a '))\n",
    "b = int(input('Enter value of b '))\n",
    "c = int(input('Enter value of c '))\n",
    "\n",
    "#formula x= (-b±√(b²-4ac))/(2a) \n",
    "r1 = -b + cmath.sqrt((b*b) - (4*a*c))\n",
    "r2 = -b - cmath.sqrt((b*b) - (4*a*c))\n",
    "\n",
    "r1/= 2*a\n",
    "r2/= 2*a \n",
    "\n",
    "print('x solution are {} and {}'.format(r1,r2))"
   ]
  },
  {
   "cell_type": "code",
   "execution_count": 21,
   "metadata": {},
   "outputs": [
    {
     "name": "stdout",
     "output_type": "stream",
     "text": [
      "Before swap a=  10  and b=  20\n",
      "After swap a=  20  and b=  10\n",
      "Before swap x=  ABC  and y=  PQR\n",
      "After swap x=  PQR  and y=  ABC\n"
     ]
    }
   ],
   "source": [
    "#5. swapping variable without temp\n",
    "\n",
    "# Only for Int\n",
    "a=10\n",
    "b=20\n",
    "print('Before swap a= ',a,' and b= ',b)\n",
    "\n",
    "a = a+b\n",
    "b= a-b\n",
    "a =a-b\n",
    "\n",
    "print('After swap a= ',a,' and b= ',b)\n",
    "\n",
    "# for other data type\n",
    "x = 'ABC'\n",
    "y = 'PQR'\n",
    "print('Before swap x= ',x,' and y= ',y)\n",
    "\n",
    "x, y = y, x\n",
    "print('After swap x= ',x,' and y= ',y)"
   ]
  },
  {
   "cell_type": "code",
   "execution_count": null,
   "metadata": {},
   "outputs": [],
   "source": []
  }
 ],
 "metadata": {
  "kernelspec": {
   "display_name": "Python 3",
   "language": "python",
   "name": "python3"
  },
  "language_info": {
   "codemirror_mode": {
    "name": "ipython",
    "version": 3
   },
   "file_extension": ".py",
   "mimetype": "text/x-python",
   "name": "python",
   "nbconvert_exporter": "python",
   "pygments_lexer": "ipython3",
   "version": "3.8.5"
  }
 },
 "nbformat": 4,
 "nbformat_minor": 4
}
